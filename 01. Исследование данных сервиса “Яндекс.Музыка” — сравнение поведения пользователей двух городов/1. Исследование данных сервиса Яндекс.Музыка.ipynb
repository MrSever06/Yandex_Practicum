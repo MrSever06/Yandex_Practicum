{
 "cells": [
  {
   "cell_type": "markdown",
   "metadata": {
    "id": "E0vqbgi9ay0H"
   },
   "source": [
    "# Яндекс Музыка"
   ]
  },
  {
   "cell_type": "markdown",
   "metadata": {
    "id": "VUC88oWjTJw2"
   },
   "source": [
    "Сравнение Москвы и Петербурга окружено мифами. Например:\n",
    " * Москва — мегаполис, подчинённый жёсткому ритму рабочей недели;\n",
    " * Петербург — культурная столица, со своими вкусами.\n",
    "\n",
    "На данных Яндекс Музыки вы сравните поведение пользователей двух столиц.\n",
    "\n",
    "**Цель исследования** — проверьте три гипотезы:\n",
    "1. Активность пользователей зависит от дня недели. Причём в Москве и Петербурге это проявляется по-разному.\n",
    "2. В понедельник утром в Москве преобладают одни жанры, а в Петербурге — другие. Так же и вечером пятницы преобладают разные жанры — в зависимости от города. \n",
    "3. Москва и Петербург предпочитают разные жанры музыки. В Москве чаще слушают поп-музыку, в Петербурге — русский рэп.\n",
    "\n",
    "**Ход исследования**\n",
    "\n",
    "Данные о поведении пользователей вы получите из файла `yandex_music_project.csv`. О качестве данных ничего не известно. Поэтому перед проверкой гипотез понадобится обзор данных. \n",
    "\n",
    "Вы проверите данные на ошибки и оцените их влияние на исследование. Затем, на этапе предобработки вы поищете возможность исправить самые критичные ошибки данных.\n",
    " \n",
    "Таким образом, исследование пройдёт в три этапа:\n",
    " 1. Обзор данных.\n",
    " 2. Предобработка данных.\n",
    " 3. Проверка гипотез.\n",
    "\n"
   ]
  },
  {
   "cell_type": "markdown",
   "metadata": {
    "id": "Ml1hmfXC_Zcs"
   },
   "source": [
    "## Обзор данных\n",
    "\n",
    "Составим первое представление о данных Яндекс Музыки."
   ]
  },
  {
   "cell_type": "code",
   "execution_count": 1,
   "metadata": {
    "id": "AXN7PHPN_Zcs"
   },
   "outputs": [],
   "source": [
    "#импортируем библиотеку pandas\n",
    "import pandas as pd "
   ]
  },
  {
   "cell_type": "code",
   "execution_count": 2,
   "metadata": {
    "id": "fFVu7vqh_Zct"
   },
   "outputs": [],
   "source": [
    "#чтение файла с данными и сохранение в df\n",
    "df = pd.read_csv('yandex_music_project.csv') "
   ]
  },
  {
   "cell_type": "code",
   "execution_count": 3,
   "metadata": {
    "id": "oWTVX3gW_Zct"
   },
   "outputs": [
    {
     "data": {
      "text/html": [
       "<div>\n",
       "<style scoped>\n",
       "    .dataframe tbody tr th:only-of-type {\n",
       "        vertical-align: middle;\n",
       "    }\n",
       "\n",
       "    .dataframe tbody tr th {\n",
       "        vertical-align: top;\n",
       "    }\n",
       "\n",
       "    .dataframe thead th {\n",
       "        text-align: right;\n",
       "    }\n",
       "</style>\n",
       "<table border=\"1\" class=\"dataframe\">\n",
       "  <thead>\n",
       "    <tr style=\"text-align: right;\">\n",
       "      <th></th>\n",
       "      <th>userID</th>\n",
       "      <th>Track</th>\n",
       "      <th>artist</th>\n",
       "      <th>genre</th>\n",
       "      <th>City</th>\n",
       "      <th>time</th>\n",
       "      <th>Day</th>\n",
       "    </tr>\n",
       "  </thead>\n",
       "  <tbody>\n",
       "    <tr>\n",
       "      <th>0</th>\n",
       "      <td>FFB692EC</td>\n",
       "      <td>Kamigata To Boots</td>\n",
       "      <td>The Mass Missile</td>\n",
       "      <td>rock</td>\n",
       "      <td>Saint-Petersburg</td>\n",
       "      <td>20:28:33</td>\n",
       "      <td>Wednesday</td>\n",
       "    </tr>\n",
       "    <tr>\n",
       "      <th>1</th>\n",
       "      <td>55204538</td>\n",
       "      <td>Delayed Because of Accident</td>\n",
       "      <td>Andreas Rönnberg</td>\n",
       "      <td>rock</td>\n",
       "      <td>Moscow</td>\n",
       "      <td>14:07:09</td>\n",
       "      <td>Friday</td>\n",
       "    </tr>\n",
       "    <tr>\n",
       "      <th>2</th>\n",
       "      <td>20EC38</td>\n",
       "      <td>Funiculì funiculà</td>\n",
       "      <td>Mario Lanza</td>\n",
       "      <td>pop</td>\n",
       "      <td>Saint-Petersburg</td>\n",
       "      <td>20:58:07</td>\n",
       "      <td>Wednesday</td>\n",
       "    </tr>\n",
       "    <tr>\n",
       "      <th>3</th>\n",
       "      <td>A3DD03C9</td>\n",
       "      <td>Dragons in the Sunset</td>\n",
       "      <td>Fire + Ice</td>\n",
       "      <td>folk</td>\n",
       "      <td>Saint-Petersburg</td>\n",
       "      <td>08:37:09</td>\n",
       "      <td>Monday</td>\n",
       "    </tr>\n",
       "    <tr>\n",
       "      <th>4</th>\n",
       "      <td>E2DC1FAE</td>\n",
       "      <td>Soul People</td>\n",
       "      <td>Space Echo</td>\n",
       "      <td>dance</td>\n",
       "      <td>Moscow</td>\n",
       "      <td>08:34:34</td>\n",
       "      <td>Monday</td>\n",
       "    </tr>\n",
       "    <tr>\n",
       "      <th>5</th>\n",
       "      <td>842029A1</td>\n",
       "      <td>Преданная</td>\n",
       "      <td>IMPERVTOR</td>\n",
       "      <td>rusrap</td>\n",
       "      <td>Saint-Petersburg</td>\n",
       "      <td>13:09:41</td>\n",
       "      <td>Friday</td>\n",
       "    </tr>\n",
       "    <tr>\n",
       "      <th>6</th>\n",
       "      <td>4CB90AA5</td>\n",
       "      <td>True</td>\n",
       "      <td>Roman Messer</td>\n",
       "      <td>dance</td>\n",
       "      <td>Moscow</td>\n",
       "      <td>13:00:07</td>\n",
       "      <td>Wednesday</td>\n",
       "    </tr>\n",
       "    <tr>\n",
       "      <th>7</th>\n",
       "      <td>F03E1C1F</td>\n",
       "      <td>Feeling This Way</td>\n",
       "      <td>Polina Griffith</td>\n",
       "      <td>dance</td>\n",
       "      <td>Moscow</td>\n",
       "      <td>20:47:49</td>\n",
       "      <td>Wednesday</td>\n",
       "    </tr>\n",
       "    <tr>\n",
       "      <th>8</th>\n",
       "      <td>8FA1D3BE</td>\n",
       "      <td>И вновь продолжается бой</td>\n",
       "      <td>NaN</td>\n",
       "      <td>ruspop</td>\n",
       "      <td>Moscow</td>\n",
       "      <td>09:17:40</td>\n",
       "      <td>Friday</td>\n",
       "    </tr>\n",
       "    <tr>\n",
       "      <th>9</th>\n",
       "      <td>E772D5C0</td>\n",
       "      <td>Pessimist</td>\n",
       "      <td>NaN</td>\n",
       "      <td>dance</td>\n",
       "      <td>Saint-Petersburg</td>\n",
       "      <td>21:20:49</td>\n",
       "      <td>Wednesday</td>\n",
       "    </tr>\n",
       "  </tbody>\n",
       "</table>\n",
       "</div>"
      ],
      "text/plain": [
       "     userID                        Track            artist   genre  \\\n",
       "0  FFB692EC            Kamigata To Boots  The Mass Missile    rock   \n",
       "1  55204538  Delayed Because of Accident  Andreas Rönnberg    rock   \n",
       "2    20EC38            Funiculì funiculà       Mario Lanza     pop   \n",
       "3  A3DD03C9        Dragons in the Sunset        Fire + Ice    folk   \n",
       "4  E2DC1FAE                  Soul People        Space Echo   dance   \n",
       "5  842029A1                    Преданная         IMPERVTOR  rusrap   \n",
       "6  4CB90AA5                         True      Roman Messer   dance   \n",
       "7  F03E1C1F             Feeling This Way   Polina Griffith   dance   \n",
       "8  8FA1D3BE     И вновь продолжается бой               NaN  ruspop   \n",
       "9  E772D5C0                    Pessimist               NaN   dance   \n",
       "\n",
       "             City        time        Day  \n",
       "0  Saint-Petersburg  20:28:33  Wednesday  \n",
       "1            Moscow  14:07:09     Friday  \n",
       "2  Saint-Petersburg  20:58:07  Wednesday  \n",
       "3  Saint-Petersburg  08:37:09     Monday  \n",
       "4            Moscow  08:34:34     Monday  \n",
       "5  Saint-Petersburg  13:09:41     Friday  \n",
       "6            Moscow  13:00:07  Wednesday  \n",
       "7            Moscow  20:47:49  Wednesday  \n",
       "8            Moscow  09:17:40     Friday  \n",
       "9  Saint-Petersburg  21:20:49  Wednesday  "
      ]
     },
     "execution_count": 3,
     "metadata": {},
     "output_type": "execute_result"
    }
   ],
   "source": [
    "df. head(10) # получение первых 10 строк таблицы df"
   ]
  },
  {
   "cell_type": "code",
   "execution_count": 4,
   "metadata": {
    "id": "DSf2kIb-_Zct"
   },
   "outputs": [
    {
     "name": "stdout",
     "output_type": "stream",
     "text": [
      "<class 'pandas.core.frame.DataFrame'>\n",
      "RangeIndex: 65079 entries, 0 to 65078\n",
      "Data columns (total 7 columns):\n",
      " #   Column    Non-Null Count  Dtype \n",
      "---  ------    --------------  ----- \n",
      " 0     userID  65079 non-null  object\n",
      " 1   Track     63848 non-null  object\n",
      " 2   artist    57876 non-null  object\n",
      " 3   genre     63881 non-null  object\n",
      " 4     City    65079 non-null  object\n",
      " 5   time      65079 non-null  object\n",
      " 6   Day       65079 non-null  object\n",
      "dtypes: object(7)\n",
      "memory usage: 3.5+ MB\n"
     ]
    }
   ],
   "source": [
    "df.info() # получение общей информации о данных в таблице df"
   ]
  },
  {
   "cell_type": "markdown",
   "metadata": {
    "id": "TaQ2Iwbr_Zct"
   },
   "source": [
    "Итак, в таблице семь столбцов. Тип данных во всех столбцах — `object`.\n",
    "\n",
    "Согласно документации к данным:\n",
    "* `userID` — идентификатор пользователя;\n",
    "* `Track` — название трека;  \n",
    "* `artist` — имя исполнителя;\n",
    "* `genre` — название жанра;\n",
    "* `City` — город пользователя;\n",
    "* `time` — время начала прослушивания;\n",
    "* `Day` — день недели.\n",
    "\n",
    "Количество значений в столбцах различается. Значит, в данных есть пропущенные значения."
   ]
  },
  {
   "cell_type": "markdown",
   "metadata": {
    "id": "rAfziTBDmf2h",
    "tags": [
     "start_task"
    ]
   },
   "source": [
    "В названиях колонок видны нарушения стиля:\n",
    "* Строчные буквы сочетаются с прописными.\n",
    "* Встречаются пробелы.\n",
    "* Не используется змеинный регистр."
   ]
  },
  {
   "cell_type": "markdown",
   "metadata": {
    "id": "MCB6-dXG_Zct"
   },
   "source": [
    "**Выводы**\n",
    "\n",
    "В каждой строке таблицы — данные о прослушанном треке. Часть колонок описывает саму композицию: название, исполнителя и жанр. Остальные данные рассказывают о пользователе: из какого он города, когда он слушал музыку. \n",
    "\n",
    "Предварительно можно утверждать, что данных достаточно для проверки гипотез. Но встречаются пропуски в данных, а в названиях колонок — расхождения с хорошим стилем.\n",
    "\n",
    "Чтобы двигаться дальше, нужно устранить проблемы в данных."
   ]
  },
  {
   "cell_type": "markdown",
   "metadata": {
    "id": "SjYF6Ub9_Zct"
   },
   "source": [
    "## Предобработка данных\n",
    "Исправьте стиль в заголовках столбцов, исключите пропуски. Затем проверьте данные на дубликаты."
   ]
  },
  {
   "cell_type": "code",
   "execution_count": 5,
   "metadata": {
    "id": "oKOTdF_Q_Zct"
   },
   "outputs": [
    {
     "data": {
      "text/plain": [
       "Index(['  userID', 'Track', 'artist', 'genre', '  City  ', 'time', 'Day'], dtype='object')"
      ]
     },
     "execution_count": 5,
     "metadata": {},
     "output_type": "execute_result"
    }
   ],
   "source": [
    "df.columns # перечень названий столбцов таблицы df"
   ]
  },
  {
   "cell_type": "code",
   "execution_count": 6,
   "metadata": {
    "id": "ISlFqs5y_Zct"
   },
   "outputs": [],
   "source": [
    "df = df.rename(columns={\n",
    "    '  userID':'user_id', \n",
    "    'Track':'track', \n",
    "    '  City  ':'city',\n",
    "    'Day':'day'}) # переименование столбцов"
   ]
  },
  {
   "cell_type": "code",
   "execution_count": 7,
   "metadata": {
    "id": "d4NOAmTW_Zct"
   },
   "outputs": [
    {
     "data": {
      "text/plain": [
       "Index(['user_id', 'track', 'artist', 'genre', 'city', 'time', 'day'], dtype='object')"
      ]
     },
     "execution_count": 7,
     "metadata": {},
     "output_type": "execute_result"
    }
   ],
   "source": [
    "df.columns # проверка результатов - перечень названий столбцов"
   ]
  },
  {
   "cell_type": "markdown",
   "metadata": {
    "id": "5ISfbcfY_Zct",
    "tags": [
     "start_task"
    ]
   },
   "source": [
    "### Пропуски значений"
   ]
  },
  {
   "cell_type": "code",
   "execution_count": 8,
   "metadata": {
    "id": "RskX29qr_Zct"
   },
   "outputs": [
    {
     "data": {
      "text/plain": [
       "user_id       0\n",
       "track      1231\n",
       "artist     7203\n",
       "genre      1198\n",
       "city          0\n",
       "time          0\n",
       "day           0\n",
       "dtype: int64"
      ]
     },
     "execution_count": 8,
     "metadata": {},
     "output_type": "execute_result"
    }
   ],
   "source": [
    "df.isna().sum() # подсчёт пропусков"
   ]
  },
  {
   "cell_type": "markdown",
   "metadata": {
    "id": "qubhgnlO_Zct"
   },
   "source": [
    "Не все пропущенные значения влияют на исследование. Так в `track` и `artist` пропуски не важны для вашей работы. Достаточно заменить их явными обозначениями.\n",
    "\n",
    "Но пропуски в `genre` могут помешать сравнению музыкальных вкусов в Москве и Санкт-Петербурге. На практике было бы правильно установить причину пропусков и восстановить данные. Такой возможности нет в учебном проекте. Придётся:\n",
    "* заполнить и эти пропуски явными обозначениями;\n",
    "* оценить, насколько они повредят расчётам. "
   ]
  },
  {
   "cell_type": "code",
   "execution_count": 9,
   "metadata": {
    "id": "KplB5qWs_Zct"
   },
   "outputs": [],
   "source": [
    "# перебор названий столбцов в цикле и замена пропущенных значений на 'unknown'\n",
    "columns_to_replace = ['track', 'artist', 'genre'] \n",
    "for columns in columns_to_replace:\n",
    "    df[columns] = df[columns].fillna('unknown')      "
   ]
  },
  {
   "cell_type": "code",
   "execution_count": 10,
   "metadata": {
    "id": "Tq4nYRX4_Zct"
   },
   "outputs": [
    {
     "data": {
      "text/plain": [
       "user_id    0\n",
       "track      0\n",
       "artist     0\n",
       "genre      0\n",
       "city       0\n",
       "time       0\n",
       "day        0\n",
       "dtype: int64"
      ]
     },
     "execution_count": 10,
     "metadata": {},
     "output_type": "execute_result"
    }
   ],
   "source": [
    "df.isna().sum() # подсчёт пропусков"
   ]
  },
  {
   "cell_type": "markdown",
   "metadata": {
    "id": "BWKRtBJ3_Zct",
    "tags": [
     "start_task"
    ]
   },
   "source": [
    "### Дубликаты"
   ]
  },
  {
   "cell_type": "code",
   "execution_count": 11,
   "metadata": {
    "id": "36eES_S0_Zct"
   },
   "outputs": [
    {
     "data": {
      "text/plain": [
       "3826"
      ]
     },
     "execution_count": 11,
     "metadata": {},
     "output_type": "execute_result"
    }
   ],
   "source": [
    "df.duplicated().sum() # подсчёт явных дубликатов"
   ]
  },
  {
   "cell_type": "code",
   "execution_count": 12,
   "metadata": {
    "id": "exFHq6tt_Zct"
   },
   "outputs": [],
   "source": [
    "df = df.drop_duplicates().reset_index(drop=True) # удаление явных дубликатов"
   ]
  },
  {
   "cell_type": "code",
   "execution_count": 13,
   "metadata": {
    "id": "-8PuNWQ0_Zct"
   },
   "outputs": [
    {
     "data": {
      "text/plain": [
       "0"
      ]
     },
     "execution_count": 13,
     "metadata": {},
     "output_type": "execute_result"
    }
   ],
   "source": [
    "df.duplicated().sum() # проверка на отсутствие дубликатов"
   ]
  },
  {
   "cell_type": "markdown",
   "metadata": {
    "id": "eSjWwsOh_Zct",
    "tags": [
     "start_task"
    ]
   },
   "source": [
    "Рассмотрим список уникальных названий жанров и отсортируем в алфавитном порядке. "
   ]
  },
  {
   "cell_type": "code",
   "execution_count": 14,
   "metadata": {
    "id": "JIUcqzZN_Zct",
    "scrolled": true
   },
   "outputs": [
    {
     "data": {
      "text/plain": [
       "array(['acid', 'acoustic', 'action', 'adult', 'africa', 'afrikaans',\n",
       "       'alternative', 'alternativepunk', 'ambient', 'americana',\n",
       "       'animated', 'anime', 'arabesk', 'arabic', 'arena',\n",
       "       'argentinetango', 'art', 'audiobook', 'author', 'avantgarde',\n",
       "       'axé', 'baile', 'balkan', 'beats', 'bigroom', 'black', 'bluegrass',\n",
       "       'blues', 'bollywood', 'bossa', 'brazilian', 'breakbeat', 'breaks',\n",
       "       'broadway', 'cantautori', 'cantopop', 'canzone', 'caribbean',\n",
       "       'caucasian', 'celtic', 'chamber', 'chanson', 'children', 'chill',\n",
       "       'chinese', 'choral', 'christian', 'christmas', 'classical',\n",
       "       'classicmetal', 'club', 'colombian', 'comedy', 'conjazz',\n",
       "       'contemporary', 'country', 'cuban', 'dance', 'dancehall',\n",
       "       'dancepop', 'dark', 'death', 'deep', 'deutschrock', 'deutschspr',\n",
       "       'dirty', 'disco', 'dnb', 'documentary', 'downbeat', 'downtempo',\n",
       "       'drum', 'dub', 'dubstep', 'eastern', 'easy', 'electronic',\n",
       "       'electropop', 'emo', 'entehno', 'epicmetal', 'estrada', 'ethnic',\n",
       "       'eurofolk', 'european', 'experimental', 'extrememetal', 'fado',\n",
       "       'fairytail', 'film', 'fitness', 'flamenco', 'folk', 'folklore',\n",
       "       'folkmetal', 'folkrock', 'folktronica', 'forró', 'frankreich',\n",
       "       'französisch', 'french', 'funk', 'future', 'gangsta', 'garage',\n",
       "       'german', 'ghazal', 'gitarre', 'glitch', 'gospel', 'gothic',\n",
       "       'grime', 'grunge', 'gypsy', 'handsup', \"hard'n'heavy\", 'hardcore',\n",
       "       'hardstyle', 'hardtechno', 'hip', 'hip-hop', 'hiphop',\n",
       "       'historisch', 'holiday', 'hop', 'horror', 'house', 'hymn', 'idm',\n",
       "       'independent', 'indian', 'indie', 'indipop', 'industrial',\n",
       "       'inspirational', 'instrumental', 'international', 'irish', 'jam',\n",
       "       'japanese', 'jazz', 'jewish', 'jpop', 'jungle', 'k-pop',\n",
       "       'karadeniz', 'karaoke', 'kayokyoku', 'korean', 'laiko', 'latin',\n",
       "       'latino', 'leftfield', 'local', 'lounge', 'loungeelectronic',\n",
       "       'lovers', 'malaysian', 'mandopop', 'marschmusik', 'meditative',\n",
       "       'mediterranean', 'melodic', 'metal', 'metalcore', 'mexican',\n",
       "       'middle', 'minimal', 'miscellaneous', 'modern', 'mood', 'mpb',\n",
       "       'muslim', 'native', 'neoklassik', 'neue', 'new', 'newage',\n",
       "       'newwave', 'nu', 'nujazz', 'numetal', 'oceania', 'old', 'opera',\n",
       "       'orchestral', 'other', 'piano', 'podcasts', 'pop', 'popdance',\n",
       "       'popelectronic', 'popeurodance', 'poprussian', 'post',\n",
       "       'posthardcore', 'postrock', 'power', 'progmetal', 'progressive',\n",
       "       'psychedelic', 'punjabi', 'punk', 'quebecois', 'ragga', 'ram',\n",
       "       'rancheras', 'rap', 'rave', 'reggae', 'reggaeton', 'regional',\n",
       "       'relax', 'religious', 'retro', 'rhythm', 'rnb', 'rnr', 'rock',\n",
       "       'rockabilly', 'rockalternative', 'rockindie', 'rockother',\n",
       "       'romance', 'roots', 'ruspop', 'rusrap', 'rusrock', 'russian',\n",
       "       'salsa', 'samba', 'scenic', 'schlager', 'self', 'sertanejo',\n",
       "       'shanson', 'shoegazing', 'showtunes', 'singer', 'ska', 'skarock',\n",
       "       'slow', 'smooth', 'soft', 'soul', 'soulful', 'sound', 'soundtrack',\n",
       "       'southern', 'specialty', 'speech', 'spiritual', 'sport',\n",
       "       'stonerrock', 'surf', 'swing', 'synthpop', 'synthrock',\n",
       "       'sängerportrait', 'tango', 'tanzorchester', 'taraftar', 'tatar',\n",
       "       'tech', 'techno', 'teen', 'thrash', 'top', 'traditional',\n",
       "       'tradjazz', 'trance', 'tribal', 'trip', 'triphop', 'tropical',\n",
       "       'türk', 'türkçe', 'ukrrock', 'unknown', 'urban', 'uzbek',\n",
       "       'variété', 'vi', 'videogame', 'vocal', 'western', 'world',\n",
       "       'worldbeat', 'ïîï', 'электроника'], dtype=object)"
      ]
     },
     "execution_count": 14,
     "metadata": {},
     "output_type": "execute_result"
    }
   ],
   "source": [
    "sorted_genre = df.sort_values(by='genre')  # Просмотр уникальных названий жанров\n",
    "sorted_genre = sorted_genre['genre'].unique()\n",
    "sorted_genre "
   ]
  },
  {
   "cell_type": "markdown",
   "metadata": {
    "id": "qej-Qmuo_Zct",
    "tags": [
     "start_task"
    ]
   },
   "source": [
    "Найдем неявные дубликаты названия жанра `hiphop`. Это могут быть названия с ошибками или альтернативные названия того же жанра."
   ]
  },
  {
   "cell_type": "code",
   "execution_count": 15,
   "metadata": {
    "id": "ErNDkmns_Zct"
   },
   "outputs": [],
   "source": [
    "df = df.replace('hip', 'hiphop') # Устранение неявных дубликатов\n",
    "df = df.replace('hop', 'hiphop')\n",
    "df = df.replace('hip-hop', 'hiphop')"
   ]
  },
  {
   "cell_type": "code",
   "execution_count": 16,
   "metadata": {
    "id": "wvixALnFG15m",
    "scrolled": true
   },
   "outputs": [
    {
     "data": {
      "text/plain": [
       "array(['acid', 'acoustic', 'action', 'adult', 'africa', 'afrikaans',\n",
       "       'alternative', 'alternativepunk', 'ambient', 'americana',\n",
       "       'animated', 'anime', 'arabesk', 'arabic', 'arena',\n",
       "       'argentinetango', 'art', 'audiobook', 'author', 'avantgarde',\n",
       "       'axé', 'baile', 'balkan', 'beats', 'bigroom', 'black', 'bluegrass',\n",
       "       'blues', 'bollywood', 'bossa', 'brazilian', 'breakbeat', 'breaks',\n",
       "       'broadway', 'cantautori', 'cantopop', 'canzone', 'caribbean',\n",
       "       'caucasian', 'celtic', 'chamber', 'chanson', 'children', 'chill',\n",
       "       'chinese', 'choral', 'christian', 'christmas', 'classical',\n",
       "       'classicmetal', 'club', 'colombian', 'comedy', 'conjazz',\n",
       "       'contemporary', 'country', 'cuban', 'dance', 'dancehall',\n",
       "       'dancepop', 'dark', 'death', 'deep', 'deutschrock', 'deutschspr',\n",
       "       'dirty', 'disco', 'dnb', 'documentary', 'downbeat', 'downtempo',\n",
       "       'drum', 'dub', 'dubstep', 'eastern', 'easy', 'electronic',\n",
       "       'electropop', 'emo', 'entehno', 'epicmetal', 'estrada', 'ethnic',\n",
       "       'eurofolk', 'european', 'experimental', 'extrememetal', 'fado',\n",
       "       'fairytail', 'film', 'fitness', 'flamenco', 'folk', 'folklore',\n",
       "       'folkmetal', 'folkrock', 'folktronica', 'forró', 'frankreich',\n",
       "       'französisch', 'french', 'funk', 'future', 'gangsta', 'garage',\n",
       "       'german', 'ghazal', 'gitarre', 'glitch', 'gospel', 'gothic',\n",
       "       'grime', 'grunge', 'gypsy', 'handsup', \"hard'n'heavy\", 'hardcore',\n",
       "       'hardstyle', 'hardtechno', 'hiphop', 'historisch', 'holiday',\n",
       "       'horror', 'house', 'hymn', 'idm', 'independent', 'indian', 'indie',\n",
       "       'indipop', 'industrial', 'inspirational', 'instrumental',\n",
       "       'international', 'irish', 'jam', 'japanese', 'jazz', 'jewish',\n",
       "       'jpop', 'jungle', 'k-pop', 'karadeniz', 'karaoke', 'kayokyoku',\n",
       "       'korean', 'laiko', 'latin', 'latino', 'leftfield', 'local',\n",
       "       'lounge', 'loungeelectronic', 'lovers', 'malaysian', 'mandopop',\n",
       "       'marschmusik', 'meditative', 'mediterranean', 'melodic', 'metal',\n",
       "       'metalcore', 'mexican', 'middle', 'minimal', 'miscellaneous',\n",
       "       'modern', 'mood', 'mpb', 'muslim', 'native', 'neoklassik', 'neue',\n",
       "       'new', 'newage', 'newwave', 'nu', 'nujazz', 'numetal', 'oceania',\n",
       "       'old', 'opera', 'orchestral', 'other', 'piano', 'podcasts', 'pop',\n",
       "       'popdance', 'popelectronic', 'popeurodance', 'poprussian', 'post',\n",
       "       'posthardcore', 'postrock', 'power', 'progmetal', 'progressive',\n",
       "       'psychedelic', 'punjabi', 'punk', 'quebecois', 'ragga', 'ram',\n",
       "       'rancheras', 'rap', 'rave', 'reggae', 'reggaeton', 'regional',\n",
       "       'relax', 'religious', 'retro', 'rhythm', 'rnb', 'rnr', 'rock',\n",
       "       'rockabilly', 'rockalternative', 'rockindie', 'rockother',\n",
       "       'romance', 'roots', 'ruspop', 'rusrap', 'rusrock', 'russian',\n",
       "       'salsa', 'samba', 'scenic', 'schlager', 'self', 'sertanejo',\n",
       "       'shanson', 'shoegazing', 'showtunes', 'singer', 'ska', 'skarock',\n",
       "       'slow', 'smooth', 'soft', 'soul', 'soulful', 'sound', 'soundtrack',\n",
       "       'southern', 'specialty', 'speech', 'spiritual', 'sport',\n",
       "       'stonerrock', 'surf', 'swing', 'synthpop', 'synthrock',\n",
       "       'sängerportrait', 'tango', 'tanzorchester', 'taraftar', 'tatar',\n",
       "       'tech', 'techno', 'teen', 'thrash', 'top', 'traditional',\n",
       "       'tradjazz', 'trance', 'tribal', 'trip', 'triphop', 'tropical',\n",
       "       'türk', 'türkçe', 'ukrrock', 'unknown', 'urban', 'uzbek',\n",
       "       'variété', 'vi', 'videogame', 'vocal', 'western', 'world',\n",
       "       'worldbeat', 'ïîï', 'электроника'], dtype=object)"
      ]
     },
     "execution_count": 16,
     "metadata": {},
     "output_type": "execute_result"
    }
   ],
   "source": [
    "sorted_genre = df.sort_values(by='genre') # Проверка на неявные дубликаты\n",
    "sorted_genre = sorted_genre['genre'].unique()\n",
    "sorted_genre "
   ]
  },
  {
   "cell_type": "markdown",
   "metadata": {
    "id": "jz6a9-7HQUDd"
   },
   "source": [
    "**Выводы:**\n",
    "\n",
    "Предобработка обнаружила три проблемы в данных:\n",
    "\n",
    "- нарушения в стиле заголовков,\n",
    "- пропущенные значения,\n",
    "- дубликаты — явные и неявные.\n",
    "\n",
    "Исправили заголовки, чтобы упростить работу с таблицей.\n",
    "\n",
    "Пропущенные значения заменили на `'unknown'`.\n",
    "\n",
    "Теперь можно перейти к проверке гипотез. "
   ]
  },
  {
   "cell_type": "markdown",
   "metadata": {
    "id": "WttZHXH0SqKk"
   },
   "source": [
    "## Проверка гипотез"
   ]
  },
  {
   "cell_type": "markdown",
   "metadata": {
    "id": "Im936VVi_Zcu"
   },
   "source": [
    "### Сравнение поведения пользователей двух столиц"
   ]
  },
  {
   "cell_type": "markdown",
   "metadata": {
    "id": "nwt_MuaL_Zcu"
   },
   "source": [
    "Первая гипотеза утверждает, что пользователи по-разному слушают музыку в Москве и Санкт-Петербурге. Проверим это предположение по данным о трёх днях недели — понедельнике, среде и пятнице. Для этого:\n",
    "\n",
    "* Разделим пользователей Москвы и Санкт-Петербурга.\n",
    "* Сравним, сколько треков послушала каждая группа пользователей в понедельник, среду и пятницу.\n"
   ]
  },
  {
   "cell_type": "markdown",
   "metadata": {
    "id": "8Dw_YMmT_Zcu",
    "tags": [
     "start_task"
    ]
   },
   "source": [
    "Оценим активность пользователей в каждом городе. Сгруппируем данные по городу и посчитаем прослушивания в каждой группе."
   ]
  },
  {
   "cell_type": "code",
   "execution_count": 17,
   "metadata": {
    "id": "0_Qs96oh_Zcu"
   },
   "outputs": [
    {
     "name": "stdout",
     "output_type": "stream",
     "text": [
      "city\n",
      "Moscow              42741\n",
      "Saint-Petersburg    18512\n",
      "Name: genre, dtype: int64\n"
     ]
    }
   ],
   "source": [
    "print(df.groupby('city')['genre'].count())"
   ]
  },
  {
   "cell_type": "markdown",
   "metadata": {
    "id": "dzli3w8o_Zcu",
    "tags": [
     "start_task"
    ]
   },
   "source": [
    "В Москве прослушиваний больше, чем в Петербурге. Из этого не следует, что московские пользователи чаще слушают музыку. Просто самих пользователей в Москве больше.\n",
    "\n",
    "\n",
    "Теперь сгруппируем данные по дню недели и посчитайте прослушивания в понедельник, среду и пятницу."
   ]
  },
  {
   "cell_type": "code",
   "execution_count": 18,
   "metadata": {
    "id": "uZMKjiJz_Zcu"
   },
   "outputs": [
    {
     "name": "stdout",
     "output_type": "stream",
     "text": [
      "day\n",
      "Friday       21840\n",
      "Monday       21354\n",
      "Wednesday    18059\n",
      "Name: city, dtype: int64\n"
     ]
    }
   ],
   "source": [
    "print(df.groupby('day')['city'].count()) # Подсчёт прослушиваний в каждый из трёх дней"
   ]
  },
  {
   "cell_type": "markdown",
   "metadata": {
    "id": "cC2tNrlL_Zcu"
   },
   "source": [
    "В среднем пользователи из двух городов менее активны по средам. Но картина может измениться, если рассмотреть каждый город в отдельности."
   ]
  },
  {
   "cell_type": "code",
   "execution_count": 19,
   "metadata": {
    "id": "Nz3GdQB1_Zcu"
   },
   "outputs": [],
   "source": [
    "#Создаем функцию `number_tracks`, которая посчитает прослушивания для конкретного города и дня\n",
    "\n",
    "def number_tracks(day, city): \n",
    "    track_list = df[df['day'] == day]\n",
    "    track_list = track_list[track_list['city'] == city] \n",
    "    track_list_count = track_list['user_id'].count()\n",
    "    return track_list_count"
   ]
  },
  {
   "cell_type": "markdown",
   "metadata": {
    "id": "ytf7xFrFJQ2r",
    "tags": [
     "start_task"
    ]
   },
   "source": [
    "Вызовем фнкцию `number_tracks` шесть раз, меняя значение параметров — так, чтобы получить данные для каждого города в каждый из трёх дней."
   ]
  },
  {
   "cell_type": "code",
   "execution_count": 20,
   "metadata": {
    "id": "rJcRATNQ_Zcu"
   },
   "outputs": [
    {
     "data": {
      "text/plain": [
       "15740"
      ]
     },
     "execution_count": 20,
     "metadata": {},
     "output_type": "execute_result"
    }
   ],
   "source": [
    "number_tracks('Monday', 'Moscow') # количество прослушиваний в Москве по понедельникам"
   ]
  },
  {
   "cell_type": "code",
   "execution_count": 21,
   "metadata": {
    "id": "hq_ncZ5T_Zcu"
   },
   "outputs": [
    {
     "data": {
      "text/plain": [
       "5614"
      ]
     },
     "execution_count": 21,
     "metadata": {},
     "output_type": "execute_result"
    }
   ],
   "source": [
    "number_tracks('Monday', 'Saint-Petersburg') # количество прослушиваний в Санкт-Петербурге по понедельникам"
   ]
  },
  {
   "cell_type": "code",
   "execution_count": 22,
   "metadata": {
    "id": "_NTy2VPU_Zcu"
   },
   "outputs": [
    {
     "data": {
      "text/plain": [
       "11056"
      ]
     },
     "execution_count": 22,
     "metadata": {},
     "output_type": "execute_result"
    }
   ],
   "source": [
    "number_tracks('Wednesday', 'Moscow') # количество прослушиваний в Москве по средам"
   ]
  },
  {
   "cell_type": "code",
   "execution_count": 23,
   "metadata": {
    "id": "j2y3TAwo_Zcu"
   },
   "outputs": [
    {
     "data": {
      "text/plain": [
       "7003"
      ]
     },
     "execution_count": 23,
     "metadata": {},
     "output_type": "execute_result"
    }
   ],
   "source": [
    "number_tracks('Wednesday', 'Saint-Petersburg') # количество прослушиваний в Санкт-Петербурге по средам"
   ]
  },
  {
   "cell_type": "code",
   "execution_count": 24,
   "metadata": {
    "id": "vYDw5u_K_Zcu"
   },
   "outputs": [
    {
     "data": {
      "text/plain": [
       "15945"
      ]
     },
     "execution_count": 24,
     "metadata": {},
     "output_type": "execute_result"
    }
   ],
   "source": [
    "number_tracks('Friday', 'Moscow') # количество прослушиваний в Москве по пятницам"
   ]
  },
  {
   "cell_type": "code",
   "execution_count": 25,
   "metadata": {
    "id": "8_yzFtW3_Zcu"
   },
   "outputs": [
    {
     "data": {
      "text/plain": [
       "5895"
      ]
     },
     "execution_count": 25,
     "metadata": {},
     "output_type": "execute_result"
    }
   ],
   "source": [
    "number_tracks('Friday', 'Saint-Petersburg') # количество прослушиваний в Санкт-Петербурге по пятницам"
   ]
  },
  {
   "cell_type": "markdown",
   "metadata": {
    "id": "7QXffbO-_Zcu",
    "tags": [
     "start_task"
    ]
   },
   "source": [
    "Создадим таблицу, где:\n",
    "* названия колонок — `['city', 'monday', 'wednesday', 'friday']`;\n",
    "* данные — результаты, которые вы получили с помощью `number_tracks`."
   ]
  },
  {
   "cell_type": "code",
   "execution_count": 26,
   "metadata": {
    "id": "APAcLpOr_Zcu"
   },
   "outputs": [],
   "source": [
    "#Таблица с результатами\n",
    "data = [['Moscow', 15740, 11056, 15945],['Saint-Petersburg', 5614, 7003, 5895]]   \n",
    "columns=['city', 'monday', 'wednesday', 'friday'] \n",
    "\n",
    "info = pd.DataFrame(data=data, columns=columns) "
   ]
  },
  {
   "cell_type": "markdown",
   "metadata": {
    "id": "-EgPIHYu_Zcu"
   },
   "source": [
    "**Выводы**\n",
    "\n",
    "Данные показывают разницу поведения пользователей:\n",
    "\n",
    "- В Москве пик прослушиваний приходится на понедельник и пятницу, а в среду заметен спад.\n",
    "- В Петербурге, наоборот, больше слушают музыку по средам. Активность в понедельник и пятницу здесь почти в равной мере уступает среде.\n",
    "\n",
    "Значит, данные говорят в пользу первой гипотезы."
   ]
  },
  {
   "cell_type": "markdown",
   "metadata": {
    "id": "atZAxtq4_Zcu"
   },
   "source": [
    "### Музыка в начале и в конце недели"
   ]
  },
  {
   "cell_type": "markdown",
   "metadata": {
    "id": "eXrQqXFH_Zcu"
   },
   "source": [
    "Согласно второй гипотезе, утром в понедельник в Москве преобладают одни жанры, а в Петербурге — другие. Так же и вечером пятницы преобладают разные жанры — в зависимости от города."
   ]
  },
  {
   "cell_type": "markdown",
   "metadata": {
    "id": "S8UcW6Hw_Zcu",
    "tags": [
     "start_task"
    ]
   },
   "source": [
    "Сохраним таблицы с данными в две переменные:\n",
    "* по Москве — в `moscow_general`;\n",
    "* по Санкт-Петербургу — в `spb_general`."
   ]
  },
  {
   "cell_type": "code",
   "execution_count": 27,
   "metadata": {
    "id": "qeaFfM_P_Zcu"
   },
   "outputs": [],
   "source": [
    "moscow_general = df[df['city'] =='Moscow'] # получение таблицы moscow_general из тех строк таблицы df, \n",
    "# для которых значение в столбце 'city' равно 'Moscow'\n",
    "\n"
   ]
  },
  {
   "cell_type": "code",
   "execution_count": 28,
   "metadata": {
    "id": "ORaVRKto_Zcu"
   },
   "outputs": [],
   "source": [
    "spb_general = df[df['city'] =='Saint-Petersburg']\n",
    "# получение таблицы spb_general из тех строк таблицы df,\n",
    "# для которых значение в столбце 'city' равно 'Saint-Petersburg'\n"
   ]
  },
  {
   "cell_type": "markdown",
   "metadata": {
    "id": "MEJV-CX2_Zcu",
    "tags": [
     "start_task"
    ]
   },
   "source": [
    "Создадим функцию `genre_weekday()` с четырьмя параметрами:\n",
    "* таблица (датафрейм) с данными,\n",
    "* день недели,\n",
    "* начальная временная метка в формате 'hh:mm', \n",
    "* последняя временная метка в формате 'hh:mm'.\n",
    "\n",
    "Функция вернет информацию о топ-10 жанров тех треков, которые прослушивали в указанный день, в промежутке между двумя отметками времени."
   ]
  },
  {
   "cell_type": "code",
   "execution_count": 29,
   "metadata": {
    "id": "laJT9BYl_Zcu"
   },
   "outputs": [],
   "source": [
    "#Объявим функцию genre_weekday с параметрами table, day, time1, time2,\n",
    "#которая возвращает информацию о самых популярных жанрах в указанный день в\n",
    "#заданное время\n",
    "def genre_weekday(table, day, time1, time2):\n",
    "    genre_df = table[table['day']==day]\n",
    "    genre_df = genre_df[genre_df['time'] > time1]\n",
    "    genre_df = genre_df[genre_df['time'] < time2]\n",
    "    genre_df_count = genre_df.groupby('genre')['genre'].count()\n",
    "    genre_df_sorted = genre_df_count.sort_values (ascending=False)\n",
    "    return genre_df_sorted.head(10)"
   ]
  },
  {
   "cell_type": "markdown",
   "metadata": {
    "id": "la2s2_PF_Zcu",
    "tags": [
     "start_task"
    ]
   },
   "source": [
    "Cравним результаты функции `genre_weekday` для Москвы и Санкт-Петербурга в понедельник утром (с 7:00 до 11:00) и в пятницу вечером (с 17:00 до 23:00):"
   ]
  },
  {
   "cell_type": "code",
   "execution_count": 30,
   "metadata": {
    "id": "yz7itPUQ_Zcu"
   },
   "outputs": [
    {
     "data": {
      "text/plain": [
       "genre\n",
       "pop            781\n",
       "dance          549\n",
       "electronic     480\n",
       "rock           474\n",
       "hiphop         286\n",
       "ruspop         186\n",
       "world          181\n",
       "rusrap         175\n",
       "alternative    164\n",
       "unknown        161\n",
       "Name: genre, dtype: int64"
      ]
     },
     "execution_count": 30,
     "metadata": {},
     "output_type": "execute_result"
    }
   ],
   "source": [
    "genre_weekday(moscow_general, 'Monday', '07:00', '11:00') #вызов функции для утра понедельника в Москве\n",
    "#объекты, хранящие время, являются строками и сравниваются как строки"
   ]
  },
  {
   "cell_type": "code",
   "execution_count": 31,
   "metadata": {
    "id": "kwUcHPdy_Zcu"
   },
   "outputs": [
    {
     "data": {
      "text/plain": [
       "genre\n",
       "pop            218\n",
       "dance          182\n",
       "rock           162\n",
       "electronic     147\n",
       "hiphop          80\n",
       "ruspop          64\n",
       "alternative     58\n",
       "rusrap          55\n",
       "jazz            44\n",
       "classical       40\n",
       "Name: genre, dtype: int64"
      ]
     },
     "execution_count": 31,
     "metadata": {},
     "output_type": "execute_result"
    }
   ],
   "source": [
    "genre_weekday(spb_general, 'Monday', '07:00', '11:00') #вызов функции для утра понедельника в Петербурге"
   ]
  },
  {
   "cell_type": "code",
   "execution_count": 32,
   "metadata": {
    "id": "EzXVRE1o_Zcu"
   },
   "outputs": [
    {
     "data": {
      "text/plain": [
       "genre\n",
       "pop            713\n",
       "rock           517\n",
       "dance          495\n",
       "electronic     482\n",
       "hiphop         273\n",
       "world          208\n",
       "ruspop         170\n",
       "alternative    163\n",
       "classical      163\n",
       "rusrap         142\n",
       "Name: genre, dtype: int64"
      ]
     },
     "execution_count": 32,
     "metadata": {},
     "output_type": "execute_result"
    }
   ],
   "source": [
    "genre_weekday(moscow_general, 'Friday', '17:00', '23:00') # вызов функции для вечера пятницы в Москве"
   ]
  },
  {
   "cell_type": "code",
   "execution_count": 33,
   "metadata": {
    "id": "JZaEKu5v_Zcu"
   },
   "outputs": [
    {
     "data": {
      "text/plain": [
       "genre\n",
       "pop            256\n",
       "electronic     216\n",
       "rock           216\n",
       "dance          210\n",
       "hiphop          97\n",
       "alternative     63\n",
       "jazz            61\n",
       "classical       60\n",
       "rusrap          59\n",
       "world           54\n",
       "Name: genre, dtype: int64"
      ]
     },
     "execution_count": 33,
     "metadata": {},
     "output_type": "execute_result"
    }
   ],
   "source": [
    "genre_weekday(spb_general, 'Friday', '17:00', '23:00') # вызов функции для вечера пятницы в Петербурге"
   ]
  },
  {
   "cell_type": "markdown",
   "metadata": {
    "id": "wrCe4MNX_Zcu"
   },
   "source": [
    "**Выводы**\n",
    "\n",
    "Если сравнить топ-10 жанров в понедельник утром, можно сделать такие выводы:\n",
    "\n",
    "1. В Москве и Петербурге слушают похожую музыку. Единственное отличие — в московский рейтинг вошёл жанр “world”, а в петербургский — джаз и классика.\n",
    "\n",
    "2. В Москве пропущенных значений оказалось так много, что значение `'unknown'` заняло десятое место среди самых популярных жанров. Значит, пропущенные значения занимают существенную долю в данных и угрожают достоверности исследования.\n",
    "\n",
    "Вечер пятницы не меняет эту картину. Некоторые жанры поднимаются немного выше, другие спускаются, но в целом топ-10 остаётся тем же самым.\n",
    "\n",
    "Таким образом, вторая гипотеза подтвердилась лишь частично:\n",
    "* Пользователи слушают похожую музыку в начале недели и в конце.\n",
    "* Разница между Москвой и Петербургом не слишком выражена. В Москве чаще слушают русскую популярную музыку, в Петербурге — джаз.\n",
    "\n",
    "Однако пропуски в данных ставят под сомнение этот результат. В Москве их так много, что рейтинг топ-10 мог бы выглядеть иначе, если бы не утерянные  данные о жанрах."
   ]
  },
  {
   "cell_type": "markdown",
   "metadata": {
    "id": "JolODAqr_Zcu"
   },
   "source": [
    "### Жанровые предпочтения в Москве и Петербурге\n",
    "\n",
    "Гипотеза: Петербург — столица рэпа, музыку этого жанра там слушают чаще, чем в Москве.  А Москва — город контрастов, в котором, тем не менее, преобладает поп-музыка."
   ]
  },
  {
   "cell_type": "markdown",
   "metadata": {
    "id": "DlegSvaT_Zcu",
    "tags": [
     "start_task"
    ]
   },
   "source": [
    "Сгруппируем таблицу `moscow_general` по жанру и посчитаем прослушивания треков каждого жанра методом `count()`. Затем отсортируем результат в порядке убывания и сохраним его в таблице `moscow_genres`."
   ]
  },
  {
   "cell_type": "code",
   "execution_count": 34,
   "metadata": {
    "id": "r19lIPke_Zcu"
   },
   "outputs": [],
   "source": [
    "moscow_genres = moscow_general.groupby('genre')['genre'].count() #группировка таблицы moscow_general по столбцу 'genre', \n",
    "moscow_genres = moscow_genres.sort_values(ascending=False) #сортировка в порядке убывания и сохранение в moscow_genres"
   ]
  },
  {
   "cell_type": "code",
   "execution_count": 35,
   "metadata": {
    "id": "WhCSooF8_Zcv"
   },
   "outputs": [
    {
     "data": {
      "text/plain": [
       "genre\n",
       "pop            5892\n",
       "dance          4435\n",
       "rock           3965\n",
       "electronic     3786\n",
       "hiphop         2096\n",
       "classical      1616\n",
       "world          1432\n",
       "alternative    1379\n",
       "ruspop         1372\n",
       "rusrap         1161\n",
       "Name: genre, dtype: int64"
      ]
     },
     "execution_count": 35,
     "metadata": {},
     "output_type": "execute_result"
    }
   ],
   "source": [
    "# подсчёт числа значений 'genre' в этой группировке методом count(), \n",
    "moscow_genres.head(10) # просмотр первых 10 строк moscow_genres"
   ]
  },
  {
   "cell_type": "markdown",
   "metadata": {
    "id": "cnPG2vnN_Zcv",
    "tags": [
     "start_task"
    ]
   },
   "source": [
    "Теперь повторим то же и для Петербурга.\n",
    "\n",
    "Сгруппируем таблицу `spb_general` по жанру. Посчитаем прослушивания треков каждого жанра. Результат отсортируем в порядке убывания и сохраним в таблице `spb_genres`:"
   ]
  },
  {
   "cell_type": "code",
   "execution_count": 36,
   "metadata": {
    "id": "gluLIpE7_Zcv"
   },
   "outputs": [],
   "source": [
    "spb_genres = spb_general.groupby('genre')['genre'].count() #группировка таблицы spb_general по столбцу 'genre', \n",
    "spb_genres = spb_genres.sort_values(ascending=False)  # сортировка в порядке убывания и сохранение в spb_genres"
   ]
  },
  {
   "cell_type": "code",
   "execution_count": 37,
   "metadata": {
    "id": "uaGJHjVU_Zcv"
   },
   "outputs": [
    {
     "data": {
      "text/plain": [
       "genre\n",
       "pop            2431\n",
       "dance          1932\n",
       "rock           1879\n",
       "electronic     1736\n",
       "hiphop          960\n",
       "alternative     649\n",
       "classical       646\n",
       "rusrap          564\n",
       "ruspop          538\n",
       "world           515\n",
       "Name: genre, dtype: int64"
      ]
     },
     "execution_count": 37,
     "metadata": {},
     "output_type": "execute_result"
    }
   ],
   "source": [
    "spb_genres.head(10) # просмотр первых 10 строк spb_genres"
   ]
  },
  {
   "cell_type": "markdown",
   "metadata": {
    "id": "RY51YJYu_Zcv"
   },
   "source": [
    "**Выводы**"
   ]
  },
  {
   "cell_type": "markdown",
   "metadata": {
    "id": "nVhnJEm__Zcv"
   },
   "source": [
    "Гипотеза частично подтвердилась:\n",
    "* Поп-музыка — самый популярный жанр в Москве, как и предполагала гипотеза. Более того, в топ-10 жанров встречается близкий жанр — русская популярная музыка.\n",
    "* Вопреки ожиданиям, рэп одинаково популярен в Москве и Петербурге. \n"
   ]
  },
  {
   "cell_type": "markdown",
   "metadata": {
    "id": "ykKQ0N65_Zcv"
   },
   "source": [
    "## Итоги исследования"
   ]
  },
  {
   "cell_type": "markdown",
   "metadata": {
    "id": "tjUwbHb3_Zcv"
   },
   "source": [
    "Проверили три гипотезы и установили:\n",
    "\n",
    "1. День недели по-разному влияет на активность пользователей в Москве и Петербурге. \n",
    "\n",
    "Первая гипотеза полностью подтвердилась.\n",
    "\n",
    "2. Музыкальные предпочтения не сильно меняются в течение недели — будь то Москва или Петербург. Небольшие различия заметны в начале недели, по понедельникам:\n",
    "* в Москве слушают музыку жанра “world”,\n",
    "* в Петербурге — джаз и классику.\n",
    "\n",
    "Таким образом, вторая гипотеза подтвердилась лишь отчасти. Этот результат мог оказаться иным, если бы не пропуски в данных.\n",
    "\n",
    "3. Во вкусах пользователей Москвы и Петербурга больше общего чем различий. Вопреки ожиданиям, предпочтения жанров в Петербурге напоминают московские.\n",
    "\n",
    "Третья гипотеза не подтвердилась. Если различия в предпочтениях и существуют, на основной массе пользователей они незаметны.\n",
    "\n",
    "**На практике исследования содержат проверки статистических гипотез.**\n",
    "Из данных одного сервиса не всегда можно сделать вывод о всех жителях города.\n",
    "Проверки статистических гипотез покажут, насколько они достоверны, исходя из имеющихся данных. \n",
    "С методами проверок гипотез вы ещё познакомитесь в следующих темах."
   ]
  }
 ],
 "metadata": {
  "ExecuteTimeLog": [
   {
    "duration": 46,
    "start_time": "2022-11-30T13:35:55.397Z"
   },
   {
    "duration": 6,
    "start_time": "2022-11-30T13:36:11.162Z"
   },
   {
    "duration": 6,
    "start_time": "2022-11-30T13:36:39.872Z"
   },
   {
    "duration": 6,
    "start_time": "2022-11-30T13:36:48.491Z"
   },
   {
    "duration": 5,
    "start_time": "2022-11-30T13:37:36.978Z"
   },
   {
    "duration": 6,
    "start_time": "2022-11-30T13:58:26.121Z"
   },
   {
    "duration": 6,
    "start_time": "2022-11-30T15:09:20.629Z"
   },
   {
    "duration": 6,
    "start_time": "2022-11-30T15:10:31.978Z"
   },
   {
    "duration": 6,
    "start_time": "2022-11-30T15:10:41.294Z"
   },
   {
    "duration": 410,
    "start_time": "2022-11-30T15:12:11.176Z"
   },
   {
    "duration": 509,
    "start_time": "2022-11-30T15:12:16.161Z"
   },
   {
    "duration": 26,
    "start_time": "2022-11-30T15:28:24.720Z"
   },
   {
    "duration": 380,
    "start_time": "2022-11-30T15:31:34.235Z"
   },
   {
    "duration": 165,
    "start_time": "2022-11-30T15:31:34.617Z"
   },
   {
    "duration": 18,
    "start_time": "2022-11-30T15:31:34.784Z"
   },
   {
    "duration": 29,
    "start_time": "2022-11-30T15:31:34.803Z"
   },
   {
    "duration": 3,
    "start_time": "2022-11-30T15:31:34.835Z"
   },
   {
    "duration": 14,
    "start_time": "2022-11-30T15:31:34.840Z"
   },
   {
    "duration": 23,
    "start_time": "2022-11-30T15:31:34.856Z"
   },
   {
    "duration": 8,
    "start_time": "2022-11-30T15:31:34.881Z"
   },
   {
    "duration": 8,
    "start_time": "2022-11-30T15:31:34.892Z"
   },
   {
    "duration": 7,
    "start_time": "2022-11-30T15:31:34.902Z"
   },
   {
    "duration": 8,
    "start_time": "2022-11-30T15:31:34.911Z"
   },
   {
    "duration": 5,
    "start_time": "2022-11-30T15:31:34.921Z"
   },
   {
    "duration": 9,
    "start_time": "2022-11-30T15:31:34.928Z"
   },
   {
    "duration": 7,
    "start_time": "2022-11-30T15:31:34.942Z"
   },
   {
    "duration": 20,
    "start_time": "2022-11-30T15:31:34.950Z"
   },
   {
    "duration": 5,
    "start_time": "2022-11-30T15:31:34.972Z"
   },
   {
    "duration": 5,
    "start_time": "2022-11-30T15:31:34.979Z"
   },
   {
    "duration": 7,
    "start_time": "2022-11-30T15:31:34.986Z"
   },
   {
    "duration": 9,
    "start_time": "2022-11-30T15:31:34.995Z"
   },
   {
    "duration": 19,
    "start_time": "2022-11-30T15:31:35.005Z"
   },
   {
    "duration": 8,
    "start_time": "2022-11-30T15:31:35.026Z"
   },
   {
    "duration": 7,
    "start_time": "2022-11-30T15:31:35.036Z"
   },
   {
    "duration": 7,
    "start_time": "2022-11-30T15:31:35.045Z"
   },
   {
    "duration": 25,
    "start_time": "2022-11-30T15:31:35.053Z"
   },
   {
    "duration": 7,
    "start_time": "2022-11-30T15:31:35.081Z"
   },
   {
    "duration": 9,
    "start_time": "2022-11-30T15:31:35.090Z"
   },
   {
    "duration": 10,
    "start_time": "2022-11-30T15:31:35.100Z"
   },
   {
    "duration": 6,
    "start_time": "2022-11-30T15:31:35.112Z"
   },
   {
    "duration": 7,
    "start_time": "2022-11-30T15:31:35.119Z"
   },
   {
    "duration": 75,
    "start_time": "2022-11-30T15:31:35.129Z"
   },
   {
    "duration": 0,
    "start_time": "2022-11-30T15:31:35.206Z"
   },
   {
    "duration": 0,
    "start_time": "2022-11-30T15:31:35.207Z"
   },
   {
    "duration": 0,
    "start_time": "2022-11-30T15:31:35.208Z"
   },
   {
    "duration": 0,
    "start_time": "2022-11-30T15:31:35.210Z"
   },
   {
    "duration": 0,
    "start_time": "2022-11-30T15:31:35.211Z"
   },
   {
    "duration": 0,
    "start_time": "2022-11-30T15:31:35.212Z"
   },
   {
    "duration": 0,
    "start_time": "2022-11-30T15:31:35.213Z"
   },
   {
    "duration": 0,
    "start_time": "2022-11-30T15:31:35.215Z"
   },
   {
    "duration": 60,
    "start_time": "2022-11-30T15:31:49.684Z"
   },
   {
    "duration": 8,
    "start_time": "2022-11-30T15:32:36.097Z"
   },
   {
    "duration": 5,
    "start_time": "2022-11-30T15:33:48.195Z"
   },
   {
    "duration": 75,
    "start_time": "2022-11-30T16:48:19.507Z"
   },
   {
    "duration": 92,
    "start_time": "2022-11-30T16:48:36.779Z"
   },
   {
    "duration": 23,
    "start_time": "2022-11-30T16:52:09.539Z"
   },
   {
    "duration": 4,
    "start_time": "2022-11-30T17:31:05.549Z"
   },
   {
    "duration": 393,
    "start_time": "2022-11-30T17:31:19.090Z"
   },
   {
    "duration": 165,
    "start_time": "2022-11-30T17:31:19.484Z"
   },
   {
    "duration": 17,
    "start_time": "2022-11-30T17:31:19.651Z"
   },
   {
    "duration": 29,
    "start_time": "2022-11-30T17:31:19.670Z"
   },
   {
    "duration": 2,
    "start_time": "2022-11-30T17:31:19.700Z"
   },
   {
    "duration": 7,
    "start_time": "2022-11-30T17:31:19.704Z"
   },
   {
    "duration": 22,
    "start_time": "2022-11-30T17:31:19.712Z"
   },
   {
    "duration": 6,
    "start_time": "2022-11-30T17:31:19.736Z"
   },
   {
    "duration": 6,
    "start_time": "2022-11-30T17:31:19.744Z"
   },
   {
    "duration": 6,
    "start_time": "2022-11-30T17:31:19.777Z"
   },
   {
    "duration": 5,
    "start_time": "2022-11-30T17:31:19.785Z"
   },
   {
    "duration": 7,
    "start_time": "2022-11-30T17:31:19.791Z"
   },
   {
    "duration": 5,
    "start_time": "2022-11-30T17:31:19.799Z"
   },
   {
    "duration": 6,
    "start_time": "2022-11-30T17:31:19.805Z"
   },
   {
    "duration": 6,
    "start_time": "2022-11-30T17:31:19.812Z"
   },
   {
    "duration": 7,
    "start_time": "2022-11-30T17:31:19.819Z"
   },
   {
    "duration": 5,
    "start_time": "2022-11-30T17:31:19.828Z"
   },
   {
    "duration": 6,
    "start_time": "2022-11-30T17:31:19.834Z"
   },
   {
    "duration": 6,
    "start_time": "2022-11-30T17:31:19.841Z"
   },
   {
    "duration": 7,
    "start_time": "2022-11-30T17:31:19.849Z"
   },
   {
    "duration": 7,
    "start_time": "2022-11-30T17:31:19.858Z"
   },
   {
    "duration": 12,
    "start_time": "2022-11-30T17:31:19.867Z"
   },
   {
    "duration": 5,
    "start_time": "2022-11-30T17:31:19.880Z"
   },
   {
    "duration": 9,
    "start_time": "2022-11-30T17:31:19.886Z"
   },
   {
    "duration": 14,
    "start_time": "2022-11-30T17:31:19.898Z"
   },
   {
    "duration": 6,
    "start_time": "2022-11-30T17:31:19.914Z"
   },
   {
    "duration": 7,
    "start_time": "2022-11-30T17:31:19.922Z"
   },
   {
    "duration": 7,
    "start_time": "2022-11-30T17:31:19.931Z"
   },
   {
    "duration": 5,
    "start_time": "2022-11-30T17:31:19.940Z"
   },
   {
    "duration": 70,
    "start_time": "2022-11-30T17:31:19.947Z"
   },
   {
    "duration": 0,
    "start_time": "2022-11-30T17:31:20.019Z"
   },
   {
    "duration": 0,
    "start_time": "2022-11-30T17:31:20.020Z"
   },
   {
    "duration": 0,
    "start_time": "2022-11-30T17:31:20.021Z"
   },
   {
    "duration": 0,
    "start_time": "2022-11-30T17:31:20.023Z"
   },
   {
    "duration": 0,
    "start_time": "2022-11-30T17:31:20.024Z"
   },
   {
    "duration": 0,
    "start_time": "2022-11-30T17:31:20.026Z"
   },
   {
    "duration": 0,
    "start_time": "2022-11-30T17:31:20.028Z"
   },
   {
    "duration": 0,
    "start_time": "2022-11-30T17:31:20.029Z"
   },
   {
    "duration": 19,
    "start_time": "2022-11-30T17:33:10.538Z"
   },
   {
    "duration": 4,
    "start_time": "2022-11-30T17:33:15.755Z"
   },
   {
    "duration": 19,
    "start_time": "2022-11-30T17:33:29.455Z"
   },
   {
    "duration": 4,
    "start_time": "2022-11-30T17:35:53.000Z"
   },
   {
    "duration": 398,
    "start_time": "2022-11-30T17:36:05.061Z"
   },
   {
    "duration": 177,
    "start_time": "2022-11-30T17:36:05.461Z"
   },
   {
    "duration": 21,
    "start_time": "2022-11-30T17:36:05.640Z"
   },
   {
    "duration": 51,
    "start_time": "2022-11-30T17:36:05.663Z"
   },
   {
    "duration": 27,
    "start_time": "2022-11-30T17:36:05.716Z"
   },
   {
    "duration": 32,
    "start_time": "2022-11-30T17:36:05.744Z"
   },
   {
    "duration": 34,
    "start_time": "2022-11-30T17:36:05.778Z"
   },
   {
    "duration": 20,
    "start_time": "2022-11-30T17:36:05.814Z"
   },
   {
    "duration": 22,
    "start_time": "2022-11-30T17:36:05.836Z"
   },
   {
    "duration": 31,
    "start_time": "2022-11-30T17:36:05.860Z"
   },
   {
    "duration": 20,
    "start_time": "2022-11-30T17:36:05.893Z"
   },
   {
    "duration": 33,
    "start_time": "2022-11-30T17:36:05.915Z"
   },
   {
    "duration": 14,
    "start_time": "2022-11-30T17:36:05.950Z"
   },
   {
    "duration": 20,
    "start_time": "2022-11-30T17:36:05.968Z"
   },
   {
    "duration": 20,
    "start_time": "2022-11-30T17:36:05.990Z"
   },
   {
    "duration": 20,
    "start_time": "2022-11-30T17:36:06.012Z"
   },
   {
    "duration": 24,
    "start_time": "2022-11-30T17:36:06.035Z"
   },
   {
    "duration": 16,
    "start_time": "2022-11-30T17:36:06.061Z"
   },
   {
    "duration": 32,
    "start_time": "2022-11-30T17:36:06.080Z"
   },
   {
    "duration": 30,
    "start_time": "2022-11-30T17:36:06.114Z"
   },
   {
    "duration": 32,
    "start_time": "2022-11-30T17:36:06.146Z"
   },
   {
    "duration": 36,
    "start_time": "2022-11-30T17:36:06.180Z"
   },
   {
    "duration": 34,
    "start_time": "2022-11-30T17:36:06.218Z"
   },
   {
    "duration": 26,
    "start_time": "2022-11-30T17:36:06.254Z"
   },
   {
    "duration": 31,
    "start_time": "2022-11-30T17:36:06.282Z"
   },
   {
    "duration": 26,
    "start_time": "2022-11-30T17:36:06.315Z"
   },
   {
    "duration": 23,
    "start_time": "2022-11-30T17:36:06.343Z"
   },
   {
    "duration": 16,
    "start_time": "2022-11-30T17:36:06.368Z"
   },
   {
    "duration": 27,
    "start_time": "2022-11-30T17:36:06.386Z"
   },
   {
    "duration": 108,
    "start_time": "2022-11-30T17:36:06.415Z"
   },
   {
    "duration": 0,
    "start_time": "2022-11-30T17:36:06.525Z"
   },
   {
    "duration": 0,
    "start_time": "2022-11-30T17:36:06.526Z"
   },
   {
    "duration": 0,
    "start_time": "2022-11-30T17:36:06.528Z"
   },
   {
    "duration": 0,
    "start_time": "2022-11-30T17:36:06.529Z"
   },
   {
    "duration": 0,
    "start_time": "2022-11-30T17:36:06.530Z"
   },
   {
    "duration": 0,
    "start_time": "2022-11-30T17:36:06.531Z"
   },
   {
    "duration": 0,
    "start_time": "2022-11-30T17:36:06.533Z"
   },
   {
    "duration": 0,
    "start_time": "2022-11-30T17:36:06.534Z"
   },
   {
    "duration": 24,
    "start_time": "2022-11-30T17:37:41.226Z"
   },
   {
    "duration": 3,
    "start_time": "2022-11-30T17:42:21.508Z"
   },
   {
    "duration": 4,
    "start_time": "2022-11-30T17:42:45.298Z"
   },
   {
    "duration": 23,
    "start_time": "2022-11-30T17:43:17.477Z"
   },
   {
    "duration": 78,
    "start_time": "2022-11-30T17:43:34.035Z"
   },
   {
    "duration": 28,
    "start_time": "2022-11-30T17:43:44.055Z"
   },
   {
    "duration": 8,
    "start_time": "2022-11-30T17:45:24.487Z"
   },
   {
    "duration": 25,
    "start_time": "2022-11-30T17:45:40.385Z"
   },
   {
    "duration": 81,
    "start_time": "2022-11-30T17:46:25.832Z"
   },
   {
    "duration": 74,
    "start_time": "2022-11-30T17:46:59.386Z"
   },
   {
    "duration": 83,
    "start_time": "2022-11-30T17:47:03.867Z"
   },
   {
    "duration": 68,
    "start_time": "2022-11-30T17:47:09.967Z"
   },
   {
    "duration": 18,
    "start_time": "2022-11-30T17:47:15.949Z"
   },
   {
    "duration": 21,
    "start_time": "2022-11-30T17:47:22.169Z"
   },
   {
    "duration": 64,
    "start_time": "2022-11-30T18:14:23.229Z"
   },
   {
    "duration": 9,
    "start_time": "2022-11-30T18:15:04.880Z"
   },
   {
    "duration": 69,
    "start_time": "2022-11-30T18:15:15.229Z"
   },
   {
    "duration": 85,
    "start_time": "2022-11-30T18:16:27.327Z"
   },
   {
    "duration": 86,
    "start_time": "2022-11-30T18:16:30.594Z"
   },
   {
    "duration": 58,
    "start_time": "2022-11-30T18:16:41.482Z"
   },
   {
    "duration": 56,
    "start_time": "2022-11-30T21:24:46.391Z"
   },
   {
    "duration": 400,
    "start_time": "2022-11-30T21:25:01.506Z"
   },
   {
    "duration": 286,
    "start_time": "2022-11-30T21:25:01.908Z"
   },
   {
    "duration": 19,
    "start_time": "2022-11-30T21:25:02.196Z"
   },
   {
    "duration": 51,
    "start_time": "2022-11-30T21:25:02.218Z"
   },
   {
    "duration": 4,
    "start_time": "2022-11-30T21:25:02.271Z"
   },
   {
    "duration": 28,
    "start_time": "2022-11-30T21:25:02.277Z"
   },
   {
    "duration": 37,
    "start_time": "2022-11-30T21:25:02.307Z"
   },
   {
    "duration": 16,
    "start_time": "2022-11-30T21:25:02.347Z"
   },
   {
    "duration": 40,
    "start_time": "2022-11-30T21:25:02.365Z"
   },
   {
    "duration": 73,
    "start_time": "2022-11-30T21:25:02.409Z"
   },
   {
    "duration": 66,
    "start_time": "2022-11-30T21:25:02.484Z"
   },
   {
    "duration": 99,
    "start_time": "2022-11-30T21:25:02.553Z"
   },
   {
    "duration": 98,
    "start_time": "2022-11-30T21:25:02.654Z"
   },
   {
    "duration": 63,
    "start_time": "2022-11-30T21:25:02.755Z"
   },
   {
    "duration": 950,
    "start_time": "2022-11-30T21:25:02.820Z"
   },
   {
    "duration": 0,
    "start_time": "2022-11-30T21:25:03.772Z"
   },
   {
    "duration": 0,
    "start_time": "2022-11-30T21:25:03.774Z"
   },
   {
    "duration": 0,
    "start_time": "2022-11-30T21:25:03.775Z"
   },
   {
    "duration": 0,
    "start_time": "2022-11-30T21:25:03.777Z"
   },
   {
    "duration": 0,
    "start_time": "2022-11-30T21:25:03.778Z"
   },
   {
    "duration": 0,
    "start_time": "2022-11-30T21:25:03.780Z"
   },
   {
    "duration": 0,
    "start_time": "2022-11-30T21:25:03.781Z"
   },
   {
    "duration": 0,
    "start_time": "2022-11-30T21:25:03.783Z"
   },
   {
    "duration": 0,
    "start_time": "2022-11-30T21:25:03.784Z"
   },
   {
    "duration": 0,
    "start_time": "2022-11-30T21:25:03.788Z"
   },
   {
    "duration": 0,
    "start_time": "2022-11-30T21:25:03.789Z"
   },
   {
    "duration": 0,
    "start_time": "2022-11-30T21:25:03.790Z"
   },
   {
    "duration": 0,
    "start_time": "2022-11-30T21:25:03.792Z"
   },
   {
    "duration": 0,
    "start_time": "2022-11-30T21:25:03.794Z"
   },
   {
    "duration": 0,
    "start_time": "2022-11-30T21:25:03.795Z"
   },
   {
    "duration": 0,
    "start_time": "2022-11-30T21:25:03.796Z"
   },
   {
    "duration": 0,
    "start_time": "2022-11-30T21:25:03.798Z"
   },
   {
    "duration": 0,
    "start_time": "2022-11-30T21:25:03.800Z"
   },
   {
    "duration": 0,
    "start_time": "2022-11-30T21:25:03.801Z"
   },
   {
    "duration": 0,
    "start_time": "2022-11-30T21:25:03.803Z"
   },
   {
    "duration": 0,
    "start_time": "2022-11-30T21:25:03.804Z"
   },
   {
    "duration": 0,
    "start_time": "2022-11-30T21:25:03.806Z"
   },
   {
    "duration": 0,
    "start_time": "2022-11-30T21:25:03.807Z"
   },
   {
    "duration": 794,
    "start_time": "2022-11-30T21:26:33.878Z"
   },
   {
    "duration": 21,
    "start_time": "2022-11-30T21:27:09.529Z"
   },
   {
    "duration": 10,
    "start_time": "2022-11-30T21:28:23.463Z"
   },
   {
    "duration": 10,
    "start_time": "2022-11-30T21:30:47.263Z"
   },
   {
    "duration": 2,
    "start_time": "2022-11-30T21:30:50.928Z"
   },
   {
    "duration": 9,
    "start_time": "2022-11-30T21:31:12.670Z"
   },
   {
    "duration": 10,
    "start_time": "2022-11-30T21:31:22.429Z"
   },
   {
    "duration": 10,
    "start_time": "2022-11-30T21:31:45.878Z"
   },
   {
    "duration": 16,
    "start_time": "2022-11-30T21:33:32.627Z"
   },
   {
    "duration": 6,
    "start_time": "2022-11-30T21:34:07.212Z"
   },
   {
    "duration": 9,
    "start_time": "2022-11-30T21:34:22.610Z"
   },
   {
    "duration": 16,
    "start_time": "2022-11-30T21:34:51.631Z"
   },
   {
    "duration": 10,
    "start_time": "2022-11-30T21:35:27.301Z"
   },
   {
    "duration": 10,
    "start_time": "2022-11-30T21:38:06.079Z"
   },
   {
    "duration": 71,
    "start_time": "2022-11-30T21:42:09.224Z"
   },
   {
    "duration": 65,
    "start_time": "2022-11-30T21:42:21.289Z"
   },
   {
    "duration": 51,
    "start_time": "2022-11-30T21:43:15.450Z"
   },
   {
    "duration": 56,
    "start_time": "2022-11-30T21:43:27.000Z"
   },
   {
    "duration": 11,
    "start_time": "2022-11-30T21:50:21.417Z"
   },
   {
    "duration": 13,
    "start_time": "2022-11-30T21:51:02.755Z"
   },
   {
    "duration": 419,
    "start_time": "2022-11-30T21:51:24.738Z"
   },
   {
    "duration": 169,
    "start_time": "2022-11-30T21:51:25.160Z"
   },
   {
    "duration": 19,
    "start_time": "2022-11-30T21:51:25.331Z"
   },
   {
    "duration": 35,
    "start_time": "2022-11-30T21:51:25.353Z"
   },
   {
    "duration": 2,
    "start_time": "2022-11-30T21:51:25.390Z"
   },
   {
    "duration": 6,
    "start_time": "2022-11-30T21:51:25.393Z"
   },
   {
    "duration": 37,
    "start_time": "2022-11-30T21:51:25.400Z"
   },
   {
    "duration": 8,
    "start_time": "2022-11-30T21:51:25.439Z"
   },
   {
    "duration": 29,
    "start_time": "2022-11-30T21:51:25.449Z"
   },
   {
    "duration": 24,
    "start_time": "2022-11-30T21:51:25.480Z"
   },
   {
    "duration": 36,
    "start_time": "2022-11-30T21:51:25.506Z"
   },
   {
    "duration": 71,
    "start_time": "2022-11-30T21:51:25.544Z"
   },
   {
    "duration": 89,
    "start_time": "2022-11-30T21:51:25.617Z"
   },
   {
    "duration": 89,
    "start_time": "2022-11-30T21:51:25.708Z"
   },
   {
    "duration": 58,
    "start_time": "2022-11-30T21:51:25.799Z"
   },
   {
    "duration": 90,
    "start_time": "2022-11-30T21:51:25.859Z"
   },
   {
    "duration": 0,
    "start_time": "2022-11-30T21:51:25.952Z"
   },
   {
    "duration": 0,
    "start_time": "2022-11-30T21:51:25.953Z"
   },
   {
    "duration": 0,
    "start_time": "2022-11-30T21:51:25.955Z"
   },
   {
    "duration": 0,
    "start_time": "2022-11-30T21:51:25.957Z"
   },
   {
    "duration": 0,
    "start_time": "2022-11-30T21:51:25.958Z"
   },
   {
    "duration": 0,
    "start_time": "2022-11-30T21:51:25.960Z"
   },
   {
    "duration": 0,
    "start_time": "2022-11-30T21:51:25.962Z"
   },
   {
    "duration": 0,
    "start_time": "2022-11-30T21:51:25.964Z"
   },
   {
    "duration": 0,
    "start_time": "2022-11-30T21:51:25.966Z"
   },
   {
    "duration": 0,
    "start_time": "2022-11-30T21:51:25.967Z"
   },
   {
    "duration": 0,
    "start_time": "2022-11-30T21:51:25.968Z"
   },
   {
    "duration": 0,
    "start_time": "2022-11-30T21:51:25.970Z"
   },
   {
    "duration": 0,
    "start_time": "2022-11-30T21:51:25.971Z"
   },
   {
    "duration": 0,
    "start_time": "2022-11-30T21:51:25.972Z"
   },
   {
    "duration": 0,
    "start_time": "2022-11-30T21:51:25.973Z"
   },
   {
    "duration": 0,
    "start_time": "2022-11-30T21:51:25.974Z"
   },
   {
    "duration": 0,
    "start_time": "2022-11-30T21:51:25.975Z"
   },
   {
    "duration": 0,
    "start_time": "2022-11-30T21:51:25.976Z"
   },
   {
    "duration": 0,
    "start_time": "2022-11-30T21:51:25.977Z"
   },
   {
    "duration": 0,
    "start_time": "2022-11-30T21:51:25.978Z"
   },
   {
    "duration": 0,
    "start_time": "2022-11-30T21:51:25.979Z"
   },
   {
    "duration": 0,
    "start_time": "2022-11-30T21:51:25.980Z"
   },
   {
    "duration": 11,
    "start_time": "2022-11-30T21:53:35.547Z"
   },
   {
    "duration": 7,
    "start_time": "2022-11-30T21:55:46.300Z"
   },
   {
    "duration": 10,
    "start_time": "2022-11-30T21:56:46.545Z"
   },
   {
    "duration": 9,
    "start_time": "2022-11-30T21:57:09.986Z"
   },
   {
    "duration": 376,
    "start_time": "2022-11-30T21:57:26.801Z"
   },
   {
    "duration": 176,
    "start_time": "2022-11-30T21:57:27.179Z"
   },
   {
    "duration": 17,
    "start_time": "2022-11-30T21:57:27.357Z"
   },
   {
    "duration": 33,
    "start_time": "2022-11-30T21:57:27.376Z"
   },
   {
    "duration": 2,
    "start_time": "2022-11-30T21:57:27.411Z"
   },
   {
    "duration": 34,
    "start_time": "2022-11-30T21:57:27.415Z"
   },
   {
    "duration": 11,
    "start_time": "2022-11-30T21:57:27.450Z"
   },
   {
    "duration": 13,
    "start_time": "2022-11-30T21:57:27.463Z"
   },
   {
    "duration": 32,
    "start_time": "2022-11-30T21:57:27.478Z"
   },
   {
    "duration": 19,
    "start_time": "2022-11-30T21:57:27.513Z"
   },
   {
    "duration": 27,
    "start_time": "2022-11-30T21:57:27.543Z"
   },
   {
    "duration": 76,
    "start_time": "2022-11-30T21:57:27.572Z"
   },
   {
    "duration": 74,
    "start_time": "2022-11-30T21:57:27.650Z"
   },
   {
    "duration": 64,
    "start_time": "2022-11-30T21:57:27.726Z"
   },
   {
    "duration": 67,
    "start_time": "2022-11-30T21:57:27.792Z"
   },
   {
    "duration": 60,
    "start_time": "2022-11-30T21:57:27.861Z"
   },
   {
    "duration": 16,
    "start_time": "2022-11-30T21:57:27.923Z"
   },
   {
    "duration": 21,
    "start_time": "2022-11-30T21:57:27.941Z"
   },
   {
    "duration": 11,
    "start_time": "2022-11-30T21:57:27.964Z"
   },
   {
    "duration": 23,
    "start_time": "2022-11-30T21:57:27.976Z"
   },
   {
    "duration": 20,
    "start_time": "2022-11-30T21:57:28.001Z"
   },
   {
    "duration": 23,
    "start_time": "2022-11-30T21:57:28.023Z"
   },
   {
    "duration": 11,
    "start_time": "2022-11-30T21:57:28.047Z"
   },
   {
    "duration": 18,
    "start_time": "2022-11-30T21:57:28.059Z"
   },
   {
    "duration": 15,
    "start_time": "2022-11-30T21:57:28.078Z"
   },
   {
    "duration": 11,
    "start_time": "2022-11-30T21:57:28.095Z"
   },
   {
    "duration": 19,
    "start_time": "2022-11-30T21:57:28.108Z"
   },
   {
    "duration": 24,
    "start_time": "2022-11-30T21:57:28.130Z"
   },
   {
    "duration": 21,
    "start_time": "2022-11-30T21:57:28.156Z"
   },
   {
    "duration": 56,
    "start_time": "2022-11-30T21:57:28.178Z"
   },
   {
    "duration": 0,
    "start_time": "2022-11-30T21:57:28.236Z"
   },
   {
    "duration": 0,
    "start_time": "2022-11-30T21:57:28.236Z"
   },
   {
    "duration": 0,
    "start_time": "2022-11-30T21:57:28.238Z"
   },
   {
    "duration": 0,
    "start_time": "2022-11-30T21:57:28.239Z"
   },
   {
    "duration": 0,
    "start_time": "2022-11-30T21:57:28.240Z"
   },
   {
    "duration": 0,
    "start_time": "2022-11-30T21:57:28.241Z"
   },
   {
    "duration": 0,
    "start_time": "2022-11-30T21:57:28.241Z"
   },
   {
    "duration": 0,
    "start_time": "2022-11-30T21:57:28.242Z"
   },
   {
    "duration": 52,
    "start_time": "2022-11-30T21:57:38.301Z"
   },
   {
    "duration": 56,
    "start_time": "2022-11-30T22:00:04.733Z"
   },
   {
    "duration": 38,
    "start_time": "2022-11-30T22:22:01.521Z"
   },
   {
    "duration": 42,
    "start_time": "2022-11-30T22:22:15.277Z"
   },
   {
    "duration": 42,
    "start_time": "2022-11-30T22:22:34.241Z"
   },
   {
    "duration": 6,
    "start_time": "2022-11-30T22:23:33.424Z"
   },
   {
    "duration": 48,
    "start_time": "2022-11-30T22:24:08.202Z"
   },
   {
    "duration": 53,
    "start_time": "2022-11-30T22:24:37.888Z"
   },
   {
    "duration": 47,
    "start_time": "2022-11-30T22:25:41.332Z"
   },
   {
    "duration": 62,
    "start_time": "2022-11-30T22:27:46.973Z"
   },
   {
    "duration": 8,
    "start_time": "2022-11-30T22:27:54.179Z"
   },
   {
    "duration": 4,
    "start_time": "2022-11-30T22:28:12.530Z"
   },
   {
    "duration": 48,
    "start_time": "2022-11-30T22:28:31.209Z"
   },
   {
    "duration": 46,
    "start_time": "2022-11-30T22:28:41.071Z"
   },
   {
    "duration": 4,
    "start_time": "2022-11-30T22:29:12.104Z"
   },
   {
    "duration": 4,
    "start_time": "2022-11-30T22:29:24.358Z"
   },
   {
    "duration": 2,
    "start_time": "2022-11-30T22:29:30.792Z"
   },
   {
    "duration": 2,
    "start_time": "2022-11-30T22:30:25.789Z"
   },
   {
    "duration": 4,
    "start_time": "2022-11-30T22:30:38.623Z"
   },
   {
    "duration": 3,
    "start_time": "2022-11-30T22:30:52.118Z"
   },
   {
    "duration": 9,
    "start_time": "2022-11-30T22:32:11.419Z"
   },
   {
    "duration": 19,
    "start_time": "2022-11-30T22:32:19.035Z"
   },
   {
    "duration": 12,
    "start_time": "2022-11-30T22:35:22.266Z"
   },
   {
    "duration": 3,
    "start_time": "2022-11-30T22:36:28.855Z"
   },
   {
    "duration": 4,
    "start_time": "2022-11-30T22:36:41.111Z"
   },
   {
    "duration": 10,
    "start_time": "2022-11-30T22:36:48.004Z"
   },
   {
    "duration": 16,
    "start_time": "2022-11-30T22:37:04.837Z"
   },
   {
    "duration": 45,
    "start_time": "2022-11-30T22:50:42.607Z"
   },
   {
    "duration": 48,
    "start_time": "2022-11-30T22:50:50.850Z"
   },
   {
    "duration": 62,
    "start_time": "2022-11-30T22:51:15.497Z"
   },
   {
    "duration": 78,
    "start_time": "2022-11-30T22:51:27.524Z"
   },
   {
    "duration": 49,
    "start_time": "2022-11-30T22:52:59.033Z"
   },
   {
    "duration": 80,
    "start_time": "2022-11-30T22:57:57.098Z"
   },
   {
    "duration": 49,
    "start_time": "2022-11-30T23:05:17.495Z"
   },
   {
    "duration": 3,
    "start_time": "2022-11-30T23:05:23.788Z"
   },
   {
    "duration": 441,
    "start_time": "2022-11-30T23:05:36.619Z"
   },
   {
    "duration": 179,
    "start_time": "2022-11-30T23:05:37.062Z"
   },
   {
    "duration": 17,
    "start_time": "2022-11-30T23:05:37.242Z"
   },
   {
    "duration": 32,
    "start_time": "2022-11-30T23:05:37.260Z"
   },
   {
    "duration": 13,
    "start_time": "2022-11-30T23:05:37.294Z"
   },
   {
    "duration": 23,
    "start_time": "2022-11-30T23:05:37.309Z"
   },
   {
    "duration": 29,
    "start_time": "2022-11-30T23:05:37.334Z"
   },
   {
    "duration": 25,
    "start_time": "2022-11-30T23:05:37.365Z"
   },
   {
    "duration": 37,
    "start_time": "2022-11-30T23:05:37.392Z"
   },
   {
    "duration": 19,
    "start_time": "2022-11-30T23:05:37.431Z"
   },
   {
    "duration": 27,
    "start_time": "2022-11-30T23:05:37.452Z"
   },
   {
    "duration": 81,
    "start_time": "2022-11-30T23:05:37.481Z"
   },
   {
    "duration": 85,
    "start_time": "2022-11-30T23:05:37.564Z"
   },
   {
    "duration": 61,
    "start_time": "2022-11-30T23:05:37.651Z"
   },
   {
    "duration": 67,
    "start_time": "2022-11-30T23:05:37.714Z"
   },
   {
    "duration": 66,
    "start_time": "2022-11-30T23:05:37.783Z"
   },
   {
    "duration": 64,
    "start_time": "2022-11-30T23:05:37.851Z"
   },
   {
    "duration": 22,
    "start_time": "2022-11-30T23:05:37.917Z"
   },
   {
    "duration": 10,
    "start_time": "2022-11-30T23:05:37.941Z"
   },
   {
    "duration": 3,
    "start_time": "2022-11-30T23:05:37.953Z"
   },
   {
    "duration": 9,
    "start_time": "2022-11-30T23:05:37.958Z"
   },
   {
    "duration": 15,
    "start_time": "2022-11-30T23:05:37.968Z"
   },
   {
    "duration": 21,
    "start_time": "2022-11-30T23:05:37.984Z"
   },
   {
    "duration": 11,
    "start_time": "2022-11-30T23:05:38.007Z"
   },
   {
    "duration": 7,
    "start_time": "2022-11-30T23:05:38.020Z"
   },
   {
    "duration": 11,
    "start_time": "2022-11-30T23:05:38.029Z"
   },
   {
    "duration": 11,
    "start_time": "2022-11-30T23:05:38.041Z"
   },
   {
    "duration": 18,
    "start_time": "2022-11-30T23:05:38.054Z"
   },
   {
    "duration": 9,
    "start_time": "2022-11-30T23:05:38.073Z"
   },
   {
    "duration": 65,
    "start_time": "2022-11-30T23:05:38.084Z"
   },
   {
    "duration": 0,
    "start_time": "2022-11-30T23:05:38.151Z"
   },
   {
    "duration": 0,
    "start_time": "2022-11-30T23:05:38.151Z"
   },
   {
    "duration": 0,
    "start_time": "2022-11-30T23:05:38.153Z"
   },
   {
    "duration": 0,
    "start_time": "2022-11-30T23:05:38.154Z"
   },
   {
    "duration": 0,
    "start_time": "2022-11-30T23:05:38.155Z"
   },
   {
    "duration": 0,
    "start_time": "2022-11-30T23:05:38.156Z"
   },
   {
    "duration": 0,
    "start_time": "2022-11-30T23:05:38.156Z"
   },
   {
    "duration": 0,
    "start_time": "2022-11-30T23:05:38.157Z"
   },
   {
    "duration": 76,
    "start_time": "2022-11-30T23:07:39.452Z"
   },
   {
    "duration": 14,
    "start_time": "2022-11-30T23:08:09.727Z"
   },
   {
    "duration": 3,
    "start_time": "2022-11-30T23:08:12.190Z"
   },
   {
    "duration": 14,
    "start_time": "2022-11-30T23:08:15.128Z"
   },
   {
    "duration": 13,
    "start_time": "2022-11-30T23:08:34.292Z"
   },
   {
    "duration": 4,
    "start_time": "2022-11-30T23:09:00.557Z"
   },
   {
    "duration": 14,
    "start_time": "2022-11-30T23:09:05.259Z"
   },
   {
    "duration": 4,
    "start_time": "2022-11-30T23:10:38.893Z"
   },
   {
    "duration": 3,
    "start_time": "2022-11-30T23:11:57.407Z"
   },
   {
    "duration": 402,
    "start_time": "2022-11-30T23:12:09.294Z"
   },
   {
    "duration": 180,
    "start_time": "2022-11-30T23:12:09.697Z"
   },
   {
    "duration": 18,
    "start_time": "2022-11-30T23:12:09.879Z"
   },
   {
    "duration": 42,
    "start_time": "2022-11-30T23:12:09.899Z"
   },
   {
    "duration": 4,
    "start_time": "2022-11-30T23:12:09.943Z"
   },
   {
    "duration": 9,
    "start_time": "2022-11-30T23:12:09.948Z"
   },
   {
    "duration": 27,
    "start_time": "2022-11-30T23:12:09.959Z"
   },
   {
    "duration": 25,
    "start_time": "2022-11-30T23:12:09.988Z"
   },
   {
    "duration": 38,
    "start_time": "2022-11-30T23:12:10.015Z"
   },
   {
    "duration": 28,
    "start_time": "2022-11-30T23:12:10.057Z"
   },
   {
    "duration": 27,
    "start_time": "2022-11-30T23:12:10.087Z"
   },
   {
    "duration": 88,
    "start_time": "2022-11-30T23:12:10.116Z"
   },
   {
    "duration": 97,
    "start_time": "2022-11-30T23:12:10.206Z"
   },
   {
    "duration": 75,
    "start_time": "2022-11-30T23:12:10.305Z"
   },
   {
    "duration": 59,
    "start_time": "2022-11-30T23:12:10.382Z"
   },
   {
    "duration": 65,
    "start_time": "2022-11-30T23:12:10.443Z"
   },
   {
    "duration": 80,
    "start_time": "2022-11-30T23:12:10.509Z"
   },
   {
    "duration": 10,
    "start_time": "2022-11-30T23:12:10.591Z"
   },
   {
    "duration": 38,
    "start_time": "2022-11-30T23:12:10.603Z"
   },
   {
    "duration": 9,
    "start_time": "2022-11-30T23:12:10.643Z"
   },
   {
    "duration": 37,
    "start_time": "2022-11-30T23:12:10.654Z"
   },
   {
    "duration": 15,
    "start_time": "2022-11-30T23:12:10.693Z"
   },
   {
    "duration": 8,
    "start_time": "2022-11-30T23:12:10.710Z"
   },
   {
    "duration": 12,
    "start_time": "2022-11-30T23:12:10.720Z"
   },
   {
    "duration": 17,
    "start_time": "2022-11-30T23:12:10.737Z"
   },
   {
    "duration": 14,
    "start_time": "2022-11-30T23:12:10.756Z"
   },
   {
    "duration": 7,
    "start_time": "2022-11-30T23:12:10.772Z"
   },
   {
    "duration": 9,
    "start_time": "2022-11-30T23:12:10.783Z"
   },
   {
    "duration": 17,
    "start_time": "2022-11-30T23:12:10.793Z"
   },
   {
    "duration": 40,
    "start_time": "2022-11-30T23:12:10.812Z"
   },
   {
    "duration": 0,
    "start_time": "2022-11-30T23:12:10.853Z"
   },
   {
    "duration": 0,
    "start_time": "2022-11-30T23:12:10.855Z"
   },
   {
    "duration": 0,
    "start_time": "2022-11-30T23:12:10.855Z"
   },
   {
    "duration": 0,
    "start_time": "2022-11-30T23:12:10.857Z"
   },
   {
    "duration": 1,
    "start_time": "2022-11-30T23:12:10.858Z"
   },
   {
    "duration": 0,
    "start_time": "2022-11-30T23:12:10.859Z"
   },
   {
    "duration": 0,
    "start_time": "2022-11-30T23:12:10.861Z"
   },
   {
    "duration": 0,
    "start_time": "2022-11-30T23:12:10.862Z"
   },
   {
    "duration": 3,
    "start_time": "2022-11-30T23:12:53.173Z"
   },
   {
    "duration": 436,
    "start_time": "2022-11-30T23:13:03.505Z"
   },
   {
    "duration": 169,
    "start_time": "2022-11-30T23:13:03.943Z"
   },
   {
    "duration": 22,
    "start_time": "2022-11-30T23:13:04.114Z"
   },
   {
    "duration": 37,
    "start_time": "2022-11-30T23:13:04.138Z"
   },
   {
    "duration": 30,
    "start_time": "2022-11-30T23:13:04.178Z"
   },
   {
    "duration": 24,
    "start_time": "2022-11-30T23:13:04.210Z"
   },
   {
    "duration": 28,
    "start_time": "2022-11-30T23:13:04.236Z"
   },
   {
    "duration": 33,
    "start_time": "2022-11-30T23:13:04.266Z"
   },
   {
    "duration": 54,
    "start_time": "2022-11-30T23:13:04.300Z"
   },
   {
    "duration": 38,
    "start_time": "2022-11-30T23:13:04.356Z"
   },
   {
    "duration": 50,
    "start_time": "2022-11-30T23:13:04.395Z"
   },
   {
    "duration": 97,
    "start_time": "2022-11-30T23:13:04.447Z"
   },
   {
    "duration": 80,
    "start_time": "2022-11-30T23:13:04.546Z"
   },
   {
    "duration": 65,
    "start_time": "2022-11-30T23:13:04.636Z"
   },
   {
    "duration": 67,
    "start_time": "2022-11-30T23:13:04.703Z"
   },
   {
    "duration": 76,
    "start_time": "2022-11-30T23:13:04.772Z"
   },
   {
    "duration": 60,
    "start_time": "2022-11-30T23:13:04.850Z"
   },
   {
    "duration": 26,
    "start_time": "2022-11-30T23:13:04.911Z"
   },
   {
    "duration": 13,
    "start_time": "2022-11-30T23:13:04.939Z"
   },
   {
    "duration": 10,
    "start_time": "2022-11-30T23:13:04.954Z"
   },
   {
    "duration": 10,
    "start_time": "2022-11-30T23:13:04.965Z"
   },
   {
    "duration": 16,
    "start_time": "2022-11-30T23:13:04.976Z"
   },
   {
    "duration": 12,
    "start_time": "2022-11-30T23:13:04.994Z"
   },
   {
    "duration": 6,
    "start_time": "2022-11-30T23:13:05.008Z"
   },
   {
    "duration": 8,
    "start_time": "2022-11-30T23:13:05.016Z"
   },
   {
    "duration": 12,
    "start_time": "2022-11-30T23:13:05.026Z"
   },
   {
    "duration": 8,
    "start_time": "2022-11-30T23:13:05.040Z"
   },
   {
    "duration": 7,
    "start_time": "2022-11-30T23:13:05.049Z"
   },
   {
    "duration": 11,
    "start_time": "2022-11-30T23:13:05.058Z"
   },
   {
    "duration": 8,
    "start_time": "2022-11-30T23:13:05.071Z"
   },
   {
    "duration": 14,
    "start_time": "2022-11-30T23:13:05.080Z"
   },
   {
    "duration": 10,
    "start_time": "2022-11-30T23:13:05.096Z"
   },
   {
    "duration": 10,
    "start_time": "2022-11-30T23:13:05.107Z"
   },
   {
    "duration": 9,
    "start_time": "2022-11-30T23:13:05.119Z"
   },
   {
    "duration": 8,
    "start_time": "2022-11-30T23:13:05.130Z"
   },
   {
    "duration": 7,
    "start_time": "2022-11-30T23:13:05.139Z"
   },
   {
    "duration": 27,
    "start_time": "2022-11-30T23:13:05.147Z"
   },
   {
    "duration": 8,
    "start_time": "2022-11-30T23:13:05.176Z"
   },
   {
    "duration": 4,
    "start_time": "2022-11-30T23:13:26.667Z"
   },
   {
    "duration": 5,
    "start_time": "2022-11-30T23:15:40.124Z"
   },
   {
    "duration": 61,
    "start_time": "2022-11-30T23:16:14.806Z"
   },
   {
    "duration": 9,
    "start_time": "2022-11-30T23:17:17.980Z"
   },
   {
    "duration": 3,
    "start_time": "2022-11-30T23:17:19.330Z"
   },
   {
    "duration": 3,
    "start_time": "2022-11-30T23:17:20.380Z"
   },
   {
    "duration": 10,
    "start_time": "2022-11-30T23:20:29.456Z"
   },
   {
    "duration": 6,
    "start_time": "2022-11-30T23:21:15.923Z"
   },
   {
    "duration": 8,
    "start_time": "2022-11-30T23:21:23.784Z"
   },
   {
    "duration": 4,
    "start_time": "2022-11-30T23:22:21.688Z"
   },
   {
    "duration": 6,
    "start_time": "2022-11-30T23:23:52.988Z"
   },
   {
    "duration": 10,
    "start_time": "2022-11-30T23:23:59.183Z"
   },
   {
    "duration": 10,
    "start_time": "2022-11-30T23:24:01.224Z"
   },
   {
    "duration": 8,
    "start_time": "2022-11-30T23:24:18.622Z"
   },
   {
    "duration": 7,
    "start_time": "2022-11-30T23:27:43.504Z"
   },
   {
    "duration": 27,
    "start_time": "2022-11-30T23:28:41.856Z"
   },
   {
    "duration": 4,
    "start_time": "2022-11-30T23:29:07.290Z"
   },
   {
    "duration": 21,
    "start_time": "2022-11-30T23:29:14.284Z"
   },
   {
    "duration": 6,
    "start_time": "2022-11-30T23:29:32.686Z"
   },
   {
    "duration": 4,
    "start_time": "2022-11-30T23:30:01.104Z"
   },
   {
    "duration": 19,
    "start_time": "2022-11-30T23:30:08.439Z"
   },
   {
    "duration": 16,
    "start_time": "2022-11-30T23:34:29.520Z"
   },
   {
    "duration": 21,
    "start_time": "2022-11-30T23:36:21.270Z"
   },
   {
    "duration": 17,
    "start_time": "2022-11-30T23:37:37.473Z"
   },
   {
    "duration": 15,
    "start_time": "2022-11-30T23:37:38.470Z"
   },
   {
    "duration": 19,
    "start_time": "2022-11-30T23:37:39.266Z"
   },
   {
    "duration": 17,
    "start_time": "2022-11-30T23:37:40.219Z"
   },
   {
    "duration": 420,
    "start_time": "2022-11-30T23:37:46.920Z"
   },
   {
    "duration": 172,
    "start_time": "2022-11-30T23:37:47.342Z"
   },
   {
    "duration": 16,
    "start_time": "2022-11-30T23:37:47.516Z"
   },
   {
    "duration": 31,
    "start_time": "2022-11-30T23:37:47.535Z"
   },
   {
    "duration": 5,
    "start_time": "2022-11-30T23:37:47.568Z"
   },
   {
    "duration": 16,
    "start_time": "2022-11-30T23:37:47.575Z"
   },
   {
    "duration": 16,
    "start_time": "2022-11-30T23:37:47.593Z"
   },
   {
    "duration": 9,
    "start_time": "2022-11-30T23:37:47.611Z"
   },
   {
    "duration": 30,
    "start_time": "2022-11-30T23:37:47.634Z"
   },
   {
    "duration": 28,
    "start_time": "2022-11-30T23:37:47.666Z"
   },
   {
    "duration": 27,
    "start_time": "2022-11-30T23:37:47.696Z"
   },
   {
    "duration": 86,
    "start_time": "2022-11-30T23:37:47.725Z"
   },
   {
    "duration": 78,
    "start_time": "2022-11-30T23:37:47.812Z"
   },
   {
    "duration": 69,
    "start_time": "2022-11-30T23:37:47.893Z"
   },
   {
    "duration": 70,
    "start_time": "2022-11-30T23:37:47.964Z"
   },
   {
    "duration": 68,
    "start_time": "2022-11-30T23:37:48.037Z"
   },
   {
    "duration": 73,
    "start_time": "2022-11-30T23:37:48.107Z"
   },
   {
    "duration": 11,
    "start_time": "2022-11-30T23:37:48.182Z"
   },
   {
    "duration": 27,
    "start_time": "2022-11-30T23:37:48.195Z"
   },
   {
    "duration": 13,
    "start_time": "2022-11-30T23:37:48.224Z"
   },
   {
    "duration": 57,
    "start_time": "2022-11-30T23:37:48.239Z"
   },
   {
    "duration": 14,
    "start_time": "2022-11-30T23:37:48.298Z"
   },
   {
    "duration": 24,
    "start_time": "2022-11-30T23:37:48.314Z"
   },
   {
    "duration": 21,
    "start_time": "2022-11-30T23:37:48.339Z"
   },
   {
    "duration": 19,
    "start_time": "2022-11-30T23:37:48.362Z"
   },
   {
    "duration": 26,
    "start_time": "2022-11-30T23:37:48.383Z"
   },
   {
    "duration": 9,
    "start_time": "2022-11-30T23:37:48.411Z"
   },
   {
    "duration": 40,
    "start_time": "2022-11-30T23:37:48.421Z"
   },
   {
    "duration": 26,
    "start_time": "2022-11-30T23:37:48.463Z"
   },
   {
    "duration": 13,
    "start_time": "2022-11-30T23:37:48.490Z"
   },
   {
    "duration": 11,
    "start_time": "2022-11-30T23:37:48.505Z"
   },
   {
    "duration": 7,
    "start_time": "2022-11-30T23:37:48.517Z"
   },
   {
    "duration": 15,
    "start_time": "2022-11-30T23:37:48.526Z"
   },
   {
    "duration": 8,
    "start_time": "2022-11-30T23:37:48.543Z"
   },
   {
    "duration": 26,
    "start_time": "2022-11-30T23:37:48.553Z"
   },
   {
    "duration": 11,
    "start_time": "2022-11-30T23:37:48.580Z"
   },
   {
    "duration": 7,
    "start_time": "2022-11-30T23:37:48.593Z"
   },
   {
    "duration": 7,
    "start_time": "2022-11-30T23:37:48.602Z"
   },
   {
    "duration": 47,
    "start_time": "2022-11-30T23:40:18.484Z"
   },
   {
    "duration": 64,
    "start_time": "2022-11-30T23:41:31.432Z"
   },
   {
    "duration": 8,
    "start_time": "2022-11-30T23:41:51.182Z"
   },
   {
    "duration": 10,
    "start_time": "2022-11-30T23:42:46.760Z"
   },
   {
    "duration": 8,
    "start_time": "2022-11-30T23:50:51.213Z"
   },
   {
    "duration": 9,
    "start_time": "2022-11-30T23:51:00.762Z"
   },
   {
    "duration": 49,
    "start_time": "2022-11-30T23:58:58.156Z"
   },
   {
    "duration": 8,
    "start_time": "2022-12-01T00:01:12.224Z"
   },
   {
    "duration": 50,
    "start_time": "2022-12-01T00:01:43.192Z"
   },
   {
    "duration": 5,
    "start_time": "2022-12-01T00:01:58.843Z"
   },
   {
    "duration": 12,
    "start_time": "2022-12-01T00:12:33.654Z"
   },
   {
    "duration": 11,
    "start_time": "2022-12-01T00:12:39.637Z"
   },
   {
    "duration": 12,
    "start_time": "2022-12-01T00:12:51.685Z"
   },
   {
    "duration": 14,
    "start_time": "2022-12-01T00:12:54.784Z"
   },
   {
    "duration": 9,
    "start_time": "2022-12-01T00:16:34.102Z"
   },
   {
    "duration": 61,
    "start_time": "2022-12-01T00:31:09.487Z"
   },
   {
    "duration": 5,
    "start_time": "2022-12-01T00:31:18.667Z"
   },
   {
    "duration": 4,
    "start_time": "2022-12-01T00:33:03.254Z"
   },
   {
    "duration": 5,
    "start_time": "2022-12-01T00:35:40.946Z"
   },
   {
    "duration": 4,
    "start_time": "2022-12-01T00:38:17.256Z"
   },
   {
    "duration": 4,
    "start_time": "2022-12-01T00:38:38.423Z"
   },
   {
    "duration": 4,
    "start_time": "2022-12-01T00:42:46.092Z"
   },
   {
    "duration": 4,
    "start_time": "2022-12-01T00:48:57.753Z"
   },
   {
    "duration": 18,
    "start_time": "2022-12-01T00:53:54.705Z"
   },
   {
    "duration": 19,
    "start_time": "2022-12-01T00:54:03.482Z"
   },
   {
    "duration": 12,
    "start_time": "2022-12-01T00:55:43.234Z"
   },
   {
    "duration": 18,
    "start_time": "2022-12-01T00:56:26.303Z"
   },
   {
    "duration": 12,
    "start_time": "2022-12-01T00:57:01.156Z"
   },
   {
    "duration": 11,
    "start_time": "2022-12-01T00:59:02.036Z"
   },
   {
    "duration": 17,
    "start_time": "2022-12-01T00:59:06.988Z"
   },
   {
    "duration": 10,
    "start_time": "2022-12-01T01:05:00.002Z"
   },
   {
    "duration": 9,
    "start_time": "2022-12-01T01:05:33.519Z"
   },
   {
    "duration": 8,
    "start_time": "2022-12-01T01:06:47.967Z"
   },
   {
    "duration": 8,
    "start_time": "2022-12-01T01:06:58.203Z"
   },
   {
    "duration": 8,
    "start_time": "2022-12-01T01:07:45.651Z"
   },
   {
    "duration": 9,
    "start_time": "2022-12-01T01:09:01.935Z"
   },
   {
    "duration": 8,
    "start_time": "2022-12-01T01:11:52.554Z"
   },
   {
    "duration": 9,
    "start_time": "2022-12-01T01:13:10.186Z"
   },
   {
    "duration": 8,
    "start_time": "2022-12-01T01:13:51.478Z"
   },
   {
    "duration": 8,
    "start_time": "2022-12-01T01:14:58.937Z"
   },
   {
    "duration": 8,
    "start_time": "2022-12-01T01:15:29.915Z"
   },
   {
    "duration": 8,
    "start_time": "2022-12-01T01:15:41.054Z"
   },
   {
    "duration": 2,
    "start_time": "2022-12-01T01:17:38.129Z"
   },
   {
    "duration": 7,
    "start_time": "2022-12-01T01:17:41.850Z"
   },
   {
    "duration": 399,
    "start_time": "2022-12-01T01:17:47.956Z"
   },
   {
    "duration": 167,
    "start_time": "2022-12-01T01:17:48.357Z"
   },
   {
    "duration": 17,
    "start_time": "2022-12-01T01:17:48.526Z"
   },
   {
    "duration": 30,
    "start_time": "2022-12-01T01:17:48.544Z"
   },
   {
    "duration": 3,
    "start_time": "2022-12-01T01:17:48.576Z"
   },
   {
    "duration": 12,
    "start_time": "2022-12-01T01:17:48.580Z"
   },
   {
    "duration": 32,
    "start_time": "2022-12-01T01:17:48.594Z"
   },
   {
    "duration": 15,
    "start_time": "2022-12-01T01:17:48.628Z"
   },
   {
    "duration": 34,
    "start_time": "2022-12-01T01:17:48.645Z"
   },
   {
    "duration": 22,
    "start_time": "2022-12-01T01:17:48.681Z"
   },
   {
    "duration": 29,
    "start_time": "2022-12-01T01:17:48.704Z"
   },
   {
    "duration": 80,
    "start_time": "2022-12-01T01:17:48.735Z"
   },
   {
    "duration": 96,
    "start_time": "2022-12-01T01:17:48.817Z"
   },
   {
    "duration": 70,
    "start_time": "2022-12-01T01:17:48.917Z"
   },
   {
    "duration": 67,
    "start_time": "2022-12-01T01:17:48.989Z"
   },
   {
    "duration": 81,
    "start_time": "2022-12-01T01:17:49.058Z"
   },
   {
    "duration": 59,
    "start_time": "2022-12-01T01:17:49.141Z"
   },
   {
    "duration": 11,
    "start_time": "2022-12-01T01:17:49.201Z"
   },
   {
    "duration": 28,
    "start_time": "2022-12-01T01:17:49.214Z"
   },
   {
    "duration": 12,
    "start_time": "2022-12-01T01:17:49.244Z"
   },
   {
    "duration": 30,
    "start_time": "2022-12-01T01:17:49.258Z"
   },
   {
    "duration": 18,
    "start_time": "2022-12-01T01:17:49.289Z"
   },
   {
    "duration": 15,
    "start_time": "2022-12-01T01:17:49.309Z"
   },
   {
    "duration": 22,
    "start_time": "2022-12-01T01:17:49.326Z"
   },
   {
    "duration": 16,
    "start_time": "2022-12-01T01:17:49.350Z"
   },
   {
    "duration": 19,
    "start_time": "2022-12-01T01:17:49.368Z"
   },
   {
    "duration": 11,
    "start_time": "2022-12-01T01:17:49.389Z"
   },
   {
    "duration": 18,
    "start_time": "2022-12-01T01:17:49.402Z"
   },
   {
    "duration": 21,
    "start_time": "2022-12-01T01:17:49.422Z"
   },
   {
    "duration": 19,
    "start_time": "2022-12-01T01:17:49.445Z"
   },
   {
    "duration": 34,
    "start_time": "2022-12-01T01:17:49.465Z"
   },
   {
    "duration": 22,
    "start_time": "2022-12-01T01:17:49.501Z"
   },
   {
    "duration": 22,
    "start_time": "2022-12-01T01:17:49.525Z"
   },
   {
    "duration": 12,
    "start_time": "2022-12-01T01:17:49.548Z"
   },
   {
    "duration": 13,
    "start_time": "2022-12-01T01:17:49.562Z"
   },
   {
    "duration": 19,
    "start_time": "2022-12-01T01:17:49.577Z"
   },
   {
    "duration": 17,
    "start_time": "2022-12-01T01:17:49.598Z"
   },
   {
    "duration": 14,
    "start_time": "2022-12-01T01:17:49.617Z"
   },
   {
    "duration": 9,
    "start_time": "2022-12-01T01:18:14.987Z"
   },
   {
    "duration": 9,
    "start_time": "2022-12-01T01:19:09.245Z"
   },
   {
    "duration": 5,
    "start_time": "2022-12-01T01:19:55.481Z"
   },
   {
    "duration": 4,
    "start_time": "2022-12-01T01:20:20.158Z"
   },
   {
    "duration": 61,
    "start_time": "2022-12-01T01:22:31.795Z"
   },
   {
    "duration": 372,
    "start_time": "2022-12-01T01:22:55.974Z"
   },
   {
    "duration": 169,
    "start_time": "2022-12-01T01:22:56.348Z"
   },
   {
    "duration": 19,
    "start_time": "2022-12-01T01:22:56.519Z"
   },
   {
    "duration": 31,
    "start_time": "2022-12-01T01:22:56.541Z"
   },
   {
    "duration": 4,
    "start_time": "2022-12-01T01:22:56.574Z"
   },
   {
    "duration": 12,
    "start_time": "2022-12-01T01:22:56.579Z"
   },
   {
    "duration": 13,
    "start_time": "2022-12-01T01:22:56.593Z"
   },
   {
    "duration": 29,
    "start_time": "2022-12-01T01:22:56.608Z"
   },
   {
    "duration": 59,
    "start_time": "2022-12-01T01:22:56.639Z"
   },
   {
    "duration": 29,
    "start_time": "2022-12-01T01:22:56.702Z"
   },
   {
    "duration": 28,
    "start_time": "2022-12-01T01:22:56.734Z"
   },
   {
    "duration": 90,
    "start_time": "2022-12-01T01:22:56.764Z"
   },
   {
    "duration": 82,
    "start_time": "2022-12-01T01:22:56.855Z"
   },
   {
    "duration": 60,
    "start_time": "2022-12-01T01:22:56.939Z"
   },
   {
    "duration": 68,
    "start_time": "2022-12-01T01:22:57.000Z"
   },
   {
    "duration": 57,
    "start_time": "2022-12-01T01:22:57.069Z"
   },
   {
    "duration": 57,
    "start_time": "2022-12-01T01:22:57.136Z"
   },
   {
    "duration": 10,
    "start_time": "2022-12-01T01:22:57.194Z"
   },
   {
    "duration": 9,
    "start_time": "2022-12-01T01:22:57.206Z"
   },
   {
    "duration": 4,
    "start_time": "2022-12-01T01:22:57.236Z"
   },
   {
    "duration": 20,
    "start_time": "2022-12-01T01:22:57.242Z"
   },
   {
    "duration": 16,
    "start_time": "2022-12-01T01:22:57.264Z"
   },
   {
    "duration": 14,
    "start_time": "2022-12-01T01:22:57.282Z"
   },
   {
    "duration": 38,
    "start_time": "2022-12-01T01:22:57.298Z"
   },
   {
    "duration": 17,
    "start_time": "2022-12-01T01:22:57.338Z"
   },
   {
    "duration": 15,
    "start_time": "2022-12-01T01:22:57.357Z"
   },
   {
    "duration": 4,
    "start_time": "2022-12-01T01:22:57.374Z"
   },
   {
    "duration": 12,
    "start_time": "2022-12-01T01:22:57.381Z"
   },
   {
    "duration": 9,
    "start_time": "2022-12-01T01:22:57.394Z"
   },
   {
    "duration": 32,
    "start_time": "2022-12-01T01:22:57.404Z"
   },
   {
    "duration": 25,
    "start_time": "2022-12-01T01:22:57.438Z"
   },
   {
    "duration": 11,
    "start_time": "2022-12-01T01:22:57.464Z"
   },
   {
    "duration": 20,
    "start_time": "2022-12-01T01:22:57.477Z"
   },
   {
    "duration": 10,
    "start_time": "2022-12-01T01:22:57.499Z"
   },
   {
    "duration": 25,
    "start_time": "2022-12-01T01:22:57.511Z"
   },
   {
    "duration": 4,
    "start_time": "2022-12-01T01:22:57.538Z"
   },
   {
    "duration": 64,
    "start_time": "2022-12-01T01:22:57.543Z"
   },
   {
    "duration": 0,
    "start_time": "2022-12-01T01:22:57.608Z"
   },
   {
    "duration": 8,
    "start_time": "2022-12-01T01:23:29.123Z"
   },
   {
    "duration": 7,
    "start_time": "2022-12-01T01:23:34.161Z"
   },
   {
    "duration": 3,
    "start_time": "2022-12-01T01:24:06.113Z"
   },
   {
    "duration": 8,
    "start_time": "2022-12-01T01:24:12.115Z"
   },
   {
    "duration": 3,
    "start_time": "2022-12-01T01:24:24.830Z"
   },
   {
    "duration": 7,
    "start_time": "2022-12-01T01:25:11.761Z"
   },
   {
    "duration": 7,
    "start_time": "2022-12-01T01:25:18.044Z"
   },
   {
    "duration": 366,
    "start_time": "2022-12-01T01:25:27.462Z"
   },
   {
    "duration": 174,
    "start_time": "2022-12-01T01:25:27.831Z"
   },
   {
    "duration": 18,
    "start_time": "2022-12-01T01:25:28.008Z"
   },
   {
    "duration": 33,
    "start_time": "2022-12-01T01:25:28.027Z"
   },
   {
    "duration": 3,
    "start_time": "2022-12-01T01:25:28.062Z"
   },
   {
    "duration": 8,
    "start_time": "2022-12-01T01:25:28.066Z"
   },
   {
    "duration": 23,
    "start_time": "2022-12-01T01:25:28.075Z"
   },
   {
    "duration": 25,
    "start_time": "2022-12-01T01:25:28.099Z"
   },
   {
    "duration": 43,
    "start_time": "2022-12-01T01:25:28.126Z"
   },
   {
    "duration": 31,
    "start_time": "2022-12-01T01:25:28.171Z"
   },
   {
    "duration": 34,
    "start_time": "2022-12-01T01:25:28.203Z"
   },
   {
    "duration": 64,
    "start_time": "2022-12-01T01:25:28.239Z"
   },
   {
    "duration": 87,
    "start_time": "2022-12-01T01:25:28.305Z"
   },
   {
    "duration": 62,
    "start_time": "2022-12-01T01:25:28.395Z"
   },
   {
    "duration": 48,
    "start_time": "2022-12-01T01:25:28.459Z"
   },
   {
    "duration": 67,
    "start_time": "2022-12-01T01:25:28.509Z"
   },
   {
    "duration": 59,
    "start_time": "2022-12-01T01:25:28.577Z"
   },
   {
    "duration": 10,
    "start_time": "2022-12-01T01:25:28.638Z"
   },
   {
    "duration": 10,
    "start_time": "2022-12-01T01:25:28.649Z"
   },
   {
    "duration": 3,
    "start_time": "2022-12-01T01:25:28.661Z"
   },
   {
    "duration": 31,
    "start_time": "2022-12-01T01:25:28.665Z"
   },
   {
    "duration": 13,
    "start_time": "2022-12-01T01:25:28.698Z"
   },
   {
    "duration": 33,
    "start_time": "2022-12-01T01:25:28.712Z"
   },
   {
    "duration": 13,
    "start_time": "2022-12-01T01:25:28.746Z"
   },
   {
    "duration": 17,
    "start_time": "2022-12-01T01:25:28.761Z"
   },
   {
    "duration": 16,
    "start_time": "2022-12-01T01:25:28.780Z"
   },
   {
    "duration": 37,
    "start_time": "2022-12-01T01:25:28.798Z"
   },
   {
    "duration": 12,
    "start_time": "2022-12-01T01:25:28.837Z"
   },
   {
    "duration": 10,
    "start_time": "2022-12-01T01:25:28.850Z"
   },
   {
    "duration": 5,
    "start_time": "2022-12-01T01:25:28.861Z"
   },
   {
    "duration": 23,
    "start_time": "2022-12-01T01:25:28.868Z"
   },
   {
    "duration": 12,
    "start_time": "2022-12-01T01:25:28.893Z"
   },
   {
    "duration": 40,
    "start_time": "2022-12-01T01:25:28.907Z"
   },
   {
    "duration": 10,
    "start_time": "2022-12-01T01:25:28.949Z"
   },
   {
    "duration": 8,
    "start_time": "2022-12-01T01:25:28.961Z"
   },
   {
    "duration": 9,
    "start_time": "2022-12-01T01:25:28.970Z"
   },
   {
    "duration": 81,
    "start_time": "2022-12-01T01:25:28.981Z"
   },
   {
    "duration": 0,
    "start_time": "2022-12-01T01:25:29.063Z"
   },
   {
    "duration": 8,
    "start_time": "2022-12-01T01:29:57.564Z"
   },
   {
    "duration": 6,
    "start_time": "2022-12-01T01:30:45.937Z"
   },
   {
    "duration": 373,
    "start_time": "2022-12-01T01:30:55.396Z"
   },
   {
    "duration": 172,
    "start_time": "2022-12-01T01:30:55.770Z"
   },
   {
    "duration": 17,
    "start_time": "2022-12-01T01:30:55.944Z"
   },
   {
    "duration": 38,
    "start_time": "2022-12-01T01:30:55.962Z"
   },
   {
    "duration": 3,
    "start_time": "2022-12-01T01:30:56.003Z"
   },
   {
    "duration": 11,
    "start_time": "2022-12-01T01:30:56.007Z"
   },
   {
    "duration": 36,
    "start_time": "2022-12-01T01:30:56.019Z"
   },
   {
    "duration": 38,
    "start_time": "2022-12-01T01:30:56.057Z"
   },
   {
    "duration": 42,
    "start_time": "2022-12-01T01:30:56.096Z"
   },
   {
    "duration": 20,
    "start_time": "2022-12-01T01:30:56.139Z"
   },
   {
    "duration": 36,
    "start_time": "2022-12-01T01:30:56.161Z"
   },
   {
    "duration": 97,
    "start_time": "2022-12-01T01:30:56.199Z"
   },
   {
    "duration": 85,
    "start_time": "2022-12-01T01:30:56.298Z"
   },
   {
    "duration": 73,
    "start_time": "2022-12-01T01:30:56.386Z"
   },
   {
    "duration": 53,
    "start_time": "2022-12-01T01:30:56.460Z"
   },
   {
    "duration": 72,
    "start_time": "2022-12-01T01:30:56.515Z"
   },
   {
    "duration": 65,
    "start_time": "2022-12-01T01:30:56.588Z"
   },
   {
    "duration": 13,
    "start_time": "2022-12-01T01:30:56.655Z"
   },
   {
    "duration": 33,
    "start_time": "2022-12-01T01:30:56.669Z"
   },
   {
    "duration": 13,
    "start_time": "2022-12-01T01:30:56.704Z"
   },
   {
    "duration": 45,
    "start_time": "2022-12-01T01:30:56.720Z"
   },
   {
    "duration": 20,
    "start_time": "2022-12-01T01:30:56.768Z"
   },
   {
    "duration": 15,
    "start_time": "2022-12-01T01:30:56.789Z"
   },
   {
    "duration": 15,
    "start_time": "2022-12-01T01:30:56.806Z"
   },
   {
    "duration": 23,
    "start_time": "2022-12-01T01:30:56.823Z"
   },
   {
    "duration": 15,
    "start_time": "2022-12-01T01:30:56.848Z"
   },
   {
    "duration": 4,
    "start_time": "2022-12-01T01:30:56.865Z"
   },
   {
    "duration": 15,
    "start_time": "2022-12-01T01:30:56.870Z"
   },
   {
    "duration": 11,
    "start_time": "2022-12-01T01:30:56.887Z"
   },
   {
    "duration": 5,
    "start_time": "2022-12-01T01:30:56.900Z"
   },
   {
    "duration": 45,
    "start_time": "2022-12-01T01:30:56.907Z"
   },
   {
    "duration": 13,
    "start_time": "2022-12-01T01:30:56.954Z"
   },
   {
    "duration": 21,
    "start_time": "2022-12-01T01:30:56.969Z"
   },
   {
    "duration": 14,
    "start_time": "2022-12-01T01:30:56.992Z"
   },
   {
    "duration": 9,
    "start_time": "2022-12-01T01:30:57.035Z"
   },
   {
    "duration": 7,
    "start_time": "2022-12-01T01:30:57.045Z"
   },
   {
    "duration": 72,
    "start_time": "2022-12-01T01:30:57.053Z"
   },
   {
    "duration": 0,
    "start_time": "2022-12-01T01:30:57.135Z"
   },
   {
    "duration": 8,
    "start_time": "2022-12-01T01:31:16.661Z"
   },
   {
    "duration": 385,
    "start_time": "2022-12-01T01:31:22.643Z"
   },
   {
    "duration": 159,
    "start_time": "2022-12-01T01:31:23.030Z"
   },
   {
    "duration": 16,
    "start_time": "2022-12-01T01:31:23.191Z"
   },
   {
    "duration": 38,
    "start_time": "2022-12-01T01:31:23.209Z"
   },
   {
    "duration": 2,
    "start_time": "2022-12-01T01:31:23.249Z"
   },
   {
    "duration": 9,
    "start_time": "2022-12-01T01:31:23.252Z"
   },
   {
    "duration": 14,
    "start_time": "2022-12-01T01:31:23.263Z"
   },
   {
    "duration": 11,
    "start_time": "2022-12-01T01:31:23.279Z"
   },
   {
    "duration": 27,
    "start_time": "2022-12-01T01:31:23.291Z"
   },
   {
    "duration": 31,
    "start_time": "2022-12-01T01:31:23.320Z"
   },
   {
    "duration": 23,
    "start_time": "2022-12-01T01:31:23.352Z"
   },
   {
    "duration": 74,
    "start_time": "2022-12-01T01:31:23.377Z"
   },
   {
    "duration": 88,
    "start_time": "2022-12-01T01:31:23.453Z"
   },
   {
    "duration": 59,
    "start_time": "2022-12-01T01:31:23.542Z"
   },
   {
    "duration": 61,
    "start_time": "2022-12-01T01:31:23.603Z"
   },
   {
    "duration": 53,
    "start_time": "2022-12-01T01:31:23.666Z"
   },
   {
    "duration": 65,
    "start_time": "2022-12-01T01:31:23.720Z"
   },
   {
    "duration": 9,
    "start_time": "2022-12-01T01:31:23.787Z"
   },
   {
    "duration": 9,
    "start_time": "2022-12-01T01:31:23.798Z"
   },
   {
    "duration": 5,
    "start_time": "2022-12-01T01:31:23.809Z"
   },
   {
    "duration": 33,
    "start_time": "2022-12-01T01:31:23.816Z"
   },
   {
    "duration": 13,
    "start_time": "2022-12-01T01:31:23.850Z"
   },
   {
    "duration": 17,
    "start_time": "2022-12-01T01:31:23.865Z"
   },
   {
    "duration": 12,
    "start_time": "2022-12-01T01:31:23.884Z"
   },
   {
    "duration": 38,
    "start_time": "2022-12-01T01:31:23.897Z"
   },
   {
    "duration": 14,
    "start_time": "2022-12-01T01:31:23.937Z"
   },
   {
    "duration": 3,
    "start_time": "2022-12-01T01:31:23.953Z"
   },
   {
    "duration": 13,
    "start_time": "2022-12-01T01:31:23.959Z"
   },
   {
    "duration": 8,
    "start_time": "2022-12-01T01:31:23.974Z"
   },
   {
    "duration": 9,
    "start_time": "2022-12-01T01:31:23.984Z"
   },
   {
    "duration": 27,
    "start_time": "2022-12-01T01:31:23.995Z"
   },
   {
    "duration": 23,
    "start_time": "2022-12-01T01:31:24.023Z"
   },
   {
    "duration": 14,
    "start_time": "2022-12-01T01:31:24.047Z"
   },
   {
    "duration": 11,
    "start_time": "2022-12-01T01:31:24.062Z"
   },
   {
    "duration": 9,
    "start_time": "2022-12-01T01:31:24.074Z"
   },
   {
    "duration": 4,
    "start_time": "2022-12-01T01:31:24.084Z"
   },
   {
    "duration": 88,
    "start_time": "2022-12-01T01:31:24.090Z"
   },
   {
    "duration": 0,
    "start_time": "2022-12-01T01:31:24.180Z"
   },
   {
    "duration": 3,
    "start_time": "2022-12-01T01:33:28.576Z"
   },
   {
    "duration": 8,
    "start_time": "2022-12-01T01:34:51.173Z"
   },
   {
    "duration": 7,
    "start_time": "2022-12-01T01:35:44.591Z"
   },
   {
    "duration": 7,
    "start_time": "2022-12-01T01:36:23.990Z"
   }
  ],
  "colab": {
   "collapsed_sections": [
    "E0vqbgi9ay0H",
    "VUC88oWjTJw2"
   ],
   "name": "automatization_template_upd4.ipynb",
   "provenance": []
  },
  "kernelspec": {
   "display_name": "Python 3 (ipykernel)",
   "language": "python",
   "name": "python3"
  },
  "language_info": {
   "codemirror_mode": {
    "name": "ipython",
    "version": 3
   },
   "file_extension": ".py",
   "mimetype": "text/x-python",
   "name": "python",
   "nbconvert_exporter": "python",
   "pygments_lexer": "ipython3",
   "version": "3.9.13"
  },
  "toc": {
   "base_numbering": 1,
   "nav_menu": {
    "height": "215px",
    "width": "403px"
   },
   "number_sections": true,
   "sideBar": true,
   "skip_h1_title": true,
   "title_cell": "Table of Contents",
   "title_sidebar": "Contents",
   "toc_cell": false,
   "toc_position": {
    "height": "calc(100% - 180px)",
    "left": "10px",
    "top": "150px",
    "width": "285.825px"
   },
   "toc_section_display": true,
   "toc_window_display": false
  }
 },
 "nbformat": 4,
 "nbformat_minor": 1
}
