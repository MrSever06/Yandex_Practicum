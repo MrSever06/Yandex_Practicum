{
 "cells": [
  {
   "cell_type": "markdown",
   "id": "01c89392",
   "metadata": {},
   "source": [
    "## Задание:\n",
    "Необходимо рассмотреть подготовленный список гипотез для увеличения выручки.\n",
    "\n",
    "Приоритизировать гипотезы, запустить A/B-тест и проанализировать результаты. "
   ]
  },
  {
   "cell_type": "markdown",
   "id": "093e443b",
   "metadata": {},
   "source": [
    "**План работы:**\n",
    "1. Приоритезация гипотез \n",
    "2. Ознокомление с данными \n",
    "3. Построение метрик \n",
    "4. Анализ А/В теста\n",
    "5. Рекомендации для компании"
   ]
  },
  {
   "cell_type": "code",
   "execution_count": 1,
   "id": "1857c89b",
   "metadata": {},
   "outputs": [],
   "source": [
    "#импортируем библиотеки\n",
    "import pandas as pd\n",
    "import matplotlib.pyplot as plt\n",
    "import numpy as np\n",
    "from scipy import stats"
   ]
  },
  {
   "cell_type": "markdown",
   "id": "548f4d9a",
   "metadata": {},
   "source": [
    "# 1. Приоритизация гипотез"
   ]
  },
  {
   "cell_type": "code",
   "execution_count": 2,
   "id": "3ca1ba1d",
   "metadata": {},
   "outputs": [],
   "source": [
    "hypothesis = pd.read_csv('https://code.s3.yandex.net/datasets/hypothesis.csv')"
   ]
  },
  {
   "cell_type": "code",
   "execution_count": 3,
   "id": "24a1470d",
   "metadata": {},
   "outputs": [
    {
     "data": {
      "text/html": [
       "<div>\n",
       "<style scoped>\n",
       "    .dataframe tbody tr th:only-of-type {\n",
       "        vertical-align: middle;\n",
       "    }\n",
       "\n",
       "    .dataframe tbody tr th {\n",
       "        vertical-align: top;\n",
       "    }\n",
       "\n",
       "    .dataframe thead th {\n",
       "        text-align: right;\n",
       "    }\n",
       "</style>\n",
       "<table border=\"1\" class=\"dataframe\">\n",
       "  <thead>\n",
       "    <tr style=\"text-align: right;\">\n",
       "      <th></th>\n",
       "      <th>Hypothesis</th>\n",
       "      <th>Reach</th>\n",
       "      <th>Impact</th>\n",
       "      <th>Confidence</th>\n",
       "      <th>Efforts</th>\n",
       "    </tr>\n",
       "  </thead>\n",
       "  <tbody>\n",
       "    <tr>\n",
       "      <th>0</th>\n",
       "      <td>Добавить два новых канала привлечения трафика, что позволит привлекать на 30% больше пользователей</td>\n",
       "      <td>3</td>\n",
       "      <td>10</td>\n",
       "      <td>8</td>\n",
       "      <td>6</td>\n",
       "    </tr>\n",
       "    <tr>\n",
       "      <th>1</th>\n",
       "      <td>Запустить собственную службу доставки, что сократит срок доставки заказов</td>\n",
       "      <td>2</td>\n",
       "      <td>5</td>\n",
       "      <td>4</td>\n",
       "      <td>10</td>\n",
       "    </tr>\n",
       "    <tr>\n",
       "      <th>2</th>\n",
       "      <td>Добавить блоки рекомендаций товаров на сайт интернет магазина, чтобы повысить конверсию и средни...</td>\n",
       "      <td>8</td>\n",
       "      <td>3</td>\n",
       "      <td>7</td>\n",
       "      <td>3</td>\n",
       "    </tr>\n",
       "    <tr>\n",
       "      <th>3</th>\n",
       "      <td>Изменить структура категорий, что увеличит конверсию, т.к. пользователи быстрее найдут нужный товар</td>\n",
       "      <td>8</td>\n",
       "      <td>3</td>\n",
       "      <td>3</td>\n",
       "      <td>8</td>\n",
       "    </tr>\n",
       "    <tr>\n",
       "      <th>4</th>\n",
       "      <td>Изменить цвет фона главной страницы, чтобы увеличить вовлеченность пользователей</td>\n",
       "      <td>3</td>\n",
       "      <td>1</td>\n",
       "      <td>1</td>\n",
       "      <td>1</td>\n",
       "    </tr>\n",
       "    <tr>\n",
       "      <th>5</th>\n",
       "      <td>Добавить страницу отзывов клиентов о магазине, что позволит увеличить количество заказов</td>\n",
       "      <td>3</td>\n",
       "      <td>2</td>\n",
       "      <td>2</td>\n",
       "      <td>3</td>\n",
       "    </tr>\n",
       "    <tr>\n",
       "      <th>6</th>\n",
       "      <td>Показать на главной странице баннеры с актуальными акциями и распродажами, чтобы увеличить конве...</td>\n",
       "      <td>5</td>\n",
       "      <td>3</td>\n",
       "      <td>8</td>\n",
       "      <td>3</td>\n",
       "    </tr>\n",
       "    <tr>\n",
       "      <th>7</th>\n",
       "      <td>Добавить форму подписки на все основные страницы, чтобы собрать базу клиентов для email-рассылок</td>\n",
       "      <td>10</td>\n",
       "      <td>7</td>\n",
       "      <td>8</td>\n",
       "      <td>5</td>\n",
       "    </tr>\n",
       "    <tr>\n",
       "      <th>8</th>\n",
       "      <td>Запустить акцию, дающую скидку на товар в день рождения</td>\n",
       "      <td>1</td>\n",
       "      <td>9</td>\n",
       "      <td>9</td>\n",
       "      <td>5</td>\n",
       "    </tr>\n",
       "  </tbody>\n",
       "</table>\n",
       "</div>"
      ],
      "text/plain": [
       "                                                                                            Hypothesis  \\\n",
       "0   Добавить два новых канала привлечения трафика, что позволит привлекать на 30% больше пользователей   \n",
       "1                            Запустить собственную службу доставки, что сократит срок доставки заказов   \n",
       "2  Добавить блоки рекомендаций товаров на сайт интернет магазина, чтобы повысить конверсию и средни...   \n",
       "3  Изменить структура категорий, что увеличит конверсию, т.к. пользователи быстрее найдут нужный товар   \n",
       "4                     Изменить цвет фона главной страницы, чтобы увеличить вовлеченность пользователей   \n",
       "5             Добавить страницу отзывов клиентов о магазине, что позволит увеличить количество заказов   \n",
       "6  Показать на главной странице баннеры с актуальными акциями и распродажами, чтобы увеличить конве...   \n",
       "7     Добавить форму подписки на все основные страницы, чтобы собрать базу клиентов для email-рассылок   \n",
       "8                                              Запустить акцию, дающую скидку на товар в день рождения   \n",
       "\n",
       "   Reach  Impact  Confidence  Efforts  \n",
       "0      3      10           8        6  \n",
       "1      2       5           4       10  \n",
       "2      8       3           7        3  \n",
       "3      8       3           3        8  \n",
       "4      3       1           1        1  \n",
       "5      3       2           2        3  \n",
       "6      5       3           8        3  \n",
       "7     10       7           8        5  \n",
       "8      1       9           9        5  "
      ]
     },
     "execution_count": 3,
     "metadata": {},
     "output_type": "execute_result"
    }
   ],
   "source": [
    "pd.options.display.max_colwidth = 100 #Увеличим количество символов, которые можно рассмотреть\n",
    "hypothesis"
   ]
  },
  {
   "cell_type": "markdown",
   "id": "9af617fe",
   "metadata": {},
   "source": [
    "## 1.1 Расчет ICE"
   ]
  },
  {
   "cell_type": "code",
   "execution_count": 4,
   "id": "2d1b8f53",
   "metadata": {},
   "outputs": [
    {
     "data": {
      "text/html": [
       "<div>\n",
       "<style scoped>\n",
       "    .dataframe tbody tr th:only-of-type {\n",
       "        vertical-align: middle;\n",
       "    }\n",
       "\n",
       "    .dataframe tbody tr th {\n",
       "        vertical-align: top;\n",
       "    }\n",
       "\n",
       "    .dataframe thead th {\n",
       "        text-align: right;\n",
       "    }\n",
       "</style>\n",
       "<table border=\"1\" class=\"dataframe\">\n",
       "  <thead>\n",
       "    <tr style=\"text-align: right;\">\n",
       "      <th></th>\n",
       "      <th>index</th>\n",
       "      <th>0</th>\n",
       "    </tr>\n",
       "  </thead>\n",
       "  <tbody>\n",
       "    <tr>\n",
       "      <th>8</th>\n",
       "      <td>8</td>\n",
       "      <td>16.200000</td>\n",
       "    </tr>\n",
       "    <tr>\n",
       "      <th>0</th>\n",
       "      <td>0</td>\n",
       "      <td>13.333333</td>\n",
       "    </tr>\n",
       "    <tr>\n",
       "      <th>7</th>\n",
       "      <td>7</td>\n",
       "      <td>11.200000</td>\n",
       "    </tr>\n",
       "    <tr>\n",
       "      <th>6</th>\n",
       "      <td>6</td>\n",
       "      <td>8.000000</td>\n",
       "    </tr>\n",
       "    <tr>\n",
       "      <th>2</th>\n",
       "      <td>2</td>\n",
       "      <td>7.000000</td>\n",
       "    </tr>\n",
       "    <tr>\n",
       "      <th>1</th>\n",
       "      <td>1</td>\n",
       "      <td>2.000000</td>\n",
       "    </tr>\n",
       "    <tr>\n",
       "      <th>5</th>\n",
       "      <td>5</td>\n",
       "      <td>1.333333</td>\n",
       "    </tr>\n",
       "    <tr>\n",
       "      <th>3</th>\n",
       "      <td>3</td>\n",
       "      <td>1.125000</td>\n",
       "    </tr>\n",
       "    <tr>\n",
       "      <th>4</th>\n",
       "      <td>4</td>\n",
       "      <td>1.000000</td>\n",
       "    </tr>\n",
       "  </tbody>\n",
       "</table>\n",
       "</div>"
      ],
      "text/plain": [
       "   index          0\n",
       "8      8  16.200000\n",
       "0      0  13.333333\n",
       "7      7  11.200000\n",
       "6      6   8.000000\n",
       "2      2   7.000000\n",
       "1      1   2.000000\n",
       "5      5   1.333333\n",
       "3      3   1.125000\n",
       "4      4   1.000000"
      ]
     },
     "execution_count": 4,
     "metadata": {},
     "output_type": "execute_result"
    }
   ],
   "source": [
    "ice_score = (hypothesis['Impact'] *  hypothesis['Confidence']) / hypothesis['Efforts']\n",
    "ice_score.reset_index().sort_values(by=0, ascending=False)"
   ]
  },
  {
   "cell_type": "markdown",
   "id": "0fe6ef98",
   "metadata": {},
   "source": [
    "При использовании ICE наиболее приоритетной гипотезой получилась 8 гипотеза: Запустить акцию, дающую скидку на товар в день рождения.  "
   ]
  },
  {
   "cell_type": "code",
   "execution_count": 5,
   "id": "13aefeb8",
   "metadata": {},
   "outputs": [
    {
     "data": {
      "text/html": [
       "<div>\n",
       "<style scoped>\n",
       "    .dataframe tbody tr th:only-of-type {\n",
       "        vertical-align: middle;\n",
       "    }\n",
       "\n",
       "    .dataframe tbody tr th {\n",
       "        vertical-align: top;\n",
       "    }\n",
       "\n",
       "    .dataframe thead th {\n",
       "        text-align: right;\n",
       "    }\n",
       "</style>\n",
       "<table border=\"1\" class=\"dataframe\">\n",
       "  <thead>\n",
       "    <tr style=\"text-align: right;\">\n",
       "      <th></th>\n",
       "      <th>index</th>\n",
       "      <th>0</th>\n",
       "    </tr>\n",
       "  </thead>\n",
       "  <tbody>\n",
       "    <tr>\n",
       "      <th>7</th>\n",
       "      <td>7</td>\n",
       "      <td>112.0</td>\n",
       "    </tr>\n",
       "    <tr>\n",
       "      <th>2</th>\n",
       "      <td>2</td>\n",
       "      <td>56.0</td>\n",
       "    </tr>\n",
       "    <tr>\n",
       "      <th>0</th>\n",
       "      <td>0</td>\n",
       "      <td>40.0</td>\n",
       "    </tr>\n",
       "    <tr>\n",
       "      <th>6</th>\n",
       "      <td>6</td>\n",
       "      <td>40.0</td>\n",
       "    </tr>\n",
       "    <tr>\n",
       "      <th>8</th>\n",
       "      <td>8</td>\n",
       "      <td>16.2</td>\n",
       "    </tr>\n",
       "    <tr>\n",
       "      <th>3</th>\n",
       "      <td>3</td>\n",
       "      <td>9.0</td>\n",
       "    </tr>\n",
       "    <tr>\n",
       "      <th>1</th>\n",
       "      <td>1</td>\n",
       "      <td>4.0</td>\n",
       "    </tr>\n",
       "    <tr>\n",
       "      <th>5</th>\n",
       "      <td>5</td>\n",
       "      <td>4.0</td>\n",
       "    </tr>\n",
       "    <tr>\n",
       "      <th>4</th>\n",
       "      <td>4</td>\n",
       "      <td>3.0</td>\n",
       "    </tr>\n",
       "  </tbody>\n",
       "</table>\n",
       "</div>"
      ],
      "text/plain": [
       "   index      0\n",
       "7      7  112.0\n",
       "2      2   56.0\n",
       "0      0   40.0\n",
       "6      6   40.0\n",
       "8      8   16.2\n",
       "3      3    9.0\n",
       "1      1    4.0\n",
       "5      5    4.0\n",
       "4      4    3.0"
      ]
     },
     "execution_count": 5,
     "metadata": {},
     "output_type": "execute_result"
    }
   ],
   "source": [
    "rice_score = (hypothesis['Reach'] * hypothesis['Impact'] *  hypothesis['Confidence']) / hypothesis['Efforts']\n",
    "rice_score.reset_index().sort_values(by=0, ascending=False)"
   ]
  },
  {
   "cell_type": "markdown",
   "id": "38d9a9a4",
   "metadata": {},
   "source": [
    "При использовании RICE наиболее приоритетной гипотезой получилась 7 гипотеза: Добавить форму подписки на все основные страницы, чтобы собрать базу клиентов для email-рассылок. "
   ]
  },
  {
   "cell_type": "markdown",
   "id": "6ad14c21",
   "metadata": {},
   "source": [
    "**Вывод:**\n",
    "\n",
    "При использовании различных способов приоритизации гипотез есть разница между гипотезами. При использовании ICE лучшей гипотезой является: Запустить акцию, дающую скидку на товар в день рождения. При использовании RICE лучшей гипотезой является: Добавить форму подписки на все основные страницы, чтобы собрать базу клиентов для email-рассылок.\n",
    "\n",
    "Таким образом, различие между ICE и RICE заключается в наличии параметра Reach в RICE, который учитывает масштаб изменений. RICE более полно оценивает потенциальное воздействие гипотезы на более широкую аудиторию, чем ICE."
   ]
  },
  {
   "cell_type": "markdown",
   "id": "df8b55ef",
   "metadata": {},
   "source": [
    "# Часть 2. Анализ A/B-теста"
   ]
  },
  {
   "cell_type": "markdown",
   "id": "8cb264cb",
   "metadata": {},
   "source": [
    "## 1. Предобработка данных"
   ]
  },
  {
   "cell_type": "markdown",
   "id": "642c6ca2",
   "metadata": {},
   "source": [
    "### orders"
   ]
  },
  {
   "cell_type": "code",
   "execution_count": 6,
   "id": "d3e686c7",
   "metadata": {},
   "outputs": [
    {
     "data": {
      "text/html": [
       "<div>\n",
       "<style scoped>\n",
       "    .dataframe tbody tr th:only-of-type {\n",
       "        vertical-align: middle;\n",
       "    }\n",
       "\n",
       "    .dataframe tbody tr th {\n",
       "        vertical-align: top;\n",
       "    }\n",
       "\n",
       "    .dataframe thead th {\n",
       "        text-align: right;\n",
       "    }\n",
       "</style>\n",
       "<table border=\"1\" class=\"dataframe\">\n",
       "  <thead>\n",
       "    <tr style=\"text-align: right;\">\n",
       "      <th></th>\n",
       "      <th>transactionId</th>\n",
       "      <th>visitorId</th>\n",
       "      <th>date</th>\n",
       "      <th>revenue</th>\n",
       "      <th>group</th>\n",
       "    </tr>\n",
       "  </thead>\n",
       "  <tbody>\n",
       "    <tr>\n",
       "      <th>0</th>\n",
       "      <td>3667963787</td>\n",
       "      <td>3312258926</td>\n",
       "      <td>2019-08-15</td>\n",
       "      <td>1650</td>\n",
       "      <td>B</td>\n",
       "    </tr>\n",
       "    <tr>\n",
       "      <th>1</th>\n",
       "      <td>2804400009</td>\n",
       "      <td>3642806036</td>\n",
       "      <td>2019-08-15</td>\n",
       "      <td>730</td>\n",
       "      <td>B</td>\n",
       "    </tr>\n",
       "    <tr>\n",
       "      <th>2</th>\n",
       "      <td>2961555356</td>\n",
       "      <td>4069496402</td>\n",
       "      <td>2019-08-15</td>\n",
       "      <td>400</td>\n",
       "      <td>A</td>\n",
       "    </tr>\n",
       "    <tr>\n",
       "      <th>3</th>\n",
       "      <td>3797467345</td>\n",
       "      <td>1196621759</td>\n",
       "      <td>2019-08-15</td>\n",
       "      <td>9759</td>\n",
       "      <td>B</td>\n",
       "    </tr>\n",
       "    <tr>\n",
       "      <th>4</th>\n",
       "      <td>2282983706</td>\n",
       "      <td>2322279887</td>\n",
       "      <td>2019-08-15</td>\n",
       "      <td>2308</td>\n",
       "      <td>B</td>\n",
       "    </tr>\n",
       "    <tr>\n",
       "      <th>...</th>\n",
       "      <td>...</td>\n",
       "      <td>...</td>\n",
       "      <td>...</td>\n",
       "      <td>...</td>\n",
       "      <td>...</td>\n",
       "    </tr>\n",
       "    <tr>\n",
       "      <th>1192</th>\n",
       "      <td>2662137336</td>\n",
       "      <td>3733762160</td>\n",
       "      <td>2019-08-14</td>\n",
       "      <td>6490</td>\n",
       "      <td>B</td>\n",
       "    </tr>\n",
       "    <tr>\n",
       "      <th>1193</th>\n",
       "      <td>2203539145</td>\n",
       "      <td>370388673</td>\n",
       "      <td>2019-08-14</td>\n",
       "      <td>3190</td>\n",
       "      <td>A</td>\n",
       "    </tr>\n",
       "    <tr>\n",
       "      <th>1194</th>\n",
       "      <td>1807773912</td>\n",
       "      <td>573423106</td>\n",
       "      <td>2019-08-14</td>\n",
       "      <td>10550</td>\n",
       "      <td>A</td>\n",
       "    </tr>\n",
       "    <tr>\n",
       "      <th>1195</th>\n",
       "      <td>1947021204</td>\n",
       "      <td>1614305549</td>\n",
       "      <td>2019-08-14</td>\n",
       "      <td>100</td>\n",
       "      <td>A</td>\n",
       "    </tr>\n",
       "    <tr>\n",
       "      <th>1196</th>\n",
       "      <td>3936777065</td>\n",
       "      <td>2108080724</td>\n",
       "      <td>2019-08-15</td>\n",
       "      <td>202740</td>\n",
       "      <td>B</td>\n",
       "    </tr>\n",
       "  </tbody>\n",
       "</table>\n",
       "<p>1197 rows × 5 columns</p>\n",
       "</div>"
      ],
      "text/plain": [
       "      transactionId   visitorId        date  revenue group\n",
       "0        3667963787  3312258926  2019-08-15     1650     B\n",
       "1        2804400009  3642806036  2019-08-15      730     B\n",
       "2        2961555356  4069496402  2019-08-15      400     A\n",
       "3        3797467345  1196621759  2019-08-15     9759     B\n",
       "4        2282983706  2322279887  2019-08-15     2308     B\n",
       "...             ...         ...         ...      ...   ...\n",
       "1192     2662137336  3733762160  2019-08-14     6490     B\n",
       "1193     2203539145   370388673  2019-08-14     3190     A\n",
       "1194     1807773912   573423106  2019-08-14    10550     A\n",
       "1195     1947021204  1614305549  2019-08-14      100     A\n",
       "1196     3936777065  2108080724  2019-08-15   202740     B\n",
       "\n",
       "[1197 rows x 5 columns]"
      ]
     },
     "execution_count": 6,
     "metadata": {},
     "output_type": "execute_result"
    }
   ],
   "source": [
    "orders = pd.read_csv('https://code.s3.yandex.net/datasets/orders.csv')\n",
    "orders"
   ]
  },
  {
   "cell_type": "code",
   "execution_count": 7,
   "id": "963385f7",
   "metadata": {},
   "outputs": [
    {
     "name": "stdout",
     "output_type": "stream",
     "text": [
      "<class 'pandas.core.frame.DataFrame'>\n",
      "RangeIndex: 1197 entries, 0 to 1196\n",
      "Data columns (total 5 columns):\n",
      " #   Column         Non-Null Count  Dtype \n",
      "---  ------         --------------  ----- \n",
      " 0   transactionId  1197 non-null   int64 \n",
      " 1   visitorId      1197 non-null   int64 \n",
      " 2   date           1197 non-null   object\n",
      " 3   revenue        1197 non-null   int64 \n",
      " 4   group          1197 non-null   object\n",
      "dtypes: int64(3), object(2)\n",
      "memory usage: 46.9+ KB\n"
     ]
    }
   ],
   "source": [
    "orders.info() "
   ]
  },
  {
   "cell_type": "code",
   "execution_count": 8,
   "id": "e89ee6b0",
   "metadata": {},
   "outputs": [],
   "source": [
    "# Преобразуйте столбец 'date' в datetime\n",
    "orders['date'] = pd.to_datetime(orders['date'])"
   ]
  },
  {
   "cell_type": "code",
   "execution_count": 9,
   "id": "f0e0bd15",
   "metadata": {},
   "outputs": [
    {
     "data": {
      "text/plain": [
       "0"
      ]
     },
     "execution_count": 9,
     "metadata": {},
     "output_type": "execute_result"
    }
   ],
   "source": [
    "orders.duplicated().sum() #рассмотрим количество дубликатов"
   ]
  },
  {
   "cell_type": "markdown",
   "id": "1fe6a7fa",
   "metadata": {},
   "source": [
    "**Вывод:**\n",
    "\n",
    "Данные не содержат пропуски и дубликаты.\n",
    "\n",
    "Даты привели к datetime."
   ]
  },
  {
   "cell_type": "markdown",
   "id": "3409ea41",
   "metadata": {},
   "source": [
    "### visitors"
   ]
  },
  {
   "cell_type": "code",
   "execution_count": 10,
   "id": "94e25aa4",
   "metadata": {},
   "outputs": [],
   "source": [
    "visitors = pd.read_csv('https://code.s3.yandex.net/datasets/visitors.csv')"
   ]
  },
  {
   "cell_type": "code",
   "execution_count": 11,
   "id": "032211c0",
   "metadata": {},
   "outputs": [
    {
     "data": {
      "text/html": [
       "<div>\n",
       "<style scoped>\n",
       "    .dataframe tbody tr th:only-of-type {\n",
       "        vertical-align: middle;\n",
       "    }\n",
       "\n",
       "    .dataframe tbody tr th {\n",
       "        vertical-align: top;\n",
       "    }\n",
       "\n",
       "    .dataframe thead th {\n",
       "        text-align: right;\n",
       "    }\n",
       "</style>\n",
       "<table border=\"1\" class=\"dataframe\">\n",
       "  <thead>\n",
       "    <tr style=\"text-align: right;\">\n",
       "      <th></th>\n",
       "      <th>date</th>\n",
       "      <th>group</th>\n",
       "      <th>visitors</th>\n",
       "    </tr>\n",
       "  </thead>\n",
       "  <tbody>\n",
       "    <tr>\n",
       "      <th>0</th>\n",
       "      <td>2019-08-01</td>\n",
       "      <td>A</td>\n",
       "      <td>719</td>\n",
       "    </tr>\n",
       "    <tr>\n",
       "      <th>1</th>\n",
       "      <td>2019-08-02</td>\n",
       "      <td>A</td>\n",
       "      <td>619</td>\n",
       "    </tr>\n",
       "    <tr>\n",
       "      <th>2</th>\n",
       "      <td>2019-08-03</td>\n",
       "      <td>A</td>\n",
       "      <td>507</td>\n",
       "    </tr>\n",
       "    <tr>\n",
       "      <th>3</th>\n",
       "      <td>2019-08-04</td>\n",
       "      <td>A</td>\n",
       "      <td>717</td>\n",
       "    </tr>\n",
       "    <tr>\n",
       "      <th>4</th>\n",
       "      <td>2019-08-05</td>\n",
       "      <td>A</td>\n",
       "      <td>756</td>\n",
       "    </tr>\n",
       "    <tr>\n",
       "      <th>...</th>\n",
       "      <td>...</td>\n",
       "      <td>...</td>\n",
       "      <td>...</td>\n",
       "    </tr>\n",
       "    <tr>\n",
       "      <th>57</th>\n",
       "      <td>2019-08-27</td>\n",
       "      <td>B</td>\n",
       "      <td>720</td>\n",
       "    </tr>\n",
       "    <tr>\n",
       "      <th>58</th>\n",
       "      <td>2019-08-28</td>\n",
       "      <td>B</td>\n",
       "      <td>654</td>\n",
       "    </tr>\n",
       "    <tr>\n",
       "      <th>59</th>\n",
       "      <td>2019-08-29</td>\n",
       "      <td>B</td>\n",
       "      <td>531</td>\n",
       "    </tr>\n",
       "    <tr>\n",
       "      <th>60</th>\n",
       "      <td>2019-08-30</td>\n",
       "      <td>B</td>\n",
       "      <td>490</td>\n",
       "    </tr>\n",
       "    <tr>\n",
       "      <th>61</th>\n",
       "      <td>2019-08-31</td>\n",
       "      <td>B</td>\n",
       "      <td>718</td>\n",
       "    </tr>\n",
       "  </tbody>\n",
       "</table>\n",
       "<p>62 rows × 3 columns</p>\n",
       "</div>"
      ],
      "text/plain": [
       "          date group  visitors\n",
       "0   2019-08-01     A       719\n",
       "1   2019-08-02     A       619\n",
       "2   2019-08-03     A       507\n",
       "3   2019-08-04     A       717\n",
       "4   2019-08-05     A       756\n",
       "..         ...   ...       ...\n",
       "57  2019-08-27     B       720\n",
       "58  2019-08-28     B       654\n",
       "59  2019-08-29     B       531\n",
       "60  2019-08-30     B       490\n",
       "61  2019-08-31     B       718\n",
       "\n",
       "[62 rows x 3 columns]"
      ]
     },
     "execution_count": 11,
     "metadata": {},
     "output_type": "execute_result"
    }
   ],
   "source": [
    "visitors"
   ]
  },
  {
   "cell_type": "code",
   "execution_count": 12,
   "id": "1494ecad",
   "metadata": {},
   "outputs": [
    {
     "name": "stdout",
     "output_type": "stream",
     "text": [
      "<class 'pandas.core.frame.DataFrame'>\n",
      "RangeIndex: 62 entries, 0 to 61\n",
      "Data columns (total 3 columns):\n",
      " #   Column    Non-Null Count  Dtype \n",
      "---  ------    --------------  ----- \n",
      " 0   date      62 non-null     object\n",
      " 1   group     62 non-null     object\n",
      " 2   visitors  62 non-null     int64 \n",
      "dtypes: int64(1), object(2)\n",
      "memory usage: 1.6+ KB\n"
     ]
    }
   ],
   "source": [
    "visitors.info()"
   ]
  },
  {
   "cell_type": "code",
   "execution_count": 13,
   "id": "2ff1b57b",
   "metadata": {},
   "outputs": [],
   "source": [
    "#Преобразуйте столбец 'date' в datetime\n",
    "visitors['date'] = pd.to_datetime(visitors['date'])"
   ]
  },
  {
   "cell_type": "code",
   "execution_count": 14,
   "id": "2fb1dfc0",
   "metadata": {},
   "outputs": [
    {
     "data": {
      "text/plain": [
       "0"
      ]
     },
     "execution_count": 14,
     "metadata": {},
     "output_type": "execute_result"
    }
   ],
   "source": [
    "visitors.duplicated().sum() #рассмотрим количество дубликатов"
   ]
  },
  {
   "cell_type": "markdown",
   "id": "c5f7c07f",
   "metadata": {},
   "source": [
    "**Вывод:**\n",
    "\n",
    "Данные не содержат пропуски и дубликаты.\n",
    "\n",
    "Даты привели к datetime."
   ]
  },
  {
   "cell_type": "code",
   "execution_count": 15,
   "id": "4035eaea",
   "metadata": {},
   "outputs": [
    {
     "data": {
      "text/html": [
       "<div>\n",
       "<style scoped>\n",
       "    .dataframe tbody tr th:only-of-type {\n",
       "        vertical-align: middle;\n",
       "    }\n",
       "\n",
       "    .dataframe tbody tr th {\n",
       "        vertical-align: top;\n",
       "    }\n",
       "\n",
       "    .dataframe thead th {\n",
       "        text-align: right;\n",
       "    }\n",
       "</style>\n",
       "<table border=\"1\" class=\"dataframe\">\n",
       "  <thead>\n",
       "    <tr style=\"text-align: right;\">\n",
       "      <th></th>\n",
       "      <th>visitorId</th>\n",
       "      <th>group</th>\n",
       "    </tr>\n",
       "  </thead>\n",
       "  <tbody>\n",
       "    <tr>\n",
       "      <th>0</th>\n",
       "      <td>5114589</td>\n",
       "      <td>1</td>\n",
       "    </tr>\n",
       "    <tr>\n",
       "      <th>1</th>\n",
       "      <td>6958315</td>\n",
       "      <td>1</td>\n",
       "    </tr>\n",
       "    <tr>\n",
       "      <th>2</th>\n",
       "      <td>8300375</td>\n",
       "      <td>2</td>\n",
       "    </tr>\n",
       "    <tr>\n",
       "      <th>3</th>\n",
       "      <td>11685486</td>\n",
       "      <td>1</td>\n",
       "    </tr>\n",
       "    <tr>\n",
       "      <th>4</th>\n",
       "      <td>39475350</td>\n",
       "      <td>1</td>\n",
       "    </tr>\n",
       "    <tr>\n",
       "      <th>...</th>\n",
       "      <td>...</td>\n",
       "      <td>...</td>\n",
       "    </tr>\n",
       "    <tr>\n",
       "      <th>1026</th>\n",
       "      <td>4266935830</td>\n",
       "      <td>2</td>\n",
       "    </tr>\n",
       "    <tr>\n",
       "      <th>1027</th>\n",
       "      <td>4278982564</td>\n",
       "      <td>1</td>\n",
       "    </tr>\n",
       "    <tr>\n",
       "      <th>1028</th>\n",
       "      <td>4279090005</td>\n",
       "      <td>1</td>\n",
       "    </tr>\n",
       "    <tr>\n",
       "      <th>1029</th>\n",
       "      <td>4281247801</td>\n",
       "      <td>1</td>\n",
       "    </tr>\n",
       "    <tr>\n",
       "      <th>1030</th>\n",
       "      <td>4283872382</td>\n",
       "      <td>1</td>\n",
       "    </tr>\n",
       "  </tbody>\n",
       "</table>\n",
       "<p>1031 rows × 2 columns</p>\n",
       "</div>"
      ],
      "text/plain": [
       "       visitorId  group\n",
       "0        5114589      1\n",
       "1        6958315      1\n",
       "2        8300375      2\n",
       "3       11685486      1\n",
       "4       39475350      1\n",
       "...          ...    ...\n",
       "1026  4266935830      2\n",
       "1027  4278982564      1\n",
       "1028  4279090005      1\n",
       "1029  4281247801      1\n",
       "1030  4283872382      1\n",
       "\n",
       "[1031 rows x 2 columns]"
      ]
     },
     "execution_count": 15,
     "metadata": {},
     "output_type": "execute_result"
    }
   ],
   "source": [
    "#Группировка данных по пользователям и подсчет количества групп для каждого пользователя\n",
    "user_group_counts = orders.groupby('visitorId')['group'].nunique().reset_index()\n",
    "user_group_counts"
   ]
  },
  {
   "cell_type": "markdown",
   "id": "53d948a3",
   "metadata": {},
   "source": [
    "Есть пересекающиеся пользователи"
   ]
  },
  {
   "cell_type": "code",
   "execution_count": 16,
   "id": "db298efe",
   "metadata": {},
   "outputs": [
    {
     "data": {
      "text/plain": [
       "set()"
      ]
     },
     "execution_count": 16,
     "metadata": {},
     "output_type": "execute_result"
    }
   ],
   "source": [
    "visitors_intersect = set(orders[orders['group'] == 'A']['visitorId']) & set(orders[orders['visitorId'] == 'B']['visitorId'])\n",
    "#пересекающиеся заказы\n",
    "visitorsA = set(orders[(orders['group'] == 'A') & (orders['visitorId'].isin(visitors_intersect))]['transactionId'])\n",
    "visitorsB = set(orders[(orders['group'] == 'B') & (orders['visitorId'].isin(visitors_intersect))]['transactionId'])\n",
    "visitors_intersect = visitorsA.intersection(visitorsB)\n",
    "visitors_intersect"
   ]
  },
  {
   "cell_type": "markdown",
   "id": "a4a2f8a8",
   "metadata": {},
   "source": [
    "Но нет пересекающихся заказов"
   ]
  },
  {
   "cell_type": "raw",
   "id": "772c1854",
   "metadata": {},
   "source": [
    "#Оставляем только пользователей, принадлежащих к одной группе\n",
    "orders = orders[orders['visitorId'].isin(user_group_counts[user_group_counts['group'] == 1]['visitorId'])]\n",
    "#CHECK\n",
    "orders.groupby('visitorId')['group'].nunique().reset_index().describe()"
   ]
  },
  {
   "cell_type": "markdown",
   "id": "8d885e04",
   "metadata": {},
   "source": [
    "**Объеденим таблицы**"
   ]
  },
  {
   "cell_type": "markdown",
   "id": "11a91392",
   "metadata": {},
   "source": [
    "Создаем массив уникальных пар значений дат и групп теста"
   ]
  },
  {
   "cell_type": "code",
   "execution_count": 17,
   "id": "cae09478",
   "metadata": {},
   "outputs": [
    {
     "data": {
      "text/html": [
       "<div>\n",
       "<style scoped>\n",
       "    .dataframe tbody tr th:only-of-type {\n",
       "        vertical-align: middle;\n",
       "    }\n",
       "\n",
       "    .dataframe tbody tr th {\n",
       "        vertical-align: top;\n",
       "    }\n",
       "\n",
       "    .dataframe thead th {\n",
       "        text-align: right;\n",
       "    }\n",
       "</style>\n",
       "<table border=\"1\" class=\"dataframe\">\n",
       "  <thead>\n",
       "    <tr style=\"text-align: right;\">\n",
       "      <th></th>\n",
       "      <th>index</th>\n",
       "      <th>date</th>\n",
       "      <th>group</th>\n",
       "    </tr>\n",
       "  </thead>\n",
       "  <tbody>\n",
       "    <tr>\n",
       "      <th>0</th>\n",
       "      <td>55</td>\n",
       "      <td>2019-08-01</td>\n",
       "      <td>A</td>\n",
       "    </tr>\n",
       "    <tr>\n",
       "      <th>1</th>\n",
       "      <td>66</td>\n",
       "      <td>2019-08-01</td>\n",
       "      <td>B</td>\n",
       "    </tr>\n",
       "    <tr>\n",
       "      <th>2</th>\n",
       "      <td>175</td>\n",
       "      <td>2019-08-02</td>\n",
       "      <td>A</td>\n",
       "    </tr>\n",
       "    <tr>\n",
       "      <th>3</th>\n",
       "      <td>173</td>\n",
       "      <td>2019-08-02</td>\n",
       "      <td>B</td>\n",
       "    </tr>\n",
       "    <tr>\n",
       "      <th>4</th>\n",
       "      <td>291</td>\n",
       "      <td>2019-08-03</td>\n",
       "      <td>A</td>\n",
       "    </tr>\n",
       "    <tr>\n",
       "      <th>...</th>\n",
       "      <td>...</td>\n",
       "      <td>...</td>\n",
       "      <td>...</td>\n",
       "    </tr>\n",
       "    <tr>\n",
       "      <th>57</th>\n",
       "      <td>497</td>\n",
       "      <td>2019-08-29</td>\n",
       "      <td>A</td>\n",
       "    </tr>\n",
       "    <tr>\n",
       "      <th>58</th>\n",
       "      <td>690</td>\n",
       "      <td>2019-08-30</td>\n",
       "      <td>B</td>\n",
       "    </tr>\n",
       "    <tr>\n",
       "      <th>59</th>\n",
       "      <td>730</td>\n",
       "      <td>2019-08-30</td>\n",
       "      <td>A</td>\n",
       "    </tr>\n",
       "    <tr>\n",
       "      <th>60</th>\n",
       "      <td>930</td>\n",
       "      <td>2019-08-31</td>\n",
       "      <td>B</td>\n",
       "    </tr>\n",
       "    <tr>\n",
       "      <th>61</th>\n",
       "      <td>958</td>\n",
       "      <td>2019-08-31</td>\n",
       "      <td>A</td>\n",
       "    </tr>\n",
       "  </tbody>\n",
       "</table>\n",
       "<p>62 rows × 3 columns</p>\n",
       "</div>"
      ],
      "text/plain": [
       "    index       date group\n",
       "0      55 2019-08-01     A\n",
       "1      66 2019-08-01     B\n",
       "2     175 2019-08-02     A\n",
       "3     173 2019-08-02     B\n",
       "4     291 2019-08-03     A\n",
       "..    ...        ...   ...\n",
       "57    497 2019-08-29     A\n",
       "58    690 2019-08-30     B\n",
       "59    730 2019-08-30     A\n",
       "60    930 2019-08-31     B\n",
       "61    958 2019-08-31     A\n",
       "\n",
       "[62 rows x 3 columns]"
      ]
     },
     "execution_count": 17,
     "metadata": {},
     "output_type": "execute_result"
    }
   ],
   "source": [
    "#используем метод drop_duplicates() для удаления дубликатов и отсортируем sort_values\n",
    "datesGroups = orders[['date', 'group']].drop_duplicates().sort_values(by='date').reset_index()\n",
    "datesGroups"
   ]
  },
  {
   "cell_type": "code",
   "execution_count": 18,
   "id": "3d1396e6",
   "metadata": {},
   "outputs": [
    {
     "data": {
      "text/html": [
       "<div>\n",
       "<style scoped>\n",
       "    .dataframe tbody tr th:only-of-type {\n",
       "        vertical-align: middle;\n",
       "    }\n",
       "\n",
       "    .dataframe tbody tr th {\n",
       "        vertical-align: top;\n",
       "    }\n",
       "\n",
       "    .dataframe thead th {\n",
       "        text-align: right;\n",
       "    }\n",
       "</style>\n",
       "<table border=\"1\" class=\"dataframe\">\n",
       "  <thead>\n",
       "    <tr style=\"text-align: right;\">\n",
       "      <th></th>\n",
       "      <th>date</th>\n",
       "      <th>group</th>\n",
       "      <th>transactionId</th>\n",
       "      <th>visitorId</th>\n",
       "      <th>revenue</th>\n",
       "    </tr>\n",
       "  </thead>\n",
       "  <tbody>\n",
       "    <tr>\n",
       "      <th>0</th>\n",
       "      <td>2019-08-01</td>\n",
       "      <td>A</td>\n",
       "      <td>24</td>\n",
       "      <td>20</td>\n",
       "      <td>148579</td>\n",
       "    </tr>\n",
       "    <tr>\n",
       "      <th>1</th>\n",
       "      <td>2019-08-01</td>\n",
       "      <td>B</td>\n",
       "      <td>21</td>\n",
       "      <td>20</td>\n",
       "      <td>101217</td>\n",
       "    </tr>\n",
       "    <tr>\n",
       "      <th>2</th>\n",
       "      <td>2019-08-02</td>\n",
       "      <td>A</td>\n",
       "      <td>44</td>\n",
       "      <td>38</td>\n",
       "      <td>242401</td>\n",
       "    </tr>\n",
       "    <tr>\n",
       "      <th>3</th>\n",
       "      <td>2019-08-02</td>\n",
       "      <td>B</td>\n",
       "      <td>45</td>\n",
       "      <td>43</td>\n",
       "      <td>266748</td>\n",
       "    </tr>\n",
       "    <tr>\n",
       "      <th>4</th>\n",
       "      <td>2019-08-03</td>\n",
       "      <td>A</td>\n",
       "      <td>68</td>\n",
       "      <td>62</td>\n",
       "      <td>354874</td>\n",
       "    </tr>\n",
       "    <tr>\n",
       "      <th>...</th>\n",
       "      <td>...</td>\n",
       "      <td>...</td>\n",
       "      <td>...</td>\n",
       "      <td>...</td>\n",
       "      <td>...</td>\n",
       "    </tr>\n",
       "    <tr>\n",
       "      <th>56</th>\n",
       "      <td>2019-08-29</td>\n",
       "      <td>B</td>\n",
       "      <td>596</td>\n",
       "      <td>544</td>\n",
       "      <td>5559398</td>\n",
       "    </tr>\n",
       "    <tr>\n",
       "      <th>59</th>\n",
       "      <td>2019-08-30</td>\n",
       "      <td>A</td>\n",
       "      <td>545</td>\n",
       "      <td>493</td>\n",
       "      <td>4022970</td>\n",
       "    </tr>\n",
       "    <tr>\n",
       "      <th>58</th>\n",
       "      <td>2019-08-30</td>\n",
       "      <td>B</td>\n",
       "      <td>620</td>\n",
       "      <td>567</td>\n",
       "      <td>5774631</td>\n",
       "    </tr>\n",
       "    <tr>\n",
       "      <th>61</th>\n",
       "      <td>2019-08-31</td>\n",
       "      <td>A</td>\n",
       "      <td>557</td>\n",
       "      <td>503</td>\n",
       "      <td>4084803</td>\n",
       "    </tr>\n",
       "    <tr>\n",
       "      <th>60</th>\n",
       "      <td>2019-08-31</td>\n",
       "      <td>B</td>\n",
       "      <td>640</td>\n",
       "      <td>586</td>\n",
       "      <td>5907760</td>\n",
       "    </tr>\n",
       "  </tbody>\n",
       "</table>\n",
       "<p>62 rows × 5 columns</p>\n",
       "</div>"
      ],
      "text/plain": [
       "         date group  transactionId  visitorId  revenue\n",
       "0  2019-08-01     A             24         20   148579\n",
       "1  2019-08-01     B             21         20   101217\n",
       "2  2019-08-02     A             44         38   242401\n",
       "3  2019-08-02     B             45         43   266748\n",
       "4  2019-08-03     A             68         62   354874\n",
       "..        ...   ...            ...        ...      ...\n",
       "56 2019-08-29     B            596        544  5559398\n",
       "59 2019-08-30     A            545        493  4022970\n",
       "58 2019-08-30     B            620        567  5774631\n",
       "61 2019-08-31     A            557        503  4084803\n",
       "60 2019-08-31     B            640        586  5907760\n",
       "\n",
       "[62 rows x 5 columns]"
      ]
     },
     "execution_count": 18,
     "metadata": {},
     "output_type": "execute_result"
    }
   ],
   "source": [
    "#найдем агрегированные кумулятивные по дням данные о заказах\n",
    "#для каждой группы и даты из datesGroups выбираем соответствующие строки из orders и применяем агрегирующие функции для каждой группы и даты\n",
    "ordersAggregated = datesGroups.apply(lambda x: orders[np.logical_and(orders['date'] <= \n",
    "x['date'], orders['group'] == x['group'])].agg({'date' : 'max', 'group' : 'max', \n",
    "'transactionId': pd.Series.nunique, 'visitorId' : pd.Series.nunique, 'revenue' : 'sum'}), \n",
    "axis=1).sort_values(by=['date','group'])\n",
    "ordersAggregated"
   ]
  },
  {
   "cell_type": "code",
   "execution_count": 19,
   "id": "e3e78abf",
   "metadata": {},
   "outputs": [
    {
     "data": {
      "text/html": [
       "<div>\n",
       "<style scoped>\n",
       "    .dataframe tbody tr th:only-of-type {\n",
       "        vertical-align: middle;\n",
       "    }\n",
       "\n",
       "    .dataframe tbody tr th {\n",
       "        vertical-align: top;\n",
       "    }\n",
       "\n",
       "    .dataframe thead th {\n",
       "        text-align: right;\n",
       "    }\n",
       "</style>\n",
       "<table border=\"1\" class=\"dataframe\">\n",
       "  <thead>\n",
       "    <tr style=\"text-align: right;\">\n",
       "      <th></th>\n",
       "      <th>date</th>\n",
       "      <th>group</th>\n",
       "      <th>visitors</th>\n",
       "    </tr>\n",
       "  </thead>\n",
       "  <tbody>\n",
       "    <tr>\n",
       "      <th>0</th>\n",
       "      <td>2019-08-01</td>\n",
       "      <td>A</td>\n",
       "      <td>719</td>\n",
       "    </tr>\n",
       "    <tr>\n",
       "      <th>1</th>\n",
       "      <td>2019-08-01</td>\n",
       "      <td>B</td>\n",
       "      <td>713</td>\n",
       "    </tr>\n",
       "    <tr>\n",
       "      <th>2</th>\n",
       "      <td>2019-08-02</td>\n",
       "      <td>A</td>\n",
       "      <td>1338</td>\n",
       "    </tr>\n",
       "    <tr>\n",
       "      <th>3</th>\n",
       "      <td>2019-08-02</td>\n",
       "      <td>B</td>\n",
       "      <td>1294</td>\n",
       "    </tr>\n",
       "    <tr>\n",
       "      <th>4</th>\n",
       "      <td>2019-08-03</td>\n",
       "      <td>A</td>\n",
       "      <td>1845</td>\n",
       "    </tr>\n",
       "    <tr>\n",
       "      <th>...</th>\n",
       "      <td>...</td>\n",
       "      <td>...</td>\n",
       "      <td>...</td>\n",
       "    </tr>\n",
       "    <tr>\n",
       "      <th>56</th>\n",
       "      <td>2019-08-29</td>\n",
       "      <td>B</td>\n",
       "      <td>17708</td>\n",
       "    </tr>\n",
       "    <tr>\n",
       "      <th>59</th>\n",
       "      <td>2019-08-30</td>\n",
       "      <td>A</td>\n",
       "      <td>18037</td>\n",
       "    </tr>\n",
       "    <tr>\n",
       "      <th>58</th>\n",
       "      <td>2019-08-30</td>\n",
       "      <td>B</td>\n",
       "      <td>18198</td>\n",
       "    </tr>\n",
       "    <tr>\n",
       "      <th>61</th>\n",
       "      <td>2019-08-31</td>\n",
       "      <td>A</td>\n",
       "      <td>18736</td>\n",
       "    </tr>\n",
       "    <tr>\n",
       "      <th>60</th>\n",
       "      <td>2019-08-31</td>\n",
       "      <td>B</td>\n",
       "      <td>18916</td>\n",
       "    </tr>\n",
       "  </tbody>\n",
       "</table>\n",
       "<p>62 rows × 3 columns</p>\n",
       "</div>"
      ],
      "text/plain": [
       "         date group  visitors\n",
       "0  2019-08-01     A       719\n",
       "1  2019-08-01     B       713\n",
       "2  2019-08-02     A      1338\n",
       "3  2019-08-02     B      1294\n",
       "4  2019-08-03     A      1845\n",
       "..        ...   ...       ...\n",
       "56 2019-08-29     B     17708\n",
       "59 2019-08-30     A     18037\n",
       "58 2019-08-30     B     18198\n",
       "61 2019-08-31     A     18736\n",
       "60 2019-08-31     B     18916\n",
       "\n",
       "[62 rows x 3 columns]"
      ]
     },
     "execution_count": 19,
     "metadata": {},
     "output_type": "execute_result"
    }
   ],
   "source": [
    "#получаем агрегированные кумулятивные по дням данные о посетителях интернет-магазина \n",
    "visitorsAggregated = datesGroups.apply(lambda x: visitors[np.logical_and(visitors['date'] \n",
    "<= x['date'], visitors['group'] == x['group'])].agg({'date' : 'max', 'group' : 'max', \n",
    "'visitors' : 'sum'}), axis=1).sort_values(by=['date','group'])\n",
    "visitorsAggregated"
   ]
  },
  {
   "cell_type": "markdown",
   "id": "1273b92a",
   "metadata": {},
   "source": [
    "Данные за один месяц"
   ]
  },
  {
   "cell_type": "code",
   "execution_count": 20,
   "id": "d7260103",
   "metadata": {},
   "outputs": [
    {
     "data": {
      "text/html": [
       "<div>\n",
       "<style scoped>\n",
       "    .dataframe tbody tr th:only-of-type {\n",
       "        vertical-align: middle;\n",
       "    }\n",
       "\n",
       "    .dataframe tbody tr th {\n",
       "        vertical-align: top;\n",
       "    }\n",
       "\n",
       "    .dataframe thead th {\n",
       "        text-align: right;\n",
       "    }\n",
       "</style>\n",
       "<table border=\"1\" class=\"dataframe\">\n",
       "  <thead>\n",
       "    <tr style=\"text-align: right;\">\n",
       "      <th></th>\n",
       "      <th>date</th>\n",
       "      <th>group</th>\n",
       "      <th>orders</th>\n",
       "      <th>buyers</th>\n",
       "      <th>revenue</th>\n",
       "      <th>visitors</th>\n",
       "    </tr>\n",
       "  </thead>\n",
       "  <tbody>\n",
       "    <tr>\n",
       "      <th>0</th>\n",
       "      <td>2019-08-01</td>\n",
       "      <td>A</td>\n",
       "      <td>24</td>\n",
       "      <td>20</td>\n",
       "      <td>148579</td>\n",
       "      <td>719</td>\n",
       "    </tr>\n",
       "    <tr>\n",
       "      <th>1</th>\n",
       "      <td>2019-08-01</td>\n",
       "      <td>B</td>\n",
       "      <td>21</td>\n",
       "      <td>20</td>\n",
       "      <td>101217</td>\n",
       "      <td>713</td>\n",
       "    </tr>\n",
       "    <tr>\n",
       "      <th>2</th>\n",
       "      <td>2019-08-02</td>\n",
       "      <td>A</td>\n",
       "      <td>44</td>\n",
       "      <td>38</td>\n",
       "      <td>242401</td>\n",
       "      <td>1338</td>\n",
       "    </tr>\n",
       "    <tr>\n",
       "      <th>3</th>\n",
       "      <td>2019-08-02</td>\n",
       "      <td>B</td>\n",
       "      <td>45</td>\n",
       "      <td>43</td>\n",
       "      <td>266748</td>\n",
       "      <td>1294</td>\n",
       "    </tr>\n",
       "    <tr>\n",
       "      <th>4</th>\n",
       "      <td>2019-08-03</td>\n",
       "      <td>A</td>\n",
       "      <td>68</td>\n",
       "      <td>62</td>\n",
       "      <td>354874</td>\n",
       "      <td>1845</td>\n",
       "    </tr>\n",
       "    <tr>\n",
       "      <th>...</th>\n",
       "      <td>...</td>\n",
       "      <td>...</td>\n",
       "      <td>...</td>\n",
       "      <td>...</td>\n",
       "      <td>...</td>\n",
       "      <td>...</td>\n",
       "    </tr>\n",
       "    <tr>\n",
       "      <th>57</th>\n",
       "      <td>2019-08-29</td>\n",
       "      <td>B</td>\n",
       "      <td>596</td>\n",
       "      <td>544</td>\n",
       "      <td>5559398</td>\n",
       "      <td>17708</td>\n",
       "    </tr>\n",
       "    <tr>\n",
       "      <th>58</th>\n",
       "      <td>2019-08-30</td>\n",
       "      <td>A</td>\n",
       "      <td>545</td>\n",
       "      <td>493</td>\n",
       "      <td>4022970</td>\n",
       "      <td>18037</td>\n",
       "    </tr>\n",
       "    <tr>\n",
       "      <th>59</th>\n",
       "      <td>2019-08-30</td>\n",
       "      <td>B</td>\n",
       "      <td>620</td>\n",
       "      <td>567</td>\n",
       "      <td>5774631</td>\n",
       "      <td>18198</td>\n",
       "    </tr>\n",
       "    <tr>\n",
       "      <th>60</th>\n",
       "      <td>2019-08-31</td>\n",
       "      <td>A</td>\n",
       "      <td>557</td>\n",
       "      <td>503</td>\n",
       "      <td>4084803</td>\n",
       "      <td>18736</td>\n",
       "    </tr>\n",
       "    <tr>\n",
       "      <th>61</th>\n",
       "      <td>2019-08-31</td>\n",
       "      <td>B</td>\n",
       "      <td>640</td>\n",
       "      <td>586</td>\n",
       "      <td>5907760</td>\n",
       "      <td>18916</td>\n",
       "    </tr>\n",
       "  </tbody>\n",
       "</table>\n",
       "<p>62 rows × 6 columns</p>\n",
       "</div>"
      ],
      "text/plain": [
       "         date group  orders  buyers  revenue  visitors\n",
       "0  2019-08-01     A      24      20   148579       719\n",
       "1  2019-08-01     B      21      20   101217       713\n",
       "2  2019-08-02     A      44      38   242401      1338\n",
       "3  2019-08-02     B      45      43   266748      1294\n",
       "4  2019-08-03     A      68      62   354874      1845\n",
       "..        ...   ...     ...     ...      ...       ...\n",
       "57 2019-08-29     B     596     544  5559398     17708\n",
       "58 2019-08-30     A     545     493  4022970     18037\n",
       "59 2019-08-30     B     620     567  5774631     18198\n",
       "60 2019-08-31     A     557     503  4084803     18736\n",
       "61 2019-08-31     B     640     586  5907760     18916\n",
       "\n",
       "[62 rows x 6 columns]"
      ]
     },
     "execution_count": 20,
     "metadata": {},
     "output_type": "execute_result"
    }
   ],
   "source": [
    "# объединяем кумулятивные данные в одной таблице \n",
    "cummulativeData = ordersAggregated.merge(visitorsAggregated, left_on=['date', 'group'], \n",
    "right_on=['date', 'group'])\n",
    "\n",
    "#переименуем столбцы в cummulativeData\n",
    "cummulativeData.columns = ['date', 'group', 'orders', 'buyers', 'revenue', 'visitors']\n",
    "cummulativeData"
   ]
  },
  {
   "cell_type": "markdown",
   "id": "552c34f3",
   "metadata": {},
   "source": [
    "Проверим таблицу на пропуски и дубликаты "
   ]
  },
  {
   "cell_type": "code",
   "execution_count": 21,
   "id": "5e7da01c",
   "metadata": {},
   "outputs": [
    {
     "name": "stdout",
     "output_type": "stream",
     "text": [
      "<class 'pandas.core.frame.DataFrame'>\n",
      "Int64Index: 62 entries, 0 to 61\n",
      "Data columns (total 6 columns):\n",
      " #   Column    Non-Null Count  Dtype         \n",
      "---  ------    --------------  -----         \n",
      " 0   date      62 non-null     datetime64[ns]\n",
      " 1   group     62 non-null     object        \n",
      " 2   orders    62 non-null     int64         \n",
      " 3   buyers    62 non-null     int64         \n",
      " 4   revenue   62 non-null     int64         \n",
      " 5   visitors  62 non-null     int64         \n",
      "dtypes: datetime64[ns](1), int64(4), object(1)\n",
      "memory usage: 3.4+ KB\n"
     ]
    }
   ],
   "source": [
    "cummulativeData.info()"
   ]
  },
  {
   "cell_type": "code",
   "execution_count": 22,
   "id": "665537e1",
   "metadata": {},
   "outputs": [
    {
     "data": {
      "text/plain": [
       "0"
      ]
     },
     "execution_count": 22,
     "metadata": {},
     "output_type": "execute_result"
    }
   ],
   "source": [
    "cummulativeData.duplicated().sum()"
   ]
  },
  {
   "cell_type": "code",
   "execution_count": 23,
   "id": "24ca7e80",
   "metadata": {},
   "outputs": [
    {
     "data": {
      "text/plain": [
       "date        0\n",
       "group       0\n",
       "orders      0\n",
       "buyers      0\n",
       "revenue     0\n",
       "visitors    0\n",
       "dtype: int64"
      ]
     },
     "execution_count": 23,
     "metadata": {},
     "output_type": "execute_result"
    }
   ],
   "source": [
    "cummulativeData.isna().sum()"
   ]
  },
  {
   "cell_type": "markdown",
   "id": "31aea4c8",
   "metadata": {},
   "source": [
    "**Вывод:**\n",
    "\n",
    "Объеденили таблицы и получили агрегированные кумулятивные по дням данные о заказах и посетителях\n",
    "\n",
    "Объедененные данные не содержат пропуски и дубликаты"
   ]
  },
  {
   "cell_type": "markdown",
   "id": "08a31b3d",
   "metadata": {},
   "source": [
    "## 2. Построение графиков "
   ]
  },
  {
   "cell_type": "markdown",
   "id": "05c0c985",
   "metadata": {},
   "source": [
    "**График кумулятивной выручки по группам**"
   ]
  },
  {
   "cell_type": "code",
   "execution_count": 24,
   "id": "63a66839",
   "metadata": {},
   "outputs": [
    {
     "data": {
      "image/png": "[encoded data removed]",
      "text/plain": [
       "<Figure size 864x288 with 1 Axes>"
      ]
     },
     "metadata": {
      "needs_background": "light"
     },
     "output_type": "display_data"
    }
   ],
   "source": [
    "# Создаем датафрейм с кумулятивной выручкой по дням в группе A и B\n",
    "cumulativeRevenueA = cummulativeData[cummulativeData['group'] == 'A'] \n",
    "cumulativeRevenueB = cummulativeData[cummulativeData['group'] == 'B'] \n",
    "\n",
    "# Строим график кумулятивной выручки группы A и B\n",
    "plt.figure(figsize=(12, 4))\n",
    "plt.grid()\n",
    "plt.plot(cumulativeRevenueA['date'], cumulativeRevenueA['revenue'], label='A')\n",
    "plt.plot(cumulativeRevenueB['date'], cumulativeRevenueB['revenue'], label='B')\n",
    "plt.legend()\n",
    "plt.xlabel('Дата')\n",
    "plt.ylabel('Кумулятивная выручка')\n",
    "plt.title('Кумулятивная выручка по группам')\n",
    "plt.show()"
   ]
  },
  {
   "cell_type": "markdown",
   "id": "c958e13a",
   "metadata": {},
   "source": [
    "Выручка почти равномерно увеличивается в течение всего теста. В группе B 18 августа происходит резкий скачек, что связано либо с увеличением числа заказов, либо с более дорогим заказом. "
   ]
  },
  {
   "cell_type": "markdown",
   "id": "4d348408",
   "metadata": {},
   "source": [
    "**График кумулятивного среднего чека по группам**"
   ]
  },
  {
   "cell_type": "markdown",
   "id": "9540aab3",
   "metadata": {},
   "source": [
    "Разделим кумулятивную выручку на кумулятивное число заказов"
   ]
  },
  {
   "cell_type": "code",
   "execution_count": 25,
   "id": "1f61ae20",
   "metadata": {},
   "outputs": [
    {
     "data": {
      "image/png": "[encoded data removed]",
      "text/plain": [
       "<Figure size 864x288 with 1 Axes>"
      ]
     },
     "metadata": {
      "needs_background": "light"
     },
     "output_type": "display_data"
    }
   ],
   "source": [
    "#Строим графики кумулятивного среднего чека для групп A и B\n",
    "plt.figure(figsize=(12, 4))\n",
    "plt.grid()\n",
    "plt.plot(cumulativeRevenueA['date'], cumulativeRevenueA['revenue'] / cumulativeRevenueA['orders'], label='A')\n",
    "plt.plot(cumulativeRevenueB['date'], cumulativeRevenueB['revenue'] / cumulativeRevenueB['orders'], label='B')\n",
    "plt.legend()\n",
    "plt.xlabel('Дата')\n",
    "plt.ylabel('Кумулятивный средний чек')\n",
    "plt.title('Кумулятивный средний чек по группам A и B')\n",
    "plt.show()"
   ]
  },
  {
   "cell_type": "markdown",
   "id": "ebd3e8b1",
   "metadata": {},
   "source": [
    "Средний чек выглядит не так стабильно на протяжении всего периода, но растет для обоих групп. Для группы В после скачка 18.08 и мы видим стабилизацию среднего чека и постепенное снижение на новом уровне около 9-10 тыс. Для группы А средний чек стабилизируется после 13.08 на уровне 7000. Необходимо найти крупные заказы. "
   ]
  },
  {
   "cell_type": "markdown",
   "id": "a5477518",
   "metadata": {},
   "source": [
    "**График относительного изменения кумулятивного среднего чека группы B к группе A** "
   ]
  },
  {
   "cell_type": "code",
   "execution_count": 26,
   "id": "161350e1",
   "metadata": {
    "scrolled": true
   },
   "outputs": [
    {
     "data": {
      "text/html": [
       "<div>\n",
       "<style scoped>\n",
       "    .dataframe tbody tr th:only-of-type {\n",
       "        vertical-align: middle;\n",
       "    }\n",
       "\n",
       "    .dataframe tbody tr th {\n",
       "        vertical-align: top;\n",
       "    }\n",
       "\n",
       "    .dataframe thead th {\n",
       "        text-align: right;\n",
       "    }\n",
       "</style>\n",
       "<table border=\"1\" class=\"dataframe\">\n",
       "  <thead>\n",
       "    <tr style=\"text-align: right;\">\n",
       "      <th></th>\n",
       "      <th>date</th>\n",
       "      <th>groupA</th>\n",
       "      <th>ordersA</th>\n",
       "      <th>buyersA</th>\n",
       "      <th>revenueA</th>\n",
       "      <th>visitorsA</th>\n",
       "      <th>groupB</th>\n",
       "      <th>ordersB</th>\n",
       "      <th>buyersB</th>\n",
       "      <th>revenueB</th>\n",
       "      <th>visitorsB</th>\n",
       "    </tr>\n",
       "  </thead>\n",
       "  <tbody>\n",
       "    <tr>\n",
       "      <th>0</th>\n",
       "      <td>2019-08-01</td>\n",
       "      <td>A</td>\n",
       "      <td>24</td>\n",
       "      <td>20</td>\n",
       "      <td>148579</td>\n",
       "      <td>719</td>\n",
       "      <td>B</td>\n",
       "      <td>21</td>\n",
       "      <td>20</td>\n",
       "      <td>101217</td>\n",
       "      <td>713</td>\n",
       "    </tr>\n",
       "    <tr>\n",
       "      <th>1</th>\n",
       "      <td>2019-08-02</td>\n",
       "      <td>A</td>\n",
       "      <td>44</td>\n",
       "      <td>38</td>\n",
       "      <td>242401</td>\n",
       "      <td>1338</td>\n",
       "      <td>B</td>\n",
       "      <td>45</td>\n",
       "      <td>43</td>\n",
       "      <td>266748</td>\n",
       "      <td>1294</td>\n",
       "    </tr>\n",
       "    <tr>\n",
       "      <th>2</th>\n",
       "      <td>2019-08-03</td>\n",
       "      <td>A</td>\n",
       "      <td>68</td>\n",
       "      <td>62</td>\n",
       "      <td>354874</td>\n",
       "      <td>1845</td>\n",
       "      <td>B</td>\n",
       "      <td>61</td>\n",
       "      <td>59</td>\n",
       "      <td>380996</td>\n",
       "      <td>1803</td>\n",
       "    </tr>\n",
       "    <tr>\n",
       "      <th>3</th>\n",
       "      <td>2019-08-04</td>\n",
       "      <td>A</td>\n",
       "      <td>84</td>\n",
       "      <td>77</td>\n",
       "      <td>425699</td>\n",
       "      <td>2562</td>\n",
       "      <td>B</td>\n",
       "      <td>78</td>\n",
       "      <td>75</td>\n",
       "      <td>489567</td>\n",
       "      <td>2573</td>\n",
       "    </tr>\n",
       "    <tr>\n",
       "      <th>4</th>\n",
       "      <td>2019-08-05</td>\n",
       "      <td>A</td>\n",
       "      <td>109</td>\n",
       "      <td>100</td>\n",
       "      <td>549917</td>\n",
       "      <td>3318</td>\n",
       "      <td>B</td>\n",
       "      <td>101</td>\n",
       "      <td>98</td>\n",
       "      <td>581995</td>\n",
       "      <td>3280</td>\n",
       "    </tr>\n",
       "    <tr>\n",
       "      <th>5</th>\n",
       "      <td>2019-08-06</td>\n",
       "      <td>A</td>\n",
       "      <td>127</td>\n",
       "      <td>114</td>\n",
       "      <td>598401</td>\n",
       "      <td>3985</td>\n",
       "      <td>B</td>\n",
       "      <td>129</td>\n",
       "      <td>123</td>\n",
       "      <td>824337</td>\n",
       "      <td>3935</td>\n",
       "    </tr>\n",
       "    <tr>\n",
       "      <th>6</th>\n",
       "      <td>2019-08-07</td>\n",
       "      <td>A</td>\n",
       "      <td>145</td>\n",
       "      <td>131</td>\n",
       "      <td>740818</td>\n",
       "      <td>4629</td>\n",
       "      <td>B</td>\n",
       "      <td>153</td>\n",
       "      <td>146</td>\n",
       "      <td>1049671</td>\n",
       "      <td>4644</td>\n",
       "    </tr>\n",
       "    <tr>\n",
       "      <th>7</th>\n",
       "      <td>2019-08-08</td>\n",
       "      <td>A</td>\n",
       "      <td>161</td>\n",
       "      <td>146</td>\n",
       "      <td>837097</td>\n",
       "      <td>5239</td>\n",
       "      <td>B</td>\n",
       "      <td>180</td>\n",
       "      <td>171</td>\n",
       "      <td>1270589</td>\n",
       "      <td>5298</td>\n",
       "    </tr>\n",
       "    <tr>\n",
       "      <th>8</th>\n",
       "      <td>2019-08-09</td>\n",
       "      <td>A</td>\n",
       "      <td>177</td>\n",
       "      <td>159</td>\n",
       "      <td>1025603</td>\n",
       "      <td>5856</td>\n",
       "      <td>B</td>\n",
       "      <td>205</td>\n",
       "      <td>193</td>\n",
       "      <td>1431401</td>\n",
       "      <td>5908</td>\n",
       "    </tr>\n",
       "    <tr>\n",
       "      <th>9</th>\n",
       "      <td>2019-08-10</td>\n",
       "      <td>A</td>\n",
       "      <td>193</td>\n",
       "      <td>175</td>\n",
       "      <td>1236098</td>\n",
       "      <td>6262</td>\n",
       "      <td>B</td>\n",
       "      <td>228</td>\n",
       "      <td>215</td>\n",
       "      <td>1539203</td>\n",
       "      <td>6277</td>\n",
       "    </tr>\n",
       "    <tr>\n",
       "      <th>10</th>\n",
       "      <td>2019-08-11</td>\n",
       "      <td>A</td>\n",
       "      <td>206</td>\n",
       "      <td>187</td>\n",
       "      <td>1313683</td>\n",
       "      <td>6980</td>\n",
       "      <td>B</td>\n",
       "      <td>241</td>\n",
       "      <td>228</td>\n",
       "      <td>1592513</td>\n",
       "      <td>6998</td>\n",
       "    </tr>\n",
       "    <tr>\n",
       "      <th>11</th>\n",
       "      <td>2019-08-12</td>\n",
       "      <td>A</td>\n",
       "      <td>230</td>\n",
       "      <td>210</td>\n",
       "      <td>1562873</td>\n",
       "      <td>7575</td>\n",
       "      <td>B</td>\n",
       "      <td>264</td>\n",
       "      <td>248</td>\n",
       "      <td>1734067</td>\n",
       "      <td>7541</td>\n",
       "    </tr>\n",
       "    <tr>\n",
       "      <th>12</th>\n",
       "      <td>2019-08-13</td>\n",
       "      <td>A</td>\n",
       "      <td>244</td>\n",
       "      <td>223</td>\n",
       "      <td>1826511</td>\n",
       "      <td>8323</td>\n",
       "      <td>B</td>\n",
       "      <td>285</td>\n",
       "      <td>268</td>\n",
       "      <td>1853738</td>\n",
       "      <td>8310</td>\n",
       "    </tr>\n",
       "    <tr>\n",
       "      <th>13</th>\n",
       "      <td>2019-08-14</td>\n",
       "      <td>A</td>\n",
       "      <td>268</td>\n",
       "      <td>247</td>\n",
       "      <td>1890852</td>\n",
       "      <td>9058</td>\n",
       "      <td>B</td>\n",
       "      <td>308</td>\n",
       "      <td>287</td>\n",
       "      <td>2025446</td>\n",
       "      <td>9056</td>\n",
       "    </tr>\n",
       "    <tr>\n",
       "      <th>14</th>\n",
       "      <td>2019-08-15</td>\n",
       "      <td>A</td>\n",
       "      <td>283</td>\n",
       "      <td>259</td>\n",
       "      <td>1979057</td>\n",
       "      <td>9686</td>\n",
       "      <td>B</td>\n",
       "      <td>339</td>\n",
       "      <td>317</td>\n",
       "      <td>2367945</td>\n",
       "      <td>9600</td>\n",
       "    </tr>\n",
       "    <tr>\n",
       "      <th>15</th>\n",
       "      <td>2019-08-16</td>\n",
       "      <td>A</td>\n",
       "      <td>301</td>\n",
       "      <td>277</td>\n",
       "      <td>2078908</td>\n",
       "      <td>10047</td>\n",
       "      <td>B</td>\n",
       "      <td>359</td>\n",
       "      <td>336</td>\n",
       "      <td>2539635</td>\n",
       "      <td>10013</td>\n",
       "    </tr>\n",
       "    <tr>\n",
       "      <th>16</th>\n",
       "      <td>2019-08-17</td>\n",
       "      <td>A</td>\n",
       "      <td>311</td>\n",
       "      <td>283</td>\n",
       "      <td>2129769</td>\n",
       "      <td>10459</td>\n",
       "      <td>B</td>\n",
       "      <td>373</td>\n",
       "      <td>349</td>\n",
       "      <td>2620790</td>\n",
       "      <td>10434</td>\n",
       "    </tr>\n",
       "    <tr>\n",
       "      <th>17</th>\n",
       "      <td>2019-08-18</td>\n",
       "      <td>A</td>\n",
       "      <td>328</td>\n",
       "      <td>300</td>\n",
       "      <td>2202167</td>\n",
       "      <td>11127</td>\n",
       "      <td>B</td>\n",
       "      <td>382</td>\n",
       "      <td>357</td>\n",
       "      <td>2686621</td>\n",
       "      <td>11171</td>\n",
       "    </tr>\n",
       "    <tr>\n",
       "      <th>18</th>\n",
       "      <td>2019-08-19</td>\n",
       "      <td>A</td>\n",
       "      <td>350</td>\n",
       "      <td>320</td>\n",
       "      <td>2391910</td>\n",
       "      <td>11629</td>\n",
       "      <td>B</td>\n",
       "      <td>403</td>\n",
       "      <td>377</td>\n",
       "      <td>4116541</td>\n",
       "      <td>11658</td>\n",
       "    </tr>\n",
       "    <tr>\n",
       "      <th>19</th>\n",
       "      <td>2019-08-20</td>\n",
       "      <td>A</td>\n",
       "      <td>362</td>\n",
       "      <td>330</td>\n",
       "      <td>2469529</td>\n",
       "      <td>12204</td>\n",
       "      <td>B</td>\n",
       "      <td>423</td>\n",
       "      <td>396</td>\n",
       "      <td>4263815</td>\n",
       "      <td>12218</td>\n",
       "    </tr>\n",
       "    <tr>\n",
       "      <th>20</th>\n",
       "      <td>2019-08-21</td>\n",
       "      <td>A</td>\n",
       "      <td>385</td>\n",
       "      <td>350</td>\n",
       "      <td>2643838</td>\n",
       "      <td>12850</td>\n",
       "      <td>B</td>\n",
       "      <td>437</td>\n",
       "      <td>407</td>\n",
       "      <td>4426892</td>\n",
       "      <td>12874</td>\n",
       "    </tr>\n",
       "    <tr>\n",
       "      <th>21</th>\n",
       "      <td>2019-08-22</td>\n",
       "      <td>A</td>\n",
       "      <td>401</td>\n",
       "      <td>361</td>\n",
       "      <td>2756579</td>\n",
       "      <td>13459</td>\n",
       "      <td>B</td>\n",
       "      <td>462</td>\n",
       "      <td>427</td>\n",
       "      <td>4589247</td>\n",
       "      <td>13524</td>\n",
       "    </tr>\n",
       "    <tr>\n",
       "      <th>22</th>\n",
       "      <td>2019-08-23</td>\n",
       "      <td>A</td>\n",
       "      <td>426</td>\n",
       "      <td>385</td>\n",
       "      <td>2874367</td>\n",
       "      <td>13927</td>\n",
       "      <td>B</td>\n",
       "      <td>477</td>\n",
       "      <td>440</td>\n",
       "      <td>4703216</td>\n",
       "      <td>14070</td>\n",
       "    </tr>\n",
       "    <tr>\n",
       "      <th>23</th>\n",
       "      <td>2019-08-24</td>\n",
       "      <td>A</td>\n",
       "      <td>441</td>\n",
       "      <td>400</td>\n",
       "      <td>3002070</td>\n",
       "      <td>14322</td>\n",
       "      <td>B</td>\n",
       "      <td>493</td>\n",
       "      <td>454</td>\n",
       "      <td>4798722</td>\n",
       "      <td>14448</td>\n",
       "    </tr>\n",
       "    <tr>\n",
       "      <th>24</th>\n",
       "      <td>2019-08-25</td>\n",
       "      <td>A</td>\n",
       "      <td>451</td>\n",
       "      <td>409</td>\n",
       "      <td>3070704</td>\n",
       "      <td>14943</td>\n",
       "      <td>B</td>\n",
       "      <td>507</td>\n",
       "      <td>466</td>\n",
       "      <td>4901584</td>\n",
       "      <td>15127</td>\n",
       "    </tr>\n",
       "    <tr>\n",
       "      <th>25</th>\n",
       "      <td>2019-08-26</td>\n",
       "      <td>A</td>\n",
       "      <td>467</td>\n",
       "      <td>425</td>\n",
       "      <td>3227918</td>\n",
       "      <td>15665</td>\n",
       "      <td>B</td>\n",
       "      <td>532</td>\n",
       "      <td>490</td>\n",
       "      <td>5084583</td>\n",
       "      <td>15803</td>\n",
       "    </tr>\n",
       "    <tr>\n",
       "      <th>26</th>\n",
       "      <td>2019-08-27</td>\n",
       "      <td>A</td>\n",
       "      <td>495</td>\n",
       "      <td>449</td>\n",
       "      <td>3514698</td>\n",
       "      <td>16376</td>\n",
       "      <td>B</td>\n",
       "      <td>548</td>\n",
       "      <td>504</td>\n",
       "      <td>5232260</td>\n",
       "      <td>16523</td>\n",
       "    </tr>\n",
       "    <tr>\n",
       "      <th>27</th>\n",
       "      <td>2019-08-28</td>\n",
       "      <td>A</td>\n",
       "      <td>512</td>\n",
       "      <td>464</td>\n",
       "      <td>3615820</td>\n",
       "      <td>16970</td>\n",
       "      <td>B</td>\n",
       "      <td>576</td>\n",
       "      <td>526</td>\n",
       "      <td>5328268</td>\n",
       "      <td>17177</td>\n",
       "    </tr>\n",
       "    <tr>\n",
       "      <th>28</th>\n",
       "      <td>2019-08-29</td>\n",
       "      <td>A</td>\n",
       "      <td>534</td>\n",
       "      <td>484</td>\n",
       "      <td>3936510</td>\n",
       "      <td>17547</td>\n",
       "      <td>B</td>\n",
       "      <td>596</td>\n",
       "      <td>544</td>\n",
       "      <td>5559398</td>\n",
       "      <td>17708</td>\n",
       "    </tr>\n",
       "    <tr>\n",
       "      <th>29</th>\n",
       "      <td>2019-08-30</td>\n",
       "      <td>A</td>\n",
       "      <td>545</td>\n",
       "      <td>493</td>\n",
       "      <td>4022970</td>\n",
       "      <td>18037</td>\n",
       "      <td>B</td>\n",
       "      <td>620</td>\n",
       "      <td>567</td>\n",
       "      <td>5774631</td>\n",
       "      <td>18198</td>\n",
       "    </tr>\n",
       "    <tr>\n",
       "      <th>30</th>\n",
       "      <td>2019-08-31</td>\n",
       "      <td>A</td>\n",
       "      <td>557</td>\n",
       "      <td>503</td>\n",
       "      <td>4084803</td>\n",
       "      <td>18736</td>\n",
       "      <td>B</td>\n",
       "      <td>640</td>\n",
       "      <td>586</td>\n",
       "      <td>5907760</td>\n",
       "      <td>18916</td>\n",
       "    </tr>\n",
       "  </tbody>\n",
       "</table>\n",
       "</div>"
      ],
      "text/plain": [
       "         date groupA  ordersA  buyersA  revenueA  visitorsA groupB  ordersB  \\\n",
       "0  2019-08-01      A       24       20    148579        719      B       21   \n",
       "1  2019-08-02      A       44       38    242401       1338      B       45   \n",
       "2  2019-08-03      A       68       62    354874       1845      B       61   \n",
       "3  2019-08-04      A       84       77    425699       2562      B       78   \n",
       "4  2019-08-05      A      109      100    549917       3318      B      101   \n",
       "5  2019-08-06      A      127      114    598401       3985      B      129   \n",
       "6  2019-08-07      A      145      131    740818       4629      B      153   \n",
       "7  2019-08-08      A      161      146    837097       5239      B      180   \n",
       "8  2019-08-09      A      177      159   1025603       5856      B      205   \n",
       "9  2019-08-10      A      193      175   1236098       6262      B      228   \n",
       "10 2019-08-11      A      206      187   1313683       6980      B      241   \n",
       "11 2019-08-12      A      230      210   1562873       7575      B      264   \n",
       "12 2019-08-13      A      244      223   1826511       8323      B      285   \n",
       "13 2019-08-14      A      268      247   1890852       9058      B      308   \n",
       "14 2019-08-15      A      283      259   1979057       9686      B      339   \n",
       "15 2019-08-16      A      301      277   2078908      10047      B      359   \n",
       "16 2019-08-17      A      311      283   2129769      10459      B      373   \n",
       "17 2019-08-18      A      328      300   2202167      11127      B      382   \n",
       "18 2019-08-19      A      350      320   2391910      11629      B      403   \n",
       "19 2019-08-20      A      362      330   2469529      12204      B      423   \n",
       "20 2019-08-21      A      385      350   2643838      12850      B      437   \n",
       "21 2019-08-22      A      401      361   2756579      13459      B      462   \n",
       "22 2019-08-23      A      426      385   2874367      13927      B      477   \n",
       "23 2019-08-24      A      441      400   3002070      14322      B      493   \n",
       "24 2019-08-25      A      451      409   3070704      14943      B      507   \n",
       "25 2019-08-26      A      467      425   3227918      15665      B      532   \n",
       "26 2019-08-27      A      495      449   3514698      16376      B      548   \n",
       "27 2019-08-28      A      512      464   3615820      16970      B      576   \n",
       "28 2019-08-29      A      534      484   3936510      17547      B      596   \n",
       "29 2019-08-30      A      545      493   4022970      18037      B      620   \n",
       "30 2019-08-31      A      557      503   4084803      18736      B      640   \n",
       "\n",
       "    buyersB  revenueB  visitorsB  \n",
       "0        20    101217        713  \n",
       "1        43    266748       1294  \n",
       "2        59    380996       1803  \n",
       "3        75    489567       2573  \n",
       "4        98    581995       3280  \n",
       "5       123    824337       3935  \n",
       "6       146   1049671       4644  \n",
       "7       171   1270589       5298  \n",
       "8       193   1431401       5908  \n",
       "9       215   1539203       6277  \n",
       "10      228   1592513       6998  \n",
       "11      248   1734067       7541  \n",
       "12      268   1853738       8310  \n",
       "13      287   2025446       9056  \n",
       "14      317   2367945       9600  \n",
       "15      336   2539635      10013  \n",
       "16      349   2620790      10434  \n",
       "17      357   2686621      11171  \n",
       "18      377   4116541      11658  \n",
       "19      396   4263815      12218  \n",
       "20      407   4426892      12874  \n",
       "21      427   4589247      13524  \n",
       "22      440   4703216      14070  \n",
       "23      454   4798722      14448  \n",
       "24      466   4901584      15127  \n",
       "25      490   5084583      15803  \n",
       "26      504   5232260      16523  \n",
       "27      526   5328268      17177  \n",
       "28      544   5559398      17708  \n",
       "29      567   5774631      18198  \n",
       "30      586   5907760      18916  "
      ]
     },
     "execution_count": 26,
     "metadata": {},
     "output_type": "execute_result"
    }
   ],
   "source": [
    "# собираем данные в одном датафрейме\n",
    "mergedCumulativeRevenue = cumulativeRevenueA.merge(cumulativeRevenueB, left_on='date', right_on='date', \n",
    "                                                   how='left', suffixes=['A', 'B'])\n",
    "\n",
    "mergedCumulativeRevenue"
   ]
  },
  {
   "cell_type": "code",
   "execution_count": 27,
   "id": "c614f6d2",
   "metadata": {},
   "outputs": [],
   "source": [
    "#рарсчитаем относительное изменение кумулятивного среднего чека группы B к группе A\n",
    "n = (mergedCumulativeRevenue['revenueB']/mergedCumulativeRevenue['ordersB'])/(mergedCumulativeRevenue['revenueA']/mergedCumulativeRevenue['ordersA'])-1"
   ]
  },
  {
   "cell_type": "code",
   "execution_count": 28,
   "id": "bcbcbf63",
   "metadata": {},
   "outputs": [
    {
     "data": {
      "image/png": "[encoded data removed]",
      "text/plain": [
       "<Figure size 864x288 with 1 Axes>"
      ]
     },
     "metadata": {
      "needs_background": "light"
     },
     "output_type": "display_data"
    }
   ],
   "source": [
    "# Строим график относительного изменения кумулятивного среднего чека группы B к группе A\n",
    "plt.figure(figsize=(12, 4))\n",
    "plt.grid()\n",
    "plt.plot(mergedCumulativeRevenue['date'], n)\n",
    "plt.axhline(y=0, color='red', linestyle='--')\n",
    "plt.xlabel('Дата')\n",
    "plt.ylabel('Изменения кумулятивного среднего чека')\n",
    "plt.title('Изменения кумулятивного среднего чека группы B к группе A')\n",
    "plt.show()"
   ]
  },
  {
   "cell_type": "markdown",
   "id": "4a2db58c",
   "metadata": {},
   "source": [
    "График изменения кумулятивного среднего чека скачет и резко изменяется, что также подтверждает наличие в данных крупных заказов."
   ]
  },
  {
   "cell_type": "markdown",
   "id": "52866d6b",
   "metadata": {},
   "source": [
    "**График кумулятивного среднего количества заказов на посетителя по группам**"
   ]
  },
  {
   "cell_type": "code",
   "execution_count": 29,
   "id": "82d12367",
   "metadata": {},
   "outputs": [],
   "source": [
    "#считаем кумулятивную конверсию\n",
    "cummulativeData['conversion'] = cummulativeData['orders']/cummulativeData['visitors']\n",
    "#разделим данные по группам\n",
    "cumulativeDataA = cummulativeData[cummulativeData['group']=='A']\n",
    "cumulativeDataB = cummulativeData[cummulativeData['group']=='B']"
   ]
  },
  {
   "cell_type": "code",
   "execution_count": 30,
   "id": "ce475a7d",
   "metadata": {},
   "outputs": [
    {
     "data": {
      "image/png": "[encoded data removed]",
      "text/plain": [
       "<Figure size 864x288 with 1 Axes>"
      ]
     },
     "metadata": {
      "needs_background": "light"
     },
     "output_type": "display_data"
    }
   ],
   "source": [
    "#график кумулятивного среднего количества заказов на посетителя для групп A и B \n",
    "plt.figure(figsize=(12, 4))\n",
    "plt.grid()\n",
    "plt.plot(cumulativeDataA['date'], cumulativeDataA['conversion'], label='A')\n",
    "plt.plot(cumulativeDataB['date'], cumulativeDataB['conversion'], label='B')\n",
    "plt.legend()\n",
    "plt.xlabel('Дата')\n",
    "plt.ylabel('Кумулятивное среднее количество заказов на посетителя')\n",
    "plt.title('Кумулятивное среднее количество заказов на посетителя по группам A и B')\n",
    "plt.show()"
   ]
  },
  {
   "cell_type": "markdown",
   "id": "717ef895",
   "metadata": {},
   "source": [
    "На графике видно, что показатель кумулятивного среднго количества заказов на посетителя стабилизировался после 09.08. Также показатель для тестовой группы выше, чем для контрольной.\n",
    "\n",
    "Для начала теста характерны колебания, к середине теста показатели стабилизировались."
   ]
  },
  {
   "cell_type": "markdown",
   "id": "74f24d44",
   "metadata": {},
   "source": [
    "**График относительного изменения кумулятивного среднего количества заказов на посетителя группы B к группе A**"
   ]
  },
  {
   "cell_type": "code",
   "execution_count": 31,
   "id": "326d23af",
   "metadata": {},
   "outputs": [
    {
     "data": {
      "image/png": "[encoded data removed]",
      "text/plain": [
       "<Figure size 864x288 with 1 Axes>"
      ]
     },
     "metadata": {
      "needs_background": "light"
     },
     "output_type": "display_data"
    }
   ],
   "source": [
    "# Строим график относительного изменения кумулятивного среднего чека группы B к группе A\n",
    "mergedCumulativeConversions = cumulativeDataA[['date','conversion']].merge(cumulativeDataB[['date','conversion']], \n",
    "                                                                           left_on='date', right_on='date', how='left', suffixes=['A', 'B'])\n",
    "plt.figure(figsize=(12, 4))\n",
    "plt.grid()\n",
    "plt.plot(mergedCumulativeConversions['date'], mergedCumulativeConversions['conversionB'] / mergedCumulativeConversions['conversionA']-1)\n",
    "plt.axhline(y=0, color='red', linestyle='--')\n",
    "plt.xlabel('Дата')\n",
    "plt.ylabel('Изменения кумулятивного среднего количества заказов')\n",
    "plt.title('Относительное изменение кумулятивного среднего количества заказов на посетителя группы B к группе A')\n",
    "plt.show()"
   ]
  },
  {
   "cell_type": "markdown",
   "id": "4a4077a0",
   "metadata": {},
   "source": [
    "Почти весь период наблюдения группа В была лучше.\n",
    "\n",
    "Относительное изменение кумулятивного среднего количества заказов на посетителя для группы В постепенно увеличилось для группы А после 05.08. Показатель конверсии стабилизировался на новом уровне в положительной зоне.  "
   ]
  },
  {
   "cell_type": "markdown",
   "id": "947448ad",
   "metadata": {},
   "source": [
    "**Точечный график количества заказов по пользователям**"
   ]
  },
  {
   "cell_type": "code",
   "execution_count": 32,
   "id": "5b6bbc33",
   "metadata": {},
   "outputs": [
    {
     "data": {
      "text/html": [
       "<div>\n",
       "<style scoped>\n",
       "    .dataframe tbody tr th:only-of-type {\n",
       "        vertical-align: middle;\n",
       "    }\n",
       "\n",
       "    .dataframe tbody tr th {\n",
       "        vertical-align: top;\n",
       "    }\n",
       "\n",
       "    .dataframe thead th {\n",
       "        text-align: right;\n",
       "    }\n",
       "</style>\n",
       "<table border=\"1\" class=\"dataframe\">\n",
       "  <thead>\n",
       "    <tr style=\"text-align: right;\">\n",
       "      <th></th>\n",
       "      <th>visitorId</th>\n",
       "      <th>transactionId</th>\n",
       "    </tr>\n",
       "  </thead>\n",
       "  <tbody>\n",
       "    <tr>\n",
       "      <th>0</th>\n",
       "      <td>5114589</td>\n",
       "      <td>1</td>\n",
       "    </tr>\n",
       "    <tr>\n",
       "      <th>1</th>\n",
       "      <td>6958315</td>\n",
       "      <td>1</td>\n",
       "    </tr>\n",
       "    <tr>\n",
       "      <th>2</th>\n",
       "      <td>8300375</td>\n",
       "      <td>2</td>\n",
       "    </tr>\n",
       "    <tr>\n",
       "      <th>3</th>\n",
       "      <td>11685486</td>\n",
       "      <td>1</td>\n",
       "    </tr>\n",
       "    <tr>\n",
       "      <th>4</th>\n",
       "      <td>39475350</td>\n",
       "      <td>1</td>\n",
       "    </tr>\n",
       "    <tr>\n",
       "      <th>...</th>\n",
       "      <td>...</td>\n",
       "      <td>...</td>\n",
       "    </tr>\n",
       "    <tr>\n",
       "      <th>1026</th>\n",
       "      <td>4266935830</td>\n",
       "      <td>2</td>\n",
       "    </tr>\n",
       "    <tr>\n",
       "      <th>1027</th>\n",
       "      <td>4278982564</td>\n",
       "      <td>1</td>\n",
       "    </tr>\n",
       "    <tr>\n",
       "      <th>1028</th>\n",
       "      <td>4279090005</td>\n",
       "      <td>1</td>\n",
       "    </tr>\n",
       "    <tr>\n",
       "      <th>1029</th>\n",
       "      <td>4281247801</td>\n",
       "      <td>1</td>\n",
       "    </tr>\n",
       "    <tr>\n",
       "      <th>1030</th>\n",
       "      <td>4283872382</td>\n",
       "      <td>1</td>\n",
       "    </tr>\n",
       "  </tbody>\n",
       "</table>\n",
       "<p>1031 rows × 2 columns</p>\n",
       "</div>"
      ],
      "text/plain": [
       "       visitorId  transactionId\n",
       "0        5114589              1\n",
       "1        6958315              1\n",
       "2        8300375              2\n",
       "3       11685486              1\n",
       "4       39475350              1\n",
       "...          ...            ...\n",
       "1026  4266935830              2\n",
       "1027  4278982564              1\n",
       "1028  4279090005              1\n",
       "1029  4281247801              1\n",
       "1030  4283872382              1\n",
       "\n",
       "[1031 rows x 2 columns]"
      ]
     },
     "execution_count": 32,
     "metadata": {},
     "output_type": "execute_result"
    }
   ],
   "source": [
    "#количество заказов на одного пользователя\n",
    "orders_per_user = orders.groupby('visitorId')['transactionId'].count().reset_index()\n",
    "orders_per_user"
   ]
  },
  {
   "cell_type": "code",
   "execution_count": 33,
   "id": "6172ac00",
   "metadata": {},
   "outputs": [
    {
     "data": {
      "image/png": "[encoded data removed]",
      "text/plain": [
       "<Figure size 720x432 with 1 Axes>"
      ]
     },
     "metadata": {
      "needs_background": "light"
     },
     "output_type": "display_data"
    }
   ],
   "source": [
    "# Создаем точечный график\n",
    "plt.figure(figsize=(10, 6))\n",
    "plt.scatter(orders_per_user.index, orders_per_user['transactionId'], alpha=0.5)\n",
    "plt.title('Количество заказов по пользователям')\n",
    "plt.ylabel('Количество заказов')\n",
    "plt.show()"
   ]
  },
  {
   "cell_type": "markdown",
   "id": "db2d2dc3",
   "metadata": {},
   "source": [
    "На графике мы видим, что данные содержат выбросы и есть несколько пользователей, которые совершили аномально большое количество заказов в сравнении с другими пользователями. Рассмотрим данные о количестве заказов на одного пользователя более детально ниже."
   ]
  },
  {
   "cell_type": "markdown",
   "id": "1ec1d0f5",
   "metadata": {},
   "source": [
    "**95-й и 99-й перцентили количества заказов на пользователя** \n",
    "\n",
    "Выберите границу для определения аномальных пользователей."
   ]
  },
  {
   "cell_type": "code",
   "execution_count": 34,
   "id": "f3df0a67",
   "metadata": {},
   "outputs": [
    {
     "data": {
      "text/plain": [
       "count    1031.000000\n",
       "mean        1.161009\n",
       "std         0.724919\n",
       "min         1.000000\n",
       "25%         1.000000\n",
       "50%         1.000000\n",
       "75%         1.000000\n",
       "max        11.000000\n",
       "Name: transactionId, dtype: float64"
      ]
     },
     "execution_count": 34,
     "metadata": {},
     "output_type": "execute_result"
    }
   ],
   "source": [
    "orders_per_user['transactionId'].describe()"
   ]
  },
  {
   "cell_type": "code",
   "execution_count": 35,
   "id": "64fd4ff3",
   "metadata": {},
   "outputs": [
    {
     "data": {
      "text/plain": [
       "1     937\n",
       "2      64\n",
       "3      17\n",
       "5       6\n",
       "4       3\n",
       "11      2\n",
       "8       1\n",
       "9       1\n",
       "Name: transactionId, dtype: int64"
      ]
     },
     "execution_count": 35,
     "metadata": {},
     "output_type": "execute_result"
    }
   ],
   "source": [
    "orders_per_user['transactionId'].value_counts()"
   ]
  },
  {
   "cell_type": "markdown",
   "id": "d347e099",
   "metadata": {},
   "source": [
    "Цифры подтверждают данные на графике. Выбросов не много, но они есть. Среднее не сильно отличается от медианы, а и стандартное отклонение не выглядит большим. \n",
    "Максимально кол-во заказов на одного пользователя 11, а наболее популярное 1 заказ на одного пользователя."
   ]
  },
  {
   "cell_type": "code",
   "execution_count": 36,
   "id": "244be978",
   "metadata": {},
   "outputs": [
    {
     "data": {
      "text/plain": [
       "<AxesSubplot:>"
      ]
     },
     "execution_count": 36,
     "metadata": {},
     "output_type": "execute_result"
    },
    {
     "data": {
      "image/png": "[encoded data removed]",
      "text/plain": [
       "<Figure size 432x288 with 1 Axes>"
      ]
     },
     "metadata": {
      "needs_background": "light"
     },
     "output_type": "display_data"
    }
   ],
   "source": [
    "orders_per_user['transactionId'].hist()"
   ]
  },
  {
   "cell_type": "code",
   "execution_count": 37,
   "id": "a2d7ddca",
   "metadata": {},
   "outputs": [
    {
     "data": {
      "text/plain": [
       "array([1., 2., 3., 4.])"
      ]
     },
     "execution_count": 37,
     "metadata": {},
     "output_type": "execute_result"
    }
   ],
   "source": [
    "#вычислим перцентили \n",
    "(np.percentile(orders_per_user['transactionId'], [90, 95, 97.5, 99])) "
   ]
  },
  {
   "cell_type": "markdown",
   "id": "9d93542e",
   "metadata": {},
   "source": [
    "Отфильтруем данные, отрезав выбросы по 99 перцентилю. Выберем границу для определения аномальных заказов"
   ]
  },
  {
   "cell_type": "code",
   "execution_count": 38,
   "id": "c1d5788f",
   "metadata": {},
   "outputs": [
    {
     "data": {
      "text/html": [
       "<div>\n",
       "<style scoped>\n",
       "    .dataframe tbody tr th:only-of-type {\n",
       "        vertical-align: middle;\n",
       "    }\n",
       "\n",
       "    .dataframe tbody tr th {\n",
       "        vertical-align: top;\n",
       "    }\n",
       "\n",
       "    .dataframe thead th {\n",
       "        text-align: right;\n",
       "    }\n",
       "</style>\n",
       "<table border=\"1\" class=\"dataframe\">\n",
       "  <thead>\n",
       "    <tr style=\"text-align: right;\">\n",
       "      <th></th>\n",
       "      <th>visitorId</th>\n",
       "      <th>transactionId</th>\n",
       "    </tr>\n",
       "  </thead>\n",
       "  <tbody>\n",
       "    <tr>\n",
       "      <th>0</th>\n",
       "      <td>5114589</td>\n",
       "      <td>1</td>\n",
       "    </tr>\n",
       "    <tr>\n",
       "      <th>1</th>\n",
       "      <td>6958315</td>\n",
       "      <td>1</td>\n",
       "    </tr>\n",
       "    <tr>\n",
       "      <th>2</th>\n",
       "      <td>8300375</td>\n",
       "      <td>2</td>\n",
       "    </tr>\n",
       "    <tr>\n",
       "      <th>3</th>\n",
       "      <td>11685486</td>\n",
       "      <td>1</td>\n",
       "    </tr>\n",
       "    <tr>\n",
       "      <th>4</th>\n",
       "      <td>39475350</td>\n",
       "      <td>1</td>\n",
       "    </tr>\n",
       "    <tr>\n",
       "      <th>...</th>\n",
       "      <td>...</td>\n",
       "      <td>...</td>\n",
       "    </tr>\n",
       "    <tr>\n",
       "      <th>1026</th>\n",
       "      <td>4266935830</td>\n",
       "      <td>2</td>\n",
       "    </tr>\n",
       "    <tr>\n",
       "      <th>1027</th>\n",
       "      <td>4278982564</td>\n",
       "      <td>1</td>\n",
       "    </tr>\n",
       "    <tr>\n",
       "      <th>1028</th>\n",
       "      <td>4279090005</td>\n",
       "      <td>1</td>\n",
       "    </tr>\n",
       "    <tr>\n",
       "      <th>1029</th>\n",
       "      <td>4281247801</td>\n",
       "      <td>1</td>\n",
       "    </tr>\n",
       "    <tr>\n",
       "      <th>1030</th>\n",
       "      <td>4283872382</td>\n",
       "      <td>1</td>\n",
       "    </tr>\n",
       "  </tbody>\n",
       "</table>\n",
       "<p>1018 rows × 2 columns</p>\n",
       "</div>"
      ],
      "text/plain": [
       "       visitorId  transactionId\n",
       "0        5114589              1\n",
       "1        6958315              1\n",
       "2        8300375              2\n",
       "3       11685486              1\n",
       "4       39475350              1\n",
       "...          ...            ...\n",
       "1026  4266935830              2\n",
       "1027  4278982564              1\n",
       "1028  4279090005              1\n",
       "1029  4281247801              1\n",
       "1030  4283872382              1\n",
       "\n",
       "[1018 rows x 2 columns]"
      ]
     },
     "execution_count": 38,
     "metadata": {},
     "output_type": "execute_result"
    }
   ],
   "source": [
    "#отфильтруем данные \n",
    "filtered = orders_per_user[orders_per_user['transactionId'] < 4]\n",
    "filtered"
   ]
  },
  {
   "cell_type": "markdown",
   "id": "63072fc9",
   "metadata": {},
   "source": [
    "**Точечный график стоимостей заказов**"
   ]
  },
  {
   "cell_type": "code",
   "execution_count": 39,
   "id": "d1949d34",
   "metadata": {},
   "outputs": [
    {
     "data": {
      "image/png": "[encoded data removed]",
      "text/plain": [
       "<Figure size 720x432 with 1 Axes>"
      ]
     },
     "metadata": {
      "needs_background": "light"
     },
     "output_type": "display_data"
    }
   ],
   "source": [
    "# Создаем точечный график\n",
    "plt.figure(figsize=(10, 6))\n",
    "plt.scatter(orders.index, orders['revenue'], alpha=0.5)\n",
    "plt.title('Стоимость заказов')\n",
    "#plt.xlabel('Пользователь')\n",
    "plt.ylabel('Стоимость заказов')\n",
    "plt.show()"
   ]
  },
  {
   "cell_type": "markdown",
   "id": "745d3376",
   "metadata": {},
   "source": [
    "Точно также в данных по стоимости заказов есть выбросы, которые необходимо рассмотреть более детально"
   ]
  },
  {
   "cell_type": "markdown",
   "id": "8964615b",
   "metadata": {},
   "source": [
    "**Посчитайте 95-й и 99-й перцентили стоимости заказов**"
   ]
  },
  {
   "cell_type": "code",
   "execution_count": 40,
   "id": "cede955f",
   "metadata": {},
   "outputs": [
    {
     "data": {
      "text/plain": [
       "count    1.197000e+03\n",
       "mean     8.348006e+03\n",
       "std      3.919113e+04\n",
       "min      5.000000e+01\n",
       "25%      1.220000e+03\n",
       "50%      2.978000e+03\n",
       "75%      8.290000e+03\n",
       "max      1.294500e+06\n",
       "Name: revenue, dtype: float64"
      ]
     },
     "execution_count": 40,
     "metadata": {},
     "output_type": "execute_result"
    }
   ],
   "source": [
    "orders['revenue'].describe()"
   ]
  },
  {
   "cell_type": "markdown",
   "id": "eeab8684",
   "metadata": {},
   "source": [
    "Данные содержат выбросы. Среднее значение сильно отличается от медианного. Также в данных большой разброс на что указывает высокое значение стандартного отклонения. "
   ]
  },
  {
   "cell_type": "code",
   "execution_count": 41,
   "id": "efc3c389",
   "metadata": {},
   "outputs": [
    {
     "data": {
      "text/plain": [
       "<AxesSubplot:>"
      ]
     },
     "execution_count": 41,
     "metadata": {},
     "output_type": "execute_result"
    },
    {
     "data": {
      "image/png": "[encoded data removed]",
      "text/plain": [
       "<Figure size 432x288 with 1 Axes>"
      ]
     },
     "metadata": {
      "needs_background": "light"
     },
     "output_type": "display_data"
    }
   ],
   "source": [
    "orders['revenue'].hist(range=(0,58233))"
   ]
  },
  {
   "cell_type": "code",
   "execution_count": 42,
   "id": "db8f3d0b",
   "metadata": {},
   "outputs": [
    {
     "data": {
      "text/plain": [
       "0.95    28000.0\n",
       "0.96    31382.0\n",
       "0.97    35485.0\n",
       "0.98    44133.2\n",
       "0.99    58233.2\n",
       "Name: revenue, dtype: float64"
      ]
     },
     "execution_count": 42,
     "metadata": {},
     "output_type": "execute_result"
    }
   ],
   "source": [
    "# Рассмотрим значения на разных перцентилей и выберем границу для определения аномальных заказов\n",
    "(orders['revenue']\n",
    "    .quantile([.95,.96,.97,.98,.99])\n",
    ")"
   ]
  },
  {
   "cell_type": "markdown",
   "id": "9c6360cf",
   "metadata": {},
   "source": [
    "Отфильтруем данные отчистив от выбросов по 99 перцентилю в 58 тыс. "
   ]
  },
  {
   "cell_type": "code",
   "execution_count": 43,
   "id": "52ca4eea",
   "metadata": {},
   "outputs": [
    {
     "data": {
      "text/html": [
       "<div>\n",
       "<style scoped>\n",
       "    .dataframe tbody tr th:only-of-type {\n",
       "        vertical-align: middle;\n",
       "    }\n",
       "\n",
       "    .dataframe tbody tr th {\n",
       "        vertical-align: top;\n",
       "    }\n",
       "\n",
       "    .dataframe thead th {\n",
       "        text-align: right;\n",
       "    }\n",
       "</style>\n",
       "<table border=\"1\" class=\"dataframe\">\n",
       "  <thead>\n",
       "    <tr style=\"text-align: right;\">\n",
       "      <th></th>\n",
       "      <th>transactionId</th>\n",
       "      <th>visitorId</th>\n",
       "      <th>date</th>\n",
       "      <th>revenue</th>\n",
       "      <th>group</th>\n",
       "    </tr>\n",
       "  </thead>\n",
       "  <tbody>\n",
       "    <tr>\n",
       "      <th>0</th>\n",
       "      <td>3667963787</td>\n",
       "      <td>3312258926</td>\n",
       "      <td>2019-08-15</td>\n",
       "      <td>1650</td>\n",
       "      <td>B</td>\n",
       "    </tr>\n",
       "    <tr>\n",
       "      <th>1</th>\n",
       "      <td>2804400009</td>\n",
       "      <td>3642806036</td>\n",
       "      <td>2019-08-15</td>\n",
       "      <td>730</td>\n",
       "      <td>B</td>\n",
       "    </tr>\n",
       "    <tr>\n",
       "      <th>2</th>\n",
       "      <td>2961555356</td>\n",
       "      <td>4069496402</td>\n",
       "      <td>2019-08-15</td>\n",
       "      <td>400</td>\n",
       "      <td>A</td>\n",
       "    </tr>\n",
       "    <tr>\n",
       "      <th>3</th>\n",
       "      <td>3797467345</td>\n",
       "      <td>1196621759</td>\n",
       "      <td>2019-08-15</td>\n",
       "      <td>9759</td>\n",
       "      <td>B</td>\n",
       "    </tr>\n",
       "    <tr>\n",
       "      <th>4</th>\n",
       "      <td>2282983706</td>\n",
       "      <td>2322279887</td>\n",
       "      <td>2019-08-15</td>\n",
       "      <td>2308</td>\n",
       "      <td>B</td>\n",
       "    </tr>\n",
       "    <tr>\n",
       "      <th>...</th>\n",
       "      <td>...</td>\n",
       "      <td>...</td>\n",
       "      <td>...</td>\n",
       "      <td>...</td>\n",
       "      <td>...</td>\n",
       "    </tr>\n",
       "    <tr>\n",
       "      <th>1191</th>\n",
       "      <td>3592955527</td>\n",
       "      <td>608641596</td>\n",
       "      <td>2019-08-14</td>\n",
       "      <td>16490</td>\n",
       "      <td>B</td>\n",
       "    </tr>\n",
       "    <tr>\n",
       "      <th>1192</th>\n",
       "      <td>2662137336</td>\n",
       "      <td>3733762160</td>\n",
       "      <td>2019-08-14</td>\n",
       "      <td>6490</td>\n",
       "      <td>B</td>\n",
       "    </tr>\n",
       "    <tr>\n",
       "      <th>1193</th>\n",
       "      <td>2203539145</td>\n",
       "      <td>370388673</td>\n",
       "      <td>2019-08-14</td>\n",
       "      <td>3190</td>\n",
       "      <td>A</td>\n",
       "    </tr>\n",
       "    <tr>\n",
       "      <th>1194</th>\n",
       "      <td>1807773912</td>\n",
       "      <td>573423106</td>\n",
       "      <td>2019-08-14</td>\n",
       "      <td>10550</td>\n",
       "      <td>A</td>\n",
       "    </tr>\n",
       "    <tr>\n",
       "      <th>1195</th>\n",
       "      <td>1947021204</td>\n",
       "      <td>1614305549</td>\n",
       "      <td>2019-08-14</td>\n",
       "      <td>100</td>\n",
       "      <td>A</td>\n",
       "    </tr>\n",
       "  </tbody>\n",
       "</table>\n",
       "<p>1185 rows × 5 columns</p>\n",
       "</div>"
      ],
      "text/plain": [
       "      transactionId   visitorId       date  revenue group\n",
       "0        3667963787  3312258926 2019-08-15     1650     B\n",
       "1        2804400009  3642806036 2019-08-15      730     B\n",
       "2        2961555356  4069496402 2019-08-15      400     A\n",
       "3        3797467345  1196621759 2019-08-15     9759     B\n",
       "4        2282983706  2322279887 2019-08-15     2308     B\n",
       "...             ...         ...        ...      ...   ...\n",
       "1191     3592955527   608641596 2019-08-14    16490     B\n",
       "1192     2662137336  3733762160 2019-08-14     6490     B\n",
       "1193     2203539145   370388673 2019-08-14     3190     A\n",
       "1194     1807773912   573423106 2019-08-14    10550     A\n",
       "1195     1947021204  1614305549 2019-08-14      100     A\n",
       "\n",
       "[1185 rows x 5 columns]"
      ]
     },
     "execution_count": 43,
     "metadata": {},
     "output_type": "execute_result"
    }
   ],
   "source": [
    "#фильтруем данные\n",
    "percentile_revenue = np.percentile(orders['revenue'], 99)\n",
    "filtered_revenue = orders[orders['revenue'] < percentile_revenue]\n",
    "filtered_revenue"
   ]
  },
  {
   "cell_type": "markdown",
   "id": "0d5ca93d",
   "metadata": {},
   "source": [
    "**Отфильтруем сырые данные для дальнейшего анализа**"
   ]
  },
  {
   "cell_type": "code",
   "execution_count": 44,
   "id": "39d28a2d",
   "metadata": {},
   "outputs": [
    {
     "data": {
      "text/html": [
       "<div>\n",
       "<style scoped>\n",
       "    .dataframe tbody tr th:only-of-type {\n",
       "        vertical-align: middle;\n",
       "    }\n",
       "\n",
       "    .dataframe tbody tr th {\n",
       "        vertical-align: top;\n",
       "    }\n",
       "\n",
       "    .dataframe thead th {\n",
       "        text-align: right;\n",
       "    }\n",
       "</style>\n",
       "<table border=\"1\" class=\"dataframe\">\n",
       "  <thead>\n",
       "    <tr style=\"text-align: right;\">\n",
       "      <th></th>\n",
       "      <th>transactionId_x</th>\n",
       "      <th>visitorId</th>\n",
       "      <th>date</th>\n",
       "      <th>revenue</th>\n",
       "      <th>group</th>\n",
       "      <th>transactionId_y</th>\n",
       "    </tr>\n",
       "  </thead>\n",
       "  <tbody>\n",
       "    <tr>\n",
       "      <th>0</th>\n",
       "      <td>3667963787</td>\n",
       "      <td>3312258926</td>\n",
       "      <td>2019-08-15</td>\n",
       "      <td>1650</td>\n",
       "      <td>B</td>\n",
       "      <td>1</td>\n",
       "    </tr>\n",
       "    <tr>\n",
       "      <th>1</th>\n",
       "      <td>2804400009</td>\n",
       "      <td>3642806036</td>\n",
       "      <td>2019-08-15</td>\n",
       "      <td>730</td>\n",
       "      <td>B</td>\n",
       "      <td>1</td>\n",
       "    </tr>\n",
       "    <tr>\n",
       "      <th>2</th>\n",
       "      <td>2961555356</td>\n",
       "      <td>4069496402</td>\n",
       "      <td>2019-08-15</td>\n",
       "      <td>400</td>\n",
       "      <td>A</td>\n",
       "      <td>2</td>\n",
       "    </tr>\n",
       "    <tr>\n",
       "      <th>3</th>\n",
       "      <td>1473132782</td>\n",
       "      <td>4069496402</td>\n",
       "      <td>2019-08-12</td>\n",
       "      <td>640</td>\n",
       "      <td>B</td>\n",
       "      <td>2</td>\n",
       "    </tr>\n",
       "    <tr>\n",
       "      <th>4</th>\n",
       "      <td>3797467345</td>\n",
       "      <td>1196621759</td>\n",
       "      <td>2019-08-15</td>\n",
       "      <td>9759</td>\n",
       "      <td>B</td>\n",
       "      <td>1</td>\n",
       "    </tr>\n",
       "    <tr>\n",
       "      <th>...</th>\n",
       "      <td>...</td>\n",
       "      <td>...</td>\n",
       "      <td>...</td>\n",
       "      <td>...</td>\n",
       "      <td>...</td>\n",
       "      <td>...</td>\n",
       "    </tr>\n",
       "    <tr>\n",
       "      <th>1099</th>\n",
       "      <td>38478481</td>\n",
       "      <td>1197745035</td>\n",
       "      <td>2019-08-14</td>\n",
       "      <td>8600</td>\n",
       "      <td>B</td>\n",
       "      <td>1</td>\n",
       "    </tr>\n",
       "    <tr>\n",
       "      <th>1100</th>\n",
       "      <td>3592955527</td>\n",
       "      <td>608641596</td>\n",
       "      <td>2019-08-14</td>\n",
       "      <td>16490</td>\n",
       "      <td>B</td>\n",
       "      <td>1</td>\n",
       "    </tr>\n",
       "    <tr>\n",
       "      <th>1101</th>\n",
       "      <td>2662137336</td>\n",
       "      <td>3733762160</td>\n",
       "      <td>2019-08-14</td>\n",
       "      <td>6490</td>\n",
       "      <td>B</td>\n",
       "      <td>1</td>\n",
       "    </tr>\n",
       "    <tr>\n",
       "      <th>1102</th>\n",
       "      <td>2203539145</td>\n",
       "      <td>370388673</td>\n",
       "      <td>2019-08-14</td>\n",
       "      <td>3190</td>\n",
       "      <td>A</td>\n",
       "      <td>1</td>\n",
       "    </tr>\n",
       "    <tr>\n",
       "      <th>1103</th>\n",
       "      <td>1807773912</td>\n",
       "      <td>573423106</td>\n",
       "      <td>2019-08-14</td>\n",
       "      <td>10550</td>\n",
       "      <td>A</td>\n",
       "      <td>1</td>\n",
       "    </tr>\n",
       "  </tbody>\n",
       "</table>\n",
       "<p>1104 rows × 6 columns</p>\n",
       "</div>"
      ],
      "text/plain": [
       "      transactionId_x   visitorId       date  revenue group  transactionId_y\n",
       "0          3667963787  3312258926 2019-08-15     1650     B                1\n",
       "1          2804400009  3642806036 2019-08-15      730     B                1\n",
       "2          2961555356  4069496402 2019-08-15      400     A                2\n",
       "3          1473132782  4069496402 2019-08-12      640     B                2\n",
       "4          3797467345  1196621759 2019-08-15     9759     B                1\n",
       "...               ...         ...        ...      ...   ...              ...\n",
       "1099         38478481  1197745035 2019-08-14     8600     B                1\n",
       "1100       3592955527   608641596 2019-08-14    16490     B                1\n",
       "1101       2662137336  3733762160 2019-08-14     6490     B                1\n",
       "1102       2203539145   370388673 2019-08-14     3190     A                1\n",
       "1103       1807773912   573423106 2019-08-14    10550     A                1\n",
       "\n",
       "[1104 rows x 6 columns]"
      ]
     },
     "execution_count": 44,
     "metadata": {},
     "output_type": "execute_result"
    }
   ],
   "source": [
    "#объеденим filtered и filtered_revenue и получим отфильтрованные данные\n",
    "filtered_data = filtered_revenue.merge(filtered, on='visitorId', how='inner')\n",
    "filtered_data"
   ]
  },
  {
   "cell_type": "markdown",
   "id": "1b4e27e5",
   "metadata": {},
   "source": [
    "Проферим filtered_data "
   ]
  },
  {
   "cell_type": "code",
   "execution_count": 45,
   "id": "ff0480d3",
   "metadata": {},
   "outputs": [
    {
     "name": "stdout",
     "output_type": "stream",
     "text": [
      "<class 'pandas.core.frame.DataFrame'>\n",
      "Int64Index: 1104 entries, 0 to 1103\n",
      "Data columns (total 6 columns):\n",
      " #   Column           Non-Null Count  Dtype         \n",
      "---  ------           --------------  -----         \n",
      " 0   transactionId_x  1104 non-null   int64         \n",
      " 1   visitorId        1104 non-null   int64         \n",
      " 2   date             1104 non-null   datetime64[ns]\n",
      " 3   revenue          1104 non-null   int64         \n",
      " 4   group            1104 non-null   object        \n",
      " 5   transactionId_y  1104 non-null   int64         \n",
      "dtypes: datetime64[ns](1), int64(4), object(1)\n",
      "memory usage: 60.4+ KB\n"
     ]
    }
   ],
   "source": [
    "filtered_data.info()"
   ]
  },
  {
   "cell_type": "code",
   "execution_count": 46,
   "id": "f0481bf7",
   "metadata": {},
   "outputs": [
    {
     "data": {
      "text/plain": [
       "0"
      ]
     },
     "execution_count": 46,
     "metadata": {},
     "output_type": "execute_result"
    }
   ],
   "source": [
    "filtered_data.duplicated().sum()"
   ]
  },
  {
   "cell_type": "code",
   "execution_count": 47,
   "id": "39b8a2e4",
   "metadata": {},
   "outputs": [
    {
     "data": {
      "text/plain": [
       "count    1104.000000\n",
       "mean        1.205616\n",
       "std         0.505926\n",
       "min         1.000000\n",
       "25%         1.000000\n",
       "50%         1.000000\n",
       "75%         1.000000\n",
       "max         3.000000\n",
       "Name: transactionId_y, dtype: float64"
      ]
     },
     "execution_count": 47,
     "metadata": {},
     "output_type": "execute_result"
    }
   ],
   "source": [
    "filtered_data['transactionId_y'].describe()"
   ]
  },
  {
   "cell_type": "code",
   "execution_count": 48,
   "id": "73c73e8f",
   "metadata": {},
   "outputs": [
    {
     "data": {
      "text/plain": [
       "count     1104.000000\n",
       "mean      6468.140399\n",
       "std       8723.756547\n",
       "min         50.000000\n",
       "25%       1190.000000\n",
       "50%       2955.000000\n",
       "75%       8022.500000\n",
       "max      53904.000000\n",
       "Name: revenue, dtype: float64"
      ]
     },
     "execution_count": 48,
     "metadata": {},
     "output_type": "execute_result"
    }
   ],
   "source": [
    "filtered_data['revenue'].describe()"
   ]
  },
  {
   "cell_type": "code",
   "execution_count": 49,
   "id": "5d7eaae4",
   "metadata": {},
   "outputs": [
    {
     "data": {
      "text/html": [
       "<div>\n",
       "<style scoped>\n",
       "    .dataframe tbody tr th:only-of-type {\n",
       "        vertical-align: middle;\n",
       "    }\n",
       "\n",
       "    .dataframe tbody tr th {\n",
       "        vertical-align: top;\n",
       "    }\n",
       "\n",
       "    .dataframe thead th {\n",
       "        text-align: right;\n",
       "    }\n",
       "</style>\n",
       "<table border=\"1\" class=\"dataframe\">\n",
       "  <thead>\n",
       "    <tr style=\"text-align: right;\">\n",
       "      <th></th>\n",
       "      <th>transactionId</th>\n",
       "      <th>visitorId</th>\n",
       "      <th>date</th>\n",
       "      <th>revenue</th>\n",
       "      <th>group</th>\n",
       "      <th>transaction_count</th>\n",
       "    </tr>\n",
       "  </thead>\n",
       "  <tbody>\n",
       "    <tr>\n",
       "      <th>0</th>\n",
       "      <td>3667963787</td>\n",
       "      <td>3312258926</td>\n",
       "      <td>2019-08-15</td>\n",
       "      <td>1650</td>\n",
       "      <td>B</td>\n",
       "      <td>1</td>\n",
       "    </tr>\n",
       "    <tr>\n",
       "      <th>1</th>\n",
       "      <td>2804400009</td>\n",
       "      <td>3642806036</td>\n",
       "      <td>2019-08-15</td>\n",
       "      <td>730</td>\n",
       "      <td>B</td>\n",
       "      <td>1</td>\n",
       "    </tr>\n",
       "    <tr>\n",
       "      <th>2</th>\n",
       "      <td>2961555356</td>\n",
       "      <td>4069496402</td>\n",
       "      <td>2019-08-15</td>\n",
       "      <td>400</td>\n",
       "      <td>A</td>\n",
       "      <td>2</td>\n",
       "    </tr>\n",
       "    <tr>\n",
       "      <th>3</th>\n",
       "      <td>1473132782</td>\n",
       "      <td>4069496402</td>\n",
       "      <td>2019-08-12</td>\n",
       "      <td>640</td>\n",
       "      <td>B</td>\n",
       "      <td>2</td>\n",
       "    </tr>\n",
       "    <tr>\n",
       "      <th>4</th>\n",
       "      <td>3797467345</td>\n",
       "      <td>1196621759</td>\n",
       "      <td>2019-08-15</td>\n",
       "      <td>9759</td>\n",
       "      <td>B</td>\n",
       "      <td>1</td>\n",
       "    </tr>\n",
       "    <tr>\n",
       "      <th>...</th>\n",
       "      <td>...</td>\n",
       "      <td>...</td>\n",
       "      <td>...</td>\n",
       "      <td>...</td>\n",
       "      <td>...</td>\n",
       "      <td>...</td>\n",
       "    </tr>\n",
       "    <tr>\n",
       "      <th>1099</th>\n",
       "      <td>38478481</td>\n",
       "      <td>1197745035</td>\n",
       "      <td>2019-08-14</td>\n",
       "      <td>8600</td>\n",
       "      <td>B</td>\n",
       "      <td>1</td>\n",
       "    </tr>\n",
       "    <tr>\n",
       "      <th>1100</th>\n",
       "      <td>3592955527</td>\n",
       "      <td>608641596</td>\n",
       "      <td>2019-08-14</td>\n",
       "      <td>16490</td>\n",
       "      <td>B</td>\n",
       "      <td>1</td>\n",
       "    </tr>\n",
       "    <tr>\n",
       "      <th>1101</th>\n",
       "      <td>2662137336</td>\n",
       "      <td>3733762160</td>\n",
       "      <td>2019-08-14</td>\n",
       "      <td>6490</td>\n",
       "      <td>B</td>\n",
       "      <td>1</td>\n",
       "    </tr>\n",
       "    <tr>\n",
       "      <th>1102</th>\n",
       "      <td>2203539145</td>\n",
       "      <td>370388673</td>\n",
       "      <td>2019-08-14</td>\n",
       "      <td>3190</td>\n",
       "      <td>A</td>\n",
       "      <td>1</td>\n",
       "    </tr>\n",
       "    <tr>\n",
       "      <th>1103</th>\n",
       "      <td>1807773912</td>\n",
       "      <td>573423106</td>\n",
       "      <td>2019-08-14</td>\n",
       "      <td>10550</td>\n",
       "      <td>A</td>\n",
       "      <td>1</td>\n",
       "    </tr>\n",
       "  </tbody>\n",
       "</table>\n",
       "<p>1104 rows × 6 columns</p>\n",
       "</div>"
      ],
      "text/plain": [
       "      transactionId   visitorId       date  revenue group  transaction_count\n",
       "0        3667963787  3312258926 2019-08-15     1650     B                  1\n",
       "1        2804400009  3642806036 2019-08-15      730     B                  1\n",
       "2        2961555356  4069496402 2019-08-15      400     A                  2\n",
       "3        1473132782  4069496402 2019-08-12      640     B                  2\n",
       "4        3797467345  1196621759 2019-08-15     9759     B                  1\n",
       "...             ...         ...        ...      ...   ...                ...\n",
       "1099       38478481  1197745035 2019-08-14     8600     B                  1\n",
       "1100     3592955527   608641596 2019-08-14    16490     B                  1\n",
       "1101     2662137336  3733762160 2019-08-14     6490     B                  1\n",
       "1102     2203539145   370388673 2019-08-14     3190     A                  1\n",
       "1103     1807773912   573423106 2019-08-14    10550     A                  1\n",
       "\n",
       "[1104 rows x 6 columns]"
      ]
     },
     "execution_count": 49,
     "metadata": {},
     "output_type": "execute_result"
    }
   ],
   "source": [
    "#переименуем названия столбцов\n",
    "filtered_data.columns = ['transactionId', 'visitorId', 'date', 'revenue', 'group', 'transaction_count'] \n",
    "filtered_data"
   ]
  },
  {
   "cell_type": "markdown",
   "id": "2e7ccc56",
   "metadata": {},
   "source": [
    "Новый датафрейм не содержит выбросов, пропусков и дубликатов"
   ]
  },
  {
   "cell_type": "markdown",
   "id": "9dae8e4b",
   "metadata": {},
   "source": [
    "**Посчитайте статистическую значимость различий в среднем количестве заказов на посетителя между группами по «сырым» данным.**"
   ]
  },
  {
   "cell_type": "markdown",
   "id": "57259299",
   "metadata": {},
   "source": [
    "Создадим выборку с количеством заказов для пользователей в группе A и добавим нули для тех пользователей, которые не сделали заказов"
   ]
  },
  {
   "cell_type": "code",
   "execution_count": 50,
   "id": "979b4515",
   "metadata": {},
   "outputs": [
    {
     "data": {
      "text/html": [
       "<div>\n",
       "<style scoped>\n",
       "    .dataframe tbody tr th:only-of-type {\n",
       "        vertical-align: middle;\n",
       "    }\n",
       "\n",
       "    .dataframe tbody tr th {\n",
       "        vertical-align: top;\n",
       "    }\n",
       "\n",
       "    .dataframe thead th {\n",
       "        text-align: right;\n",
       "    }\n",
       "</style>\n",
       "<table border=\"1\" class=\"dataframe\">\n",
       "  <thead>\n",
       "    <tr style=\"text-align: right;\">\n",
       "      <th></th>\n",
       "      <th>visitorId</th>\n",
       "      <th>orders</th>\n",
       "    </tr>\n",
       "  </thead>\n",
       "  <tbody>\n",
       "    <tr>\n",
       "      <th>0</th>\n",
       "      <td>8300375</td>\n",
       "      <td>1</td>\n",
       "    </tr>\n",
       "    <tr>\n",
       "      <th>1</th>\n",
       "      <td>11685486</td>\n",
       "      <td>1</td>\n",
       "    </tr>\n",
       "    <tr>\n",
       "      <th>2</th>\n",
       "      <td>54447517</td>\n",
       "      <td>1</td>\n",
       "    </tr>\n",
       "    <tr>\n",
       "      <th>3</th>\n",
       "      <td>66685450</td>\n",
       "      <td>1</td>\n",
       "    </tr>\n",
       "    <tr>\n",
       "      <th>4</th>\n",
       "      <td>78758296</td>\n",
       "      <td>1</td>\n",
       "    </tr>\n",
       "    <tr>\n",
       "      <th>...</th>\n",
       "      <td>...</td>\n",
       "      <td>...</td>\n",
       "    </tr>\n",
       "    <tr>\n",
       "      <th>498</th>\n",
       "      <td>4243832526</td>\n",
       "      <td>1</td>\n",
       "    </tr>\n",
       "    <tr>\n",
       "      <th>499</th>\n",
       "      <td>4256040402</td>\n",
       "      <td>7</td>\n",
       "    </tr>\n",
       "    <tr>\n",
       "      <th>500</th>\n",
       "      <td>4259830713</td>\n",
       "      <td>1</td>\n",
       "    </tr>\n",
       "    <tr>\n",
       "      <th>501</th>\n",
       "      <td>4266935830</td>\n",
       "      <td>1</td>\n",
       "    </tr>\n",
       "    <tr>\n",
       "      <th>502</th>\n",
       "      <td>4278982564</td>\n",
       "      <td>1</td>\n",
       "    </tr>\n",
       "  </tbody>\n",
       "</table>\n",
       "<p>503 rows × 2 columns</p>\n",
       "</div>"
      ],
      "text/plain": [
       "      visitorId  orders\n",
       "0       8300375       1\n",
       "1      11685486       1\n",
       "2      54447517       1\n",
       "3      66685450       1\n",
       "4      78758296       1\n",
       "..          ...     ...\n",
       "498  4243832526       1\n",
       "499  4256040402       7\n",
       "500  4259830713       1\n",
       "501  4266935830       1\n",
       "502  4278982564       1\n",
       "\n",
       "[503 rows x 2 columns]"
      ]
     },
     "execution_count": 50,
     "metadata": {},
     "output_type": "execute_result"
    }
   ],
   "source": [
    "ordersByUsersA = (\n",
    "    orders[orders['group'] == 'A']\n",
    "    .groupby('visitorId', as_index=False)\n",
    "    .agg({'transactionId': pd.Series.nunique})\n",
    ")\n",
    "ordersByUsersA.columns = ['visitorId', 'orders']\n",
    "ordersByUsersA"
   ]
  },
  {
   "cell_type": "code",
   "execution_count": 51,
   "id": "0b5c23f2",
   "metadata": {},
   "outputs": [
    {
     "data": {
      "text/plain": [
       "0        1\n",
       "1        1\n",
       "2        1\n",
       "3        1\n",
       "4        1\n",
       "        ..\n",
       "18228    0\n",
       "18229    0\n",
       "18230    0\n",
       "18231    0\n",
       "18232    0\n",
       "Name: orders, Length: 18736, dtype: int64"
      ]
     },
     "execution_count": 51,
     "metadata": {},
     "output_type": "execute_result"
    }
   ],
   "source": [
    "sampleA = pd.concat(\n",
    "    [\n",
    "        ordersByUsersA['orders'],\n",
    "        pd.Series(\n",
    "            0,\n",
    "            index = np.arange(\n",
    "                cummulativeData[cummulativeData['group'] == 'A']['visitors'].max() - len(ordersByUsersA['orders'])\n",
    "            ),\n",
    "            name='orders',\n",
    "        ),\n",
    "    ],\n",
    "    axis=0,\n",
    ")\n",
    "sampleA"
   ]
  },
  {
   "cell_type": "markdown",
   "id": "48112d17",
   "metadata": {},
   "source": [
    "Тоже самое сделаем для пользователей в группе В"
   ]
  },
  {
   "cell_type": "code",
   "execution_count": 52,
   "id": "0b57c4c0",
   "metadata": {},
   "outputs": [
    {
     "data": {
      "text/html": [
       "<div>\n",
       "<style scoped>\n",
       "    .dataframe tbody tr th:only-of-type {\n",
       "        vertical-align: middle;\n",
       "    }\n",
       "\n",
       "    .dataframe tbody tr th {\n",
       "        vertical-align: top;\n",
       "    }\n",
       "\n",
       "    .dataframe thead th {\n",
       "        text-align: right;\n",
       "    }\n",
       "</style>\n",
       "<table border=\"1\" class=\"dataframe\">\n",
       "  <thead>\n",
       "    <tr style=\"text-align: right;\">\n",
       "      <th></th>\n",
       "      <th>visitorId</th>\n",
       "      <th>orders</th>\n",
       "    </tr>\n",
       "  </thead>\n",
       "  <tbody>\n",
       "    <tr>\n",
       "      <th>0</th>\n",
       "      <td>5114589</td>\n",
       "      <td>1</td>\n",
       "    </tr>\n",
       "    <tr>\n",
       "      <th>1</th>\n",
       "      <td>6958315</td>\n",
       "      <td>1</td>\n",
       "    </tr>\n",
       "    <tr>\n",
       "      <th>2</th>\n",
       "      <td>8300375</td>\n",
       "      <td>1</td>\n",
       "    </tr>\n",
       "    <tr>\n",
       "      <th>3</th>\n",
       "      <td>39475350</td>\n",
       "      <td>1</td>\n",
       "    </tr>\n",
       "    <tr>\n",
       "      <th>4</th>\n",
       "      <td>47206413</td>\n",
       "      <td>1</td>\n",
       "    </tr>\n",
       "    <tr>\n",
       "      <th>...</th>\n",
       "      <td>...</td>\n",
       "      <td>...</td>\n",
       "    </tr>\n",
       "    <tr>\n",
       "      <th>581</th>\n",
       "      <td>4258103007</td>\n",
       "      <td>1</td>\n",
       "    </tr>\n",
       "    <tr>\n",
       "      <th>582</th>\n",
       "      <td>4266935830</td>\n",
       "      <td>1</td>\n",
       "    </tr>\n",
       "    <tr>\n",
       "      <th>583</th>\n",
       "      <td>4279090005</td>\n",
       "      <td>1</td>\n",
       "    </tr>\n",
       "    <tr>\n",
       "      <th>584</th>\n",
       "      <td>4281247801</td>\n",
       "      <td>1</td>\n",
       "    </tr>\n",
       "    <tr>\n",
       "      <th>585</th>\n",
       "      <td>4283872382</td>\n",
       "      <td>1</td>\n",
       "    </tr>\n",
       "  </tbody>\n",
       "</table>\n",
       "<p>586 rows × 2 columns</p>\n",
       "</div>"
      ],
      "text/plain": [
       "      visitorId  orders\n",
       "0       5114589       1\n",
       "1       6958315       1\n",
       "2       8300375       1\n",
       "3      39475350       1\n",
       "4      47206413       1\n",
       "..          ...     ...\n",
       "581  4258103007       1\n",
       "582  4266935830       1\n",
       "583  4279090005       1\n",
       "584  4281247801       1\n",
       "585  4283872382       1\n",
       "\n",
       "[586 rows x 2 columns]"
      ]
     },
     "execution_count": 52,
     "metadata": {},
     "output_type": "execute_result"
    }
   ],
   "source": [
    "ordersByUsersB = (\n",
    "    orders[orders['group'] == 'B']\n",
    "    .groupby('visitorId', as_index=False)\n",
    "    .agg({'transactionId': pd.Series.nunique})\n",
    ")\n",
    "ordersByUsersB.columns = ['visitorId', 'orders']\n",
    "ordersByUsersB"
   ]
  },
  {
   "cell_type": "code",
   "execution_count": 53,
   "id": "d4b39b79",
   "metadata": {},
   "outputs": [
    {
     "data": {
      "text/plain": [
       "0        1\n",
       "1        1\n",
       "2        1\n",
       "3        1\n",
       "4        1\n",
       "        ..\n",
       "18325    0\n",
       "18326    0\n",
       "18327    0\n",
       "18328    0\n",
       "18329    0\n",
       "Name: orders, Length: 18916, dtype: int64"
      ]
     },
     "execution_count": 53,
     "metadata": {},
     "output_type": "execute_result"
    }
   ],
   "source": [
    "sampleB = pd.concat(\n",
    "    [\n",
    "        ordersByUsersB['orders'],\n",
    "        pd.Series(\n",
    "            0,\n",
    "            index = np.arange(\n",
    "                cummulativeData[cummulativeData['group'] == 'B']['visitors'].max() - len(ordersByUsersB['orders'])\n",
    "            ),\n",
    "            name='orders',\n",
    "        ),\n",
    "    ],\n",
    "    axis=0,\n",
    ")\n",
    "sampleB"
   ]
  },
  {
   "cell_type": "markdown",
   "id": "e3700831",
   "metadata": {},
   "source": [
    "Проверим какие значения получились"
   ]
  },
  {
   "cell_type": "code",
   "execution_count": 54,
   "id": "875736a1",
   "metadata": {},
   "outputs": [
    {
     "data": {
      "text/plain": [
       "0    18233\n",
       "1      473\n",
       "2       17\n",
       "3        7\n",
       "4        3\n",
       "5        2\n",
       "7        1\n",
       "Name: orders, dtype: int64"
      ]
     },
     "execution_count": 54,
     "metadata": {},
     "output_type": "execute_result"
    }
   ],
   "source": [
    "sampleA.value_counts() "
   ]
  },
  {
   "cell_type": "code",
   "execution_count": 55,
   "id": "43c896c8",
   "metadata": {},
   "outputs": [
    {
     "data": {
      "text/plain": [
       "0    18330\n",
       "1      552\n",
       "2       23\n",
       "3        5\n",
       "4        4\n",
       "5        1\n",
       "6        1\n",
       "Name: orders, dtype: int64"
      ]
     },
     "execution_count": 55,
     "metadata": {},
     "output_type": "execute_result"
    }
   ],
   "source": [
    "sampleB.value_counts()"
   ]
  },
  {
   "cell_type": "markdown",
   "id": "10241973",
   "metadata": {},
   "source": [
    "Так как данные о количестве заказов не распределены нормально нам необходимо использовать непараметррический тест. Для сравнения двух независимых выборок и определения, есть ли статистически значимые различия между ними мы будем использовать статистический тест Манна-Уитни.\n",
    "\n",
    "Поэтому для проверки статистической значимости различий в среднем количестве заказов на посетителя будем использовать статистический тест Манна-Уитни.\n",
    "\n",
    "Н0: среднее значение количества заказов на посетителя для группы A и группы B равны.\n",
    "\n",
    "H1: средние значения количества заказов на посетителя для группы A и группы B различаются."
   ]
  },
  {
   "cell_type": "code",
   "execution_count": 56,
   "id": "e7853b96",
   "metadata": {},
   "outputs": [
    {
     "name": "stdout",
     "output_type": "stream",
     "text": [
      "p-value: 0.016792355056752608\n",
      "Есть статистически значимые различия между группами.\n"
     ]
    }
   ],
   "source": [
    "#статистический тест Манна-Уитни\n",
    "results = stats.mannwhitneyu(sampleA, sampleB)\n",
    "#Получение p-value\n",
    "p_value = results.pvalue\n",
    "print('p-value: {}'.format(p_value))\n",
    "# Оценка статистической значимости\n",
    "alpha = 0.05\n",
    "if p_value < alpha:\n",
    "    print(\"Есть статистически значимые различия между группами.\")\n",
    "else:\n",
    "    print(\"Нет статистически значимых различий между группами.\")"
   ]
  },
  {
   "cell_type": "markdown",
   "id": "ca7f8204",
   "metadata": {},
   "source": [
    "Значение P-value низкое и меньше уровня значимости. Это указывает на то, что существует статистически значимая разница между группами по среднему количеству заказов на посетителя. А маленькое значение P-value указывает на то, что вероятность получить такие различия случайно крайне мала. Этот различия в конверсии между группами (в пользу группы В) мы наблюдали и на графике ранее."
   ]
  },
  {
   "cell_type": "code",
   "execution_count": 57,
   "id": "3105f6a6",
   "metadata": {},
   "outputs": [
    {
     "data": {
      "text/plain": [
       "0.13807884655320146"
      ]
     },
     "execution_count": 57,
     "metadata": {},
     "output_type": "execute_result"
    }
   ],
   "source": [
    "sampleB.mean()/sampleA.mean()- 1"
   ]
  },
  {
   "cell_type": "markdown",
   "id": "1251490b",
   "metadata": {},
   "source": [
    "Относительный прирост конверсии группы B над группой A составил 13.8%"
   ]
  },
  {
   "cell_type": "markdown",
   "id": "ca6e4a36",
   "metadata": {},
   "source": [
    "**Посчитайте статистическую значимость различий в среднем чеке заказа между группами по «сырым» данным.**"
   ]
  },
  {
   "cell_type": "markdown",
   "id": "1998a548",
   "metadata": {},
   "source": [
    "По тем же причинам, как и в прошлом тесте, мы будем использовать статистический тест Манна-Уитни.\n",
    "\n",
    "Н0: средние чеки заказа равны для группы A и группы B.\n",
    "\n",
    "H1: средние чеки заказа различаются между группой A и группой B."
   ]
  },
  {
   "cell_type": "code",
   "execution_count": 58,
   "id": "7aea3e75",
   "metadata": {},
   "outputs": [],
   "source": [
    "#сформируем группы\n",
    "average_sampleA = orders[orders['group']=='A']['revenue']\n",
    "average_sampleB = orders[orders['group']=='B']['revenue']"
   ]
  },
  {
   "cell_type": "code",
   "execution_count": 59,
   "id": "1c1b8f03",
   "metadata": {},
   "outputs": [
    {
     "name": "stdout",
     "output_type": "stream",
     "text": [
      "p-value: 0.7292909855432458\n",
      "Нет статистически значимых различий между группами.\n"
     ]
    }
   ],
   "source": [
    "#статистический тест Манна-Уитни\n",
    "results = stats.mannwhitneyu(average_sampleA, average_sampleB)\n",
    "# Получение p-value\n",
    "p_value = results.pvalue\n",
    "print('p-value: {}'.format(p_value))\n",
    "# Оценка статистической значимости\n",
    "alpha = 0.05\n",
    "if p_value < alpha:\n",
    "    print(\"Есть статистически значимые различия между группами.\")\n",
    "else:\n",
    "    print(\"Нет статистически значимых различий между группами.\")"
   ]
  },
  {
   "cell_type": "markdown",
   "id": "2b638ef9",
   "metadata": {},
   "source": [
    "Не можем отвергнуть нулевую гипотезу, так как P-value значительно больше уровня значимости, а разница между выборками имеет случайный характер. Это указывает на остутствие наличия статистически значимых различий между группами по среднему чеку заказа. "
   ]
  },
  {
   "cell_type": "markdown",
   "id": "a0e0cbeb",
   "metadata": {},
   "source": [
    "**Посчитайте статистическую значимость различий в среднем количестве заказов на посетителя между группами по «очищенным» данным.**"
   ]
  },
  {
   "cell_type": "markdown",
   "id": "ae6a3b33",
   "metadata": {},
   "source": [
    "Подготовим отфильтрованные данные также, как уже делали ранее с сырыми."
   ]
  },
  {
   "cell_type": "code",
   "execution_count": 60,
   "id": "2f44f345",
   "metadata": {},
   "outputs": [
    {
     "data": {
      "text/html": [
       "<div>\n",
       "<style scoped>\n",
       "    .dataframe tbody tr th:only-of-type {\n",
       "        vertical-align: middle;\n",
       "    }\n",
       "\n",
       "    .dataframe tbody tr th {\n",
       "        vertical-align: top;\n",
       "    }\n",
       "\n",
       "    .dataframe thead th {\n",
       "        text-align: right;\n",
       "    }\n",
       "</style>\n",
       "<table border=\"1\" class=\"dataframe\">\n",
       "  <thead>\n",
       "    <tr style=\"text-align: right;\">\n",
       "      <th></th>\n",
       "      <th>date</th>\n",
       "      <th>group</th>\n",
       "      <th>orders</th>\n",
       "      <th>buyers</th>\n",
       "      <th>revenue</th>\n",
       "      <th>visitors</th>\n",
       "    </tr>\n",
       "  </thead>\n",
       "  <tbody>\n",
       "    <tr>\n",
       "      <th>0</th>\n",
       "      <td>2019-08-01</td>\n",
       "      <td>A</td>\n",
       "      <td>23</td>\n",
       "      <td>19</td>\n",
       "      <td>142779</td>\n",
       "      <td>719</td>\n",
       "    </tr>\n",
       "    <tr>\n",
       "      <th>1</th>\n",
       "      <td>2019-08-01</td>\n",
       "      <td>B</td>\n",
       "      <td>19</td>\n",
       "      <td>19</td>\n",
       "      <td>78258</td>\n",
       "      <td>713</td>\n",
       "    </tr>\n",
       "    <tr>\n",
       "      <th>2</th>\n",
       "      <td>2019-08-02</td>\n",
       "      <td>A</td>\n",
       "      <td>43</td>\n",
       "      <td>37</td>\n",
       "      <td>236601</td>\n",
       "      <td>1338</td>\n",
       "    </tr>\n",
       "    <tr>\n",
       "      <th>3</th>\n",
       "      <td>2019-08-02</td>\n",
       "      <td>B</td>\n",
       "      <td>42</td>\n",
       "      <td>41</td>\n",
       "      <td>240301</td>\n",
       "      <td>1294</td>\n",
       "    </tr>\n",
       "    <tr>\n",
       "      <th>4</th>\n",
       "      <td>2019-08-03</td>\n",
       "      <td>A</td>\n",
       "      <td>67</td>\n",
       "      <td>61</td>\n",
       "      <td>349074</td>\n",
       "      <td>1845</td>\n",
       "    </tr>\n",
       "    <tr>\n",
       "      <th>...</th>\n",
       "      <td>...</td>\n",
       "      <td>...</td>\n",
       "      <td>...</td>\n",
       "      <td>...</td>\n",
       "      <td>...</td>\n",
       "      <td>...</td>\n",
       "    </tr>\n",
       "    <tr>\n",
       "      <th>57</th>\n",
       "      <td>2019-08-29</td>\n",
       "      <td>B</td>\n",
       "      <td>551</td>\n",
       "      <td>526</td>\n",
       "      <td>3458183</td>\n",
       "      <td>17708</td>\n",
       "    </tr>\n",
       "    <tr>\n",
       "      <th>58</th>\n",
       "      <td>2019-08-30</td>\n",
       "      <td>A</td>\n",
       "      <td>499</td>\n",
       "      <td>473</td>\n",
       "      <td>3279469</td>\n",
       "      <td>18037</td>\n",
       "    </tr>\n",
       "    <tr>\n",
       "      <th>59</th>\n",
       "      <td>2019-08-30</td>\n",
       "      <td>B</td>\n",
       "      <td>575</td>\n",
       "      <td>549</td>\n",
       "      <td>3673416</td>\n",
       "      <td>18198</td>\n",
       "    </tr>\n",
       "    <tr>\n",
       "      <th>60</th>\n",
       "      <td>2019-08-31</td>\n",
       "      <td>A</td>\n",
       "      <td>510</td>\n",
       "      <td>483</td>\n",
       "      <td>3336132</td>\n",
       "      <td>18736</td>\n",
       "    </tr>\n",
       "    <tr>\n",
       "      <th>61</th>\n",
       "      <td>2019-08-31</td>\n",
       "      <td>B</td>\n",
       "      <td>594</td>\n",
       "      <td>568</td>\n",
       "      <td>3804695</td>\n",
       "      <td>18916</td>\n",
       "    </tr>\n",
       "  </tbody>\n",
       "</table>\n",
       "<p>62 rows × 6 columns</p>\n",
       "</div>"
      ],
      "text/plain": [
       "         date group  orders  buyers  revenue  visitors\n",
       "0  2019-08-01     A      23      19   142779       719\n",
       "1  2019-08-01     B      19      19    78258       713\n",
       "2  2019-08-02     A      43      37   236601      1338\n",
       "3  2019-08-02     B      42      41   240301      1294\n",
       "4  2019-08-03     A      67      61   349074      1845\n",
       "..        ...   ...     ...     ...      ...       ...\n",
       "57 2019-08-29     B     551     526  3458183     17708\n",
       "58 2019-08-30     A     499     473  3279469     18037\n",
       "59 2019-08-30     B     575     549  3673416     18198\n",
       "60 2019-08-31     A     510     483  3336132     18736\n",
       "61 2019-08-31     B     594     568  3804695     18916\n",
       "\n",
       "[62 rows x 6 columns]"
      ]
     },
     "execution_count": 60,
     "metadata": {},
     "output_type": "execute_result"
    }
   ],
   "source": [
    "filtered_datesGroups = filtered_data[['date', 'group']].drop_duplicates().sort_values(by='date').reset_index()\n",
    "filtered_datesGroups\n",
    "# получаем агрегированные кумулятивные по дням данные о заказах \n",
    "filtered_ordersAggregated = filtered_datesGroups.apply(lambda x: filtered_data[np.logical_and(filtered_data['date'] <= \n",
    "x['date'], filtered_data['group'] == x['group'])].agg({'date' : 'max', 'group' : 'max', \n",
    "'transactionId': pd.Series.nunique, 'visitorId' : pd.Series.nunique, 'revenue' : 'sum'}), \n",
    "axis=1).sort_values(by=['date','group'])\n",
    "filtered_ordersAggregated\n",
    "# получаем агрегированные кумулятивные по дням данные о посетителях интернет-магазина \n",
    "filtered_visitorsAggregated = filtered_datesGroups.apply(lambda x: visitors[np.logical_and(visitors['date'] \n",
    "<= x['date'], visitors['group'] == x['group'])].agg({'date' : 'max', 'group' : 'max', \n",
    "'visitors' : 'sum'}), axis=1).sort_values(by=['date','group'])\n",
    "filtered_visitorsAggregated\n",
    "# объединяем кумулятивные данные в одной таблице и присваиваем ее столбцам понятные названия\n",
    "filtered_cummulativeData = filtered_ordersAggregated.merge(filtered_visitorsAggregated, left_on=['date', 'group'], \n",
    "right_on=['date', 'group'])\n",
    "filtered_cummulativeData.columns = ['date', 'group', 'orders', 'buyers', 'revenue', 'visitors']\n",
    "filtered_cummulativeData\n"
   ]
  },
  {
   "cell_type": "code",
   "execution_count": 61,
   "id": "c0b6fa86",
   "metadata": {},
   "outputs": [
    {
     "name": "stdout",
     "output_type": "stream",
     "text": [
      "<class 'pandas.core.frame.DataFrame'>\n",
      "Int64Index: 62 entries, 0 to 61\n",
      "Data columns (total 6 columns):\n",
      " #   Column    Non-Null Count  Dtype         \n",
      "---  ------    --------------  -----         \n",
      " 0   date      62 non-null     datetime64[ns]\n",
      " 1   group     62 non-null     object        \n",
      " 2   orders    62 non-null     int64         \n",
      " 3   buyers    62 non-null     int64         \n",
      " 4   revenue   62 non-null     int64         \n",
      " 5   visitors  62 non-null     int64         \n",
      "dtypes: datetime64[ns](1), int64(4), object(1)\n",
      "memory usage: 3.4+ KB\n"
     ]
    }
   ],
   "source": [
    "filtered_cummulativeData.info() #check"
   ]
  },
  {
   "cell_type": "code",
   "execution_count": 62,
   "id": "6ef18139",
   "metadata": {},
   "outputs": [
    {
     "data": {
      "text/plain": [
       "count     62.000000\n",
       "mean     317.661290\n",
       "std      172.828157\n",
       "min       21.000000\n",
       "25%      177.750000\n",
       "50%      319.500000\n",
       "75%      459.250000\n",
       "max      640.000000\n",
       "Name: orders, dtype: float64"
      ]
     },
     "execution_count": 62,
     "metadata": {},
     "output_type": "execute_result"
    }
   ],
   "source": [
    "cummulativeData['orders'].describe() #check"
   ]
  },
  {
   "cell_type": "code",
   "execution_count": 63,
   "id": "b764c422",
   "metadata": {},
   "outputs": [
    {
     "data": {
      "text/plain": [
       "count     62.000000\n",
       "mean     292.822581\n",
       "std      158.407497\n",
       "min       19.000000\n",
       "25%      166.000000\n",
       "50%      291.500000\n",
       "75%      423.000000\n",
       "max      594.000000\n",
       "Name: orders, dtype: float64"
      ]
     },
     "execution_count": 63,
     "metadata": {},
     "output_type": "execute_result"
    }
   ],
   "source": [
    "filtered_cummulativeData['orders'].describe() #check"
   ]
  },
  {
   "cell_type": "markdown",
   "id": "d39f8be7",
   "metadata": {},
   "source": [
    "**Создаем группы с отфильтрованными данными**"
   ]
  },
  {
   "cell_type": "markdown",
   "id": "0b9874ca",
   "metadata": {},
   "source": [
    "Создадим выборку по отчищенным данным с количеством заказов для пользователей в группе A и добавим нули для тех пользователей, которые не сделали заказов"
   ]
  },
  {
   "cell_type": "code",
   "execution_count": 64,
   "id": "b26d7719",
   "metadata": {},
   "outputs": [
    {
     "data": {
      "text/html": [
       "<div>\n",
       "<style scoped>\n",
       "    .dataframe tbody tr th:only-of-type {\n",
       "        vertical-align: middle;\n",
       "    }\n",
       "\n",
       "    .dataframe tbody tr th {\n",
       "        vertical-align: top;\n",
       "    }\n",
       "\n",
       "    .dataframe thead th {\n",
       "        text-align: right;\n",
       "    }\n",
       "</style>\n",
       "<table border=\"1\" class=\"dataframe\">\n",
       "  <thead>\n",
       "    <tr style=\"text-align: right;\">\n",
       "      <th></th>\n",
       "      <th>visitorId</th>\n",
       "      <th>orders</th>\n",
       "    </tr>\n",
       "  </thead>\n",
       "  <tbody>\n",
       "    <tr>\n",
       "      <th>0</th>\n",
       "      <td>8300375</td>\n",
       "      <td>1</td>\n",
       "    </tr>\n",
       "    <tr>\n",
       "      <th>1</th>\n",
       "      <td>11685486</td>\n",
       "      <td>1</td>\n",
       "    </tr>\n",
       "    <tr>\n",
       "      <th>2</th>\n",
       "      <td>54447517</td>\n",
       "      <td>1</td>\n",
       "    </tr>\n",
       "    <tr>\n",
       "      <th>3</th>\n",
       "      <td>66685450</td>\n",
       "      <td>1</td>\n",
       "    </tr>\n",
       "    <tr>\n",
       "      <th>4</th>\n",
       "      <td>78758296</td>\n",
       "      <td>1</td>\n",
       "    </tr>\n",
       "    <tr>\n",
       "      <th>...</th>\n",
       "      <td>...</td>\n",
       "      <td>...</td>\n",
       "    </tr>\n",
       "    <tr>\n",
       "      <th>478</th>\n",
       "      <td>4227830084</td>\n",
       "      <td>1</td>\n",
       "    </tr>\n",
       "    <tr>\n",
       "      <th>479</th>\n",
       "      <td>4237561104</td>\n",
       "      <td>1</td>\n",
       "    </tr>\n",
       "    <tr>\n",
       "      <th>480</th>\n",
       "      <td>4243832526</td>\n",
       "      <td>1</td>\n",
       "    </tr>\n",
       "    <tr>\n",
       "      <th>481</th>\n",
       "      <td>4259830713</td>\n",
       "      <td>1</td>\n",
       "    </tr>\n",
       "    <tr>\n",
       "      <th>482</th>\n",
       "      <td>4278982564</td>\n",
       "      <td>1</td>\n",
       "    </tr>\n",
       "  </tbody>\n",
       "</table>\n",
       "<p>483 rows × 2 columns</p>\n",
       "</div>"
      ],
      "text/plain": [
       "      visitorId  orders\n",
       "0       8300375       1\n",
       "1      11685486       1\n",
       "2      54447517       1\n",
       "3      66685450       1\n",
       "4      78758296       1\n",
       "..          ...     ...\n",
       "478  4227830084       1\n",
       "479  4237561104       1\n",
       "480  4243832526       1\n",
       "481  4259830713       1\n",
       "482  4278982564       1\n",
       "\n",
       "[483 rows x 2 columns]"
      ]
     },
     "execution_count": 64,
     "metadata": {},
     "output_type": "execute_result"
    }
   ],
   "source": [
    "filtered_ordersByUsersA = (\n",
    "    filtered_data[filtered_data['group'] == 'A']\n",
    "    .groupby('visitorId', as_index=False)\n",
    "    .agg({'transactionId': pd.Series.nunique})\n",
    ")\n",
    "filtered_ordersByUsersA.columns = ['visitorId', 'orders']\n",
    "filtered_ordersByUsersA"
   ]
  },
  {
   "cell_type": "code",
   "execution_count": 65,
   "id": "7ec58a42",
   "metadata": {},
   "outputs": [
    {
     "data": {
      "text/plain": [
       "0        1\n",
       "1        1\n",
       "2        1\n",
       "3        1\n",
       "4        1\n",
       "        ..\n",
       "18248    0\n",
       "18249    0\n",
       "18250    0\n",
       "18251    0\n",
       "18252    0\n",
       "Name: orders, Length: 18736, dtype: int64"
      ]
     },
     "execution_count": 65,
     "metadata": {},
     "output_type": "execute_result"
    }
   ],
   "source": [
    "filtered_sampleA = pd.concat([filtered_ordersByUsersA['orders'],\n",
    "        pd.Series(0,index = np.arange(\n",
    "        filtered_cummulativeData[filtered_cummulativeData['group'] == 'A']['visitors'].max() - len(filtered_ordersByUsersA['orders'])\n",
    "            ),name='orders',),],axis=0,)\n",
    "filtered_sampleA"
   ]
  },
  {
   "cell_type": "code",
   "execution_count": 66,
   "id": "23b65802",
   "metadata": {},
   "outputs": [
    {
     "data": {
      "text/plain": [
       "0    18253\n",
       "1      461\n",
       "2       17\n",
       "3        5\n",
       "Name: orders, dtype: int64"
      ]
     },
     "execution_count": 66,
     "metadata": {},
     "output_type": "execute_result"
    }
   ],
   "source": [
    "filtered_sampleA.value_counts()"
   ]
  },
  {
   "cell_type": "markdown",
   "id": "b1298c70",
   "metadata": {},
   "source": [
    "Тоже самое сделаем для группы В"
   ]
  },
  {
   "cell_type": "code",
   "execution_count": 67,
   "id": "3583959c",
   "metadata": {},
   "outputs": [
    {
     "data": {
      "text/html": [
       "<div>\n",
       "<style scoped>\n",
       "    .dataframe tbody tr th:only-of-type {\n",
       "        vertical-align: middle;\n",
       "    }\n",
       "\n",
       "    .dataframe tbody tr th {\n",
       "        vertical-align: top;\n",
       "    }\n",
       "\n",
       "    .dataframe thead th {\n",
       "        text-align: right;\n",
       "    }\n",
       "</style>\n",
       "<table border=\"1\" class=\"dataframe\">\n",
       "  <thead>\n",
       "    <tr style=\"text-align: right;\">\n",
       "      <th></th>\n",
       "      <th>visitorId</th>\n",
       "      <th>orders</th>\n",
       "    </tr>\n",
       "  </thead>\n",
       "  <tbody>\n",
       "    <tr>\n",
       "      <th>0</th>\n",
       "      <td>5114589</td>\n",
       "      <td>1</td>\n",
       "    </tr>\n",
       "    <tr>\n",
       "      <th>1</th>\n",
       "      <td>6958315</td>\n",
       "      <td>1</td>\n",
       "    </tr>\n",
       "    <tr>\n",
       "      <th>2</th>\n",
       "      <td>8300375</td>\n",
       "      <td>1</td>\n",
       "    </tr>\n",
       "    <tr>\n",
       "      <th>3</th>\n",
       "      <td>39475350</td>\n",
       "      <td>1</td>\n",
       "    </tr>\n",
       "    <tr>\n",
       "      <th>4</th>\n",
       "      <td>47206413</td>\n",
       "      <td>1</td>\n",
       "    </tr>\n",
       "    <tr>\n",
       "      <th>...</th>\n",
       "      <td>...</td>\n",
       "      <td>...</td>\n",
       "    </tr>\n",
       "    <tr>\n",
       "      <th>563</th>\n",
       "      <td>4251115836</td>\n",
       "      <td>1</td>\n",
       "    </tr>\n",
       "    <tr>\n",
       "      <th>564</th>\n",
       "      <td>4258103007</td>\n",
       "      <td>1</td>\n",
       "    </tr>\n",
       "    <tr>\n",
       "      <th>565</th>\n",
       "      <td>4279090005</td>\n",
       "      <td>1</td>\n",
       "    </tr>\n",
       "    <tr>\n",
       "      <th>566</th>\n",
       "      <td>4281247801</td>\n",
       "      <td>1</td>\n",
       "    </tr>\n",
       "    <tr>\n",
       "      <th>567</th>\n",
       "      <td>4283872382</td>\n",
       "      <td>1</td>\n",
       "    </tr>\n",
       "  </tbody>\n",
       "</table>\n",
       "<p>568 rows × 2 columns</p>\n",
       "</div>"
      ],
      "text/plain": [
       "      visitorId  orders\n",
       "0       5114589       1\n",
       "1       6958315       1\n",
       "2       8300375       1\n",
       "3      39475350       1\n",
       "4      47206413       1\n",
       "..          ...     ...\n",
       "563  4251115836       1\n",
       "564  4258103007       1\n",
       "565  4279090005       1\n",
       "566  4281247801       1\n",
       "567  4283872382       1\n",
       "\n",
       "[568 rows x 2 columns]"
      ]
     },
     "execution_count": 67,
     "metadata": {},
     "output_type": "execute_result"
    }
   ],
   "source": [
    "filtered_ordersByUsersB = (\n",
    "    filtered_data[filtered_data['group'] == 'B']\n",
    "    .groupby('visitorId', as_index=False)\n",
    "    .agg({'transactionId': pd.Series.nunique})\n",
    ")\n",
    "filtered_ordersByUsersB.columns = ['visitorId', 'orders']\n",
    "filtered_ordersByUsersB"
   ]
  },
  {
   "cell_type": "code",
   "execution_count": 68,
   "id": "d8c4ae5e",
   "metadata": {},
   "outputs": [
    {
     "data": {
      "text/plain": [
       "0        1\n",
       "1        1\n",
       "2        1\n",
       "3        1\n",
       "4        1\n",
       "        ..\n",
       "18428    0\n",
       "18429    0\n",
       "18430    0\n",
       "18431    0\n",
       "18432    0\n",
       "Name: orders, Length: 19001, dtype: int64"
      ]
     },
     "execution_count": 68,
     "metadata": {},
     "output_type": "execute_result"
    }
   ],
   "source": [
    "filtered_sampleB = pd.concat(\n",
    "    [\n",
    "        filtered_ordersByUsersB['orders'],\n",
    "        pd.Series(\n",
    "            0,\n",
    "            index = np.arange(\n",
    "                filtered_cummulativeData[filtered_cummulativeData['group'] == 'B']['visitors'].max() - len(filtered_ordersByUsersA['orders'])\n",
    "            ),\n",
    "            name='orders',\n",
    "        ),\n",
    "    ],\n",
    "    axis=0,\n",
    ")\n",
    "filtered_sampleB"
   ]
  },
  {
   "cell_type": "code",
   "execution_count": 69,
   "id": "3b514746",
   "metadata": {},
   "outputs": [
    {
     "data": {
      "text/plain": [
       "0    18433\n",
       "1      544\n",
       "2       22\n",
       "3        2\n",
       "Name: orders, dtype: int64"
      ]
     },
     "execution_count": 69,
     "metadata": {},
     "output_type": "execute_result"
    }
   ],
   "source": [
    "filtered_sampleB.value_counts()"
   ]
  },
  {
   "cell_type": "markdown",
   "id": "abcf82da",
   "metadata": {},
   "source": [
    "Приступим к выполнению тест Манна-Уитни по отфильтрованным данным, так как данные даже после отчистки не имеют нормального распределения. \n",
    "\n",
    "Н0: средние значения количества заказов на посетителя для группы A и группы B равны.\n",
    "\n",
    "Н1: средние значения количества заказов на посетителя для группы A и группы B различаются."
   ]
  },
  {
   "cell_type": "code",
   "execution_count": 70,
   "id": "fe9d22c6",
   "metadata": {},
   "outputs": [
    {
     "name": "stdout",
     "output_type": "stream",
     "text": [
      "p-value: 0.01523824923151815\n",
      "Есть статистически значимые различия между группами.\n"
     ]
    }
   ],
   "source": [
    "results = stats.mannwhitneyu(filtered_sampleA, filtered_sampleB)\n",
    "# Получение p-value\n",
    "p_value = results.pvalue\n",
    "print('p-value: {}'.format(p_value))\n",
    "# Оценка статистической значимости\n",
    "alpha = 0.05\n",
    "if p_value < alpha:\n",
    "    print(\"Есть статистически значимые различия между группами.\")\n",
    "else:\n",
    "    print(\"Нет статистически значимых различий между группами.\")"
   ]
  },
  {
   "cell_type": "markdown",
   "id": "3f547d91",
   "metadata": {},
   "source": [
    "Также отвергаем нулевую гипотезу. Есть статистически значимые различия между группами и среднее количестве заказов на посетителя в группе В выше."
   ]
  },
  {
   "cell_type": "markdown",
   "id": "03ad8b60",
   "metadata": {},
   "source": [
    "По результатам теста на отфильтрованных данных отвергаем нулевую гипотезу, так как между нашими группами на отфильтрованных данных есть статистически значимые различия между группами"
   ]
  },
  {
   "cell_type": "code",
   "execution_count": 71,
   "id": "02768062",
   "metadata": {},
   "outputs": [
    {
     "data": {
      "text/plain": [
       "0.1484621552426033"
      ]
     },
     "execution_count": 71,
     "metadata": {},
     "output_type": "execute_result"
    }
   ],
   "source": [
    "filtered_sampleB.mean()/filtered_sampleA.mean()- 1"
   ]
  },
  {
   "cell_type": "markdown",
   "id": "1f523fd8",
   "metadata": {},
   "source": [
    "Относительный прирост конверсии группы B равен 14.8% и не сильно отличаются от результатов по отфильтрованым данным"
   ]
  },
  {
   "cell_type": "markdown",
   "id": "46c0fac4",
   "metadata": {},
   "source": [
    "**Посчитайте статистическую значимость различий в среднем чеке заказа между группами по «очищенным» данным.**"
   ]
  },
  {
   "cell_type": "markdown",
   "id": "2bae3447",
   "metadata": {},
   "source": [
    "Выполнению тест Манна-Уитни по отфильтрованным данным для среднего чека в заказе между группами \n",
    "\n",
    "Н0: средние чеки заказа равны для группы A и группы B.\n",
    "\n",
    "Н1: средние чеки заказа различаются между группой A и группой B."
   ]
  },
  {
   "cell_type": "code",
   "execution_count": 72,
   "id": "c070b43f",
   "metadata": {},
   "outputs": [],
   "source": [
    "#сформируем группы\n",
    "filtered_average_sampleA = filtered_data[filtered_data['group']=='A']['revenue']\n",
    "filtered_average_sampleB = filtered_data[filtered_data['group']=='B']['revenue']"
   ]
  },
  {
   "cell_type": "code",
   "execution_count": 73,
   "id": "00ffd9be",
   "metadata": {
    "scrolled": true
   },
   "outputs": [
    {
     "name": "stdout",
     "output_type": "stream",
     "text": [
      "p-value: 0.8803522991088097\n",
      "Нет статистически значимых различий между группами.\n"
     ]
    }
   ],
   "source": [
    "results = stats.mannwhitneyu(filtered_average_sampleA, filtered_average_sampleB)\n",
    "# Получение p-value\n",
    "p_value = results.pvalue\n",
    "print('p-value: {}'.format(p_value))\n",
    "# Оценка статистической значимости\n",
    "alpha = 0.05\n",
    "if p_value < alpha:\n",
    "    print(\"Есть статистически значимые различия между группами.\")\n",
    "else:\n",
    "    print(\"Нет статистически значимых различий между группами.\")"
   ]
  },
  {
   "cell_type": "markdown",
   "id": "3045ed68",
   "metadata": {},
   "source": [
    "По результатм теста не удалось отвергнуть нулевую гипотезу и фильтрация никак не изменила ситуацию. Это указывает на отсутствие статистически значимых различий между группами по среднему чеку заказа. "
   ]
  },
  {
   "cell_type": "code",
   "execution_count": null,
   "id": "111538bb",
   "metadata": {},
   "outputs": [],
   "source": []
  },
  {
   "cell_type": "markdown",
   "id": "4b301819",
   "metadata": {},
   "source": [
    "**Вывод**\n",
    "1. При использовании различных способов приоритизации гипотез есть разница между гипотезами. При использовании RICE наиболее приоритетная гипотеза: добавить форму подписки на все основные страницы, чтобы собрать базу клиентов для email-рассылок. При использовании ICE наиболее приоритетная гипотеза: запустить акцию, дающую скидку на товар в день рождения. Различие между ICE и RICE заключается в наличии параметра Reach в RICE, который учитывает масштаб изменений. RICE более полно оценивает потенциальное воздействие гипотезы на более широкую аудиторию, чем ICE.\n",
    "2. Существует статистически значимая разница между группами по среднему количеству заказов на посетителя как для сырых, так и для отфильтрованных даннх. Этот различия в конверсии между группами (в пользу группы В) мы также наблюдаем на графике. Относительный прирост конверсии группы B равен 14.8% по отчищенным данным и не сильно отличаются от результатов по отфильтрованым данным\n",
    "3. По результатм теста не удалось отвергнуть нулевую гипотезу для данных до и после фильтрации. Это указывает на отсутствие статистически значимых различий между группами по среднему чеку заказа. Хотя график различия среднего чека колеблется и к концу периода наблюдения тоже показывает, что результаты группы B становятся лучше группы A.\n",
    "4. Я думаю, что правльным решением будет закончить тест, потому что метрики среднего количестве заказов и среднего чека уже стабилизировались, а статистические тесты показали, что статистические различия между группами есть. \n",
    "\n",
    "\n"
   ]
  },
  {
   "cell_type": "markdown",
   "id": "b898b362",
   "metadata": {},
   "source": [
    "Среднее количество заказов увеличилось при отсутствии значимых изменений по среднему чеку -> выручка увеличилась, так как стали покупать чаще."
   ]
  }
 ],
 "metadata": {
  "ExecuteTimeLog": [
   {
    "duration": 1328,
    "start_time": "2023-10-29T04:53:45.634Z"
   },
   {
    "duration": 70,
    "start_time": "2023-10-29T04:53:46.964Z"
   },
   {
    "duration": 11,
    "start_time": "2023-10-29T04:53:47.036Z"
   },
   {
    "duration": 28,
    "start_time": "2023-10-29T04:53:47.049Z"
   },
   {
    "duration": 13,
    "start_time": "2023-10-29T04:53:47.079Z"
   },
   {
    "duration": 222,
    "start_time": "2023-10-29T04:53:47.094Z"
   },
   {
    "duration": 13,
    "start_time": "2023-10-29T04:53:47.317Z"
   },
   {
    "duration": 30,
    "start_time": "2023-10-29T04:53:47.331Z"
   },
   {
    "duration": 21,
    "start_time": "2023-10-29T04:53:47.363Z"
   },
   {
    "duration": 97,
    "start_time": "2023-10-29T04:53:47.386Z"
   },
   {
    "duration": 10,
    "start_time": "2023-10-29T04:53:47.485Z"
   },
   {
    "duration": 21,
    "start_time": "2023-10-29T04:53:47.497Z"
   },
   {
    "duration": 27,
    "start_time": "2023-10-29T04:53:47.520Z"
   },
   {
    "duration": 27,
    "start_time": "2023-10-29T04:53:47.550Z"
   },
   {
    "duration": 35,
    "start_time": "2023-10-29T04:53:47.578Z"
   },
   {
    "duration": 199,
    "start_time": "2023-10-29T04:53:47.616Z"
   },
   {
    "duration": 142,
    "start_time": "2023-10-29T04:53:47.817Z"
   },
   {
    "duration": 16,
    "start_time": "2023-10-29T04:53:47.961Z"
   },
   {
    "duration": 24,
    "start_time": "2023-10-29T04:53:47.979Z"
   },
   {
    "duration": 20,
    "start_time": "2023-10-29T04:53:48.005Z"
   },
   {
    "duration": 37,
    "start_time": "2023-10-29T04:53:48.026Z"
   },
   {
    "duration": 318,
    "start_time": "2023-10-29T04:53:48.065Z"
   },
   {
    "duration": 233,
    "start_time": "2023-10-29T04:53:48.385Z"
   },
   {
    "duration": 19,
    "start_time": "2023-10-29T04:53:48.620Z"
   },
   {
    "duration": 28,
    "start_time": "2023-10-29T04:53:48.641Z"
   },
   {
    "duration": 382,
    "start_time": "2023-10-29T04:53:48.672Z"
   },
   {
    "duration": 6,
    "start_time": "2023-10-29T04:53:49.056Z"
   },
   {
    "duration": 272,
    "start_time": "2023-10-29T04:53:49.063Z"
   },
   {
    "duration": 304,
    "start_time": "2023-10-29T04:53:49.336Z"
   },
   {
    "duration": 11,
    "start_time": "2023-10-29T04:53:49.642Z"
   },
   {
    "duration": 176,
    "start_time": "2023-10-29T04:53:49.654Z"
   },
   {
    "duration": 8,
    "start_time": "2023-10-29T04:53:49.831Z"
   },
   {
    "duration": 22,
    "start_time": "2023-10-29T04:53:49.840Z"
   },
   {
    "duration": 149,
    "start_time": "2023-10-29T04:53:49.864Z"
   },
   {
    "duration": 5,
    "start_time": "2023-10-29T04:53:50.014Z"
   },
   {
    "duration": 40,
    "start_time": "2023-10-29T04:53:50.021Z"
   },
   {
    "duration": 192,
    "start_time": "2023-10-29T04:53:50.063Z"
   },
   {
    "duration": 9,
    "start_time": "2023-10-29T04:53:50.256Z"
   },
   {
    "duration": 250,
    "start_time": "2023-10-29T04:53:50.266Z"
   },
   {
    "duration": 8,
    "start_time": "2023-10-29T04:53:50.517Z"
   },
   {
    "duration": 20,
    "start_time": "2023-10-29T04:53:50.529Z"
   },
   {
    "duration": 29,
    "start_time": "2023-10-29T04:53:50.551Z"
   },
   {
    "duration": 10,
    "start_time": "2023-10-29T04:53:50.582Z"
   },
   {
    "duration": 18,
    "start_time": "2023-10-29T04:53:50.594Z"
   },
   {
    "duration": 16,
    "start_time": "2023-10-29T04:53:50.615Z"
   },
   {
    "duration": 25,
    "start_time": "2023-10-29T04:53:50.632Z"
   },
   {
    "duration": 15,
    "start_time": "2023-10-29T04:53:50.659Z"
   },
   {
    "duration": 38,
    "start_time": "2023-10-29T04:53:50.676Z"
   },
   {
    "duration": 28,
    "start_time": "2023-10-29T04:53:50.715Z"
   },
   {
    "duration": 68,
    "start_time": "2023-10-29T04:53:50.745Z"
   },
   {
    "duration": 329,
    "start_time": "2023-10-29T04:53:50.815Z"
   },
   {
    "duration": 11,
    "start_time": "2023-10-29T04:53:51.146Z"
   },
   {
    "duration": 30,
    "start_time": "2023-10-29T04:53:51.159Z"
   },
   {
    "duration": 25,
    "start_time": "2023-10-29T04:53:51.191Z"
   },
   {
    "duration": 62,
    "start_time": "2023-10-29T04:53:51.217Z"
   },
   {
    "duration": 70,
    "start_time": "2023-10-29T04:53:51.281Z"
   },
   {
    "duration": 41,
    "start_time": "2023-10-29T04:53:51.352Z"
   },
   {
    "duration": 48,
    "start_time": "2023-10-29T04:53:51.395Z"
   },
   {
    "duration": 1211,
    "start_time": "2023-10-29T13:15:18.995Z"
   },
   {
    "duration": 80,
    "start_time": "2023-10-29T13:15:20.208Z"
   },
   {
    "duration": 11,
    "start_time": "2023-10-29T13:15:20.290Z"
   },
   {
    "duration": 30,
    "start_time": "2023-10-29T13:15:20.303Z"
   },
   {
    "duration": 10,
    "start_time": "2023-10-29T13:15:20.335Z"
   },
   {
    "duration": 265,
    "start_time": "2023-10-29T13:15:20.347Z"
   },
   {
    "duration": 10,
    "start_time": "2023-10-29T13:15:20.614Z"
   },
   {
    "duration": 46,
    "start_time": "2023-10-29T13:15:20.626Z"
   },
   {
    "duration": 26,
    "start_time": "2023-10-29T13:15:20.674Z"
   },
   {
    "duration": 128,
    "start_time": "2023-10-29T13:15:20.701Z"
   },
   {
    "duration": 9,
    "start_time": "2023-10-29T13:15:20.830Z"
   },
   {
    "duration": 36,
    "start_time": "2023-10-29T13:15:20.841Z"
   },
   {
    "duration": 23,
    "start_time": "2023-10-29T13:15:20.879Z"
   },
   {
    "duration": 40,
    "start_time": "2023-10-29T13:15:20.904Z"
   },
   {
    "duration": 31,
    "start_time": "2023-10-29T13:15:20.945Z"
   },
   {
    "duration": 214,
    "start_time": "2023-10-29T13:15:20.977Z"
   },
   {
    "duration": 126,
    "start_time": "2023-10-29T13:15:21.193Z"
   },
   {
    "duration": 31,
    "start_time": "2023-10-29T13:15:21.321Z"
   },
   {
    "duration": 29,
    "start_time": "2023-10-29T13:15:21.353Z"
   },
   {
    "duration": 12,
    "start_time": "2023-10-29T13:15:21.383Z"
   },
   {
    "duration": 30,
    "start_time": "2023-10-29T13:15:21.396Z"
   },
   {
    "duration": 286,
    "start_time": "2023-10-29T13:15:21.428Z"
   },
   {
    "duration": 207,
    "start_time": "2023-10-29T13:15:21.715Z"
   },
   {
    "duration": 21,
    "start_time": "2023-10-29T13:15:21.924Z"
   },
   {
    "duration": 4,
    "start_time": "2023-10-29T13:15:21.947Z"
   },
   {
    "duration": 344,
    "start_time": "2023-10-29T13:15:21.952Z"
   },
   {
    "duration": 6,
    "start_time": "2023-10-29T13:15:22.297Z"
   },
   {
    "duration": 250,
    "start_time": "2023-10-29T13:15:22.304Z"
   },
   {
    "duration": 301,
    "start_time": "2023-10-29T13:15:22.556Z"
   },
   {
    "duration": 10,
    "start_time": "2023-10-29T13:15:22.859Z"
   },
   {
    "duration": 134,
    "start_time": "2023-10-29T13:15:22.870Z"
   },
   {
    "duration": 8,
    "start_time": "2023-10-29T13:15:23.005Z"
   },
   {
    "duration": 22,
    "start_time": "2023-10-29T13:15:23.015Z"
   },
   {
    "duration": 115,
    "start_time": "2023-10-29T13:15:23.039Z"
   },
   {
    "duration": 4,
    "start_time": "2023-10-29T13:15:23.155Z"
   },
   {
    "duration": 10,
    "start_time": "2023-10-29T13:15:23.161Z"
   },
   {
    "duration": 144,
    "start_time": "2023-10-29T13:15:23.173Z"
   },
   {
    "duration": 7,
    "start_time": "2023-10-29T13:15:23.319Z"
   },
   {
    "duration": 206,
    "start_time": "2023-10-29T13:15:23.328Z"
   },
   {
    "duration": 10,
    "start_time": "2023-10-29T13:15:23.536Z"
   },
   {
    "duration": 16,
    "start_time": "2023-10-29T13:15:23.549Z"
   },
   {
    "duration": 14,
    "start_time": "2023-10-29T13:15:23.567Z"
   },
   {
    "duration": 9,
    "start_time": "2023-10-29T13:15:23.582Z"
   },
   {
    "duration": 7,
    "start_time": "2023-10-29T13:15:23.593Z"
   },
   {
    "duration": 11,
    "start_time": "2023-10-29T13:15:23.601Z"
   },
   {
    "duration": 35,
    "start_time": "2023-10-29T13:15:23.613Z"
   },
   {
    "duration": 14,
    "start_time": "2023-10-29T13:15:23.650Z"
   },
   {
    "duration": 6,
    "start_time": "2023-10-29T13:15:23.666Z"
   },
   {
    "duration": 5,
    "start_time": "2023-10-29T13:15:23.674Z"
   },
   {
    "duration": 13,
    "start_time": "2023-10-29T13:15:23.680Z"
   },
   {
    "duration": 302,
    "start_time": "2023-10-29T13:15:23.694Z"
   },
   {
    "duration": 9,
    "start_time": "2023-10-29T13:15:23.998Z"
   },
   {
    "duration": 56,
    "start_time": "2023-10-29T13:15:24.008Z"
   },
   {
    "duration": 51,
    "start_time": "2023-10-29T13:15:24.066Z"
   },
   {
    "duration": 71,
    "start_time": "2023-10-29T13:15:24.119Z"
   },
   {
    "duration": 46,
    "start_time": "2023-10-29T13:15:24.192Z"
   },
   {
    "duration": 13,
    "start_time": "2023-10-29T13:15:24.240Z"
   },
   {
    "duration": 9,
    "start_time": "2023-10-29T13:15:24.255Z"
   },
   {
    "duration": 1120,
    "start_time": "2023-10-29T14:04:56.968Z"
   },
   {
    "duration": 51,
    "start_time": "2023-10-29T14:04:58.090Z"
   },
   {
    "duration": 11,
    "start_time": "2023-10-29T14:04:58.143Z"
   },
   {
    "duration": 10,
    "start_time": "2023-10-29T14:04:58.156Z"
   },
   {
    "duration": 9,
    "start_time": "2023-10-29T14:04:58.168Z"
   },
   {
    "duration": 47,
    "start_time": "2023-10-29T14:04:58.178Z"
   },
   {
    "duration": 10,
    "start_time": "2023-10-29T14:04:58.227Z"
   },
   {
    "duration": 4,
    "start_time": "2023-10-29T14:04:58.244Z"
   },
   {
    "duration": 17,
    "start_time": "2023-10-29T14:04:58.249Z"
   },
   {
    "duration": 48,
    "start_time": "2023-10-29T14:04:58.268Z"
   },
   {
    "duration": 10,
    "start_time": "2023-10-29T14:04:58.317Z"
   },
   {
    "duration": 12,
    "start_time": "2023-10-29T14:04:58.328Z"
   },
   {
    "duration": 14,
    "start_time": "2023-10-29T14:04:58.342Z"
   },
   {
    "duration": 16,
    "start_time": "2023-10-29T14:04:58.357Z"
   },
   {
    "duration": 24,
    "start_time": "2023-10-29T14:04:58.374Z"
   },
   {
    "duration": 180,
    "start_time": "2023-10-29T14:04:58.399Z"
   },
   {
    "duration": 121,
    "start_time": "2023-10-29T14:04:58.580Z"
   },
   {
    "duration": 16,
    "start_time": "2023-10-29T14:04:58.703Z"
   },
   {
    "duration": 26,
    "start_time": "2023-10-29T14:04:58.720Z"
   },
   {
    "duration": 5,
    "start_time": "2023-10-29T14:04:58.748Z"
   },
   {
    "duration": 7,
    "start_time": "2023-10-29T14:04:58.754Z"
   },
   {
    "duration": 287,
    "start_time": "2023-10-29T14:04:58.763Z"
   },
   {
    "duration": 206,
    "start_time": "2023-10-29T14:04:59.052Z"
   },
   {
    "duration": 17,
    "start_time": "2023-10-29T14:04:59.260Z"
   },
   {
    "duration": 6,
    "start_time": "2023-10-29T14:04:59.278Z"
   },
   {
    "duration": 319,
    "start_time": "2023-10-29T14:04:59.285Z"
   },
   {
    "duration": 5,
    "start_time": "2023-10-29T14:04:59.606Z"
   },
   {
    "duration": 225,
    "start_time": "2023-10-29T14:04:59.614Z"
   },
   {
    "duration": 337,
    "start_time": "2023-10-29T14:04:59.844Z"
   },
   {
    "duration": 10,
    "start_time": "2023-10-29T14:05:00.183Z"
   },
   {
    "duration": 144,
    "start_time": "2023-10-29T14:05:00.195Z"
   },
   {
    "duration": 13,
    "start_time": "2023-10-29T14:05:00.344Z"
   },
   {
    "duration": 44,
    "start_time": "2023-10-29T14:05:00.358Z"
   },
   {
    "duration": 178,
    "start_time": "2023-10-29T14:05:00.403Z"
   },
   {
    "duration": 4,
    "start_time": "2023-10-29T14:05:00.583Z"
   },
   {
    "duration": 79,
    "start_time": "2023-10-29T14:05:00.589Z"
   },
   {
    "duration": 235,
    "start_time": "2023-10-29T14:05:00.670Z"
   },
   {
    "duration": 7,
    "start_time": "2023-10-29T14:05:00.907Z"
   },
   {
    "duration": 259,
    "start_time": "2023-10-29T14:05:00.915Z"
   },
   {
    "duration": 7,
    "start_time": "2023-10-29T14:05:01.175Z"
   },
   {
    "duration": 63,
    "start_time": "2023-10-29T14:05:01.183Z"
   },
   {
    "duration": 78,
    "start_time": "2023-10-29T14:05:01.248Z"
   },
   {
    "duration": 91,
    "start_time": "2023-10-29T14:05:01.327Z"
   },
   {
    "duration": 74,
    "start_time": "2023-10-29T14:05:01.420Z"
   },
   {
    "duration": 95,
    "start_time": "2023-10-29T14:05:01.496Z"
   },
   {
    "duration": 100,
    "start_time": "2023-10-29T14:05:01.593Z"
   },
   {
    "duration": 206,
    "start_time": "2023-10-29T14:05:01.695Z"
   },
   {
    "duration": 59,
    "start_time": "2023-10-29T14:05:01.903Z"
   },
   {
    "duration": 130,
    "start_time": "2023-10-29T14:05:01.964Z"
   },
   {
    "duration": 329,
    "start_time": "2023-10-29T14:05:02.096Z"
   },
   {
    "duration": 447,
    "start_time": "2023-10-29T14:05:02.427Z"
   },
   {
    "duration": 19,
    "start_time": "2023-10-29T14:05:02.875Z"
   },
   {
    "duration": 52,
    "start_time": "2023-10-29T14:05:02.895Z"
   },
   {
    "duration": 33,
    "start_time": "2023-10-29T14:05:02.949Z"
   },
   {
    "duration": 21,
    "start_time": "2023-10-29T14:05:02.984Z"
   },
   {
    "duration": 53,
    "start_time": "2023-10-29T14:05:03.007Z"
   },
   {
    "duration": 33,
    "start_time": "2023-10-29T14:05:03.062Z"
   },
   {
    "duration": 24,
    "start_time": "2023-10-29T14:05:03.097Z"
   },
   {
    "duration": 49,
    "start_time": "2023-10-30T11:03:45.896Z"
   },
   {
    "duration": 6,
    "start_time": "2023-10-30T11:04:09.872Z"
   },
   {
    "duration": 1275,
    "start_time": "2023-10-30T11:04:18.650Z"
   },
   {
    "duration": 110,
    "start_time": "2023-10-30T11:04:19.927Z"
   },
   {
    "duration": 13,
    "start_time": "2023-10-30T11:04:20.039Z"
   },
   {
    "duration": 20,
    "start_time": "2023-10-30T11:04:20.055Z"
   },
   {
    "duration": 20,
    "start_time": "2023-10-30T11:04:20.078Z"
   },
   {
    "duration": 106,
    "start_time": "2023-10-30T11:04:20.100Z"
   },
   {
    "duration": 11,
    "start_time": "2023-10-30T11:04:20.208Z"
   },
   {
    "duration": 27,
    "start_time": "2023-10-30T11:04:20.221Z"
   },
   {
    "duration": 61,
    "start_time": "2023-10-30T11:04:20.250Z"
   },
   {
    "duration": 151,
    "start_time": "2023-10-30T11:04:20.313Z"
   },
   {
    "duration": 11,
    "start_time": "2023-10-30T11:04:20.465Z"
   },
   {
    "duration": 42,
    "start_time": "2023-10-30T11:04:20.477Z"
   },
   {
    "duration": 26,
    "start_time": "2023-10-30T11:04:20.520Z"
   },
   {
    "duration": 24,
    "start_time": "2023-10-30T11:04:20.548Z"
   },
   {
    "duration": 39,
    "start_time": "2023-10-30T11:04:20.573Z"
   },
   {
    "duration": 30,
    "start_time": "2023-10-30T11:04:20.614Z"
   },
   {
    "duration": 194,
    "start_time": "2023-10-30T11:04:20.646Z"
   },
   {
    "duration": 129,
    "start_time": "2023-10-30T11:04:20.842Z"
   },
   {
    "duration": 16,
    "start_time": "2023-10-30T11:04:20.972Z"
   },
   {
    "duration": 11,
    "start_time": "2023-10-30T11:04:21.007Z"
   },
   {
    "duration": 33,
    "start_time": "2023-10-30T11:04:21.019Z"
   },
   {
    "duration": 13,
    "start_time": "2023-10-30T11:04:21.053Z"
   },
   {
    "duration": 292,
    "start_time": "2023-10-30T11:04:21.067Z"
   },
   {
    "duration": 213,
    "start_time": "2023-10-30T11:04:21.361Z"
   },
   {
    "duration": 18,
    "start_time": "2023-10-30T11:04:21.575Z"
   },
   {
    "duration": 13,
    "start_time": "2023-10-30T11:04:21.594Z"
   },
   {
    "duration": 346,
    "start_time": "2023-10-30T11:04:21.609Z"
   },
   {
    "duration": 6,
    "start_time": "2023-10-30T11:04:21.958Z"
   },
   {
    "duration": 235,
    "start_time": "2023-10-30T11:04:21.966Z"
   },
   {
    "duration": 345,
    "start_time": "2023-10-30T11:04:22.203Z"
   },
   {
    "duration": 11,
    "start_time": "2023-10-30T11:04:22.550Z"
   },
   {
    "duration": 150,
    "start_time": "2023-10-30T11:04:22.563Z"
   },
   {
    "duration": 8,
    "start_time": "2023-10-30T11:04:22.715Z"
   },
   {
    "duration": 15,
    "start_time": "2023-10-30T11:04:22.725Z"
   },
   {
    "duration": 131,
    "start_time": "2023-10-30T11:04:22.742Z"
   },
   {
    "duration": 5,
    "start_time": "2023-10-30T11:04:22.874Z"
   },
   {
    "duration": 25,
    "start_time": "2023-10-30T11:04:22.881Z"
   },
   {
    "duration": 146,
    "start_time": "2023-10-30T11:04:22.908Z"
   },
   {
    "duration": 9,
    "start_time": "2023-10-30T11:04:23.056Z"
   },
   {
    "duration": 231,
    "start_time": "2023-10-30T11:04:23.066Z"
   },
   {
    "duration": 12,
    "start_time": "2023-10-30T11:04:23.299Z"
   },
   {
    "duration": 22,
    "start_time": "2023-10-30T11:04:23.313Z"
   },
   {
    "duration": 29,
    "start_time": "2023-10-30T11:04:23.337Z"
   },
   {
    "duration": 26,
    "start_time": "2023-10-30T11:04:23.368Z"
   },
   {
    "duration": 25,
    "start_time": "2023-10-30T11:04:23.396Z"
   },
   {
    "duration": 30,
    "start_time": "2023-10-30T11:04:23.423Z"
   },
   {
    "duration": 42,
    "start_time": "2023-10-30T11:04:23.455Z"
   },
   {
    "duration": 25,
    "start_time": "2023-10-30T11:04:23.499Z"
   },
   {
    "duration": 27,
    "start_time": "2023-10-30T11:04:23.526Z"
   },
   {
    "duration": 27,
    "start_time": "2023-10-30T11:04:23.555Z"
   },
   {
    "duration": 34,
    "start_time": "2023-10-30T11:04:23.583Z"
   },
   {
    "duration": 324,
    "start_time": "2023-10-30T11:04:23.618Z"
   },
   {
    "duration": 11,
    "start_time": "2023-10-30T11:04:23.943Z"
   },
   {
    "duration": 54,
    "start_time": "2023-10-30T11:04:23.955Z"
   },
   {
    "duration": 36,
    "start_time": "2023-10-30T11:04:24.011Z"
   },
   {
    "duration": 36,
    "start_time": "2023-10-30T11:04:24.048Z"
   },
   {
    "duration": 55,
    "start_time": "2023-10-30T11:04:24.086Z"
   },
   {
    "duration": 70,
    "start_time": "2023-10-30T11:04:24.143Z"
   },
   {
    "duration": 25,
    "start_time": "2023-10-30T11:04:24.215Z"
   },
   {
    "duration": 577,
    "start_time": "2023-10-30T11:05:14.995Z"
   },
   {
    "duration": 608,
    "start_time": "2023-10-30T11:06:00.268Z"
   },
   {
    "duration": 15,
    "start_time": "2023-10-30T11:07:31.831Z"
   },
   {
    "duration": 21,
    "start_time": "2023-10-30T11:12:58.485Z"
   },
   {
    "duration": 17,
    "start_time": "2023-10-30T11:13:18.972Z"
   },
   {
    "duration": 1644,
    "start_time": "2023-10-30T11:18:29.665Z"
   },
   {
    "duration": 2563,
    "start_time": "2023-10-30T11:18:36.476Z"
   },
   {
    "duration": 7,
    "start_time": "2023-10-30T11:18:46.742Z"
   },
   {
    "duration": 11,
    "start_time": "2023-10-30T11:19:07.319Z"
   },
   {
    "duration": 7,
    "start_time": "2023-10-30T11:19:26.958Z"
   },
   {
    "duration": 9,
    "start_time": "2023-10-30T11:19:41.672Z"
   },
   {
    "duration": 11,
    "start_time": "2023-10-30T11:20:25.699Z"
   },
   {
    "duration": 15,
    "start_time": "2023-10-30T11:22:02.438Z"
   },
   {
    "duration": 12,
    "start_time": "2023-10-30T11:22:28.092Z"
   },
   {
    "duration": 4,
    "start_time": "2023-10-30T11:24:41.295Z"
   },
   {
    "duration": 8,
    "start_time": "2023-10-30T11:24:48.292Z"
   },
   {
    "duration": 26,
    "start_time": "2023-10-30T11:26:07.033Z"
   },
   {
    "duration": 92,
    "start_time": "2023-10-30T11:27:04.980Z"
   },
   {
    "duration": 16,
    "start_time": "2023-10-30T11:27:18.677Z"
   },
   {
    "duration": 4,
    "start_time": "2023-10-30T11:29:51.640Z"
   },
   {
    "duration": 20,
    "start_time": "2023-10-30T11:29:58.541Z"
   },
   {
    "duration": 9,
    "start_time": "2023-10-30T11:30:51.255Z"
   },
   {
    "duration": 4,
    "start_time": "2023-10-30T11:31:24.554Z"
   },
   {
    "duration": 7,
    "start_time": "2023-10-30T11:31:28.256Z"
   },
   {
    "duration": 14,
    "start_time": "2023-10-30T11:31:46.904Z"
   },
   {
    "duration": 14,
    "start_time": "2023-10-30T11:35:19.583Z"
   },
   {
    "duration": 15,
    "start_time": "2023-10-30T11:36:29.738Z"
   },
   {
    "duration": 18,
    "start_time": "2023-10-30T11:36:40.081Z"
   },
   {
    "duration": 1186,
    "start_time": "2023-10-30T11:37:03.931Z"
   },
   {
    "duration": 50,
    "start_time": "2023-10-30T11:37:05.119Z"
   },
   {
    "duration": 13,
    "start_time": "2023-10-30T11:37:05.171Z"
   },
   {
    "duration": 31,
    "start_time": "2023-10-30T11:37:05.186Z"
   },
   {
    "duration": 39,
    "start_time": "2023-10-30T11:37:05.219Z"
   },
   {
    "duration": 63,
    "start_time": "2023-10-30T11:37:05.260Z"
   },
   {
    "duration": 11,
    "start_time": "2023-10-30T11:37:05.325Z"
   },
   {
    "duration": 18,
    "start_time": "2023-10-30T11:37:05.338Z"
   },
   {
    "duration": 28,
    "start_time": "2023-10-30T11:37:05.357Z"
   },
   {
    "duration": 45,
    "start_time": "2023-10-30T11:37:05.388Z"
   },
   {
    "duration": 9,
    "start_time": "2023-10-30T11:37:05.436Z"
   },
   {
    "duration": 24,
    "start_time": "2023-10-30T11:37:05.446Z"
   },
   {
    "duration": 40,
    "start_time": "2023-10-30T11:37:05.472Z"
   },
   {
    "duration": 32,
    "start_time": "2023-10-30T11:37:05.514Z"
   },
   {
    "duration": 42,
    "start_time": "2023-10-30T11:37:05.548Z"
   },
   {
    "duration": 30,
    "start_time": "2023-10-30T11:37:05.592Z"
   },
   {
    "duration": 27,
    "start_time": "2023-10-30T11:37:05.624Z"
   },
   {
    "duration": 115,
    "start_time": "2023-10-30T11:37:05.653Z"
   },
   {
    "duration": 0,
    "start_time": "2023-10-30T11:37:05.771Z"
   },
   {
    "duration": 1,
    "start_time": "2023-10-30T11:37:05.772Z"
   },
   {
    "duration": 0,
    "start_time": "2023-10-30T11:37:05.774Z"
   },
   {
    "duration": 0,
    "start_time": "2023-10-30T11:37:05.774Z"
   },
   {
    "duration": 0,
    "start_time": "2023-10-30T11:37:05.776Z"
   },
   {
    "duration": 0,
    "start_time": "2023-10-30T11:37:05.777Z"
   },
   {
    "duration": 0,
    "start_time": "2023-10-30T11:37:05.779Z"
   },
   {
    "duration": 0,
    "start_time": "2023-10-30T11:37:05.780Z"
   },
   {
    "duration": 0,
    "start_time": "2023-10-30T11:37:05.781Z"
   },
   {
    "duration": 0,
    "start_time": "2023-10-30T11:37:05.782Z"
   },
   {
    "duration": 0,
    "start_time": "2023-10-30T11:37:05.784Z"
   },
   {
    "duration": 0,
    "start_time": "2023-10-30T11:37:05.807Z"
   },
   {
    "duration": 0,
    "start_time": "2023-10-30T11:37:05.809Z"
   },
   {
    "duration": 0,
    "start_time": "2023-10-30T11:37:05.810Z"
   },
   {
    "duration": 0,
    "start_time": "2023-10-30T11:37:05.812Z"
   },
   {
    "duration": 0,
    "start_time": "2023-10-30T11:37:05.813Z"
   },
   {
    "duration": 0,
    "start_time": "2023-10-30T11:37:05.814Z"
   },
   {
    "duration": 0,
    "start_time": "2023-10-30T11:37:05.815Z"
   },
   {
    "duration": 0,
    "start_time": "2023-10-30T11:37:05.816Z"
   },
   {
    "duration": 0,
    "start_time": "2023-10-30T11:37:05.818Z"
   },
   {
    "duration": 0,
    "start_time": "2023-10-30T11:37:05.819Z"
   },
   {
    "duration": 0,
    "start_time": "2023-10-30T11:37:05.820Z"
   },
   {
    "duration": 0,
    "start_time": "2023-10-30T11:37:05.821Z"
   },
   {
    "duration": 0,
    "start_time": "2023-10-30T11:37:05.822Z"
   },
   {
    "duration": 0,
    "start_time": "2023-10-30T11:37:05.824Z"
   },
   {
    "duration": 1,
    "start_time": "2023-10-30T11:37:05.824Z"
   },
   {
    "duration": 0,
    "start_time": "2023-10-30T11:37:05.826Z"
   },
   {
    "duration": 0,
    "start_time": "2023-10-30T11:37:05.827Z"
   },
   {
    "duration": 0,
    "start_time": "2023-10-30T11:37:05.827Z"
   },
   {
    "duration": 0,
    "start_time": "2023-10-30T11:37:05.829Z"
   },
   {
    "duration": 0,
    "start_time": "2023-10-30T11:37:05.829Z"
   },
   {
    "duration": 1,
    "start_time": "2023-10-30T11:37:05.831Z"
   },
   {
    "duration": 0,
    "start_time": "2023-10-30T11:37:05.833Z"
   },
   {
    "duration": 0,
    "start_time": "2023-10-30T11:37:05.834Z"
   },
   {
    "duration": 1,
    "start_time": "2023-10-30T11:37:05.835Z"
   },
   {
    "duration": 0,
    "start_time": "2023-10-30T11:37:05.837Z"
   },
   {
    "duration": 0,
    "start_time": "2023-10-30T11:37:05.838Z"
   },
   {
    "duration": 0,
    "start_time": "2023-10-30T11:37:05.839Z"
   },
   {
    "duration": 0,
    "start_time": "2023-10-30T11:37:05.841Z"
   },
   {
    "duration": 0,
    "start_time": "2023-10-30T11:37:05.842Z"
   },
   {
    "duration": 0,
    "start_time": "2023-10-30T11:37:05.843Z"
   },
   {
    "duration": 0,
    "start_time": "2023-10-30T11:37:05.845Z"
   },
   {
    "duration": 0,
    "start_time": "2023-10-30T11:37:05.907Z"
   },
   {
    "duration": 0,
    "start_time": "2023-10-30T11:37:05.908Z"
   },
   {
    "duration": 0,
    "start_time": "2023-10-30T11:37:05.909Z"
   },
   {
    "duration": 0,
    "start_time": "2023-10-30T11:37:05.910Z"
   },
   {
    "duration": 0,
    "start_time": "2023-10-30T11:37:05.912Z"
   },
   {
    "duration": 0,
    "start_time": "2023-10-30T11:37:05.913Z"
   },
   {
    "duration": 0,
    "start_time": "2023-10-30T11:37:05.915Z"
   },
   {
    "duration": 16,
    "start_time": "2023-10-30T11:37:24.251Z"
   },
   {
    "duration": 15,
    "start_time": "2023-10-30T11:37:38.304Z"
   },
   {
    "duration": 6,
    "start_time": "2023-10-30T11:38:10.728Z"
   },
   {
    "duration": 14,
    "start_time": "2023-10-30T11:38:29.986Z"
   },
   {
    "duration": 124,
    "start_time": "2023-10-30T11:38:39.649Z"
   },
   {
    "duration": 11,
    "start_time": "2023-10-30T11:38:58.778Z"
   },
   {
    "duration": 13,
    "start_time": "2023-10-30T11:39:14.498Z"
   },
   {
    "duration": 12,
    "start_time": "2023-10-30T11:39:24.082Z"
   },
   {
    "duration": 14,
    "start_time": "2023-10-30T11:40:50.907Z"
   },
   {
    "duration": 10,
    "start_time": "2023-10-30T11:42:06.141Z"
   },
   {
    "duration": 8,
    "start_time": "2023-10-30T11:42:18.166Z"
   },
   {
    "duration": 11,
    "start_time": "2023-10-30T11:43:16.948Z"
   },
   {
    "duration": 16,
    "start_time": "2023-10-30T11:45:33.542Z"
   },
   {
    "duration": 1179,
    "start_time": "2023-10-30T11:46:01.385Z"
   },
   {
    "duration": 46,
    "start_time": "2023-10-30T11:46:02.566Z"
   },
   {
    "duration": 16,
    "start_time": "2023-10-30T11:46:02.614Z"
   },
   {
    "duration": 37,
    "start_time": "2023-10-30T11:46:02.632Z"
   },
   {
    "duration": 32,
    "start_time": "2023-10-30T11:46:02.670Z"
   },
   {
    "duration": 89,
    "start_time": "2023-10-30T11:46:02.703Z"
   },
   {
    "duration": 12,
    "start_time": "2023-10-30T11:46:02.794Z"
   },
   {
    "duration": 40,
    "start_time": "2023-10-30T11:46:02.808Z"
   },
   {
    "duration": 24,
    "start_time": "2023-10-30T11:46:02.850Z"
   },
   {
    "duration": 58,
    "start_time": "2023-10-30T11:46:02.876Z"
   },
   {
    "duration": 9,
    "start_time": "2023-10-30T11:46:02.935Z"
   },
   {
    "duration": 51,
    "start_time": "2023-10-30T11:46:02.946Z"
   },
   {
    "duration": 28,
    "start_time": "2023-10-30T11:46:02.999Z"
   },
   {
    "duration": 23,
    "start_time": "2023-10-30T11:46:03.029Z"
   },
   {
    "duration": 46,
    "start_time": "2023-10-30T11:46:03.054Z"
   },
   {
    "duration": 22,
    "start_time": "2023-10-30T11:46:03.102Z"
   },
   {
    "duration": 33,
    "start_time": "2023-10-30T11:46:03.126Z"
   },
   {
    "duration": 127,
    "start_time": "2023-10-30T11:46:03.161Z"
   },
   {
    "duration": 0,
    "start_time": "2023-10-30T11:46:03.292Z"
   },
   {
    "duration": 0,
    "start_time": "2023-10-30T11:46:03.293Z"
   },
   {
    "duration": 0,
    "start_time": "2023-10-30T11:46:03.294Z"
   },
   {
    "duration": 0,
    "start_time": "2023-10-30T11:46:03.295Z"
   },
   {
    "duration": 0,
    "start_time": "2023-10-30T11:46:03.296Z"
   },
   {
    "duration": 0,
    "start_time": "2023-10-30T11:46:03.307Z"
   },
   {
    "duration": 0,
    "start_time": "2023-10-30T11:46:03.308Z"
   },
   {
    "duration": 0,
    "start_time": "2023-10-30T11:46:03.309Z"
   },
   {
    "duration": 0,
    "start_time": "2023-10-30T11:46:03.311Z"
   },
   {
    "duration": 0,
    "start_time": "2023-10-30T11:46:03.312Z"
   },
   {
    "duration": 0,
    "start_time": "2023-10-30T11:46:03.314Z"
   },
   {
    "duration": 0,
    "start_time": "2023-10-30T11:46:03.315Z"
   },
   {
    "duration": 0,
    "start_time": "2023-10-30T11:46:03.317Z"
   },
   {
    "duration": 0,
    "start_time": "2023-10-30T11:46:03.318Z"
   },
   {
    "duration": 0,
    "start_time": "2023-10-30T11:46:03.319Z"
   },
   {
    "duration": 0,
    "start_time": "2023-10-30T11:46:03.321Z"
   },
   {
    "duration": 0,
    "start_time": "2023-10-30T11:46:03.322Z"
   },
   {
    "duration": 0,
    "start_time": "2023-10-30T11:46:03.323Z"
   },
   {
    "duration": 0,
    "start_time": "2023-10-30T11:46:03.325Z"
   },
   {
    "duration": 0,
    "start_time": "2023-10-30T11:46:03.327Z"
   },
   {
    "duration": 0,
    "start_time": "2023-10-30T11:46:03.328Z"
   },
   {
    "duration": 0,
    "start_time": "2023-10-30T11:46:03.329Z"
   },
   {
    "duration": 0,
    "start_time": "2023-10-30T11:46:03.330Z"
   },
   {
    "duration": 0,
    "start_time": "2023-10-30T11:46:03.331Z"
   },
   {
    "duration": 0,
    "start_time": "2023-10-30T11:46:03.333Z"
   },
   {
    "duration": 0,
    "start_time": "2023-10-30T11:46:03.334Z"
   },
   {
    "duration": 0,
    "start_time": "2023-10-30T11:46:03.335Z"
   },
   {
    "duration": 0,
    "start_time": "2023-10-30T11:46:03.337Z"
   },
   {
    "duration": 0,
    "start_time": "2023-10-30T11:46:03.338Z"
   },
   {
    "duration": 0,
    "start_time": "2023-10-30T11:46:03.339Z"
   },
   {
    "duration": 0,
    "start_time": "2023-10-30T11:46:03.341Z"
   },
   {
    "duration": 0,
    "start_time": "2023-10-30T11:46:03.342Z"
   },
   {
    "duration": 0,
    "start_time": "2023-10-30T11:46:03.343Z"
   },
   {
    "duration": 0,
    "start_time": "2023-10-30T11:46:03.344Z"
   },
   {
    "duration": 0,
    "start_time": "2023-10-30T11:46:03.346Z"
   },
   {
    "duration": 0,
    "start_time": "2023-10-30T11:46:03.347Z"
   },
   {
    "duration": 0,
    "start_time": "2023-10-30T11:46:03.348Z"
   },
   {
    "duration": 0,
    "start_time": "2023-10-30T11:46:03.407Z"
   },
   {
    "duration": 0,
    "start_time": "2023-10-30T11:46:03.408Z"
   },
   {
    "duration": 0,
    "start_time": "2023-10-30T11:46:03.410Z"
   },
   {
    "duration": 0,
    "start_time": "2023-10-30T11:46:03.414Z"
   },
   {
    "duration": 0,
    "start_time": "2023-10-30T11:46:03.416Z"
   },
   {
    "duration": 0,
    "start_time": "2023-10-30T11:46:03.418Z"
   },
   {
    "duration": 0,
    "start_time": "2023-10-30T11:46:03.419Z"
   },
   {
    "duration": 1106,
    "start_time": "2023-10-30T11:46:57.243Z"
   },
   {
    "duration": 47,
    "start_time": "2023-10-30T11:46:58.350Z"
   },
   {
    "duration": 16,
    "start_time": "2023-10-30T11:46:58.398Z"
   },
   {
    "duration": 27,
    "start_time": "2023-10-30T11:46:58.416Z"
   },
   {
    "duration": 28,
    "start_time": "2023-10-30T11:46:58.444Z"
   },
   {
    "duration": 72,
    "start_time": "2023-10-30T11:46:58.473Z"
   },
   {
    "duration": 10,
    "start_time": "2023-10-30T11:46:58.547Z"
   },
   {
    "duration": 15,
    "start_time": "2023-10-30T11:46:58.559Z"
   },
   {
    "duration": 12,
    "start_time": "2023-10-30T11:46:58.576Z"
   },
   {
    "duration": 114,
    "start_time": "2023-10-30T11:46:58.591Z"
   },
   {
    "duration": 11,
    "start_time": "2023-10-30T11:46:58.706Z"
   },
   {
    "duration": 20,
    "start_time": "2023-10-30T11:46:58.719Z"
   },
   {
    "duration": 21,
    "start_time": "2023-10-30T11:46:58.740Z"
   },
   {
    "duration": 25,
    "start_time": "2023-10-30T11:46:58.763Z"
   },
   {
    "duration": 26,
    "start_time": "2023-10-30T11:46:58.790Z"
   },
   {
    "duration": 29,
    "start_time": "2023-10-30T11:46:58.818Z"
   },
   {
    "duration": 29,
    "start_time": "2023-10-30T11:46:58.848Z"
   },
   {
    "duration": 102,
    "start_time": "2023-10-30T11:46:58.879Z"
   },
   {
    "duration": 0,
    "start_time": "2023-10-30T11:46:58.984Z"
   },
   {
    "duration": 0,
    "start_time": "2023-10-30T11:46:58.985Z"
   },
   {
    "duration": 0,
    "start_time": "2023-10-30T11:46:58.986Z"
   },
   {
    "duration": 0,
    "start_time": "2023-10-30T11:46:58.987Z"
   },
   {
    "duration": 0,
    "start_time": "2023-10-30T11:46:58.989Z"
   },
   {
    "duration": 0,
    "start_time": "2023-10-30T11:46:58.989Z"
   },
   {
    "duration": 0,
    "start_time": "2023-10-30T11:46:58.990Z"
   },
   {
    "duration": 0,
    "start_time": "2023-10-30T11:46:59.007Z"
   },
   {
    "duration": 0,
    "start_time": "2023-10-30T11:46:59.008Z"
   },
   {
    "duration": 0,
    "start_time": "2023-10-30T11:46:59.009Z"
   },
   {
    "duration": 0,
    "start_time": "2023-10-30T11:46:59.010Z"
   },
   {
    "duration": 0,
    "start_time": "2023-10-30T11:46:59.011Z"
   },
   {
    "duration": 0,
    "start_time": "2023-10-30T11:46:59.013Z"
   },
   {
    "duration": 0,
    "start_time": "2023-10-30T11:46:59.013Z"
   },
   {
    "duration": 0,
    "start_time": "2023-10-30T11:46:59.015Z"
   },
   {
    "duration": 0,
    "start_time": "2023-10-30T11:46:59.016Z"
   },
   {
    "duration": 0,
    "start_time": "2023-10-30T11:46:59.017Z"
   },
   {
    "duration": 0,
    "start_time": "2023-10-30T11:46:59.018Z"
   },
   {
    "duration": 0,
    "start_time": "2023-10-30T11:46:59.019Z"
   },
   {
    "duration": 0,
    "start_time": "2023-10-30T11:46:59.020Z"
   },
   {
    "duration": 0,
    "start_time": "2023-10-30T11:46:59.021Z"
   },
   {
    "duration": 0,
    "start_time": "2023-10-30T11:46:59.022Z"
   },
   {
    "duration": 0,
    "start_time": "2023-10-30T11:46:59.023Z"
   },
   {
    "duration": 0,
    "start_time": "2023-10-30T11:46:59.024Z"
   },
   {
    "duration": 0,
    "start_time": "2023-10-30T11:46:59.025Z"
   },
   {
    "duration": 0,
    "start_time": "2023-10-30T11:46:59.026Z"
   },
   {
    "duration": 0,
    "start_time": "2023-10-30T11:46:59.027Z"
   },
   {
    "duration": 0,
    "start_time": "2023-10-30T11:46:59.029Z"
   },
   {
    "duration": 0,
    "start_time": "2023-10-30T11:46:59.029Z"
   },
   {
    "duration": 0,
    "start_time": "2023-10-30T11:46:59.031Z"
   },
   {
    "duration": 0,
    "start_time": "2023-10-30T11:46:59.032Z"
   },
   {
    "duration": 0,
    "start_time": "2023-10-30T11:46:59.034Z"
   },
   {
    "duration": 0,
    "start_time": "2023-10-30T11:46:59.035Z"
   },
   {
    "duration": 0,
    "start_time": "2023-10-30T11:46:59.037Z"
   },
   {
    "duration": 0,
    "start_time": "2023-10-30T11:46:59.038Z"
   },
   {
    "duration": 0,
    "start_time": "2023-10-30T11:46:59.039Z"
   },
   {
    "duration": 0,
    "start_time": "2023-10-30T11:46:59.041Z"
   },
   {
    "duration": 0,
    "start_time": "2023-10-30T11:46:59.042Z"
   },
   {
    "duration": 0,
    "start_time": "2023-10-30T11:46:59.043Z"
   },
   {
    "duration": 0,
    "start_time": "2023-10-30T11:46:59.044Z"
   },
   {
    "duration": 1,
    "start_time": "2023-10-30T11:46:59.044Z"
   },
   {
    "duration": 0,
    "start_time": "2023-10-30T11:46:59.046Z"
   },
   {
    "duration": 0,
    "start_time": "2023-10-30T11:46:59.047Z"
   },
   {
    "duration": 0,
    "start_time": "2023-10-30T11:46:59.048Z"
   },
   {
    "duration": 12,
    "start_time": "2023-10-30T11:47:27.304Z"
   },
   {
    "duration": 1216,
    "start_time": "2023-10-30T11:48:51.424Z"
   },
   {
    "duration": 7,
    "start_time": "2023-10-30T11:48:57.842Z"
   },
   {
    "duration": 9,
    "start_time": "2023-10-30T11:49:04.872Z"
   },
   {
    "duration": 14,
    "start_time": "2023-10-30T12:03:31.783Z"
   },
   {
    "duration": 8,
    "start_time": "2023-10-30T12:03:35.680Z"
   },
   {
    "duration": 1101,
    "start_time": "2023-10-30T12:11:49.666Z"
   },
   {
    "duration": 53,
    "start_time": "2023-10-30T12:11:50.769Z"
   },
   {
    "duration": 12,
    "start_time": "2023-10-30T12:11:50.824Z"
   },
   {
    "duration": 28,
    "start_time": "2023-10-30T12:11:50.837Z"
   },
   {
    "duration": 25,
    "start_time": "2023-10-30T12:11:50.866Z"
   },
   {
    "duration": 85,
    "start_time": "2023-10-30T12:11:50.892Z"
   },
   {
    "duration": 11,
    "start_time": "2023-10-30T12:11:50.979Z"
   },
   {
    "duration": 52,
    "start_time": "2023-10-30T12:11:50.992Z"
   },
   {
    "duration": 45,
    "start_time": "2023-10-30T12:11:51.045Z"
   },
   {
    "duration": 59,
    "start_time": "2023-10-30T12:11:51.093Z"
   },
   {
    "duration": 9,
    "start_time": "2023-10-30T12:11:51.154Z"
   },
   {
    "duration": 47,
    "start_time": "2023-10-30T12:11:51.165Z"
   },
   {
    "duration": 15,
    "start_time": "2023-10-30T12:11:51.214Z"
   },
   {
    "duration": 15,
    "start_time": "2023-10-30T12:11:51.230Z"
   },
   {
    "duration": 25,
    "start_time": "2023-10-30T12:11:51.247Z"
   },
   {
    "duration": 31,
    "start_time": "2023-10-30T12:11:51.274Z"
   },
   {
    "duration": 123,
    "start_time": "2023-10-30T12:11:51.306Z"
   },
   {
    "duration": 0,
    "start_time": "2023-10-30T12:11:51.432Z"
   },
   {
    "duration": 0,
    "start_time": "2023-10-30T12:11:51.433Z"
   },
   {
    "duration": 0,
    "start_time": "2023-10-30T12:11:51.434Z"
   },
   {
    "duration": 0,
    "start_time": "2023-10-30T12:11:51.435Z"
   },
   {
    "duration": 0,
    "start_time": "2023-10-30T12:11:51.436Z"
   },
   {
    "duration": 0,
    "start_time": "2023-10-30T12:11:51.437Z"
   },
   {
    "duration": 0,
    "start_time": "2023-10-30T12:11:51.438Z"
   },
   {
    "duration": 0,
    "start_time": "2023-10-30T12:11:51.440Z"
   },
   {
    "duration": 0,
    "start_time": "2023-10-30T12:11:51.441Z"
   },
   {
    "duration": 0,
    "start_time": "2023-10-30T12:11:51.442Z"
   },
   {
    "duration": 0,
    "start_time": "2023-10-30T12:11:51.443Z"
   },
   {
    "duration": 0,
    "start_time": "2023-10-30T12:11:51.444Z"
   },
   {
    "duration": 0,
    "start_time": "2023-10-30T12:11:51.445Z"
   },
   {
    "duration": 0,
    "start_time": "2023-10-30T12:11:51.446Z"
   },
   {
    "duration": 0,
    "start_time": "2023-10-30T12:11:51.447Z"
   },
   {
    "duration": 0,
    "start_time": "2023-10-30T12:11:51.448Z"
   },
   {
    "duration": 0,
    "start_time": "2023-10-30T12:11:51.449Z"
   },
   {
    "duration": 0,
    "start_time": "2023-10-30T12:11:51.450Z"
   },
   {
    "duration": 0,
    "start_time": "2023-10-30T12:11:51.451Z"
   },
   {
    "duration": 0,
    "start_time": "2023-10-30T12:11:51.452Z"
   },
   {
    "duration": 0,
    "start_time": "2023-10-30T12:11:51.453Z"
   },
   {
    "duration": 0,
    "start_time": "2023-10-30T12:11:51.454Z"
   },
   {
    "duration": 0,
    "start_time": "2023-10-30T12:11:51.454Z"
   },
   {
    "duration": 0,
    "start_time": "2023-10-30T12:11:51.456Z"
   },
   {
    "duration": 0,
    "start_time": "2023-10-30T12:11:51.457Z"
   },
   {
    "duration": 0,
    "start_time": "2023-10-30T12:11:51.458Z"
   },
   {
    "duration": 0,
    "start_time": "2023-10-30T12:11:51.459Z"
   },
   {
    "duration": 0,
    "start_time": "2023-10-30T12:11:51.460Z"
   },
   {
    "duration": 0,
    "start_time": "2023-10-30T12:11:51.461Z"
   },
   {
    "duration": 0,
    "start_time": "2023-10-30T12:11:51.508Z"
   },
   {
    "duration": 0,
    "start_time": "2023-10-30T12:11:51.509Z"
   },
   {
    "duration": 0,
    "start_time": "2023-10-30T12:11:51.510Z"
   },
   {
    "duration": 0,
    "start_time": "2023-10-30T12:11:51.511Z"
   },
   {
    "duration": 0,
    "start_time": "2023-10-30T12:11:51.512Z"
   },
   {
    "duration": 0,
    "start_time": "2023-10-30T12:11:51.513Z"
   },
   {
    "duration": 0,
    "start_time": "2023-10-30T12:11:51.514Z"
   },
   {
    "duration": 0,
    "start_time": "2023-10-30T12:11:51.515Z"
   },
   {
    "duration": 0,
    "start_time": "2023-10-30T12:11:51.517Z"
   },
   {
    "duration": 0,
    "start_time": "2023-10-30T12:11:51.518Z"
   },
   {
    "duration": 0,
    "start_time": "2023-10-30T12:11:51.519Z"
   },
   {
    "duration": 0,
    "start_time": "2023-10-30T12:11:51.520Z"
   },
   {
    "duration": 0,
    "start_time": "2023-10-30T12:11:51.522Z"
   },
   {
    "duration": 0,
    "start_time": "2023-10-30T12:11:51.523Z"
   },
   {
    "duration": 0,
    "start_time": "2023-10-30T12:11:51.523Z"
   },
   {
    "duration": 0,
    "start_time": "2023-10-30T12:11:51.524Z"
   },
   {
    "duration": 0,
    "start_time": "2023-10-30T12:11:51.525Z"
   },
   {
    "duration": 0,
    "start_time": "2023-10-30T12:11:51.527Z"
   },
   {
    "duration": 0,
    "start_time": "2023-10-30T12:11:51.528Z"
   },
   {
    "duration": 10,
    "start_time": "2023-10-30T12:12:24.873Z"
   },
   {
    "duration": 14,
    "start_time": "2023-10-30T12:13:35.457Z"
   },
   {
    "duration": 8,
    "start_time": "2023-10-30T12:14:09.313Z"
   },
   {
    "duration": 13,
    "start_time": "2023-10-30T12:14:41.411Z"
   },
   {
    "duration": 16,
    "start_time": "2023-10-30T12:15:27.001Z"
   },
   {
    "duration": 16,
    "start_time": "2023-10-30T12:58:14.033Z"
   },
   {
    "duration": 16,
    "start_time": "2023-10-30T13:00:15.211Z"
   },
   {
    "duration": 14,
    "start_time": "2023-10-30T13:01:03.561Z"
   },
   {
    "duration": 9,
    "start_time": "2023-10-30T13:01:45.141Z"
   },
   {
    "duration": 13,
    "start_time": "2023-10-30T13:01:50.649Z"
   },
   {
    "duration": 8,
    "start_time": "2023-10-30T13:01:51.956Z"
   },
   {
    "duration": 1393,
    "start_time": "2023-10-30T13:02:37.435Z"
   },
   {
    "duration": 1861,
    "start_time": "2023-10-30T13:02:44.274Z"
   },
   {
    "duration": 10,
    "start_time": "2023-10-30T13:02:53.882Z"
   },
   {
    "duration": 1466,
    "start_time": "2023-10-30T13:02:59.182Z"
   },
   {
    "duration": 10,
    "start_time": "2023-10-30T13:03:14.592Z"
   },
   {
    "duration": 7,
    "start_time": "2023-10-30T13:03:27.800Z"
   },
   {
    "duration": 8,
    "start_time": "2023-10-30T13:04:28.807Z"
   },
   {
    "duration": 8,
    "start_time": "2023-10-30T13:04:36.602Z"
   },
   {
    "duration": 14,
    "start_time": "2023-10-30T13:06:42.918Z"
   },
   {
    "duration": 11,
    "start_time": "2023-10-30T13:06:44.896Z"
   },
   {
    "duration": 15,
    "start_time": "2023-10-30T13:07:01.932Z"
   },
   {
    "duration": 97,
    "start_time": "2023-10-30T13:07:55.082Z"
   },
   {
    "duration": 87,
    "start_time": "2023-10-30T13:09:37.593Z"
   },
   {
    "duration": 93,
    "start_time": "2023-10-30T13:10:08.847Z"
   },
   {
    "duration": 1174,
    "start_time": "2023-10-30T13:12:54.686Z"
   },
   {
    "duration": 110,
    "start_time": "2023-10-30T13:12:55.862Z"
   },
   {
    "duration": 15,
    "start_time": "2023-10-30T13:12:55.975Z"
   },
   {
    "duration": 25,
    "start_time": "2023-10-30T13:12:55.993Z"
   },
   {
    "duration": 18,
    "start_time": "2023-10-30T13:12:56.020Z"
   },
   {
    "duration": 87,
    "start_time": "2023-10-30T13:12:56.041Z"
   },
   {
    "duration": 13,
    "start_time": "2023-10-30T13:12:56.130Z"
   },
   {
    "duration": 28,
    "start_time": "2023-10-30T13:12:56.145Z"
   },
   {
    "duration": 11,
    "start_time": "2023-10-30T13:12:56.175Z"
   },
   {
    "duration": 372,
    "start_time": "2023-10-30T13:12:56.188Z"
   },
   {
    "duration": 10,
    "start_time": "2023-10-30T13:12:56.562Z"
   },
   {
    "duration": 19,
    "start_time": "2023-10-30T13:12:56.574Z"
   },
   {
    "duration": 7,
    "start_time": "2023-10-30T13:12:56.596Z"
   },
   {
    "duration": 37,
    "start_time": "2023-10-30T13:12:56.604Z"
   },
   {
    "duration": 38,
    "start_time": "2023-10-30T13:12:56.643Z"
   },
   {
    "duration": 18,
    "start_time": "2023-10-30T13:12:56.683Z"
   },
   {
    "duration": 42,
    "start_time": "2023-10-30T13:12:56.703Z"
   },
   {
    "duration": 17,
    "start_time": "2023-10-30T13:12:56.747Z"
   },
   {
    "duration": 209,
    "start_time": "2023-10-30T13:12:56.766Z"
   },
   {
    "duration": 140,
    "start_time": "2023-10-30T13:12:56.977Z"
   },
   {
    "duration": 16,
    "start_time": "2023-10-30T13:12:57.119Z"
   },
   {
    "duration": 17,
    "start_time": "2023-10-30T13:12:57.136Z"
   },
   {
    "duration": 20,
    "start_time": "2023-10-30T13:12:57.154Z"
   },
   {
    "duration": 41,
    "start_time": "2023-10-30T13:12:57.175Z"
   },
   {
    "duration": 306,
    "start_time": "2023-10-30T13:12:57.217Z"
   },
   {
    "duration": 222,
    "start_time": "2023-10-30T13:12:57.525Z"
   },
   {
    "duration": 18,
    "start_time": "2023-10-30T13:12:57.748Z"
   },
   {
    "duration": 12,
    "start_time": "2023-10-30T13:12:57.770Z"
   },
   {
    "duration": 314,
    "start_time": "2023-10-30T13:12:57.784Z"
   },
   {
    "duration": 6,
    "start_time": "2023-10-30T13:12:58.106Z"
   },
   {
    "duration": 271,
    "start_time": "2023-10-30T13:12:58.113Z"
   },
   {
    "duration": 357,
    "start_time": "2023-10-30T13:12:58.386Z"
   },
   {
    "duration": 10,
    "start_time": "2023-10-30T13:12:58.745Z"
   },
   {
    "duration": 168,
    "start_time": "2023-10-30T13:12:58.757Z"
   },
   {
    "duration": 7,
    "start_time": "2023-10-30T13:12:58.927Z"
   },
   {
    "duration": 13,
    "start_time": "2023-10-30T13:12:58.936Z"
   },
   {
    "duration": 136,
    "start_time": "2023-10-30T13:12:58.950Z"
   },
   {
    "duration": 5,
    "start_time": "2023-10-30T13:12:59.087Z"
   },
   {
    "duration": 14,
    "start_time": "2023-10-30T13:12:59.106Z"
   },
   {
    "duration": 157,
    "start_time": "2023-10-30T13:12:59.122Z"
   },
   {
    "duration": 9,
    "start_time": "2023-10-30T13:12:59.281Z"
   },
   {
    "duration": 221,
    "start_time": "2023-10-30T13:12:59.292Z"
   },
   {
    "duration": 9,
    "start_time": "2023-10-30T13:12:59.526Z"
   },
   {
    "duration": 46,
    "start_time": "2023-10-30T13:12:59.538Z"
   },
   {
    "duration": 24,
    "start_time": "2023-10-30T13:12:59.586Z"
   },
   {
    "duration": 11,
    "start_time": "2023-10-30T13:12:59.612Z"
   },
   {
    "duration": 13,
    "start_time": "2023-10-30T13:12:59.624Z"
   },
   {
    "duration": 26,
    "start_time": "2023-10-30T13:12:59.638Z"
   },
   {
    "duration": 14,
    "start_time": "2023-10-30T13:12:59.666Z"
   },
   {
    "duration": 18,
    "start_time": "2023-10-30T13:12:59.682Z"
   },
   {
    "duration": 7,
    "start_time": "2023-10-30T13:12:59.702Z"
   },
   {
    "duration": 19,
    "start_time": "2023-10-30T13:12:59.711Z"
   },
   {
    "duration": 7,
    "start_time": "2023-10-30T13:12:59.731Z"
   },
   {
    "duration": 302,
    "start_time": "2023-10-30T13:12:59.739Z"
   },
   {
    "duration": 14,
    "start_time": "2023-10-30T13:13:00.043Z"
   },
   {
    "duration": 141,
    "start_time": "2023-10-30T13:13:00.058Z"
   },
   {
    "duration": 140,
    "start_time": "2023-10-30T13:13:00.201Z"
   },
   {
    "duration": 81,
    "start_time": "2023-10-30T13:13:00.343Z"
   },
   {
    "duration": 61,
    "start_time": "2023-10-30T13:13:00.425Z"
   },
   {
    "duration": 23,
    "start_time": "2023-10-30T13:13:00.488Z"
   },
   {
    "duration": 17,
    "start_time": "2023-10-30T13:13:00.512Z"
   },
   {
    "duration": 13,
    "start_time": "2023-10-30T13:17:14.192Z"
   },
   {
    "duration": 13,
    "start_time": "2023-10-30T13:17:24.534Z"
   },
   {
    "duration": 13,
    "start_time": "2023-10-30T13:23:30.052Z"
   },
   {
    "duration": 1112,
    "start_time": "2023-10-30T13:27:33.257Z"
   },
   {
    "duration": 64,
    "start_time": "2023-10-30T13:27:34.371Z"
   },
   {
    "duration": 12,
    "start_time": "2023-10-30T13:27:34.437Z"
   },
   {
    "duration": 32,
    "start_time": "2023-10-30T13:27:34.451Z"
   },
   {
    "duration": 10,
    "start_time": "2023-10-30T13:27:34.484Z"
   },
   {
    "duration": 76,
    "start_time": "2023-10-30T13:27:34.495Z"
   },
   {
    "duration": 10,
    "start_time": "2023-10-30T13:27:34.573Z"
   },
   {
    "duration": 37,
    "start_time": "2023-10-30T13:27:34.585Z"
   },
   {
    "duration": 15,
    "start_time": "2023-10-30T13:27:34.623Z"
   },
   {
    "duration": 55,
    "start_time": "2023-10-30T13:27:34.640Z"
   },
   {
    "duration": 10,
    "start_time": "2023-10-30T13:27:34.696Z"
   },
   {
    "duration": 29,
    "start_time": "2023-10-30T13:27:34.707Z"
   },
   {
    "duration": 15,
    "start_time": "2023-10-30T13:27:34.739Z"
   },
   {
    "duration": 38,
    "start_time": "2023-10-30T13:27:34.756Z"
   },
   {
    "duration": 97,
    "start_time": "2023-10-30T13:27:34.796Z"
   },
   {
    "duration": 0,
    "start_time": "2023-10-30T13:27:34.896Z"
   },
   {
    "duration": 0,
    "start_time": "2023-10-30T13:27:34.897Z"
   },
   {
    "duration": 0,
    "start_time": "2023-10-30T13:27:34.899Z"
   },
   {
    "duration": 0,
    "start_time": "2023-10-30T13:27:34.907Z"
   },
   {
    "duration": 0,
    "start_time": "2023-10-30T13:27:34.908Z"
   },
   {
    "duration": 0,
    "start_time": "2023-10-30T13:27:34.910Z"
   },
   {
    "duration": 0,
    "start_time": "2023-10-30T13:27:34.911Z"
   },
   {
    "duration": 0,
    "start_time": "2023-10-30T13:27:34.912Z"
   },
   {
    "duration": 0,
    "start_time": "2023-10-30T13:27:34.914Z"
   },
   {
    "duration": 0,
    "start_time": "2023-10-30T13:27:34.915Z"
   },
   {
    "duration": 0,
    "start_time": "2023-10-30T13:27:34.917Z"
   },
   {
    "duration": 0,
    "start_time": "2023-10-30T13:27:34.918Z"
   },
   {
    "duration": 0,
    "start_time": "2023-10-30T13:27:34.920Z"
   },
   {
    "duration": 0,
    "start_time": "2023-10-30T13:27:34.921Z"
   },
   {
    "duration": 0,
    "start_time": "2023-10-30T13:27:34.923Z"
   },
   {
    "duration": 0,
    "start_time": "2023-10-30T13:27:34.924Z"
   },
   {
    "duration": 0,
    "start_time": "2023-10-30T13:27:34.925Z"
   },
   {
    "duration": 0,
    "start_time": "2023-10-30T13:27:34.926Z"
   },
   {
    "duration": 0,
    "start_time": "2023-10-30T13:27:34.928Z"
   },
   {
    "duration": 0,
    "start_time": "2023-10-30T13:27:34.929Z"
   },
   {
    "duration": 0,
    "start_time": "2023-10-30T13:27:34.930Z"
   },
   {
    "duration": 0,
    "start_time": "2023-10-30T13:27:34.934Z"
   },
   {
    "duration": 0,
    "start_time": "2023-10-30T13:27:34.935Z"
   },
   {
    "duration": 0,
    "start_time": "2023-10-30T13:27:34.936Z"
   },
   {
    "duration": 0,
    "start_time": "2023-10-30T13:27:34.938Z"
   },
   {
    "duration": 0,
    "start_time": "2023-10-30T13:27:34.939Z"
   },
   {
    "duration": 1,
    "start_time": "2023-10-30T13:27:34.940Z"
   },
   {
    "duration": 0,
    "start_time": "2023-10-30T13:27:34.942Z"
   },
   {
    "duration": 0,
    "start_time": "2023-10-30T13:27:34.943Z"
   },
   {
    "duration": 0,
    "start_time": "2023-10-30T13:27:34.944Z"
   },
   {
    "duration": 0,
    "start_time": "2023-10-30T13:27:34.945Z"
   },
   {
    "duration": 0,
    "start_time": "2023-10-30T13:27:34.946Z"
   },
   {
    "duration": 0,
    "start_time": "2023-10-30T13:27:34.947Z"
   },
   {
    "duration": 0,
    "start_time": "2023-10-30T13:27:35.007Z"
   },
   {
    "duration": 0,
    "start_time": "2023-10-30T13:27:35.009Z"
   },
   {
    "duration": 0,
    "start_time": "2023-10-30T13:27:35.010Z"
   },
   {
    "duration": 0,
    "start_time": "2023-10-30T13:27:35.011Z"
   },
   {
    "duration": 0,
    "start_time": "2023-10-30T13:27:35.012Z"
   },
   {
    "duration": 0,
    "start_time": "2023-10-30T13:27:35.013Z"
   },
   {
    "duration": 0,
    "start_time": "2023-10-30T13:27:35.014Z"
   },
   {
    "duration": 0,
    "start_time": "2023-10-30T13:27:35.015Z"
   },
   {
    "duration": 0,
    "start_time": "2023-10-30T13:27:35.016Z"
   },
   {
    "duration": 0,
    "start_time": "2023-10-30T13:27:35.017Z"
   },
   {
    "duration": 0,
    "start_time": "2023-10-30T13:27:35.018Z"
   },
   {
    "duration": 0,
    "start_time": "2023-10-30T13:27:35.019Z"
   },
   {
    "duration": 0,
    "start_time": "2023-10-30T13:27:35.020Z"
   },
   {
    "duration": 0,
    "start_time": "2023-10-30T13:27:35.021Z"
   },
   {
    "duration": 0,
    "start_time": "2023-10-30T13:27:35.022Z"
   },
   {
    "duration": 10,
    "start_time": "2023-10-30T13:27:47.159Z"
   },
   {
    "duration": 10,
    "start_time": "2023-10-30T13:28:24.583Z"
   },
   {
    "duration": 10,
    "start_time": "2023-10-30T13:28:29.264Z"
   },
   {
    "duration": 6,
    "start_time": "2023-10-30T13:28:48.779Z"
   },
   {
    "duration": 7,
    "start_time": "2023-10-30T13:29:06.399Z"
   },
   {
    "duration": 8,
    "start_time": "2023-10-30T13:30:52.431Z"
   },
   {
    "duration": 12,
    "start_time": "2023-10-30T13:33:00.868Z"
   },
   {
    "duration": 8,
    "start_time": "2023-10-30T13:33:53.081Z"
   },
   {
    "duration": 4,
    "start_time": "2023-10-30T13:33:56.147Z"
   },
   {
    "duration": 12,
    "start_time": "2023-10-30T13:33:56.872Z"
   },
   {
    "duration": 6,
    "start_time": "2023-10-30T13:35:40.277Z"
   },
   {
    "duration": 10,
    "start_time": "2023-10-30T13:40:20.041Z"
   },
   {
    "duration": 6,
    "start_time": "2023-10-30T13:56:29.993Z"
   },
   {
    "duration": 11,
    "start_time": "2023-10-30T13:56:36.429Z"
   },
   {
    "duration": 1166,
    "start_time": "2023-10-30T13:56:53.521Z"
   },
   {
    "duration": 54,
    "start_time": "2023-10-30T13:56:54.690Z"
   },
   {
    "duration": 14,
    "start_time": "2023-10-30T13:56:54.745Z"
   },
   {
    "duration": 23,
    "start_time": "2023-10-30T13:56:54.761Z"
   },
   {
    "duration": 50,
    "start_time": "2023-10-30T13:56:54.785Z"
   },
   {
    "duration": 72,
    "start_time": "2023-10-30T13:56:54.837Z"
   },
   {
    "duration": 11,
    "start_time": "2023-10-30T13:56:54.911Z"
   },
   {
    "duration": 18,
    "start_time": "2023-10-30T13:56:54.924Z"
   },
   {
    "duration": 17,
    "start_time": "2023-10-30T13:56:54.944Z"
   },
   {
    "duration": 55,
    "start_time": "2023-10-30T13:56:54.964Z"
   },
   {
    "duration": 57,
    "start_time": "2023-10-30T13:56:55.020Z"
   },
   {
    "duration": 54,
    "start_time": "2023-10-30T13:56:55.078Z"
   },
   {
    "duration": 21,
    "start_time": "2023-10-30T13:56:55.134Z"
   },
   {
    "duration": 44,
    "start_time": "2023-10-30T13:56:55.157Z"
   },
   {
    "duration": 25,
    "start_time": "2023-10-30T13:56:55.202Z"
   },
   {
    "duration": 109,
    "start_time": "2023-10-30T13:56:55.229Z"
   },
   {
    "duration": 0,
    "start_time": "2023-10-30T13:56:55.341Z"
   },
   {
    "duration": 0,
    "start_time": "2023-10-30T13:56:55.342Z"
   },
   {
    "duration": 0,
    "start_time": "2023-10-30T13:56:55.344Z"
   },
   {
    "duration": 0,
    "start_time": "2023-10-30T13:56:55.346Z"
   },
   {
    "duration": 0,
    "start_time": "2023-10-30T13:56:55.346Z"
   },
   {
    "duration": 0,
    "start_time": "2023-10-30T13:56:55.348Z"
   },
   {
    "duration": 0,
    "start_time": "2023-10-30T13:56:55.349Z"
   },
   {
    "duration": 0,
    "start_time": "2023-10-30T13:56:55.351Z"
   },
   {
    "duration": 0,
    "start_time": "2023-10-30T13:56:55.352Z"
   },
   {
    "duration": 0,
    "start_time": "2023-10-30T13:56:55.354Z"
   },
   {
    "duration": 0,
    "start_time": "2023-10-30T13:56:55.355Z"
   },
   {
    "duration": 1,
    "start_time": "2023-10-30T13:56:55.356Z"
   },
   {
    "duration": 0,
    "start_time": "2023-10-30T13:56:55.358Z"
   },
   {
    "duration": 0,
    "start_time": "2023-10-30T13:56:55.359Z"
   },
   {
    "duration": 0,
    "start_time": "2023-10-30T13:56:55.361Z"
   },
   {
    "duration": 0,
    "start_time": "2023-10-30T13:56:55.362Z"
   },
   {
    "duration": 0,
    "start_time": "2023-10-30T13:56:55.364Z"
   },
   {
    "duration": 0,
    "start_time": "2023-10-30T13:56:55.366Z"
   },
   {
    "duration": 0,
    "start_time": "2023-10-30T13:56:55.368Z"
   },
   {
    "duration": 0,
    "start_time": "2023-10-30T13:56:55.369Z"
   },
   {
    "duration": 0,
    "start_time": "2023-10-30T13:56:55.407Z"
   },
   {
    "duration": 0,
    "start_time": "2023-10-30T13:56:55.409Z"
   },
   {
    "duration": 0,
    "start_time": "2023-10-30T13:56:55.410Z"
   },
   {
    "duration": 0,
    "start_time": "2023-10-30T13:56:55.411Z"
   },
   {
    "duration": 0,
    "start_time": "2023-10-30T13:56:55.412Z"
   },
   {
    "duration": 0,
    "start_time": "2023-10-30T13:56:55.414Z"
   },
   {
    "duration": 0,
    "start_time": "2023-10-30T13:56:55.415Z"
   },
   {
    "duration": 0,
    "start_time": "2023-10-30T13:56:55.417Z"
   },
   {
    "duration": 0,
    "start_time": "2023-10-30T13:56:55.418Z"
   },
   {
    "duration": 0,
    "start_time": "2023-10-30T13:56:55.419Z"
   },
   {
    "duration": 0,
    "start_time": "2023-10-30T13:56:55.420Z"
   },
   {
    "duration": 0,
    "start_time": "2023-10-30T13:56:55.421Z"
   },
   {
    "duration": 0,
    "start_time": "2023-10-30T13:56:55.424Z"
   },
   {
    "duration": 0,
    "start_time": "2023-10-30T13:56:55.425Z"
   },
   {
    "duration": 0,
    "start_time": "2023-10-30T13:56:55.427Z"
   },
   {
    "duration": 0,
    "start_time": "2023-10-30T13:56:55.428Z"
   },
   {
    "duration": 0,
    "start_time": "2023-10-30T13:56:55.430Z"
   },
   {
    "duration": 0,
    "start_time": "2023-10-30T13:56:55.431Z"
   },
   {
    "duration": 0,
    "start_time": "2023-10-30T13:56:55.432Z"
   },
   {
    "duration": 0,
    "start_time": "2023-10-30T13:56:55.434Z"
   },
   {
    "duration": 0,
    "start_time": "2023-10-30T13:56:55.435Z"
   },
   {
    "duration": 0,
    "start_time": "2023-10-30T13:56:55.437Z"
   },
   {
    "duration": 0,
    "start_time": "2023-10-30T13:56:55.438Z"
   },
   {
    "duration": 0,
    "start_time": "2023-10-30T13:56:55.439Z"
   },
   {
    "duration": 0,
    "start_time": "2023-10-30T13:56:55.440Z"
   },
   {
    "duration": 0,
    "start_time": "2023-10-30T13:56:55.441Z"
   },
   {
    "duration": 0,
    "start_time": "2023-10-30T13:56:55.442Z"
   },
   {
    "duration": 0,
    "start_time": "2023-10-30T13:56:55.443Z"
   },
   {
    "duration": 0,
    "start_time": "2023-10-30T13:56:55.444Z"
   },
   {
    "duration": 11,
    "start_time": "2023-10-30T13:58:48.147Z"
   },
   {
    "duration": 7,
    "start_time": "2023-10-30T13:59:25.442Z"
   },
   {
    "duration": 8,
    "start_time": "2023-10-30T13:59:35.860Z"
   },
   {
    "duration": 12,
    "start_time": "2023-10-30T13:59:55.046Z"
   },
   {
    "duration": 1131,
    "start_time": "2023-10-30T14:00:57.544Z"
   },
   {
    "duration": 34,
    "start_time": "2023-10-30T14:00:58.677Z"
   },
   {
    "duration": 18,
    "start_time": "2023-10-30T14:00:58.713Z"
   },
   {
    "duration": 38,
    "start_time": "2023-10-30T14:00:58.733Z"
   },
   {
    "duration": 17,
    "start_time": "2023-10-30T14:00:58.772Z"
   },
   {
    "duration": 71,
    "start_time": "2023-10-30T14:00:58.791Z"
   },
   {
    "duration": 11,
    "start_time": "2023-10-30T14:00:58.863Z"
   },
   {
    "duration": 47,
    "start_time": "2023-10-30T14:00:58.876Z"
   },
   {
    "duration": 14,
    "start_time": "2023-10-30T14:00:58.925Z"
   },
   {
    "duration": 58,
    "start_time": "2023-10-30T14:00:58.942Z"
   },
   {
    "duration": 10,
    "start_time": "2023-10-30T14:00:59.001Z"
   },
   {
    "duration": 14,
    "start_time": "2023-10-30T14:00:59.013Z"
   },
   {
    "duration": 18,
    "start_time": "2023-10-30T14:00:59.029Z"
   },
   {
    "duration": 30,
    "start_time": "2023-10-30T14:00:59.049Z"
   },
   {
    "duration": 22,
    "start_time": "2023-10-30T14:00:59.080Z"
   },
   {
    "duration": 14,
    "start_time": "2023-10-30T14:00:59.104Z"
   },
   {
    "duration": 122,
    "start_time": "2023-10-30T14:00:59.120Z"
   },
   {
    "duration": 0,
    "start_time": "2023-10-30T14:00:59.245Z"
   },
   {
    "duration": 0,
    "start_time": "2023-10-30T14:00:59.246Z"
   },
   {
    "duration": 0,
    "start_time": "2023-10-30T14:00:59.247Z"
   },
   {
    "duration": 0,
    "start_time": "2023-10-30T14:00:59.247Z"
   },
   {
    "duration": 0,
    "start_time": "2023-10-30T14:00:59.249Z"
   },
   {
    "duration": 0,
    "start_time": "2023-10-30T14:00:59.250Z"
   },
   {
    "duration": 0,
    "start_time": "2023-10-30T14:00:59.251Z"
   },
   {
    "duration": 0,
    "start_time": "2023-10-30T14:00:59.252Z"
   },
   {
    "duration": 0,
    "start_time": "2023-10-30T14:00:59.254Z"
   },
   {
    "duration": 0,
    "start_time": "2023-10-30T14:00:59.255Z"
   },
   {
    "duration": 0,
    "start_time": "2023-10-30T14:00:59.256Z"
   },
   {
    "duration": 0,
    "start_time": "2023-10-30T14:00:59.258Z"
   },
   {
    "duration": 0,
    "start_time": "2023-10-30T14:00:59.259Z"
   },
   {
    "duration": 0,
    "start_time": "2023-10-30T14:00:59.260Z"
   },
   {
    "duration": 0,
    "start_time": "2023-10-30T14:00:59.262Z"
   },
   {
    "duration": 0,
    "start_time": "2023-10-30T14:00:59.263Z"
   },
   {
    "duration": 0,
    "start_time": "2023-10-30T14:00:59.264Z"
   },
   {
    "duration": 0,
    "start_time": "2023-10-30T14:00:59.265Z"
   },
   {
    "duration": 0,
    "start_time": "2023-10-30T14:00:59.266Z"
   },
   {
    "duration": 0,
    "start_time": "2023-10-30T14:00:59.268Z"
   },
   {
    "duration": 0,
    "start_time": "2023-10-30T14:00:59.269Z"
   },
   {
    "duration": 0,
    "start_time": "2023-10-30T14:00:59.270Z"
   },
   {
    "duration": 0,
    "start_time": "2023-10-30T14:00:59.271Z"
   },
   {
    "duration": 0,
    "start_time": "2023-10-30T14:00:59.273Z"
   },
   {
    "duration": 0,
    "start_time": "2023-10-30T14:00:59.273Z"
   },
   {
    "duration": 0,
    "start_time": "2023-10-30T14:00:59.274Z"
   },
   {
    "duration": 0,
    "start_time": "2023-10-30T14:00:59.275Z"
   },
   {
    "duration": 0,
    "start_time": "2023-10-30T14:00:59.276Z"
   },
   {
    "duration": 0,
    "start_time": "2023-10-30T14:00:59.308Z"
   },
   {
    "duration": 0,
    "start_time": "2023-10-30T14:00:59.309Z"
   },
   {
    "duration": 0,
    "start_time": "2023-10-30T14:00:59.310Z"
   },
   {
    "duration": 0,
    "start_time": "2023-10-30T14:00:59.312Z"
   },
   {
    "duration": 0,
    "start_time": "2023-10-30T14:00:59.313Z"
   },
   {
    "duration": 0,
    "start_time": "2023-10-30T14:00:59.314Z"
   },
   {
    "duration": 0,
    "start_time": "2023-10-30T14:00:59.316Z"
   },
   {
    "duration": 0,
    "start_time": "2023-10-30T14:00:59.317Z"
   },
   {
    "duration": 0,
    "start_time": "2023-10-30T14:00:59.319Z"
   },
   {
    "duration": 0,
    "start_time": "2023-10-30T14:00:59.320Z"
   },
   {
    "duration": 0,
    "start_time": "2023-10-30T14:00:59.322Z"
   },
   {
    "duration": 0,
    "start_time": "2023-10-30T14:00:59.323Z"
   },
   {
    "duration": 0,
    "start_time": "2023-10-30T14:00:59.324Z"
   },
   {
    "duration": 0,
    "start_time": "2023-10-30T14:00:59.325Z"
   },
   {
    "duration": 0,
    "start_time": "2023-10-30T14:00:59.327Z"
   },
   {
    "duration": 0,
    "start_time": "2023-10-30T14:00:59.328Z"
   },
   {
    "duration": 0,
    "start_time": "2023-10-30T14:00:59.330Z"
   },
   {
    "duration": 102,
    "start_time": "2023-10-30T14:03:37.214Z"
   },
   {
    "duration": 91,
    "start_time": "2023-10-30T14:04:04.168Z"
   },
   {
    "duration": 1143,
    "start_time": "2023-10-30T14:05:38.338Z"
   },
   {
    "duration": 49,
    "start_time": "2023-10-30T14:05:39.483Z"
   },
   {
    "duration": 12,
    "start_time": "2023-10-30T14:05:39.534Z"
   },
   {
    "duration": 48,
    "start_time": "2023-10-30T14:05:39.547Z"
   },
   {
    "duration": 28,
    "start_time": "2023-10-30T14:05:39.597Z"
   },
   {
    "duration": 72,
    "start_time": "2023-10-30T14:05:39.626Z"
   },
   {
    "duration": 21,
    "start_time": "2023-10-30T14:05:39.699Z"
   },
   {
    "duration": 28,
    "start_time": "2023-10-30T14:05:39.722Z"
   },
   {
    "duration": 29,
    "start_time": "2023-10-30T14:05:39.752Z"
   },
   {
    "duration": 66,
    "start_time": "2023-10-30T14:05:39.782Z"
   },
   {
    "duration": 10,
    "start_time": "2023-10-30T14:05:39.849Z"
   },
   {
    "duration": 35,
    "start_time": "2023-10-30T14:05:39.861Z"
   },
   {
    "duration": 20,
    "start_time": "2023-10-30T14:05:39.898Z"
   },
   {
    "duration": 12,
    "start_time": "2023-10-30T14:05:39.921Z"
   },
   {
    "duration": 27,
    "start_time": "2023-10-30T14:05:39.935Z"
   },
   {
    "duration": 12,
    "start_time": "2023-10-30T14:05:39.963Z"
   },
   {
    "duration": 23,
    "start_time": "2023-10-30T14:05:39.977Z"
   },
   {
    "duration": 277,
    "start_time": "2023-10-30T14:05:40.007Z"
   },
   {
    "duration": 162,
    "start_time": "2023-10-30T14:05:40.286Z"
   },
   {
    "duration": 19,
    "start_time": "2023-10-30T14:05:40.450Z"
   },
   {
    "duration": 38,
    "start_time": "2023-10-30T14:05:40.470Z"
   },
   {
    "duration": 19,
    "start_time": "2023-10-30T14:05:40.510Z"
   },
   {
    "duration": 11,
    "start_time": "2023-10-30T14:05:40.531Z"
   },
   {
    "duration": 313,
    "start_time": "2023-10-30T14:05:40.543Z"
   },
   {
    "duration": 222,
    "start_time": "2023-10-30T14:05:40.858Z"
   },
   {
    "duration": 26,
    "start_time": "2023-10-30T14:05:41.082Z"
   },
   {
    "duration": 25,
    "start_time": "2023-10-30T14:05:41.109Z"
   },
   {
    "duration": 306,
    "start_time": "2023-10-30T14:05:41.135Z"
   },
   {
    "duration": 6,
    "start_time": "2023-10-30T14:05:41.442Z"
   },
   {
    "duration": 295,
    "start_time": "2023-10-30T14:05:41.451Z"
   },
   {
    "duration": 351,
    "start_time": "2023-10-30T14:05:41.748Z"
   },
   {
    "duration": 15,
    "start_time": "2023-10-30T14:05:42.101Z"
   },
   {
    "duration": 145,
    "start_time": "2023-10-30T14:05:42.118Z"
   },
   {
    "duration": 9,
    "start_time": "2023-10-30T14:05:42.265Z"
   },
   {
    "duration": 23,
    "start_time": "2023-10-30T14:05:42.276Z"
   },
   {
    "duration": 128,
    "start_time": "2023-10-30T14:05:42.300Z"
   },
   {
    "duration": 6,
    "start_time": "2023-10-30T14:05:42.430Z"
   },
   {
    "duration": 23,
    "start_time": "2023-10-30T14:05:42.438Z"
   },
   {
    "duration": 160,
    "start_time": "2023-10-30T14:05:42.463Z"
   },
   {
    "duration": 8,
    "start_time": "2023-10-30T14:05:42.625Z"
   },
   {
    "duration": 247,
    "start_time": "2023-10-30T14:05:42.637Z"
   },
   {
    "duration": 7,
    "start_time": "2023-10-30T14:05:42.886Z"
   },
   {
    "duration": 28,
    "start_time": "2023-10-30T14:05:42.895Z"
   },
   {
    "duration": 23,
    "start_time": "2023-10-30T14:05:42.925Z"
   },
   {
    "duration": 13,
    "start_time": "2023-10-30T14:05:42.950Z"
   },
   {
    "duration": 11,
    "start_time": "2023-10-30T14:05:42.965Z"
   },
   {
    "duration": 34,
    "start_time": "2023-10-30T14:05:42.978Z"
   },
   {
    "duration": 16,
    "start_time": "2023-10-30T14:05:43.014Z"
   },
   {
    "duration": 32,
    "start_time": "2023-10-30T14:05:43.032Z"
   },
   {
    "duration": 21,
    "start_time": "2023-10-30T14:05:43.066Z"
   },
   {
    "duration": 34,
    "start_time": "2023-10-30T14:05:43.089Z"
   },
   {
    "duration": 7,
    "start_time": "2023-10-30T14:05:43.125Z"
   },
   {
    "duration": 12,
    "start_time": "2023-10-30T14:05:43.134Z"
   },
   {
    "duration": 340,
    "start_time": "2023-10-30T14:05:43.148Z"
   },
   {
    "duration": 22,
    "start_time": "2023-10-30T14:05:43.490Z"
   },
   {
    "duration": 35,
    "start_time": "2023-10-30T14:05:43.514Z"
   },
   {
    "duration": 24,
    "start_time": "2023-10-30T14:05:43.550Z"
   },
   {
    "duration": 12,
    "start_time": "2023-10-30T14:05:43.576Z"
   },
   {
    "duration": 30,
    "start_time": "2023-10-30T14:05:43.590Z"
   },
   {
    "duration": 15,
    "start_time": "2023-10-30T14:05:43.622Z"
   },
   {
    "duration": 8,
    "start_time": "2023-10-30T14:05:43.639Z"
   },
   {
    "duration": 72,
    "start_time": "2023-10-30T14:11:08.235Z"
   },
   {
    "duration": 71,
    "start_time": "2023-10-30T14:11:15.816Z"
   },
   {
    "duration": 151,
    "start_time": "2023-10-30T14:11:38.555Z"
   },
   {
    "duration": 80,
    "start_time": "2023-10-30T14:11:47.654Z"
   },
   {
    "duration": 81,
    "start_time": "2023-10-30T14:11:53.229Z"
   },
   {
    "duration": 16,
    "start_time": "2023-10-30T14:14:07.818Z"
   },
   {
    "duration": 19,
    "start_time": "2023-10-30T14:14:29.392Z"
   },
   {
    "duration": 188,
    "start_time": "2023-10-30T14:15:55.560Z"
   },
   {
    "duration": 22,
    "start_time": "2023-10-30T14:16:05.755Z"
   },
   {
    "duration": 30,
    "start_time": "2023-10-30T14:16:11.481Z"
   },
   {
    "duration": 3082,
    "start_time": "2023-10-30T14:17:54.902Z"
   },
   {
    "duration": 10,
    "start_time": "2023-10-30T14:18:46.624Z"
   },
   {
    "duration": 1888,
    "start_time": "2023-10-30T14:19:07.199Z"
   },
   {
    "duration": 15,
    "start_time": "2023-10-30T14:22:19.363Z"
   },
   {
    "duration": 7,
    "start_time": "2023-10-30T14:22:41.651Z"
   },
   {
    "duration": 6,
    "start_time": "2023-10-30T14:22:51.985Z"
   },
   {
    "duration": 1757,
    "start_time": "2023-10-30T14:23:40.172Z"
   },
   {
    "duration": 1589,
    "start_time": "2023-10-30T14:24:08.287Z"
   },
   {
    "duration": 57,
    "start_time": "2023-10-30T14:25:20.394Z"
   },
   {
    "duration": 67,
    "start_time": "2023-10-30T14:25:29.340Z"
   },
   {
    "duration": 6,
    "start_time": "2023-10-30T14:25:35.774Z"
   },
   {
    "duration": 8,
    "start_time": "2023-10-30T14:25:42.939Z"
   },
   {
    "duration": 77,
    "start_time": "2023-10-30T14:26:14.033Z"
   },
   {
    "duration": 6,
    "start_time": "2023-10-30T14:26:48.530Z"
   },
   {
    "duration": 9,
    "start_time": "2023-10-30T14:26:54.877Z"
   },
   {
    "duration": 26,
    "start_time": "2023-10-30T14:27:15.411Z"
   },
   {
    "duration": 1534,
    "start_time": "2023-10-30T14:31:10.757Z"
   },
   {
    "duration": 190,
    "start_time": "2023-10-30T14:31:27.474Z"
   },
   {
    "duration": 32,
    "start_time": "2023-10-30T14:31:28.441Z"
   },
   {
    "duration": 2099,
    "start_time": "2023-10-30T14:31:29.466Z"
   },
   {
    "duration": 5,
    "start_time": "2023-10-30T14:33:02.651Z"
   },
   {
    "duration": 6,
    "start_time": "2023-10-30T14:33:13.318Z"
   },
   {
    "duration": 88,
    "start_time": "2023-10-30T14:34:37.362Z"
   },
   {
    "duration": 56,
    "start_time": "2023-10-30T21:23:00.455Z"
   },
   {
    "duration": 29,
    "start_time": "2023-10-30T21:23:00.514Z"
   },
   {
    "duration": 4,
    "start_time": "2023-10-30T21:24:56.647Z"
   },
   {
    "duration": 17,
    "start_time": "2023-10-30T21:25:44.039Z"
   },
   {
    "duration": 20,
    "start_time": "2023-10-30T21:53:40.095Z"
   },
   {
    "duration": 72,
    "start_time": "2023-10-30T21:53:50.321Z"
   },
   {
    "duration": 76,
    "start_time": "2023-10-30T21:55:05.217Z"
   },
   {
    "duration": 69,
    "start_time": "2023-10-30T21:55:25.629Z"
   },
   {
    "duration": 83,
    "start_time": "2023-10-30T22:02:04.273Z"
   },
   {
    "duration": 10,
    "start_time": "2023-10-30T22:08:25.684Z"
   },
   {
    "duration": 24,
    "start_time": "2023-10-30T22:08:43.914Z"
   },
   {
    "duration": 6,
    "start_time": "2023-10-30T22:08:47.969Z"
   },
   {
    "duration": 6,
    "start_time": "2023-10-30T22:09:18.131Z"
   },
   {
    "duration": 6,
    "start_time": "2023-10-30T22:11:43.042Z"
   },
   {
    "duration": 11,
    "start_time": "2023-10-30T22:11:55.301Z"
   },
   {
    "duration": 13,
    "start_time": "2023-10-30T22:22:26.330Z"
   },
   {
    "duration": 8,
    "start_time": "2023-10-30T22:22:30.272Z"
   },
   {
    "duration": 9,
    "start_time": "2023-10-30T22:22:47.450Z"
   },
   {
    "duration": 23,
    "start_time": "2023-10-30T22:22:51.119Z"
   },
   {
    "duration": 5,
    "start_time": "2023-10-30T22:27:10.380Z"
   },
   {
    "duration": 83,
    "start_time": "2023-10-30T22:28:21.855Z"
   },
   {
    "duration": 82,
    "start_time": "2023-10-30T22:28:34.056Z"
   },
   {
    "duration": 18,
    "start_time": "2023-10-30T22:39:21.815Z"
   },
   {
    "duration": 8,
    "start_time": "2023-10-30T22:39:26.431Z"
   },
   {
    "duration": 5,
    "start_time": "2023-10-30T22:40:02.690Z"
   },
   {
    "duration": 39,
    "start_time": "2023-10-30T22:53:51.399Z"
   },
   {
    "duration": 6,
    "start_time": "2023-10-30T22:59:08.170Z"
   },
   {
    "duration": 9,
    "start_time": "2023-10-30T22:59:21.922Z"
   },
   {
    "duration": 65,
    "start_time": "2023-10-30T23:19:57.733Z"
   },
   {
    "duration": 8,
    "start_time": "2023-10-31T00:27:49.202Z"
   },
   {
    "duration": 87,
    "start_time": "2023-10-31T00:28:40.012Z"
   },
   {
    "duration": 9,
    "start_time": "2023-10-31T00:28:43.690Z"
   },
   {
    "duration": 75,
    "start_time": "2023-10-31T00:28:47.091Z"
   },
   {
    "duration": 8,
    "start_time": "2023-10-31T00:28:50.307Z"
   },
   {
    "duration": 5,
    "start_time": "2023-10-31T00:28:56.922Z"
   },
   {
    "duration": 5,
    "start_time": "2023-10-31T00:29:10.833Z"
   },
   {
    "duration": 24,
    "start_time": "2023-10-31T00:29:28.625Z"
   },
   {
    "duration": 5,
    "start_time": "2023-10-31T00:34:09.117Z"
   },
   {
    "duration": 5,
    "start_time": "2023-10-31T00:34:34.295Z"
   },
   {
    "duration": 7,
    "start_time": "2023-10-31T00:34:34.893Z"
   },
   {
    "duration": 65,
    "start_time": "2023-10-31T00:41:44.481Z"
   },
   {
    "duration": 9,
    "start_time": "2023-10-31T00:41:53.572Z"
   },
   {
    "duration": 5,
    "start_time": "2023-10-31T00:41:54.668Z"
   },
   {
    "duration": 74,
    "start_time": "2023-10-31T00:41:59.139Z"
   },
   {
    "duration": 8,
    "start_time": "2023-10-31T00:42:00.448Z"
   },
   {
    "duration": 5,
    "start_time": "2023-10-31T00:42:03.837Z"
   },
   {
    "duration": 26,
    "start_time": "2023-10-31T00:42:06.622Z"
   },
   {
    "duration": 6,
    "start_time": "2023-10-31T00:53:16.311Z"
   },
   {
    "duration": 23,
    "start_time": "2023-10-31T00:53:17.424Z"
   },
   {
    "duration": 107,
    "start_time": "2023-10-31T00:56:54.359Z"
   },
   {
    "duration": 69,
    "start_time": "2023-10-31T01:01:14.198Z"
   },
   {
    "duration": 8,
    "start_time": "2023-10-31T01:12:12.736Z"
   },
   {
    "duration": 1059,
    "start_time": "2023-10-31T03:37:43.212Z"
   },
   {
    "duration": 67,
    "start_time": "2023-10-31T03:37:44.273Z"
   },
   {
    "duration": 10,
    "start_time": "2023-10-31T03:37:44.342Z"
   },
   {
    "duration": 29,
    "start_time": "2023-10-31T03:37:44.354Z"
   },
   {
    "duration": 20,
    "start_time": "2023-10-31T03:37:44.384Z"
   },
   {
    "duration": 154,
    "start_time": "2023-10-31T03:37:44.405Z"
   },
   {
    "duration": 11,
    "start_time": "2023-10-31T03:37:44.561Z"
   },
   {
    "duration": 23,
    "start_time": "2023-10-31T03:37:44.573Z"
   },
   {
    "duration": 39,
    "start_time": "2023-10-31T03:37:44.597Z"
   },
   {
    "duration": 87,
    "start_time": "2023-10-31T03:37:44.638Z"
   },
   {
    "duration": 9,
    "start_time": "2023-10-31T03:37:44.727Z"
   },
   {
    "duration": 28,
    "start_time": "2023-10-31T03:37:44.737Z"
   },
   {
    "duration": 23,
    "start_time": "2023-10-31T03:37:44.767Z"
   },
   {
    "duration": 24,
    "start_time": "2023-10-31T03:37:44.792Z"
   },
   {
    "duration": 21,
    "start_time": "2023-10-31T03:37:44.818Z"
   },
   {
    "duration": 15,
    "start_time": "2023-10-31T03:37:44.840Z"
   },
   {
    "duration": 35,
    "start_time": "2023-10-31T03:37:44.856Z"
   },
   {
    "duration": 186,
    "start_time": "2023-10-31T03:37:44.892Z"
   },
   {
    "duration": 128,
    "start_time": "2023-10-31T03:37:45.080Z"
   },
   {
    "duration": 15,
    "start_time": "2023-10-31T03:37:45.209Z"
   },
   {
    "duration": 23,
    "start_time": "2023-10-31T03:37:45.225Z"
   },
   {
    "duration": 24,
    "start_time": "2023-10-31T03:37:45.250Z"
   },
   {
    "duration": 28,
    "start_time": "2023-10-31T03:37:45.276Z"
   },
   {
    "duration": 270,
    "start_time": "2023-10-31T03:37:45.305Z"
   },
   {
    "duration": 191,
    "start_time": "2023-10-31T03:37:45.576Z"
   },
   {
    "duration": 17,
    "start_time": "2023-10-31T03:37:45.769Z"
   },
   {
    "duration": 23,
    "start_time": "2023-10-31T03:37:45.788Z"
   },
   {
    "duration": 308,
    "start_time": "2023-10-31T03:37:45.815Z"
   },
   {
    "duration": 6,
    "start_time": "2023-10-31T03:37:46.124Z"
   },
   {
    "duration": 268,
    "start_time": "2023-10-31T03:37:46.131Z"
   },
   {
    "duration": 309,
    "start_time": "2023-10-31T03:37:46.406Z"
   },
   {
    "duration": 11,
    "start_time": "2023-10-31T03:37:46.717Z"
   },
   {
    "duration": 142,
    "start_time": "2023-10-31T03:37:46.729Z"
   },
   {
    "duration": 9,
    "start_time": "2023-10-31T03:37:46.872Z"
   },
   {
    "duration": 6,
    "start_time": "2023-10-31T03:37:46.882Z"
   },
   {
    "duration": 130,
    "start_time": "2023-10-31T03:37:46.889Z"
   },
   {
    "duration": 4,
    "start_time": "2023-10-31T03:37:47.021Z"
   },
   {
    "duration": 19,
    "start_time": "2023-10-31T03:37:47.027Z"
   },
   {
    "duration": 145,
    "start_time": "2023-10-31T03:37:47.048Z"
   },
   {
    "duration": 15,
    "start_time": "2023-10-31T03:37:47.194Z"
   },
   {
    "duration": 225,
    "start_time": "2023-10-31T03:37:47.210Z"
   },
   {
    "duration": 6,
    "start_time": "2023-10-31T03:37:47.437Z"
   },
   {
    "duration": 38,
    "start_time": "2023-10-31T03:37:47.444Z"
   },
   {
    "duration": 15,
    "start_time": "2023-10-31T03:37:47.484Z"
   },
   {
    "duration": 20,
    "start_time": "2023-10-31T03:37:47.501Z"
   },
   {
    "duration": 6,
    "start_time": "2023-10-31T03:37:47.522Z"
   },
   {
    "duration": 7,
    "start_time": "2023-10-31T03:37:47.529Z"
   },
   {
    "duration": 11,
    "start_time": "2023-10-31T03:37:47.537Z"
   },
   {
    "duration": 19,
    "start_time": "2023-10-31T03:37:47.550Z"
   },
   {
    "duration": 73,
    "start_time": "2023-10-31T03:37:47.571Z"
   },
   {
    "duration": 8,
    "start_time": "2023-10-31T03:37:47.646Z"
   },
   {
    "duration": 86,
    "start_time": "2023-10-31T03:37:47.656Z"
   },
   {
    "duration": 8,
    "start_time": "2023-10-31T03:37:47.744Z"
   },
   {
    "duration": 11,
    "start_time": "2023-10-31T03:37:47.754Z"
   },
   {
    "duration": 7,
    "start_time": "2023-10-31T03:37:47.766Z"
   },
   {
    "duration": 42,
    "start_time": "2023-10-31T03:37:47.775Z"
   },
   {
    "duration": 5,
    "start_time": "2023-10-31T03:37:47.819Z"
   },
   {
    "duration": 8,
    "start_time": "2023-10-31T03:37:47.825Z"
   },
   {
    "duration": 313,
    "start_time": "2023-10-31T03:37:47.835Z"
   },
   {
    "duration": 10,
    "start_time": "2023-10-31T03:37:48.150Z"
   },
   {
    "duration": 15,
    "start_time": "2023-10-31T03:37:48.161Z"
   },
   {
    "duration": 15,
    "start_time": "2023-10-31T03:37:48.178Z"
   },
   {
    "duration": 68,
    "start_time": "2023-10-31T03:37:48.195Z"
   },
   {
    "duration": 7,
    "start_time": "2023-10-31T03:37:48.265Z"
   },
   {
    "duration": 14,
    "start_time": "2023-10-31T03:37:48.274Z"
   },
   {
    "duration": 87,
    "start_time": "2023-10-31T03:37:48.290Z"
   },
   {
    "duration": 8,
    "start_time": "2023-10-31T03:37:48.378Z"
   },
   {
    "duration": 39,
    "start_time": "2023-10-31T03:37:48.387Z"
   },
   {
    "duration": 47,
    "start_time": "2023-10-31T03:37:48.427Z"
   },
   {
    "duration": 6,
    "start_time": "2023-10-31T03:37:48.476Z"
   },
   {
    "duration": 29,
    "start_time": "2023-10-31T03:37:48.483Z"
   },
   {
    "duration": 100,
    "start_time": "2023-10-31T03:39:03.402Z"
   },
   {
    "duration": 1349,
    "start_time": "2023-11-01T00:08:30.938Z"
   },
   {
    "duration": 86,
    "start_time": "2023-11-01T00:08:32.290Z"
   },
   {
    "duration": 13,
    "start_time": "2023-11-01T00:08:32.378Z"
   },
   {
    "duration": 88,
    "start_time": "2023-11-01T00:08:32.393Z"
   },
   {
    "duration": 19,
    "start_time": "2023-11-01T00:08:32.483Z"
   },
   {
    "duration": 275,
    "start_time": "2023-11-01T00:08:32.503Z"
   },
   {
    "duration": 11,
    "start_time": "2023-11-01T00:08:32.779Z"
   },
   {
    "duration": 64,
    "start_time": "2023-11-01T00:08:32.792Z"
   },
   {
    "duration": 33,
    "start_time": "2023-11-01T00:08:32.858Z"
   },
   {
    "duration": 137,
    "start_time": "2023-11-01T00:08:32.892Z"
   },
   {
    "duration": 10,
    "start_time": "2023-11-01T00:08:33.031Z"
   },
   {
    "duration": 58,
    "start_time": "2023-11-01T00:08:33.043Z"
   },
   {
    "duration": 7,
    "start_time": "2023-11-01T00:08:33.103Z"
   },
   {
    "duration": 16,
    "start_time": "2023-11-01T00:08:33.114Z"
   },
   {
    "duration": 32,
    "start_time": "2023-11-01T00:08:33.132Z"
   },
   {
    "duration": 18,
    "start_time": "2023-11-01T00:08:33.166Z"
   },
   {
    "duration": 18,
    "start_time": "2023-11-01T00:08:33.185Z"
   },
   {
    "duration": 191,
    "start_time": "2023-11-01T00:08:33.204Z"
   },
   {
    "duration": 150,
    "start_time": "2023-11-01T00:08:33.396Z"
   },
   {
    "duration": 17,
    "start_time": "2023-11-01T00:08:33.548Z"
   },
   {
    "duration": 58,
    "start_time": "2023-11-01T00:08:33.567Z"
   },
   {
    "duration": 15,
    "start_time": "2023-11-01T00:08:33.626Z"
   },
   {
    "duration": 38,
    "start_time": "2023-11-01T00:08:33.643Z"
   },
   {
    "duration": 293,
    "start_time": "2023-11-01T00:08:33.683Z"
   },
   {
    "duration": 223,
    "start_time": "2023-11-01T00:08:33.978Z"
   },
   {
    "duration": 21,
    "start_time": "2023-11-01T00:08:34.203Z"
   },
   {
    "duration": 5,
    "start_time": "2023-11-01T00:08:34.226Z"
   },
   {
    "duration": 409,
    "start_time": "2023-11-01T00:08:34.233Z"
   },
   {
    "duration": 8,
    "start_time": "2023-11-01T00:08:34.646Z"
   },
   {
    "duration": 262,
    "start_time": "2023-11-01T00:08:34.656Z"
   },
   {
    "duration": 309,
    "start_time": "2023-11-01T00:08:34.920Z"
   },
   {
    "duration": 10,
    "start_time": "2023-11-01T00:08:35.231Z"
   },
   {
    "duration": 271,
    "start_time": "2023-11-01T00:08:35.243Z"
   },
   {
    "duration": 8,
    "start_time": "2023-11-01T00:08:35.516Z"
   },
   {
    "duration": 24,
    "start_time": "2023-11-01T00:08:35.526Z"
   },
   {
    "duration": 149,
    "start_time": "2023-11-01T00:08:35.552Z"
   },
   {
    "duration": 5,
    "start_time": "2023-11-01T00:08:35.703Z"
   },
   {
    "duration": 41,
    "start_time": "2023-11-01T00:08:35.710Z"
   },
   {
    "duration": 201,
    "start_time": "2023-11-01T00:08:35.753Z"
   },
   {
    "duration": 10,
    "start_time": "2023-11-01T00:08:35.956Z"
   },
   {
    "duration": 279,
    "start_time": "2023-11-01T00:08:35.972Z"
   },
   {
    "duration": 8,
    "start_time": "2023-11-01T00:08:36.253Z"
   },
   {
    "duration": 50,
    "start_time": "2023-11-01T00:08:36.262Z"
   },
   {
    "duration": 28,
    "start_time": "2023-11-01T00:08:36.314Z"
   },
   {
    "duration": 12,
    "start_time": "2023-11-01T00:08:36.344Z"
   },
   {
    "duration": 60,
    "start_time": "2023-11-01T00:08:36.357Z"
   },
   {
    "duration": 16,
    "start_time": "2023-11-01T00:08:36.419Z"
   },
   {
    "duration": 20,
    "start_time": "2023-11-01T00:08:36.437Z"
   },
   {
    "duration": 30,
    "start_time": "2023-11-01T00:08:36.459Z"
   },
   {
    "duration": 90,
    "start_time": "2023-11-01T00:08:36.490Z"
   },
   {
    "duration": 8,
    "start_time": "2023-11-01T00:08:36.582Z"
   },
   {
    "duration": 131,
    "start_time": "2023-11-01T00:08:36.591Z"
   },
   {
    "duration": 9,
    "start_time": "2023-11-01T00:08:36.724Z"
   },
   {
    "duration": 57,
    "start_time": "2023-11-01T00:08:36.734Z"
   },
   {
    "duration": 35,
    "start_time": "2023-11-01T00:08:36.793Z"
   },
   {
    "duration": 44,
    "start_time": "2023-11-01T00:08:36.829Z"
   },
   {
    "duration": 6,
    "start_time": "2023-11-01T00:08:36.874Z"
   },
   {
    "duration": 30,
    "start_time": "2023-11-01T00:08:36.881Z"
   },
   {
    "duration": 324,
    "start_time": "2023-11-01T00:08:36.913Z"
   },
   {
    "duration": 10,
    "start_time": "2023-11-01T00:08:37.238Z"
   },
   {
    "duration": 15,
    "start_time": "2023-11-01T00:08:37.250Z"
   },
   {
    "duration": 15,
    "start_time": "2023-11-01T00:08:37.267Z"
   },
   {
    "duration": 80,
    "start_time": "2023-11-01T00:08:37.284Z"
   },
   {
    "duration": 8,
    "start_time": "2023-11-01T00:08:37.366Z"
   },
   {
    "duration": 44,
    "start_time": "2023-11-01T00:08:37.375Z"
   },
   {
    "duration": 118,
    "start_time": "2023-11-01T00:08:37.421Z"
   },
   {
    "duration": 95,
    "start_time": "2023-11-01T00:08:37.541Z"
   },
   {
    "duration": 28,
    "start_time": "2023-11-01T00:08:37.637Z"
   },
   {
    "duration": 74,
    "start_time": "2023-11-01T00:08:37.667Z"
   },
   {
    "duration": 13,
    "start_time": "2023-11-01T00:08:37.743Z"
   },
   {
    "duration": 121,
    "start_time": "2023-11-01T00:08:37.758Z"
   },
   {
    "duration": 18,
    "start_time": "2023-11-01T00:41:52.918Z"
   },
   {
    "duration": 13,
    "start_time": "2023-11-01T00:42:18.340Z"
   },
   {
    "duration": 6,
    "start_time": "2023-11-01T00:42:33.547Z"
   },
   {
    "duration": 6,
    "start_time": "2023-11-01T00:42:52.715Z"
   },
   {
    "duration": 13,
    "start_time": "2023-11-01T00:43:29.240Z"
   },
   {
    "duration": 1202,
    "start_time": "2023-11-01T00:45:55.762Z"
   },
   {
    "duration": 49,
    "start_time": "2023-11-01T00:45:56.967Z"
   },
   {
    "duration": 12,
    "start_time": "2023-11-01T00:45:57.018Z"
   },
   {
    "duration": 10,
    "start_time": "2023-11-01T00:45:57.033Z"
   },
   {
    "duration": 23,
    "start_time": "2023-11-01T00:45:57.044Z"
   },
   {
    "duration": 61,
    "start_time": "2023-11-01T00:45:57.069Z"
   },
   {
    "duration": 11,
    "start_time": "2023-11-01T00:45:57.132Z"
   },
   {
    "duration": 26,
    "start_time": "2023-11-01T00:45:57.145Z"
   },
   {
    "duration": 36,
    "start_time": "2023-11-01T00:45:57.173Z"
   },
   {
    "duration": 44,
    "start_time": "2023-11-01T00:45:57.213Z"
   },
   {
    "duration": 11,
    "start_time": "2023-11-01T00:45:57.259Z"
   },
   {
    "duration": 23,
    "start_time": "2023-11-01T00:45:57.271Z"
   },
   {
    "duration": 31,
    "start_time": "2023-11-01T00:45:57.296Z"
   },
   {
    "duration": 29,
    "start_time": "2023-11-01T00:45:57.329Z"
   },
   {
    "duration": 37,
    "start_time": "2023-11-01T00:45:57.360Z"
   },
   {
    "duration": 53,
    "start_time": "2023-11-01T00:45:57.399Z"
   },
   {
    "duration": 65,
    "start_time": "2023-11-01T00:45:57.454Z"
   },
   {
    "duration": 237,
    "start_time": "2023-11-01T00:45:57.521Z"
   },
   {
    "duration": 160,
    "start_time": "2023-11-01T00:45:57.761Z"
   },
   {
    "duration": 25,
    "start_time": "2023-11-01T00:45:57.923Z"
   },
   {
    "duration": 14,
    "start_time": "2023-11-01T00:45:57.950Z"
   },
   {
    "duration": 11,
    "start_time": "2023-11-01T00:45:57.966Z"
   },
   {
    "duration": 25,
    "start_time": "2023-11-01T00:45:57.979Z"
   },
   {
    "duration": 328,
    "start_time": "2023-11-01T00:45:58.007Z"
   },
   {
    "duration": 245,
    "start_time": "2023-11-01T00:45:58.337Z"
   },
   {
    "duration": 34,
    "start_time": "2023-11-01T00:45:58.584Z"
   },
   {
    "duration": 6,
    "start_time": "2023-11-01T00:45:58.621Z"
   },
   {
    "duration": 323,
    "start_time": "2023-11-01T00:45:58.633Z"
   },
   {
    "duration": 6,
    "start_time": "2023-11-01T00:45:58.958Z"
   },
   {
    "duration": 259,
    "start_time": "2023-11-01T00:45:58.966Z"
   },
   {
    "duration": 329,
    "start_time": "2023-11-01T00:45:59.227Z"
   },
   {
    "duration": 13,
    "start_time": "2023-11-01T00:45:59.558Z"
   },
   {
    "duration": 170,
    "start_time": "2023-11-01T00:45:59.573Z"
   },
   {
    "duration": 9,
    "start_time": "2023-11-01T00:45:59.745Z"
   },
   {
    "duration": 9,
    "start_time": "2023-11-01T00:45:59.757Z"
   },
   {
    "duration": 147,
    "start_time": "2023-11-01T00:45:59.767Z"
   },
   {
    "duration": 7,
    "start_time": "2023-11-01T00:45:59.918Z"
   },
   {
    "duration": 53,
    "start_time": "2023-11-01T00:45:59.927Z"
   },
   {
    "duration": 173,
    "start_time": "2023-11-01T00:45:59.982Z"
   },
   {
    "duration": 9,
    "start_time": "2023-11-01T00:46:00.157Z"
   },
   {
    "duration": 257,
    "start_time": "2023-11-01T00:46:00.168Z"
   },
   {
    "duration": 7,
    "start_time": "2023-11-01T00:46:00.427Z"
   },
   {
    "duration": 75,
    "start_time": "2023-11-01T00:46:00.435Z"
   },
   {
    "duration": 58,
    "start_time": "2023-11-01T00:46:00.512Z"
   },
   {
    "duration": 28,
    "start_time": "2023-11-01T00:46:00.572Z"
   },
   {
    "duration": 50,
    "start_time": "2023-11-01T00:46:00.602Z"
   },
   {
    "duration": 35,
    "start_time": "2023-11-01T00:46:00.654Z"
   },
   {
    "duration": 45,
    "start_time": "2023-11-01T00:46:00.691Z"
   },
   {
    "duration": 70,
    "start_time": "2023-11-01T00:46:00.738Z"
   },
   {
    "duration": 108,
    "start_time": "2023-11-01T00:46:00.811Z"
   },
   {
    "duration": 13,
    "start_time": "2023-11-01T00:46:00.922Z"
   },
   {
    "duration": 144,
    "start_time": "2023-11-01T00:46:00.937Z"
   },
   {
    "duration": 9,
    "start_time": "2023-11-01T00:46:01.083Z"
   },
   {
    "duration": 73,
    "start_time": "2023-11-01T00:46:01.101Z"
   },
   {
    "duration": 47,
    "start_time": "2023-11-01T00:46:01.176Z"
   },
   {
    "duration": 66,
    "start_time": "2023-11-01T00:46:01.224Z"
   },
   {
    "duration": 28,
    "start_time": "2023-11-01T00:46:01.291Z"
   },
   {
    "duration": 105,
    "start_time": "2023-11-01T00:46:01.321Z"
   },
   {
    "duration": 645,
    "start_time": "2023-11-01T00:46:01.428Z"
   },
   {
    "duration": 11,
    "start_time": "2023-11-01T00:46:02.074Z"
   },
   {
    "duration": 118,
    "start_time": "2023-11-01T00:46:02.087Z"
   },
   {
    "duration": 155,
    "start_time": "2023-11-01T00:46:02.208Z"
   },
   {
    "duration": 149,
    "start_time": "2023-11-01T00:46:02.366Z"
   },
   {
    "duration": 53,
    "start_time": "2023-11-01T00:46:02.518Z"
   },
   {
    "duration": 31,
    "start_time": "2023-11-01T00:46:02.572Z"
   },
   {
    "duration": 129,
    "start_time": "2023-11-01T00:46:02.605Z"
   },
   {
    "duration": 8,
    "start_time": "2023-11-01T00:46:02.736Z"
   },
   {
    "duration": 37,
    "start_time": "2023-11-01T00:46:02.745Z"
   },
   {
    "duration": 47,
    "start_time": "2023-11-01T00:46:02.783Z"
   },
   {
    "duration": 6,
    "start_time": "2023-11-01T00:46:02.832Z"
   },
   {
    "duration": 24,
    "start_time": "2023-11-01T00:46:02.839Z"
   },
   {
    "duration": 64,
    "start_time": "2023-11-01T00:46:02.865Z"
   },
   {
    "duration": 8,
    "start_time": "2023-11-01T00:46:30.414Z"
   },
   {
    "duration": 1269,
    "start_time": "2023-11-01T00:49:46.179Z"
   },
   {
    "duration": 48,
    "start_time": "2023-11-01T00:49:47.450Z"
   },
   {
    "duration": 18,
    "start_time": "2023-11-01T00:49:47.499Z"
   },
   {
    "duration": 51,
    "start_time": "2023-11-01T00:49:47.521Z"
   },
   {
    "duration": 25,
    "start_time": "2023-11-01T00:49:47.573Z"
   },
   {
    "duration": 114,
    "start_time": "2023-11-01T00:49:47.601Z"
   },
   {
    "duration": 13,
    "start_time": "2023-11-01T00:49:47.718Z"
   },
   {
    "duration": 99,
    "start_time": "2023-11-01T00:49:47.733Z"
   },
   {
    "duration": 38,
    "start_time": "2023-11-01T00:49:47.833Z"
   },
   {
    "duration": 67,
    "start_time": "2023-11-01T00:49:47.874Z"
   },
   {
    "duration": 28,
    "start_time": "2023-11-01T00:49:47.943Z"
   },
   {
    "duration": 78,
    "start_time": "2023-11-01T00:49:47.972Z"
   },
   {
    "duration": 36,
    "start_time": "2023-11-01T00:49:48.052Z"
   },
   {
    "duration": 19,
    "start_time": "2023-11-01T00:49:48.090Z"
   },
   {
    "duration": 44,
    "start_time": "2023-11-01T00:49:48.111Z"
   },
   {
    "duration": 33,
    "start_time": "2023-11-01T00:49:48.157Z"
   },
   {
    "duration": 24,
    "start_time": "2023-11-01T00:49:48.193Z"
   },
   {
    "duration": 253,
    "start_time": "2023-11-01T00:49:48.220Z"
   },
   {
    "duration": 159,
    "start_time": "2023-11-01T00:49:48.475Z"
   },
   {
    "duration": 23,
    "start_time": "2023-11-01T00:49:48.636Z"
   },
   {
    "duration": 18,
    "start_time": "2023-11-01T00:49:48.661Z"
   },
   {
    "duration": 37,
    "start_time": "2023-11-01T00:49:48.681Z"
   },
   {
    "duration": 20,
    "start_time": "2023-11-01T00:49:48.720Z"
   },
   {
    "duration": 345,
    "start_time": "2023-11-01T00:49:48.742Z"
   },
   {
    "duration": 231,
    "start_time": "2023-11-01T00:49:49.089Z"
   },
   {
    "duration": 24,
    "start_time": "2023-11-01T00:49:49.322Z"
   },
   {
    "duration": 10,
    "start_time": "2023-11-01T00:49:49.347Z"
   },
   {
    "duration": 347,
    "start_time": "2023-11-01T00:49:49.361Z"
   },
   {
    "duration": 7,
    "start_time": "2023-11-01T00:49:49.710Z"
   },
   {
    "duration": 276,
    "start_time": "2023-11-01T00:49:49.719Z"
   },
   {
    "duration": 354,
    "start_time": "2023-11-01T00:49:50.001Z"
   },
   {
    "duration": 11,
    "start_time": "2023-11-01T00:49:50.357Z"
   },
   {
    "duration": 189,
    "start_time": "2023-11-01T00:49:50.370Z"
   },
   {
    "duration": 9,
    "start_time": "2023-11-01T00:49:50.561Z"
   },
   {
    "duration": 172,
    "start_time": "2023-11-01T00:49:50.571Z"
   },
   {
    "duration": 278,
    "start_time": "2023-11-01T00:49:50.745Z"
   },
   {
    "duration": 6,
    "start_time": "2023-11-01T00:49:51.025Z"
   },
   {
    "duration": 23,
    "start_time": "2023-11-01T00:49:51.033Z"
   },
   {
    "duration": 188,
    "start_time": "2023-11-01T00:49:51.058Z"
   },
   {
    "duration": 8,
    "start_time": "2023-11-01T00:49:51.247Z"
   },
   {
    "duration": 267,
    "start_time": "2023-11-01T00:49:51.257Z"
   },
   {
    "duration": 7,
    "start_time": "2023-11-01T00:49:51.525Z"
   },
   {
    "duration": 15,
    "start_time": "2023-11-01T00:49:51.533Z"
   },
   {
    "duration": 81,
    "start_time": "2023-11-01T00:49:51.550Z"
   },
   {
    "duration": 40,
    "start_time": "2023-11-01T00:49:51.633Z"
   },
   {
    "duration": 24,
    "start_time": "2023-11-01T00:49:51.675Z"
   },
   {
    "duration": 30,
    "start_time": "2023-11-01T00:49:51.701Z"
   },
   {
    "duration": 15,
    "start_time": "2023-11-01T00:49:51.733Z"
   },
   {
    "duration": 26,
    "start_time": "2023-11-01T00:49:51.749Z"
   },
   {
    "duration": 93,
    "start_time": "2023-11-01T00:49:51.777Z"
   },
   {
    "duration": 8,
    "start_time": "2023-11-01T00:49:51.873Z"
   },
   {
    "duration": 123,
    "start_time": "2023-11-01T00:49:51.883Z"
   },
   {
    "duration": 12,
    "start_time": "2023-11-01T00:49:52.008Z"
   },
   {
    "duration": 17,
    "start_time": "2023-11-01T00:49:52.022Z"
   },
   {
    "duration": 26,
    "start_time": "2023-11-01T00:49:52.041Z"
   },
   {
    "duration": 39,
    "start_time": "2023-11-01T00:49:52.070Z"
   },
   {
    "duration": 42,
    "start_time": "2023-11-01T00:49:52.114Z"
   },
   {
    "duration": 42,
    "start_time": "2023-11-01T00:49:52.158Z"
   },
   {
    "duration": 375,
    "start_time": "2023-11-01T00:49:52.202Z"
   },
   {
    "duration": 10,
    "start_time": "2023-11-01T00:49:52.579Z"
   },
   {
    "duration": 13,
    "start_time": "2023-11-01T00:49:52.602Z"
   },
   {
    "duration": 18,
    "start_time": "2023-11-01T00:49:52.617Z"
   },
   {
    "duration": 85,
    "start_time": "2023-11-01T00:49:52.637Z"
   },
   {
    "duration": 7,
    "start_time": "2023-11-01T00:49:52.724Z"
   },
   {
    "duration": 145,
    "start_time": "2023-11-01T00:49:52.733Z"
   },
   {
    "duration": 103,
    "start_time": "2023-11-01T00:49:52.879Z"
   },
   {
    "duration": 8,
    "start_time": "2023-11-01T00:49:52.984Z"
   },
   {
    "duration": 37,
    "start_time": "2023-11-01T00:49:52.994Z"
   },
   {
    "duration": 125,
    "start_time": "2023-11-01T00:49:53.033Z"
   },
   {
    "duration": 63,
    "start_time": "2023-11-01T00:49:53.160Z"
   },
   {
    "duration": 37,
    "start_time": "2023-11-01T00:49:53.225Z"
   },
   {
    "duration": 47,
    "start_time": "2023-11-01T18:33:56.570Z"
   },
   {
    "duration": 5,
    "start_time": "2023-11-01T18:34:13.841Z"
   },
   {
    "duration": 1358,
    "start_time": "2023-11-01T18:34:56.973Z"
   },
   {
    "duration": 49,
    "start_time": "2023-11-01T18:34:58.332Z"
   },
   {
    "duration": 10,
    "start_time": "2023-11-01T18:34:58.383Z"
   },
   {
    "duration": 29,
    "start_time": "2023-11-01T18:34:58.395Z"
   },
   {
    "duration": 40,
    "start_time": "2023-11-01T18:34:58.426Z"
   },
   {
    "duration": 119,
    "start_time": "2023-11-01T18:34:58.468Z"
   },
   {
    "duration": 10,
    "start_time": "2023-11-01T18:34:58.588Z"
   },
   {
    "duration": 15,
    "start_time": "2023-11-01T18:34:58.600Z"
   },
   {
    "duration": 37,
    "start_time": "2023-11-01T18:34:58.617Z"
   },
   {
    "duration": 63,
    "start_time": "2023-11-01T18:34:58.656Z"
   },
   {
    "duration": 9,
    "start_time": "2023-11-01T18:34:58.721Z"
   },
   {
    "duration": 31,
    "start_time": "2023-11-01T18:34:58.732Z"
   },
   {
    "duration": 22,
    "start_time": "2023-11-01T18:34:58.766Z"
   },
   {
    "duration": 19,
    "start_time": "2023-11-01T18:34:58.791Z"
   },
   {
    "duration": 44,
    "start_time": "2023-11-01T18:34:58.812Z"
   },
   {
    "duration": 12,
    "start_time": "2023-11-01T18:34:58.857Z"
   },
   {
    "duration": 38,
    "start_time": "2023-11-01T18:34:58.870Z"
   },
   {
    "duration": 217,
    "start_time": "2023-11-01T18:34:58.909Z"
   },
   {
    "duration": 140,
    "start_time": "2023-11-01T18:34:59.127Z"
   },
   {
    "duration": 16,
    "start_time": "2023-11-01T18:34:59.269Z"
   },
   {
    "duration": 29,
    "start_time": "2023-11-01T18:34:59.287Z"
   },
   {
    "duration": 53,
    "start_time": "2023-11-01T18:34:59.318Z"
   },
   {
    "duration": 125,
    "start_time": "2023-11-01T18:34:59.373Z"
   },
   {
    "duration": 404,
    "start_time": "2023-11-01T18:34:59.500Z"
   },
   {
    "duration": 225,
    "start_time": "2023-11-01T18:34:59.906Z"
   },
   {
    "duration": 30,
    "start_time": "2023-11-01T18:35:00.132Z"
   },
   {
    "duration": 47,
    "start_time": "2023-11-01T18:35:00.164Z"
   },
   {
    "duration": 394,
    "start_time": "2023-11-01T18:35:00.212Z"
   },
   {
    "duration": 6,
    "start_time": "2023-11-01T18:35:00.608Z"
   },
   {
    "duration": 469,
    "start_time": "2023-11-01T18:35:00.615Z"
   },
   {
    "duration": 328,
    "start_time": "2023-11-01T18:35:01.087Z"
   },
   {
    "duration": 11,
    "start_time": "2023-11-01T18:35:01.416Z"
   },
   {
    "duration": 150,
    "start_time": "2023-11-01T18:35:01.429Z"
   },
   {
    "duration": 10,
    "start_time": "2023-11-01T18:35:01.582Z"
   },
   {
    "duration": 80,
    "start_time": "2023-11-01T18:35:01.594Z"
   },
   {
    "duration": 186,
    "start_time": "2023-11-01T18:35:01.676Z"
   },
   {
    "duration": 5,
    "start_time": "2023-11-01T18:35:01.864Z"
   },
   {
    "duration": 25,
    "start_time": "2023-11-01T18:35:01.870Z"
   },
   {
    "duration": 194,
    "start_time": "2023-11-01T18:35:01.897Z"
   },
   {
    "duration": 8,
    "start_time": "2023-11-01T18:35:02.092Z"
   },
   {
    "duration": 283,
    "start_time": "2023-11-01T18:35:02.104Z"
   },
   {
    "duration": 7,
    "start_time": "2023-11-01T18:35:02.389Z"
   },
   {
    "duration": 61,
    "start_time": "2023-11-01T18:35:02.397Z"
   },
   {
    "duration": 52,
    "start_time": "2023-11-01T18:35:02.460Z"
   },
   {
    "duration": 51,
    "start_time": "2023-11-01T18:35:02.514Z"
   },
   {
    "duration": 49,
    "start_time": "2023-11-01T18:35:02.567Z"
   },
   {
    "duration": 46,
    "start_time": "2023-11-01T18:35:02.618Z"
   },
   {
    "duration": 28,
    "start_time": "2023-11-01T18:35:02.666Z"
   },
   {
    "duration": 39,
    "start_time": "2023-11-01T18:35:02.695Z"
   },
   {
    "duration": 94,
    "start_time": "2023-11-01T18:35:02.736Z"
   },
   {
    "duration": 8,
    "start_time": "2023-11-01T18:35:02.832Z"
   },
   {
    "duration": 100,
    "start_time": "2023-11-01T18:35:02.841Z"
   },
   {
    "duration": 9,
    "start_time": "2023-11-01T18:35:02.943Z"
   },
   {
    "duration": 12,
    "start_time": "2023-11-01T18:35:02.954Z"
   },
   {
    "duration": 46,
    "start_time": "2023-11-01T18:35:02.968Z"
   },
   {
    "duration": 44,
    "start_time": "2023-11-01T18:35:03.016Z"
   },
   {
    "duration": 10,
    "start_time": "2023-11-01T18:35:03.062Z"
   },
   {
    "duration": 23,
    "start_time": "2023-11-01T18:35:03.075Z"
   },
   {
    "duration": 293,
    "start_time": "2023-11-01T18:35:03.100Z"
   },
   {
    "duration": 11,
    "start_time": "2023-11-01T18:35:03.394Z"
   },
   {
    "duration": 11,
    "start_time": "2023-11-01T18:35:03.406Z"
   },
   {
    "duration": 26,
    "start_time": "2023-11-01T18:35:03.418Z"
   },
   {
    "duration": 100,
    "start_time": "2023-11-01T18:35:03.446Z"
   },
   {
    "duration": 8,
    "start_time": "2023-11-01T18:35:03.547Z"
   },
   {
    "duration": 33,
    "start_time": "2023-11-01T18:35:03.557Z"
   },
   {
    "duration": 87,
    "start_time": "2023-11-01T18:35:03.592Z"
   },
   {
    "duration": 8,
    "start_time": "2023-11-01T18:35:03.681Z"
   },
   {
    "duration": 5,
    "start_time": "2023-11-01T18:35:03.690Z"
   },
   {
    "duration": 26,
    "start_time": "2023-11-01T18:35:03.697Z"
   },
   {
    "duration": 6,
    "start_time": "2023-11-01T18:35:03.745Z"
   },
   {
    "duration": 15,
    "start_time": "2023-11-01T18:35:03.753Z"
   },
   {
    "duration": 81,
    "start_time": "2023-11-01T18:35:03.770Z"
   },
   {
    "duration": 0,
    "start_time": "2023-11-01T18:35:03.853Z"
   },
   {
    "duration": 0,
    "start_time": "2023-11-01T18:35:03.855Z"
   },
   {
    "duration": 3,
    "start_time": "2023-11-01T18:35:30.917Z"
   },
   {
    "duration": 93,
    "start_time": "2023-11-01T18:35:58.309Z"
   },
   {
    "duration": 9,
    "start_time": "2023-11-01T18:36:01.110Z"
   },
   {
    "duration": 5,
    "start_time": "2023-11-01T18:36:19.345Z"
   },
   {
    "duration": 4,
    "start_time": "2023-11-01T18:40:58.757Z"
   },
   {
    "duration": 5,
    "start_time": "2023-11-01T18:43:07.811Z"
   },
   {
    "duration": 6,
    "start_time": "2023-11-01T18:43:08.630Z"
   },
   {
    "duration": 81,
    "start_time": "2023-11-01T18:43:43.677Z"
   },
   {
    "duration": 1030,
    "start_time": "2023-11-01T18:54:09.768Z"
   },
   {
    "duration": 44,
    "start_time": "2023-11-01T18:54:10.800Z"
   },
   {
    "duration": 10,
    "start_time": "2023-11-01T18:54:10.846Z"
   },
   {
    "duration": 10,
    "start_time": "2023-11-01T18:54:10.858Z"
   },
   {
    "duration": 9,
    "start_time": "2023-11-01T18:54:10.869Z"
   },
   {
    "duration": 50,
    "start_time": "2023-11-01T18:54:10.879Z"
   },
   {
    "duration": 11,
    "start_time": "2023-11-01T18:54:10.930Z"
   },
   {
    "duration": 15,
    "start_time": "2023-11-01T18:54:10.942Z"
   },
   {
    "duration": 13,
    "start_time": "2023-11-01T18:54:10.958Z"
   },
   {
    "duration": 56,
    "start_time": "2023-11-01T18:54:10.973Z"
   },
   {
    "duration": 11,
    "start_time": "2023-11-01T18:54:11.031Z"
   },
   {
    "duration": 26,
    "start_time": "2023-11-01T18:54:11.043Z"
   },
   {
    "duration": 8,
    "start_time": "2023-11-01T18:54:11.071Z"
   },
   {
    "duration": 11,
    "start_time": "2023-11-01T18:54:11.081Z"
   },
   {
    "duration": 21,
    "start_time": "2023-11-01T18:54:11.094Z"
   },
   {
    "duration": 9,
    "start_time": "2023-11-01T18:54:11.117Z"
   },
   {
    "duration": 32,
    "start_time": "2023-11-01T18:54:11.128Z"
   },
   {
    "duration": 183,
    "start_time": "2023-11-01T18:54:11.162Z"
   },
   {
    "duration": 122,
    "start_time": "2023-11-01T18:54:11.347Z"
   },
   {
    "duration": 15,
    "start_time": "2023-11-01T18:54:11.471Z"
   },
   {
    "duration": 27,
    "start_time": "2023-11-01T18:54:11.487Z"
   },
   {
    "duration": 13,
    "start_time": "2023-11-01T18:54:11.516Z"
   },
   {
    "duration": 7,
    "start_time": "2023-11-01T18:54:11.531Z"
   },
   {
    "duration": 277,
    "start_time": "2023-11-01T18:54:11.540Z"
   },
   {
    "duration": 196,
    "start_time": "2023-11-01T18:54:11.819Z"
   },
   {
    "duration": 17,
    "start_time": "2023-11-01T18:54:12.017Z"
   },
   {
    "duration": 25,
    "start_time": "2023-11-01T18:54:12.035Z"
   },
   {
    "duration": 310,
    "start_time": "2023-11-01T18:54:12.064Z"
   },
   {
    "duration": 6,
    "start_time": "2023-11-01T18:54:12.376Z"
   },
   {
    "duration": 241,
    "start_time": "2023-11-01T18:54:12.383Z"
   },
   {
    "duration": 338,
    "start_time": "2023-11-01T18:54:12.625Z"
   },
   {
    "duration": 11,
    "start_time": "2023-11-01T18:54:12.965Z"
   },
   {
    "duration": 133,
    "start_time": "2023-11-01T18:54:12.977Z"
   },
   {
    "duration": 7,
    "start_time": "2023-11-01T18:54:13.111Z"
   },
   {
    "duration": 19,
    "start_time": "2023-11-01T18:54:13.120Z"
   },
   {
    "duration": 120,
    "start_time": "2023-11-01T18:54:13.140Z"
   },
   {
    "duration": 5,
    "start_time": "2023-11-01T18:54:13.261Z"
   },
   {
    "duration": 16,
    "start_time": "2023-11-01T18:54:13.267Z"
   },
   {
    "duration": 142,
    "start_time": "2023-11-01T18:54:13.284Z"
   },
   {
    "duration": 16,
    "start_time": "2023-11-01T18:54:13.428Z"
   },
   {
    "duration": 217,
    "start_time": "2023-11-01T18:54:13.446Z"
   },
   {
    "duration": 7,
    "start_time": "2023-11-01T18:54:13.665Z"
   },
   {
    "duration": 25,
    "start_time": "2023-11-01T18:54:13.674Z"
   },
   {
    "duration": 19,
    "start_time": "2023-11-01T18:54:13.701Z"
   },
   {
    "duration": 24,
    "start_time": "2023-11-01T18:54:13.722Z"
   },
   {
    "duration": 23,
    "start_time": "2023-11-01T18:54:13.748Z"
   },
   {
    "duration": 8,
    "start_time": "2023-11-01T18:54:13.773Z"
   },
   {
    "duration": 11,
    "start_time": "2023-11-01T18:54:13.782Z"
   },
   {
    "duration": 14,
    "start_time": "2023-11-01T18:54:13.794Z"
   },
   {
    "duration": 74,
    "start_time": "2023-11-01T18:54:13.810Z"
   },
   {
    "duration": 7,
    "start_time": "2023-11-01T18:54:13.886Z"
   },
   {
    "duration": 115,
    "start_time": "2023-11-01T18:54:13.895Z"
   },
   {
    "duration": 9,
    "start_time": "2023-11-01T18:54:14.011Z"
   },
   {
    "duration": 38,
    "start_time": "2023-11-01T18:54:14.021Z"
   },
   {
    "duration": 43,
    "start_time": "2023-11-01T18:54:14.061Z"
   },
   {
    "duration": 32,
    "start_time": "2023-11-01T18:54:14.106Z"
   },
   {
    "duration": 10,
    "start_time": "2023-11-01T18:54:14.140Z"
   },
   {
    "duration": 31,
    "start_time": "2023-11-01T18:54:14.152Z"
   },
   {
    "duration": 22,
    "start_time": "2023-11-01T18:54:14.185Z"
   },
   {
    "duration": 346,
    "start_time": "2023-11-01T18:54:14.210Z"
   },
   {
    "duration": 8,
    "start_time": "2023-11-01T18:54:14.558Z"
   },
   {
    "duration": 147,
    "start_time": "2023-11-01T18:54:14.568Z"
   },
   {
    "duration": 160,
    "start_time": "2023-11-01T18:54:14.717Z"
   },
   {
    "duration": 73,
    "start_time": "2023-11-01T18:54:14.879Z"
   },
   {
    "duration": 8,
    "start_time": "2023-11-01T18:54:14.954Z"
   },
   {
    "duration": 19,
    "start_time": "2023-11-01T18:54:14.964Z"
   },
   {
    "duration": 119,
    "start_time": "2023-11-01T18:54:14.985Z"
   },
   {
    "duration": 8,
    "start_time": "2023-11-01T18:54:15.106Z"
   },
   {
    "duration": 22,
    "start_time": "2023-11-01T18:54:15.116Z"
   },
   {
    "duration": 34,
    "start_time": "2023-11-01T18:54:15.140Z"
   },
   {
    "duration": 6,
    "start_time": "2023-11-01T18:54:15.175Z"
   },
   {
    "duration": 18,
    "start_time": "2023-11-01T18:54:15.182Z"
   },
   {
    "duration": 12,
    "start_time": "2023-11-01T18:54:15.202Z"
   },
   {
    "duration": 1129,
    "start_time": "2023-11-02T01:59:30.559Z"
   },
   {
    "duration": 93,
    "start_time": "2023-11-02T01:59:31.690Z"
   },
   {
    "duration": 13,
    "start_time": "2023-11-02T01:59:31.784Z"
   },
   {
    "duration": 90,
    "start_time": "2023-11-02T01:59:31.799Z"
   },
   {
    "duration": 37,
    "start_time": "2023-11-02T01:59:31.890Z"
   },
   {
    "duration": 112,
    "start_time": "2023-11-02T01:59:31.929Z"
   },
   {
    "duration": 51,
    "start_time": "2023-11-02T01:59:32.042Z"
   },
   {
    "duration": 70,
    "start_time": "2023-11-02T01:59:32.096Z"
   },
   {
    "duration": 30,
    "start_time": "2023-11-02T01:59:32.168Z"
   },
   {
    "duration": 72,
    "start_time": "2023-11-02T01:59:32.201Z"
   },
   {
    "duration": 58,
    "start_time": "2023-11-02T01:59:32.275Z"
   },
   {
    "duration": 18,
    "start_time": "2023-11-02T01:59:32.335Z"
   },
   {
    "duration": 28,
    "start_time": "2023-11-02T01:59:32.355Z"
   },
   {
    "duration": 43,
    "start_time": "2023-11-02T01:59:32.386Z"
   },
   {
    "duration": 14,
    "start_time": "2023-11-02T01:59:32.431Z"
   },
   {
    "duration": 13,
    "start_time": "2023-11-02T01:59:32.447Z"
   },
   {
    "duration": 42,
    "start_time": "2023-11-02T01:59:32.462Z"
   },
   {
    "duration": 239,
    "start_time": "2023-11-02T01:59:32.506Z"
   },
   {
    "duration": 135,
    "start_time": "2023-11-02T01:59:32.747Z"
   },
   {
    "duration": 17,
    "start_time": "2023-11-02T01:59:32.884Z"
   },
   {
    "duration": 13,
    "start_time": "2023-11-02T01:59:32.903Z"
   },
   {
    "duration": 8,
    "start_time": "2023-11-02T01:59:32.917Z"
   },
   {
    "duration": 8,
    "start_time": "2023-11-02T01:59:32.945Z"
   },
   {
    "duration": 362,
    "start_time": "2023-11-02T01:59:32.955Z"
   },
   {
    "duration": 221,
    "start_time": "2023-11-02T01:59:33.319Z"
   },
   {
    "duration": 17,
    "start_time": "2023-11-02T01:59:33.544Z"
   },
   {
    "duration": 5,
    "start_time": "2023-11-02T01:59:33.563Z"
   },
   {
    "duration": 314,
    "start_time": "2023-11-02T01:59:33.574Z"
   },
   {
    "duration": 6,
    "start_time": "2023-11-02T01:59:33.889Z"
   },
   {
    "duration": 277,
    "start_time": "2023-11-02T01:59:33.896Z"
   },
   {
    "duration": 338,
    "start_time": "2023-11-02T01:59:34.175Z"
   },
   {
    "duration": 10,
    "start_time": "2023-11-02T01:59:34.514Z"
   },
   {
    "duration": 139,
    "start_time": "2023-11-02T01:59:34.526Z"
   },
   {
    "duration": 9,
    "start_time": "2023-11-02T01:59:34.667Z"
   },
   {
    "duration": 11,
    "start_time": "2023-11-02T01:59:34.678Z"
   },
   {
    "duration": 126,
    "start_time": "2023-11-02T01:59:34.691Z"
   },
   {
    "duration": 4,
    "start_time": "2023-11-02T01:59:34.819Z"
   },
   {
    "duration": 20,
    "start_time": "2023-11-02T01:59:34.824Z"
   },
   {
    "duration": 146,
    "start_time": "2023-11-02T01:59:34.845Z"
   },
   {
    "duration": 9,
    "start_time": "2023-11-02T01:59:34.992Z"
   },
   {
    "duration": 296,
    "start_time": "2023-11-02T01:59:35.002Z"
   },
   {
    "duration": 7,
    "start_time": "2023-11-02T01:59:35.300Z"
   },
   {
    "duration": 30,
    "start_time": "2023-11-02T01:59:35.308Z"
   },
   {
    "duration": 58,
    "start_time": "2023-11-02T01:59:35.340Z"
   },
   {
    "duration": 127,
    "start_time": "2023-11-02T01:59:35.399Z"
   },
   {
    "duration": 70,
    "start_time": "2023-11-02T01:59:35.528Z"
   },
   {
    "duration": 22,
    "start_time": "2023-11-02T01:59:35.600Z"
   },
   {
    "duration": 25,
    "start_time": "2023-11-02T01:59:35.623Z"
   },
   {
    "duration": 37,
    "start_time": "2023-11-02T01:59:35.650Z"
   },
   {
    "duration": 132,
    "start_time": "2023-11-02T01:59:35.690Z"
   },
   {
    "duration": 7,
    "start_time": "2023-11-02T01:59:35.823Z"
   },
   {
    "duration": 106,
    "start_time": "2023-11-02T01:59:35.831Z"
   },
   {
    "duration": 14,
    "start_time": "2023-11-02T01:59:35.945Z"
   },
   {
    "duration": 11,
    "start_time": "2023-11-02T01:59:35.960Z"
   },
   {
    "duration": 6,
    "start_time": "2023-11-02T01:59:35.972Z"
   },
   {
    "duration": 22,
    "start_time": "2023-11-02T01:59:35.980Z"
   },
   {
    "duration": 6,
    "start_time": "2023-11-02T01:59:36.004Z"
   },
   {
    "duration": 33,
    "start_time": "2023-11-02T01:59:36.011Z"
   },
   {
    "duration": 7,
    "start_time": "2023-11-02T01:59:36.046Z"
   },
   {
    "duration": 335,
    "start_time": "2023-11-02T01:59:36.055Z"
   },
   {
    "duration": 12,
    "start_time": "2023-11-02T01:59:36.392Z"
   },
   {
    "duration": 15,
    "start_time": "2023-11-02T01:59:36.406Z"
   },
   {
    "duration": 7,
    "start_time": "2023-11-02T01:59:36.423Z"
   },
   {
    "duration": 71,
    "start_time": "2023-11-02T01:59:36.431Z"
   },
   {
    "duration": 7,
    "start_time": "2023-11-02T01:59:36.504Z"
   },
   {
    "duration": 10,
    "start_time": "2023-11-02T01:59:36.513Z"
   },
   {
    "duration": 88,
    "start_time": "2023-11-02T01:59:36.525Z"
   },
   {
    "duration": 7,
    "start_time": "2023-11-02T01:59:36.615Z"
   },
   {
    "duration": 21,
    "start_time": "2023-11-02T01:59:36.624Z"
   },
   {
    "duration": 34,
    "start_time": "2023-11-02T01:59:36.647Z"
   },
   {
    "duration": 5,
    "start_time": "2023-11-02T01:59:36.683Z"
   },
   {
    "duration": 8,
    "start_time": "2023-11-02T01:59:36.689Z"
   },
   {
    "duration": 9,
    "start_time": "2023-11-02T01:59:36.698Z"
   },
   {
    "duration": 1105,
    "start_time": "2023-11-02T02:06:07.599Z"
   },
   {
    "duration": 46,
    "start_time": "2023-11-02T02:06:08.706Z"
   },
   {
    "duration": 10,
    "start_time": "2023-11-02T02:06:08.754Z"
   },
   {
    "duration": 22,
    "start_time": "2023-11-02T02:06:08.766Z"
   },
   {
    "duration": 19,
    "start_time": "2023-11-02T02:06:08.789Z"
   },
   {
    "duration": 65,
    "start_time": "2023-11-02T02:06:08.809Z"
   },
   {
    "duration": 12,
    "start_time": "2023-11-02T02:06:08.876Z"
   },
   {
    "duration": 17,
    "start_time": "2023-11-02T02:06:08.890Z"
   },
   {
    "duration": 25,
    "start_time": "2023-11-02T02:06:08.909Z"
   },
   {
    "duration": 56,
    "start_time": "2023-11-02T02:06:08.936Z"
   },
   {
    "duration": 13,
    "start_time": "2023-11-02T02:06:08.994Z"
   },
   {
    "duration": 35,
    "start_time": "2023-11-02T02:06:09.009Z"
   },
   {
    "duration": 24,
    "start_time": "2023-11-02T02:06:09.047Z"
   },
   {
    "duration": 29,
    "start_time": "2023-11-02T02:06:09.074Z"
   },
   {
    "duration": 25,
    "start_time": "2023-11-02T02:06:09.105Z"
   },
   {
    "duration": 21,
    "start_time": "2023-11-02T02:06:09.131Z"
   },
   {
    "duration": 23,
    "start_time": "2023-11-02T02:06:09.153Z"
   },
   {
    "duration": 210,
    "start_time": "2023-11-02T02:06:09.177Z"
   },
   {
    "duration": 164,
    "start_time": "2023-11-02T02:06:09.389Z"
   },
   {
    "duration": 19,
    "start_time": "2023-11-02T02:06:09.555Z"
   },
   {
    "duration": 36,
    "start_time": "2023-11-02T02:06:09.576Z"
   },
   {
    "duration": 39,
    "start_time": "2023-11-02T02:06:09.613Z"
   },
   {
    "duration": 38,
    "start_time": "2023-11-02T02:06:09.654Z"
   },
   {
    "duration": 321,
    "start_time": "2023-11-02T02:06:09.694Z"
   },
   {
    "duration": 206,
    "start_time": "2023-11-02T02:06:10.017Z"
   },
   {
    "duration": 27,
    "start_time": "2023-11-02T02:06:10.225Z"
   },
   {
    "duration": 28,
    "start_time": "2023-11-02T02:06:10.254Z"
   },
   {
    "duration": 361,
    "start_time": "2023-11-02T02:06:10.287Z"
   },
   {
    "duration": 6,
    "start_time": "2023-11-02T02:06:10.651Z"
   },
   {
    "duration": 267,
    "start_time": "2023-11-02T02:06:10.659Z"
   },
   {
    "duration": 351,
    "start_time": "2023-11-02T02:06:10.927Z"
   },
   {
    "duration": 13,
    "start_time": "2023-11-02T02:06:11.280Z"
   },
   {
    "duration": 156,
    "start_time": "2023-11-02T02:06:11.295Z"
   },
   {
    "duration": 7,
    "start_time": "2023-11-02T02:06:11.453Z"
   },
   {
    "duration": 29,
    "start_time": "2023-11-02T02:06:11.463Z"
   },
   {
    "duration": 153,
    "start_time": "2023-11-02T02:06:11.493Z"
   },
   {
    "duration": 5,
    "start_time": "2023-11-02T02:06:11.648Z"
   },
   {
    "duration": 15,
    "start_time": "2023-11-02T02:06:11.655Z"
   },
   {
    "duration": 172,
    "start_time": "2023-11-02T02:06:11.672Z"
   },
   {
    "duration": 8,
    "start_time": "2023-11-02T02:06:11.845Z"
   },
   {
    "duration": 238,
    "start_time": "2023-11-02T02:06:11.855Z"
   },
   {
    "duration": 6,
    "start_time": "2023-11-02T02:06:12.095Z"
   },
   {
    "duration": 21,
    "start_time": "2023-11-02T02:06:12.103Z"
   },
   {
    "duration": 41,
    "start_time": "2023-11-02T02:06:12.126Z"
   },
   {
    "duration": 15,
    "start_time": "2023-11-02T02:06:12.168Z"
   },
   {
    "duration": 6,
    "start_time": "2023-11-02T02:06:12.185Z"
   },
   {
    "duration": 18,
    "start_time": "2023-11-02T02:06:12.192Z"
   },
   {
    "duration": 8,
    "start_time": "2023-11-02T02:06:12.211Z"
   },
   {
    "duration": 33,
    "start_time": "2023-11-02T02:06:12.220Z"
   },
   {
    "duration": 99,
    "start_time": "2023-11-02T02:06:12.254Z"
   },
   {
    "duration": 12,
    "start_time": "2023-11-02T02:06:12.355Z"
   },
   {
    "duration": 96,
    "start_time": "2023-11-02T02:06:12.369Z"
   },
   {
    "duration": 7,
    "start_time": "2023-11-02T02:06:12.467Z"
   },
   {
    "duration": 8,
    "start_time": "2023-11-02T02:06:12.477Z"
   },
   {
    "duration": 9,
    "start_time": "2023-11-02T02:06:12.487Z"
   },
   {
    "duration": 57,
    "start_time": "2023-11-02T02:06:12.498Z"
   },
   {
    "duration": 5,
    "start_time": "2023-11-02T02:06:12.557Z"
   },
   {
    "duration": 17,
    "start_time": "2023-11-02T02:06:12.564Z"
   },
   {
    "duration": 25,
    "start_time": "2023-11-02T02:06:12.582Z"
   },
   {
    "duration": 313,
    "start_time": "2023-11-02T02:06:12.609Z"
   },
   {
    "duration": 21,
    "start_time": "2023-11-02T02:06:12.923Z"
   },
   {
    "duration": 23,
    "start_time": "2023-11-02T02:06:12.946Z"
   },
   {
    "duration": 38,
    "start_time": "2023-11-02T02:06:12.971Z"
   },
   {
    "duration": 89,
    "start_time": "2023-11-02T02:06:13.011Z"
   },
   {
    "duration": 8,
    "start_time": "2023-11-02T02:06:13.102Z"
   },
   {
    "duration": 29,
    "start_time": "2023-11-02T02:06:13.112Z"
   },
   {
    "duration": 93,
    "start_time": "2023-11-02T02:06:13.143Z"
   },
   {
    "duration": 10,
    "start_time": "2023-11-02T02:06:13.244Z"
   },
   {
    "duration": 10,
    "start_time": "2023-11-02T02:06:13.255Z"
   },
   {
    "duration": 43,
    "start_time": "2023-11-02T02:06:13.267Z"
   },
   {
    "duration": 4,
    "start_time": "2023-11-02T02:06:13.312Z"
   },
   {
    "duration": 27,
    "start_time": "2023-11-02T02:06:13.318Z"
   },
   {
    "duration": 8,
    "start_time": "2023-11-02T02:06:13.346Z"
   }
  ],
  "kernelspec": {
   "display_name": "Python 3 (ipykernel)",
   "language": "python",
   "name": "python3"
  },
  "language_info": {
   "codemirror_mode": {
    "name": "ipython",
    "version": 3
   },
   "file_extension": ".py",
   "mimetype": "text/x-python",
   "name": "python",
   "nbconvert_exporter": "python",
   "pygments_lexer": "ipython3",
   "version": "3.9.13"
  },
  "toc": {
   "base_numbering": 1,
   "nav_menu": {},
   "number_sections": true,
   "sideBar": true,
   "skip_h1_title": true,
   "title_cell": "Table of Contents",
   "title_sidebar": "Contents",
   "toc_cell": false,
   "toc_position": {},
   "toc_section_display": true,
   "toc_window_display": false
  }
 },
 "nbformat": 4,
 "nbformat_minor": 5
}
