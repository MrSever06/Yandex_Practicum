{
 "cells": [
  {
   "cell_type": "markdown",
   "id": "a9ebfdb7",
   "metadata": {},
   "source": [
    "# Анализ NPS клиентов телекоммуникационной компании"
   ]
  },
  {
   "cell_type": "markdown",
   "id": "20b348d5",
   "metadata": {},
   "source": [
    "## Описание:"
   ]
  },
  {
   "cell_type": "markdown",
   "id": "ea01a81d",
   "metadata": {},
   "source": [
    "Заказчик этого исследования — большая телекоммуникационная компания, которая оказывает услуги на территории всего СНГ. Перед компанией стоит задача определить текущий уровень потребительской лояльности, или NPS (от англ. Net Promoter Score), среди клиентов из России.\n",
    "\n",
    "Чтобы определить уровень лояльности, клиентам задавали классический вопрос: «Оцените по шкале от 1 до 10 вероятность того, что вы порекомендуете компанию друзьям и знакомым».\n",
    "Компания провела опрос и попросила вас подготовить дашборд с его итогами. Большую базу данных для такой задачи разворачивать не стали и выгрузили данные в SQLite. \n",
    "Чтобы оценить результаты опроса, оценки обычно делят на три группы:\n",
    "9-10 баллов — «cторонники» (англ. promoters);\n",
    "7-8 баллов — «нейтралы» (англ. passives);\n",
    "0-6 баллов — «критики» (англ. detractors)."
   ]
  },
  {
   "cell_type": "markdown",
   "id": "b3bac6a8",
   "metadata": {},
   "source": [
    "## **Презентация и дашборд с выводами:**"
   ]
  },
  {
   "cell_type": "markdown",
   "id": "c63ba748",
   "metadata": {},
   "source": [
    "<div class=\"alert alert-info\">\n",
    "\n",
    "[Презентация](https://disk.yandex.kz/d/4eLzDs7m4r2IJw)\n",
    "    \n",
    "[Дашборд](https://public.tableau.com/views/NPSTelecom/Dashboard1?:language=en-US&publish=yes&:display_count=n&:origin=viz_share_link)"
   ]
  },
  {
   "cell_type": "code",
   "execution_count": 1,
   "id": "bb446b13",
   "metadata": {},
   "outputs": [],
   "source": [
    "#импорт библиотек\n",
    "import os\n",
    "import pandas as pd\n",
    "from sqlalchemy import create_engine"
   ]
  },
  {
   "cell_type": "markdown",
   "id": "6f8db596",
   "metadata": {},
   "source": [
    "**Подключимся к базе и  выгрузим данные**"
   ]
  },
  {
   "cell_type": "code",
   "execution_count": 2,
   "id": "1d039afd",
   "metadata": {},
   "outputs": [],
   "source": [
    "# путь к БД на вашем компьютере\n",
    "path_to_db_local = 'telecomm_csi.db'\n",
    "# путь к БД на платформе\n",
    "path_to_db_platform = '/datasets/telecomm_csi.db'\n",
    "# итоговый путь к БД\n",
    "path_to_db = None\n",
    "\n",
    "# если путь на вашем компьютере ведёт к БД, то он становится итоговым\n",
    "if os.path.exists(path_to_db_local):\n",
    "    path_to_db = path_to_db_local\n",
    "# иначе: если путь на платформе ведёт к БД, то он становится итоговым\n",
    "elif os.path.exists(path_to_db_platform):\n",
    "    path_to_db = path_to_db_platform\n",
    "# иначе выводится сообщение о том, что файл не найден\n",
    "else:\n",
    "    raise Exception('Файл с базой данных SQLite не найден!')\n",
    "    \n",
    "# если итоговый путь не пустой\n",
    "if path_to_db:\n",
    "    # то создаём подключение к базе\n",
    "    engine = create_engine(f'sqlite:///{path_to_db}', echo=False)\n",
    "    \n",
    "    #запрос\n",
    "    query = \"\"\"\n",
    "    SELECT user_id, /* */ \n",
    "           lt_day,\n",
    "           CASE \n",
    "               WHEN lifetime.bucket_min <= 12 THEN 'new'\n",
    "               ELSE 'old' \n",
    "           END AS is_new,\n",
    "           SUBSTRING(age.title, 3, 10) AS age,\n",
    "           CASE\n",
    "               WHEN gender_segment = 1 THEN 'female'\n",
    "               ELSE 'male'\n",
    "           END gender_segment,\n",
    "           os_name,\n",
    "           cpe_type_name,\n",
    "           country,\n",
    "           city,\n",
    "           SUBSTRING(age.title, 3, 10) AS age_segment,\n",
    "           SUBSTRING(traffic.title, 3, 10) AS traffic_segment,\n",
    "           SUBSTRING(lifetime.title, 3, 10) AS lifetime_segment,\n",
    "           nps_score,\n",
    "           CASE \n",
    "               WHEN nps_score <= 6 THEN 'критики'\n",
    "               WHEN nps_score <= 8 THEN 'нейтралы'\n",
    "               WHEN nps_score <= 10 THEN 'cторонники'\n",
    "           END AS nps_group \n",
    "    FROM user\n",
    "    LEFT OUTER JOIN age_segment AS age ON user.age_gr_id = age.age_gr_id\n",
    "    LEFT OUTER JOIN traffic_segment AS traffic ON user.tr_gr_id = traffic.tr_gr_id\n",
    "    LEFT OUTER JOIN lifetime_segment AS lifetime ON user.lt_gr_id = lifetime.lt_gr_id\n",
    "    LEFT OUTER JOIN location ON user.location_id = location.location_id\n",
    "    WHERE gender_segment IS NOT NULL;\n",
    "    \"\"\"\n",
    "    # создаём датафрейм по данным запроса\n",
    "    data = pd.read_sql(query, engine) \n",
    "    data.to_csv('project_2.csv', index = False)"
   ]
  },
  {
   "cell_type": "code",
   "execution_count": 3,
   "id": "5c3d37ea",
   "metadata": {},
   "outputs": [],
   "source": [
    "pd.set_option('display.max_columns', None)"
   ]
  },
  {
   "cell_type": "code",
   "execution_count": 4,
   "id": "4daf2073",
   "metadata": {},
   "outputs": [
    {
     "name": "stdout",
     "output_type": "stream",
     "text": [
      "<class 'pandas.core.frame.DataFrame'>\n",
      "RangeIndex: 501192 entries, 0 to 501191\n",
      "Data columns (total 14 columns):\n",
      " #   Column            Non-Null Count   Dtype \n",
      "---  ------            --------------   ----- \n",
      " 0   user_id           501192 non-null  object\n",
      " 1   lt_day            501192 non-null  int64 \n",
      " 2   is_new            501192 non-null  object\n",
      " 3   age               501192 non-null  object\n",
      " 4   gender_segment    501192 non-null  object\n",
      " 5   os_name           501192 non-null  object\n",
      " 6   cpe_type_name     501192 non-null  object\n",
      " 7   country           501192 non-null  object\n",
      " 8   city              501192 non-null  object\n",
      " 9   age_segment       501192 non-null  object\n",
      " 10  traffic_segment   501192 non-null  object\n",
      " 11  lifetime_segment  501192 non-null  object\n",
      " 12  nps_score         501192 non-null  int64 \n",
      " 13  nps_group         501192 non-null  object\n",
      "dtypes: int64(2), object(12)\n",
      "memory usage: 53.5+ MB\n"
     ]
    }
   ],
   "source": [
    "data.info() #check"
   ]
  },
  {
   "cell_type": "code",
   "execution_count": 5,
   "id": "34591165",
   "metadata": {
    "scrolled": true
   },
   "outputs": [
    {
     "data": {
      "text/html": [
       "<div>\n",
       "<style scoped>\n",
       "    .dataframe tbody tr th:only-of-type {\n",
       "        vertical-align: middle;\n",
       "    }\n",
       "\n",
       "    .dataframe tbody tr th {\n",
       "        vertical-align: top;\n",
       "    }\n",
       "\n",
       "    .dataframe thead th {\n",
       "        text-align: right;\n",
       "    }\n",
       "</style>\n",
       "<table border=\"1\" class=\"dataframe\">\n",
       "  <thead>\n",
       "    <tr style=\"text-align: right;\">\n",
       "      <th></th>\n",
       "      <th>user_id</th>\n",
       "      <th>lt_day</th>\n",
       "      <th>is_new</th>\n",
       "      <th>age</th>\n",
       "      <th>gender_segment</th>\n",
       "      <th>os_name</th>\n",
       "      <th>cpe_type_name</th>\n",
       "      <th>country</th>\n",
       "      <th>city</th>\n",
       "      <th>age_segment</th>\n",
       "      <th>traffic_segment</th>\n",
       "      <th>lifetime_segment</th>\n",
       "      <th>nps_score</th>\n",
       "      <th>nps_group</th>\n",
       "    </tr>\n",
       "  </thead>\n",
       "  <tbody>\n",
       "    <tr>\n",
       "      <th>0</th>\n",
       "      <td>A001A2</td>\n",
       "      <td>2320</td>\n",
       "      <td>old</td>\n",
       "      <td>45-54</td>\n",
       "      <td>female</td>\n",
       "      <td>ANDROID</td>\n",
       "      <td>SMARTPHONE</td>\n",
       "      <td>Россия</td>\n",
       "      <td>Уфа</td>\n",
       "      <td>45-54</td>\n",
       "      <td>1-5</td>\n",
       "      <td>36+</td>\n",
       "      <td>10</td>\n",
       "      <td>cторонники</td>\n",
       "    </tr>\n",
       "    <tr>\n",
       "      <th>1</th>\n",
       "      <td>A001WF</td>\n",
       "      <td>2344</td>\n",
       "      <td>old</td>\n",
       "      <td>45-54</td>\n",
       "      <td>male</td>\n",
       "      <td>ANDROID</td>\n",
       "      <td>SMARTPHONE</td>\n",
       "      <td>Россия</td>\n",
       "      <td>Киров</td>\n",
       "      <td>45-54</td>\n",
       "      <td>1-5</td>\n",
       "      <td>36+</td>\n",
       "      <td>10</td>\n",
       "      <td>cторонники</td>\n",
       "    </tr>\n",
       "    <tr>\n",
       "      <th>2</th>\n",
       "      <td>A003Q7</td>\n",
       "      <td>467</td>\n",
       "      <td>old</td>\n",
       "      <td>55-64</td>\n",
       "      <td>male</td>\n",
       "      <td>ANDROID</td>\n",
       "      <td>SMARTPHONE</td>\n",
       "      <td>Россия</td>\n",
       "      <td>Москва</td>\n",
       "      <td>55-64</td>\n",
       "      <td>20-25</td>\n",
       "      <td>13-24</td>\n",
       "      <td>10</td>\n",
       "      <td>cторонники</td>\n",
       "    </tr>\n",
       "    <tr>\n",
       "      <th>3</th>\n",
       "      <td>A004TB</td>\n",
       "      <td>4190</td>\n",
       "      <td>old</td>\n",
       "      <td>35-44</td>\n",
       "      <td>female</td>\n",
       "      <td>IOS</td>\n",
       "      <td>SMARTPHONE</td>\n",
       "      <td>Россия</td>\n",
       "      <td>РостовнаДону</td>\n",
       "      <td>35-44</td>\n",
       "      <td>0.1-1</td>\n",
       "      <td>36+</td>\n",
       "      <td>10</td>\n",
       "      <td>cторонники</td>\n",
       "    </tr>\n",
       "    <tr>\n",
       "      <th>4</th>\n",
       "      <td>A004XT</td>\n",
       "      <td>1163</td>\n",
       "      <td>old</td>\n",
       "      <td>16-24</td>\n",
       "      <td>male</td>\n",
       "      <td>ANDROID</td>\n",
       "      <td>SMARTPHONE</td>\n",
       "      <td>Россия</td>\n",
       "      <td>Рязань</td>\n",
       "      <td>16-24</td>\n",
       "      <td>5-10</td>\n",
       "      <td>36+</td>\n",
       "      <td>10</td>\n",
       "      <td>cторонники</td>\n",
       "    </tr>\n",
       "    <tr>\n",
       "      <th>...</th>\n",
       "      <td>...</td>\n",
       "      <td>...</td>\n",
       "      <td>...</td>\n",
       "      <td>...</td>\n",
       "      <td>...</td>\n",
       "      <td>...</td>\n",
       "      <td>...</td>\n",
       "      <td>...</td>\n",
       "      <td>...</td>\n",
       "      <td>...</td>\n",
       "      <td>...</td>\n",
       "      <td>...</td>\n",
       "      <td>...</td>\n",
       "      <td>...</td>\n",
       "    </tr>\n",
       "    <tr>\n",
       "      <th>501187</th>\n",
       "      <td>ZZZKLD</td>\n",
       "      <td>1249</td>\n",
       "      <td>old</td>\n",
       "      <td>45-54</td>\n",
       "      <td>female</td>\n",
       "      <td>ANDROID</td>\n",
       "      <td>SMARTPHONE</td>\n",
       "      <td>Россия</td>\n",
       "      <td>Москва</td>\n",
       "      <td>45-54</td>\n",
       "      <td>1-5</td>\n",
       "      <td>36+</td>\n",
       "      <td>5</td>\n",
       "      <td>критики</td>\n",
       "    </tr>\n",
       "    <tr>\n",
       "      <th>501188</th>\n",
       "      <td>ZZZLWY</td>\n",
       "      <td>129</td>\n",
       "      <td>new</td>\n",
       "      <td>25-34</td>\n",
       "      <td>male</td>\n",
       "      <td>ANDROID</td>\n",
       "      <td>SMARTPHONE</td>\n",
       "      <td>Россия</td>\n",
       "      <td>Москва</td>\n",
       "      <td>25-34</td>\n",
       "      <td>1-5</td>\n",
       "      <td>4-6</td>\n",
       "      <td>8</td>\n",
       "      <td>нейтралы</td>\n",
       "    </tr>\n",
       "    <tr>\n",
       "      <th>501189</th>\n",
       "      <td>ZZZQ5F</td>\n",
       "      <td>522</td>\n",
       "      <td>old</td>\n",
       "      <td>35-44</td>\n",
       "      <td>male</td>\n",
       "      <td>ANDROID</td>\n",
       "      <td>SMARTPHONE</td>\n",
       "      <td>Россия</td>\n",
       "      <td>Сургут</td>\n",
       "      <td>35-44</td>\n",
       "      <td>25-30</td>\n",
       "      <td>13-24</td>\n",
       "      <td>10</td>\n",
       "      <td>cторонники</td>\n",
       "    </tr>\n",
       "    <tr>\n",
       "      <th>501190</th>\n",
       "      <td>ZZZQ8E</td>\n",
       "      <td>2936</td>\n",
       "      <td>old</td>\n",
       "      <td>35-44</td>\n",
       "      <td>female</td>\n",
       "      <td>ANDROID</td>\n",
       "      <td>SMARTPHONE</td>\n",
       "      <td>Россия</td>\n",
       "      <td>УланУдэ</td>\n",
       "      <td>35-44</td>\n",
       "      <td>65-70</td>\n",
       "      <td>36+</td>\n",
       "      <td>9</td>\n",
       "      <td>cторонники</td>\n",
       "    </tr>\n",
       "    <tr>\n",
       "      <th>501191</th>\n",
       "      <td>ZZZYH0</td>\n",
       "      <td>2471</td>\n",
       "      <td>old</td>\n",
       "      <td>35-44</td>\n",
       "      <td>male</td>\n",
       "      <td>IOS</td>\n",
       "      <td>SMARTPHONE</td>\n",
       "      <td>Россия</td>\n",
       "      <td>Самара</td>\n",
       "      <td>35-44</td>\n",
       "      <td>10-15</td>\n",
       "      <td>36+</td>\n",
       "      <td>2</td>\n",
       "      <td>критики</td>\n",
       "    </tr>\n",
       "  </tbody>\n",
       "</table>\n",
       "<p>501192 rows × 14 columns</p>\n",
       "</div>"
      ],
      "text/plain": [
       "       user_id  lt_day is_new     age gender_segment  os_name cpe_type_name  \\\n",
       "0       A001A2    2320    old   45-54         female  ANDROID    SMARTPHONE   \n",
       "1       A001WF    2344    old   45-54           male  ANDROID    SMARTPHONE   \n",
       "2       A003Q7     467    old   55-64           male  ANDROID    SMARTPHONE   \n",
       "3       A004TB    4190    old   35-44         female      IOS    SMARTPHONE   \n",
       "4       A004XT    1163    old   16-24           male  ANDROID    SMARTPHONE   \n",
       "...        ...     ...    ...     ...            ...      ...           ...   \n",
       "501187  ZZZKLD    1249    old   45-54         female  ANDROID    SMARTPHONE   \n",
       "501188  ZZZLWY     129    new   25-34           male  ANDROID    SMARTPHONE   \n",
       "501189  ZZZQ5F     522    old   35-44           male  ANDROID    SMARTPHONE   \n",
       "501190  ZZZQ8E    2936    old   35-44         female  ANDROID    SMARTPHONE   \n",
       "501191  ZZZYH0    2471    old   35-44           male      IOS    SMARTPHONE   \n",
       "\n",
       "       country          city age_segment traffic_segment lifetime_segment  \\\n",
       "0       Россия           Уфа       45-54             1-5              36+   \n",
       "1       Россия         Киров       45-54             1-5              36+   \n",
       "2       Россия        Москва       55-64           20-25            13-24   \n",
       "3       Россия  РостовнаДону       35-44           0.1-1              36+   \n",
       "4       Россия        Рязань       16-24            5-10              36+   \n",
       "...        ...           ...         ...             ...              ...   \n",
       "501187  Россия        Москва       45-54             1-5              36+   \n",
       "501188  Россия        Москва       25-34             1-5              4-6   \n",
       "501189  Россия        Сургут       35-44           25-30            13-24   \n",
       "501190  Россия       УланУдэ       35-44           65-70              36+   \n",
       "501191  Россия        Самара       35-44           10-15              36+   \n",
       "\n",
       "        nps_score   nps_group  \n",
       "0              10  cторонники  \n",
       "1              10  cторонники  \n",
       "2              10  cторонники  \n",
       "3              10  cторонники  \n",
       "4              10  cторонники  \n",
       "...           ...         ...  \n",
       "501187          5     критики  \n",
       "501188          8    нейтралы  \n",
       "501189         10  cторонники  \n",
       "501190          9  cторонники  \n",
       "501191          2     критики  \n",
       "\n",
       "[501192 rows x 14 columns]"
      ]
     },
     "execution_count": 5,
     "metadata": {},
     "output_type": "execute_result"
    }
   ],
   "source": [
    "data"
   ]
  },
  {
   "cell_type": "code",
   "execution_count": 6,
   "id": "ff4208a3",
   "metadata": {},
   "outputs": [
    {
     "data": {
      "text/plain": [
       "female    272442\n",
       "male      228750\n",
       "Name: gender_segment, dtype: int64"
      ]
     },
     "execution_count": 6,
     "metadata": {},
     "output_type": "execute_result"
    }
   ],
   "source": [
    "data['gender_segment'].value_counts()"
   ]
  }
 ],
 "metadata": {
  "ExecuteTimeLog": [
   {
    "duration": 543,
    "start_time": "2023-03-26T07:26:29.102Z"
   },
   {
    "duration": 11998,
    "start_time": "2023-03-26T07:26:29.649Z"
   },
   {
    "duration": 4,
    "start_time": "2023-03-26T07:26:41.650Z"
   },
   {
    "duration": 750,
    "start_time": "2023-03-26T07:26:41.656Z"
   },
   {
    "duration": 548,
    "start_time": "2023-03-26T07:26:42.408Z"
   },
   {
    "duration": 50,
    "start_time": "2023-03-26T08:18:50.967Z"
   },
   {
    "duration": 9,
    "start_time": "2023-03-26T08:19:16.543Z"
   },
   {
    "duration": 8,
    "start_time": "2023-03-26T08:21:17.339Z"
   },
   {
    "duration": 588,
    "start_time": "2023-03-26T08:21:27.482Z"
   },
   {
    "duration": 121,
    "start_time": "2023-03-26T08:21:28.072Z"
   },
   {
    "duration": 0,
    "start_time": "2023-03-26T08:21:28.195Z"
   },
   {
    "duration": 0,
    "start_time": "2023-03-26T08:21:28.195Z"
   },
   {
    "duration": 0,
    "start_time": "2023-03-26T08:21:28.197Z"
   },
   {
    "duration": 64,
    "start_time": "2023-03-26T09:18:51.601Z"
   },
   {
    "duration": 545,
    "start_time": "2023-03-26T09:18:56.705Z"
   },
   {
    "duration": 102,
    "start_time": "2023-03-26T09:18:57.252Z"
   },
   {
    "duration": 0,
    "start_time": "2023-03-26T09:18:57.356Z"
   },
   {
    "duration": 0,
    "start_time": "2023-03-26T09:18:57.357Z"
   },
   {
    "duration": 0,
    "start_time": "2023-03-26T09:18:57.358Z"
   },
   {
    "duration": 0,
    "start_time": "2023-03-26T09:18:57.359Z"
   },
   {
    "duration": 555,
    "start_time": "2023-03-26T09:19:20.892Z"
   },
   {
    "duration": 103,
    "start_time": "2023-03-26T09:19:21.449Z"
   },
   {
    "duration": 0,
    "start_time": "2023-03-26T09:19:21.553Z"
   },
   {
    "duration": 0,
    "start_time": "2023-03-26T09:19:21.554Z"
   },
   {
    "duration": 0,
    "start_time": "2023-03-26T09:19:21.555Z"
   },
   {
    "duration": 0,
    "start_time": "2023-03-26T09:19:21.556Z"
   },
   {
    "duration": 113,
    "start_time": "2023-03-26T09:20:28.148Z"
   },
   {
    "duration": 3595,
    "start_time": "2023-03-26T09:21:14.859Z"
   },
   {
    "duration": 46,
    "start_time": "2023-03-26T09:22:16.772Z"
   },
   {
    "duration": 10121,
    "start_time": "2023-03-26T09:22:34.311Z"
   },
   {
    "duration": 5,
    "start_time": "2023-03-26T09:22:48.543Z"
   },
   {
    "duration": 20,
    "start_time": "2023-03-26T09:22:49.231Z"
   },
   {
    "duration": 49,
    "start_time": "2023-03-27T00:35:05.373Z"
   },
   {
    "duration": 7,
    "start_time": "2023-03-27T00:35:23.544Z"
   },
   {
    "duration": 594,
    "start_time": "2023-03-27T00:35:30.361Z"
   },
   {
    "duration": 114,
    "start_time": "2023-03-27T00:35:30.957Z"
   },
   {
    "duration": 3781,
    "start_time": "2023-03-27T00:35:31.073Z"
   },
   {
    "duration": 84,
    "start_time": "2023-03-27T00:35:34.856Z"
   },
   {
    "duration": 0,
    "start_time": "2023-03-27T00:35:34.943Z"
   },
   {
    "duration": 0,
    "start_time": "2023-03-27T00:35:34.944Z"
   },
   {
    "duration": 0,
    "start_time": "2023-03-27T00:35:34.945Z"
   },
   {
    "duration": 0,
    "start_time": "2023-03-27T00:35:34.946Z"
   },
   {
    "duration": 21,
    "start_time": "2023-03-27T00:36:08.420Z"
   },
   {
    "duration": 19,
    "start_time": "2023-03-27T00:36:15.948Z"
   },
   {
    "duration": 18,
    "start_time": "2023-03-27T00:36:37.952Z"
   },
   {
    "duration": 10550,
    "start_time": "2023-03-27T00:36:38.419Z"
   },
   {
    "duration": 3,
    "start_time": "2023-03-27T00:36:48.971Z"
   },
   {
    "duration": 1012,
    "start_time": "2023-03-27T00:36:48.976Z"
   },
   {
    "duration": 11593,
    "start_time": "2023-03-27T02:00:19.374Z"
   },
   {
    "duration": 3,
    "start_time": "2023-03-27T02:00:30.970Z"
   },
   {
    "duration": 1014,
    "start_time": "2023-03-27T02:00:30.975Z"
   },
   {
    "duration": 677,
    "start_time": "2023-03-27T02:00:31.992Z"
   },
   {
    "duration": 22,
    "start_time": "2023-03-27T02:00:43.580Z"
   },
   {
    "duration": 327,
    "start_time": "2023-03-27T02:01:21.226Z"
   },
   {
    "duration": 210,
    "start_time": "2023-03-27T02:02:14.540Z"
   },
   {
    "duration": 10,
    "start_time": "2023-03-27T02:02:29.948Z"
   },
   {
    "duration": 8,
    "start_time": "2023-03-27T02:03:18.551Z"
   },
   {
    "duration": 217,
    "start_time": "2023-03-27T02:03:30.015Z"
   },
   {
    "duration": 19,
    "start_time": "2023-03-27T02:03:30.948Z"
   },
   {
    "duration": 10,
    "start_time": "2023-03-27T02:03:38.014Z"
   },
   {
    "duration": 105,
    "start_time": "2023-03-27T02:03:53.430Z"
   },
   {
    "duration": 105,
    "start_time": "2023-03-27T02:04:13.470Z"
   },
   {
    "duration": 103,
    "start_time": "2023-03-27T02:04:50.097Z"
   },
   {
    "duration": 101,
    "start_time": "2023-03-27T02:05:17.823Z"
   },
   {
    "duration": 117,
    "start_time": "2023-03-27T02:05:36.950Z"
   },
   {
    "duration": 93,
    "start_time": "2023-03-27T02:51:30.955Z"
   },
   {
    "duration": 524,
    "start_time": "2023-03-27T02:52:25.989Z"
   },
   {
    "duration": 9983,
    "start_time": "2023-03-27T02:52:26.515Z"
   },
   {
    "duration": 3,
    "start_time": "2023-03-27T02:52:36.499Z"
   },
   {
    "duration": 1399,
    "start_time": "2023-03-27T02:52:36.505Z"
   },
   {
    "duration": 33,
    "start_time": "2023-03-27T02:52:37.906Z"
   },
   {
    "duration": 456,
    "start_time": "2023-03-27T09:10:35.533Z"
   },
   {
    "duration": 9840,
    "start_time": "2023-03-27T09:10:35.992Z"
   },
   {
    "duration": 2,
    "start_time": "2023-03-27T09:10:45.834Z"
   },
   {
    "duration": 1403,
    "start_time": "2023-03-27T09:10:45.838Z"
   },
   {
    "duration": 28,
    "start_time": "2023-03-27T09:10:47.242Z"
   },
   {
    "duration": 472,
    "start_time": "2023-03-27T09:15:58.543Z"
   },
   {
    "duration": 8593,
    "start_time": "2023-03-27T09:15:59.017Z"
   },
   {
    "duration": 2,
    "start_time": "2023-03-27T09:16:07.612Z"
   },
   {
    "duration": 1395,
    "start_time": "2023-03-27T09:16:07.616Z"
   },
   {
    "duration": 26,
    "start_time": "2023-03-27T09:16:09.013Z"
   },
   {
    "duration": 793,
    "start_time": "2023-03-27T09:17:44.949Z"
   },
   {
    "duration": 666,
    "start_time": "2023-03-27T09:18:02.002Z"
   },
   {
    "duration": 4627,
    "start_time": "2023-03-27T09:18:16.987Z"
   },
   {
    "duration": 51,
    "start_time": "2023-03-27T22:35:32.192Z"
   },
   {
    "duration": 599,
    "start_time": "2023-03-27T22:35:45.573Z"
   },
   {
    "duration": 10529,
    "start_time": "2023-03-27T22:35:46.174Z"
   },
   {
    "duration": 4,
    "start_time": "2023-03-27T22:35:56.705Z"
   },
   {
    "duration": 1251,
    "start_time": "2023-03-27T22:35:56.711Z"
   },
   {
    "duration": 33,
    "start_time": "2023-03-27T22:35:57.963Z"
   },
   {
    "duration": 680,
    "start_time": "2023-03-27T22:35:57.998Z"
   },
   {
    "duration": 573,
    "start_time": "2023-03-27T22:35:58.680Z"
   },
   {
    "duration": 839,
    "start_time": "2023-03-27T22:36:13.458Z"
   },
   {
    "duration": 731,
    "start_time": "2023-03-27T22:36:21.933Z"
   },
   {
    "duration": 362,
    "start_time": "2023-03-27T22:41:24.476Z"
   },
   {
    "duration": 10370,
    "start_time": "2023-03-27T22:42:06.861Z"
   },
   {
    "duration": 3,
    "start_time": "2023-03-27T22:42:17.233Z"
   },
   {
    "duration": 673,
    "start_time": "2023-03-27T22:42:18.014Z"
   },
   {
    "duration": 19,
    "start_time": "2023-03-27T22:42:21.272Z"
   },
   {
    "duration": 661,
    "start_time": "2023-03-27T22:42:54.768Z"
   },
   {
    "duration": 565,
    "start_time": "2023-03-27T22:48:19.555Z"
   },
   {
    "duration": 10049,
    "start_time": "2023-03-27T22:48:20.122Z"
   },
   {
    "duration": 3,
    "start_time": "2023-03-27T22:48:30.173Z"
   },
   {
    "duration": 1279,
    "start_time": "2023-03-27T22:48:30.178Z"
   },
   {
    "duration": 36,
    "start_time": "2023-03-27T22:48:31.459Z"
   },
   {
    "duration": 568,
    "start_time": "2023-03-27T22:48:31.497Z"
   },
   {
    "duration": 85,
    "start_time": "2023-03-27T23:13:42.623Z"
   },
   {
    "duration": 154,
    "start_time": "2023-03-27T23:13:46.749Z"
   },
   {
    "duration": 127,
    "start_time": "2023-03-27T23:15:24.190Z"
   },
   {
    "duration": 791,
    "start_time": "2023-03-27T23:23:32.911Z"
   },
   {
    "duration": 117,
    "start_time": "2023-03-27T23:24:08.849Z"
   }
  ],
  "kernelspec": {
   "display_name": "Python 3 (ipykernel)",
   "language": "python",
   "name": "python3"
  },
  "language_info": {
   "codemirror_mode": {
    "name": "ipython",
    "version": 3
   },
   "file_extension": ".py",
   "mimetype": "text/x-python",
   "name": "python",
   "nbconvert_exporter": "python",
   "pygments_lexer": "ipython3",
   "version": "3.9.13"
  },
  "toc": {
   "base_numbering": 1,
   "nav_menu": {},
   "number_sections": true,
   "sideBar": true,
   "skip_h1_title": true,
   "title_cell": "Table of Contents",
   "title_sidebar": "Contents",
   "toc_cell": false,
   "toc_position": {},
   "toc_section_display": true,
   "toc_window_display": false
  }
 },
 "nbformat": 4,
 "nbformat_minor": 5
}
