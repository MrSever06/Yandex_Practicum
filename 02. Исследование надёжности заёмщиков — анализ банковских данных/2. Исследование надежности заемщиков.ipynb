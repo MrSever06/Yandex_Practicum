{
 "cells": [
  {
   "cell_type": "markdown",
   "id": "52638484",
   "metadata": {
    "deletable": false,
    "editable": false,
    "id": "c81daeeb"
   },
   "source": [
    "# Исследование надежности заемщиков\n"
   ]
  },
  {
   "cell_type": "markdown",
   "id": "f70c905a",
   "metadata": {
    "deletable": false,
    "editable": false,
    "id": "827c20bf"
   },
   "source": [
    "Во второй части проекта вы выполните шаги 3 и 4. Их вручную проверит ревьюер.\n",
    "Чтобы вам не пришлось писать код заново для шагов 1 и 2, мы добавили авторские решения в ячейки с кодом. \n",
    "\n"
   ]
  },
  {
   "cell_type": "markdown",
   "id": "eae5e2ff",
   "metadata": {
    "deletable": false,
    "editable": false,
    "id": "744d7639"
   },
   "source": [
    "## Откройте таблицу и изучите общую информацию о данных"
   ]
  },
  {
   "cell_type": "markdown",
   "id": "9d1d3c70",
   "metadata": {
    "deletable": false,
    "editable": false,
    "id": "e7a14c31"
   },
   "source": [
    "**Задание 1. Импортируйте библиотеку pandas. Считайте данные из csv-файла в датафрейм и сохраните в переменную `data`. Путь к файлу:**\n",
    "\n",
    "`/datasets/data.csv`"
   ]
  },
  {
   "cell_type": "code",
   "execution_count": 1,
   "id": "4bad83f5",
   "metadata": {
    "deletable": false,
    "id": "7bcf75c9"
   },
   "outputs": [],
   "source": [
    "import pandas as pd\n",
    "\n",
    "try:\n",
    "    data = pd.read_csv('/datasets/data.csv')\n",
    "except:\n",
    "    data = pd.read_csv('https://code.s3.yandex.net/datasets/data.csv')"
   ]
  },
  {
   "cell_type": "markdown",
   "id": "fe4e30c6",
   "metadata": {
    "deletable": false,
    "editable": false,
    "id": "b8038fe3"
   },
   "source": [
    "**Задание 2. Выведите первые 20 строчек датафрейма `data` на экран.**"
   ]
  },
  {
   "cell_type": "code",
   "execution_count": 2,
   "id": "225762f2",
   "metadata": {
    "deletable": false,
    "id": "2a7cab99",
    "outputId": "1a8f3ef2-d323-4ec2-ddf7-89670b5944c4",
    "scrolled": true
   },
   "outputs": [
    {
     "data": {
      "text/html": [
       "<div>\n",
       "<style scoped>\n",
       "    .dataframe tbody tr th:only-of-type {\n",
       "        vertical-align: middle;\n",
       "    }\n",
       "\n",
       "    .dataframe tbody tr th {\n",
       "        vertical-align: top;\n",
       "    }\n",
       "\n",
       "    .dataframe thead th {\n",
       "        text-align: right;\n",
       "    }\n",
       "</style>\n",
       "<table border=\"1\" class=\"dataframe\">\n",
       "  <thead>\n",
       "    <tr style=\"text-align: right;\">\n",
       "      <th></th>\n",
       "      <th>children</th>\n",
       "      <th>days_employed</th>\n",
       "      <th>dob_years</th>\n",
       "      <th>education</th>\n",
       "      <th>education_id</th>\n",
       "      <th>family_status</th>\n",
       "      <th>family_status_id</th>\n",
       "      <th>gender</th>\n",
       "      <th>income_type</th>\n",
       "      <th>debt</th>\n",
       "      <th>total_income</th>\n",
       "      <th>purpose</th>\n",
       "    </tr>\n",
       "  </thead>\n",
       "  <tbody>\n",
       "    <tr>\n",
       "      <th>0</th>\n",
       "      <td>1</td>\n",
       "      <td>-8437.673028</td>\n",
       "      <td>42</td>\n",
       "      <td>высшее</td>\n",
       "      <td>0</td>\n",
       "      <td>женат / замужем</td>\n",
       "      <td>0</td>\n",
       "      <td>F</td>\n",
       "      <td>сотрудник</td>\n",
       "      <td>0</td>\n",
       "      <td>253875.639453</td>\n",
       "      <td>покупка жилья</td>\n",
       "    </tr>\n",
       "    <tr>\n",
       "      <th>1</th>\n",
       "      <td>1</td>\n",
       "      <td>-4024.803754</td>\n",
       "      <td>36</td>\n",
       "      <td>среднее</td>\n",
       "      <td>1</td>\n",
       "      <td>женат / замужем</td>\n",
       "      <td>0</td>\n",
       "      <td>F</td>\n",
       "      <td>сотрудник</td>\n",
       "      <td>0</td>\n",
       "      <td>112080.014102</td>\n",
       "      <td>приобретение автомобиля</td>\n",
       "    </tr>\n",
       "    <tr>\n",
       "      <th>2</th>\n",
       "      <td>0</td>\n",
       "      <td>-5623.422610</td>\n",
       "      <td>33</td>\n",
       "      <td>Среднее</td>\n",
       "      <td>1</td>\n",
       "      <td>женат / замужем</td>\n",
       "      <td>0</td>\n",
       "      <td>M</td>\n",
       "      <td>сотрудник</td>\n",
       "      <td>0</td>\n",
       "      <td>145885.952297</td>\n",
       "      <td>покупка жилья</td>\n",
       "    </tr>\n",
       "    <tr>\n",
       "      <th>3</th>\n",
       "      <td>3</td>\n",
       "      <td>-4124.747207</td>\n",
       "      <td>32</td>\n",
       "      <td>среднее</td>\n",
       "      <td>1</td>\n",
       "      <td>женат / замужем</td>\n",
       "      <td>0</td>\n",
       "      <td>M</td>\n",
       "      <td>сотрудник</td>\n",
       "      <td>0</td>\n",
       "      <td>267628.550329</td>\n",
       "      <td>дополнительное образование</td>\n",
       "    </tr>\n",
       "    <tr>\n",
       "      <th>4</th>\n",
       "      <td>0</td>\n",
       "      <td>340266.072047</td>\n",
       "      <td>53</td>\n",
       "      <td>среднее</td>\n",
       "      <td>1</td>\n",
       "      <td>гражданский брак</td>\n",
       "      <td>1</td>\n",
       "      <td>F</td>\n",
       "      <td>пенсионер</td>\n",
       "      <td>0</td>\n",
       "      <td>158616.077870</td>\n",
       "      <td>сыграть свадьбу</td>\n",
       "    </tr>\n",
       "    <tr>\n",
       "      <th>5</th>\n",
       "      <td>0</td>\n",
       "      <td>-926.185831</td>\n",
       "      <td>27</td>\n",
       "      <td>высшее</td>\n",
       "      <td>0</td>\n",
       "      <td>гражданский брак</td>\n",
       "      <td>1</td>\n",
       "      <td>M</td>\n",
       "      <td>компаньон</td>\n",
       "      <td>0</td>\n",
       "      <td>255763.565419</td>\n",
       "      <td>покупка жилья</td>\n",
       "    </tr>\n",
       "    <tr>\n",
       "      <th>6</th>\n",
       "      <td>0</td>\n",
       "      <td>-2879.202052</td>\n",
       "      <td>43</td>\n",
       "      <td>высшее</td>\n",
       "      <td>0</td>\n",
       "      <td>женат / замужем</td>\n",
       "      <td>0</td>\n",
       "      <td>F</td>\n",
       "      <td>компаньон</td>\n",
       "      <td>0</td>\n",
       "      <td>240525.971920</td>\n",
       "      <td>операции с жильем</td>\n",
       "    </tr>\n",
       "    <tr>\n",
       "      <th>7</th>\n",
       "      <td>0</td>\n",
       "      <td>-152.779569</td>\n",
       "      <td>50</td>\n",
       "      <td>СРЕДНЕЕ</td>\n",
       "      <td>1</td>\n",
       "      <td>женат / замужем</td>\n",
       "      <td>0</td>\n",
       "      <td>M</td>\n",
       "      <td>сотрудник</td>\n",
       "      <td>0</td>\n",
       "      <td>135823.934197</td>\n",
       "      <td>образование</td>\n",
       "    </tr>\n",
       "    <tr>\n",
       "      <th>8</th>\n",
       "      <td>2</td>\n",
       "      <td>-6929.865299</td>\n",
       "      <td>35</td>\n",
       "      <td>ВЫСШЕЕ</td>\n",
       "      <td>0</td>\n",
       "      <td>гражданский брак</td>\n",
       "      <td>1</td>\n",
       "      <td>F</td>\n",
       "      <td>сотрудник</td>\n",
       "      <td>0</td>\n",
       "      <td>95856.832424</td>\n",
       "      <td>на проведение свадьбы</td>\n",
       "    </tr>\n",
       "    <tr>\n",
       "      <th>9</th>\n",
       "      <td>0</td>\n",
       "      <td>-2188.756445</td>\n",
       "      <td>41</td>\n",
       "      <td>среднее</td>\n",
       "      <td>1</td>\n",
       "      <td>женат / замужем</td>\n",
       "      <td>0</td>\n",
       "      <td>M</td>\n",
       "      <td>сотрудник</td>\n",
       "      <td>0</td>\n",
       "      <td>144425.938277</td>\n",
       "      <td>покупка жилья для семьи</td>\n",
       "    </tr>\n",
       "    <tr>\n",
       "      <th>10</th>\n",
       "      <td>2</td>\n",
       "      <td>-4171.483647</td>\n",
       "      <td>36</td>\n",
       "      <td>высшее</td>\n",
       "      <td>0</td>\n",
       "      <td>женат / замужем</td>\n",
       "      <td>0</td>\n",
       "      <td>M</td>\n",
       "      <td>компаньон</td>\n",
       "      <td>0</td>\n",
       "      <td>113943.491460</td>\n",
       "      <td>покупка недвижимости</td>\n",
       "    </tr>\n",
       "    <tr>\n",
       "      <th>11</th>\n",
       "      <td>0</td>\n",
       "      <td>-792.701887</td>\n",
       "      <td>40</td>\n",
       "      <td>среднее</td>\n",
       "      <td>1</td>\n",
       "      <td>женат / замужем</td>\n",
       "      <td>0</td>\n",
       "      <td>F</td>\n",
       "      <td>сотрудник</td>\n",
       "      <td>0</td>\n",
       "      <td>77069.234271</td>\n",
       "      <td>покупка коммерческой недвижимости</td>\n",
       "    </tr>\n",
       "    <tr>\n",
       "      <th>12</th>\n",
       "      <td>0</td>\n",
       "      <td>NaN</td>\n",
       "      <td>65</td>\n",
       "      <td>среднее</td>\n",
       "      <td>1</td>\n",
       "      <td>гражданский брак</td>\n",
       "      <td>1</td>\n",
       "      <td>M</td>\n",
       "      <td>пенсионер</td>\n",
       "      <td>0</td>\n",
       "      <td>NaN</td>\n",
       "      <td>сыграть свадьбу</td>\n",
       "    </tr>\n",
       "    <tr>\n",
       "      <th>13</th>\n",
       "      <td>0</td>\n",
       "      <td>-1846.641941</td>\n",
       "      <td>54</td>\n",
       "      <td>неоконченное высшее</td>\n",
       "      <td>2</td>\n",
       "      <td>женат / замужем</td>\n",
       "      <td>0</td>\n",
       "      <td>F</td>\n",
       "      <td>сотрудник</td>\n",
       "      <td>0</td>\n",
       "      <td>130458.228857</td>\n",
       "      <td>приобретение автомобиля</td>\n",
       "    </tr>\n",
       "    <tr>\n",
       "      <th>14</th>\n",
       "      <td>0</td>\n",
       "      <td>-1844.956182</td>\n",
       "      <td>56</td>\n",
       "      <td>высшее</td>\n",
       "      <td>0</td>\n",
       "      <td>гражданский брак</td>\n",
       "      <td>1</td>\n",
       "      <td>F</td>\n",
       "      <td>компаньон</td>\n",
       "      <td>1</td>\n",
       "      <td>165127.911772</td>\n",
       "      <td>покупка жилой недвижимости</td>\n",
       "    </tr>\n",
       "    <tr>\n",
       "      <th>15</th>\n",
       "      <td>1</td>\n",
       "      <td>-972.364419</td>\n",
       "      <td>26</td>\n",
       "      <td>среднее</td>\n",
       "      <td>1</td>\n",
       "      <td>женат / замужем</td>\n",
       "      <td>0</td>\n",
       "      <td>F</td>\n",
       "      <td>сотрудник</td>\n",
       "      <td>0</td>\n",
       "      <td>116820.904450</td>\n",
       "      <td>строительство собственной недвижимости</td>\n",
       "    </tr>\n",
       "    <tr>\n",
       "      <th>16</th>\n",
       "      <td>0</td>\n",
       "      <td>-1719.934226</td>\n",
       "      <td>35</td>\n",
       "      <td>среднее</td>\n",
       "      <td>1</td>\n",
       "      <td>женат / замужем</td>\n",
       "      <td>0</td>\n",
       "      <td>F</td>\n",
       "      <td>сотрудник</td>\n",
       "      <td>0</td>\n",
       "      <td>289202.704229</td>\n",
       "      <td>недвижимость</td>\n",
       "    </tr>\n",
       "    <tr>\n",
       "      <th>17</th>\n",
       "      <td>0</td>\n",
       "      <td>-2369.999720</td>\n",
       "      <td>33</td>\n",
       "      <td>высшее</td>\n",
       "      <td>0</td>\n",
       "      <td>гражданский брак</td>\n",
       "      <td>1</td>\n",
       "      <td>M</td>\n",
       "      <td>сотрудник</td>\n",
       "      <td>0</td>\n",
       "      <td>90410.586745</td>\n",
       "      <td>строительство недвижимости</td>\n",
       "    </tr>\n",
       "    <tr>\n",
       "      <th>18</th>\n",
       "      <td>0</td>\n",
       "      <td>400281.136913</td>\n",
       "      <td>53</td>\n",
       "      <td>среднее</td>\n",
       "      <td>1</td>\n",
       "      <td>вдовец / вдова</td>\n",
       "      <td>2</td>\n",
       "      <td>F</td>\n",
       "      <td>пенсионер</td>\n",
       "      <td>0</td>\n",
       "      <td>56823.777243</td>\n",
       "      <td>на покупку подержанного автомобиля</td>\n",
       "    </tr>\n",
       "    <tr>\n",
       "      <th>19</th>\n",
       "      <td>0</td>\n",
       "      <td>-10038.818549</td>\n",
       "      <td>48</td>\n",
       "      <td>СРЕДНЕЕ</td>\n",
       "      <td>1</td>\n",
       "      <td>в разводе</td>\n",
       "      <td>3</td>\n",
       "      <td>F</td>\n",
       "      <td>сотрудник</td>\n",
       "      <td>0</td>\n",
       "      <td>242831.107982</td>\n",
       "      <td>на покупку своего автомобиля</td>\n",
       "    </tr>\n",
       "  </tbody>\n",
       "</table>\n",
       "</div>"
      ],
      "text/plain": [
       "    children  days_employed  dob_years            education  education_id  \\\n",
       "0          1   -8437.673028         42               высшее             0   \n",
       "1          1   -4024.803754         36              среднее             1   \n",
       "2          0   -5623.422610         33              Среднее             1   \n",
       "3          3   -4124.747207         32              среднее             1   \n",
       "4          0  340266.072047         53              среднее             1   \n",
       "5          0    -926.185831         27               высшее             0   \n",
       "6          0   -2879.202052         43               высшее             0   \n",
       "7          0    -152.779569         50              СРЕДНЕЕ             1   \n",
       "8          2   -6929.865299         35               ВЫСШЕЕ             0   \n",
       "9          0   -2188.756445         41              среднее             1   \n",
       "10         2   -4171.483647         36               высшее             0   \n",
       "11         0    -792.701887         40              среднее             1   \n",
       "12         0            NaN         65              среднее             1   \n",
       "13         0   -1846.641941         54  неоконченное высшее             2   \n",
       "14         0   -1844.956182         56               высшее             0   \n",
       "15         1    -972.364419         26              среднее             1   \n",
       "16         0   -1719.934226         35              среднее             1   \n",
       "17         0   -2369.999720         33               высшее             0   \n",
       "18         0  400281.136913         53              среднее             1   \n",
       "19         0  -10038.818549         48              СРЕДНЕЕ             1   \n",
       "\n",
       "       family_status  family_status_id gender income_type  debt  \\\n",
       "0    женат / замужем                 0      F   сотрудник     0   \n",
       "1    женат / замужем                 0      F   сотрудник     0   \n",
       "2    женат / замужем                 0      M   сотрудник     0   \n",
       "3    женат / замужем                 0      M   сотрудник     0   \n",
       "4   гражданский брак                 1      F   пенсионер     0   \n",
       "5   гражданский брак                 1      M   компаньон     0   \n",
       "6    женат / замужем                 0      F   компаньон     0   \n",
       "7    женат / замужем                 0      M   сотрудник     0   \n",
       "8   гражданский брак                 1      F   сотрудник     0   \n",
       "9    женат / замужем                 0      M   сотрудник     0   \n",
       "10   женат / замужем                 0      M   компаньон     0   \n",
       "11   женат / замужем                 0      F   сотрудник     0   \n",
       "12  гражданский брак                 1      M   пенсионер     0   \n",
       "13   женат / замужем                 0      F   сотрудник     0   \n",
       "14  гражданский брак                 1      F   компаньон     1   \n",
       "15   женат / замужем                 0      F   сотрудник     0   \n",
       "16   женат / замужем                 0      F   сотрудник     0   \n",
       "17  гражданский брак                 1      M   сотрудник     0   \n",
       "18    вдовец / вдова                 2      F   пенсионер     0   \n",
       "19         в разводе                 3      F   сотрудник     0   \n",
       "\n",
       "     total_income                                 purpose  \n",
       "0   253875.639453                           покупка жилья  \n",
       "1   112080.014102                 приобретение автомобиля  \n",
       "2   145885.952297                           покупка жилья  \n",
       "3   267628.550329              дополнительное образование  \n",
       "4   158616.077870                         сыграть свадьбу  \n",
       "5   255763.565419                           покупка жилья  \n",
       "6   240525.971920                       операции с жильем  \n",
       "7   135823.934197                             образование  \n",
       "8    95856.832424                   на проведение свадьбы  \n",
       "9   144425.938277                 покупка жилья для семьи  \n",
       "10  113943.491460                    покупка недвижимости  \n",
       "11   77069.234271       покупка коммерческой недвижимости  \n",
       "12            NaN                         сыграть свадьбу  \n",
       "13  130458.228857                 приобретение автомобиля  \n",
       "14  165127.911772              покупка жилой недвижимости  \n",
       "15  116820.904450  строительство собственной недвижимости  \n",
       "16  289202.704229                            недвижимость  \n",
       "17   90410.586745              строительство недвижимости  \n",
       "18   56823.777243      на покупку подержанного автомобиля  \n",
       "19  242831.107982            на покупку своего автомобиля  "
      ]
     },
     "execution_count": 2,
     "metadata": {},
     "output_type": "execute_result"
    }
   ],
   "source": [
    "data.head(20)"
   ]
  },
  {
   "cell_type": "markdown",
   "id": "db198f00",
   "metadata": {
    "deletable": false,
    "editable": false,
    "id": "1c12e233"
   },
   "source": [
    "**Задание 3. Выведите основную информацию о датафрейме с помощью метода `info()`.**"
   ]
  },
  {
   "cell_type": "code",
   "execution_count": 3,
   "id": "eda9da06",
   "metadata": {
    "deletable": false,
    "id": "2b757bca",
    "outputId": "15376089-8dad-46c9-b520-c05248d43158"
   },
   "outputs": [
    {
     "name": "stdout",
     "output_type": "stream",
     "text": [
      "<class 'pandas.core.frame.DataFrame'>\n",
      "RangeIndex: 21525 entries, 0 to 21524\n",
      "Data columns (total 12 columns):\n",
      " #   Column            Non-Null Count  Dtype  \n",
      "---  ------            --------------  -----  \n",
      " 0   children          21525 non-null  int64  \n",
      " 1   days_employed     19351 non-null  float64\n",
      " 2   dob_years         21525 non-null  int64  \n",
      " 3   education         21525 non-null  object \n",
      " 4   education_id      21525 non-null  int64  \n",
      " 5   family_status     21525 non-null  object \n",
      " 6   family_status_id  21525 non-null  int64  \n",
      " 7   gender            21525 non-null  object \n",
      " 8   income_type       21525 non-null  object \n",
      " 9   debt              21525 non-null  int64  \n",
      " 10  total_income      19351 non-null  float64\n",
      " 11  purpose           21525 non-null  object \n",
      "dtypes: float64(2), int64(5), object(5)\n",
      "memory usage: 2.0+ MB\n"
     ]
    }
   ],
   "source": [
    "data.info()"
   ]
  },
  {
   "cell_type": "markdown",
   "id": "1e7513d8",
   "metadata": {
    "deletable": false,
    "editable": false,
    "id": "333ec665"
   },
   "source": [
    "## Предобработка данных"
   ]
  },
  {
   "cell_type": "markdown",
   "id": "9929031d",
   "metadata": {
    "deletable": false,
    "editable": false,
    "id": "02d92d53"
   },
   "source": [
    "### Удаление пропусков"
   ]
  },
  {
   "cell_type": "markdown",
   "id": "296dbf33",
   "metadata": {
    "deletable": false,
    "editable": false,
    "id": "cd84967c"
   },
   "source": [
    "**Задание 4. Выведите количество пропущенных значений для каждого столбца. Используйте комбинацию двух методов.**"
   ]
  },
  {
   "cell_type": "code",
   "execution_count": 4,
   "id": "790357ed",
   "metadata": {
    "deletable": false,
    "id": "7f9b2309",
    "outputId": "81f4d817-781c-465c-ed15-91ce4446810d"
   },
   "outputs": [
    {
     "data": {
      "text/plain": [
       "children               0\n",
       "days_employed       2174\n",
       "dob_years              0\n",
       "education              0\n",
       "education_id           0\n",
       "family_status          0\n",
       "family_status_id       0\n",
       "gender                 0\n",
       "income_type            0\n",
       "debt                   0\n",
       "total_income        2174\n",
       "purpose                0\n",
       "dtype: int64"
      ]
     },
     "execution_count": 4,
     "metadata": {},
     "output_type": "execute_result"
    }
   ],
   "source": [
    "data.isna().sum()"
   ]
  },
  {
   "cell_type": "markdown",
   "id": "5b70a2ed",
   "metadata": {
    "deletable": false,
    "editable": false,
    "id": "db86e27b"
   },
   "source": [
    "**Задание 5. В двух столбцах есть пропущенные значения. Один из них — `days_employed`. Пропуски в этом столбце вы обработаете на следующем этапе. Другой столбец с пропущенными значениями — `total_income` — хранит данные о доходах. На сумму дохода сильнее всего влияет тип занятости, поэтому заполнить пропуски в этом столбце нужно медианным значением по каждому типу из столбца `income_type`. Например, у человека с типом занятости `сотрудник` пропуск в столбце `total_income` должен быть заполнен медианным доходом среди всех записей с тем же типом.**"
   ]
  },
  {
   "cell_type": "code",
   "execution_count": 5,
   "id": "39210f61",
   "metadata": {
    "deletable": false,
    "id": "42006a93",
    "scrolled": true
   },
   "outputs": [
    {
     "data": {
      "text/html": [
       "<div>\n",
       "<style scoped>\n",
       "    .dataframe tbody tr th:only-of-type {\n",
       "        vertical-align: middle;\n",
       "    }\n",
       "\n",
       "    .dataframe tbody tr th {\n",
       "        vertical-align: top;\n",
       "    }\n",
       "\n",
       "    .dataframe thead th {\n",
       "        text-align: right;\n",
       "    }\n",
       "</style>\n",
       "<table border=\"1\" class=\"dataframe\">\n",
       "  <thead>\n",
       "    <tr style=\"text-align: right;\">\n",
       "      <th></th>\n",
       "      <th>children</th>\n",
       "      <th>days_employed</th>\n",
       "      <th>dob_years</th>\n",
       "      <th>education</th>\n",
       "      <th>education_id</th>\n",
       "      <th>family_status</th>\n",
       "      <th>family_status_id</th>\n",
       "      <th>gender</th>\n",
       "      <th>income_type</th>\n",
       "      <th>debt</th>\n",
       "      <th>total_income</th>\n",
       "      <th>purpose</th>\n",
       "    </tr>\n",
       "  </thead>\n",
       "  <tbody>\n",
       "    <tr>\n",
       "      <th>0</th>\n",
       "      <td>1</td>\n",
       "      <td>-8437.673028</td>\n",
       "      <td>42</td>\n",
       "      <td>высшее</td>\n",
       "      <td>0</td>\n",
       "      <td>женат / замужем</td>\n",
       "      <td>0</td>\n",
       "      <td>F</td>\n",
       "      <td>сотрудник</td>\n",
       "      <td>0</td>\n",
       "      <td>253875.639453</td>\n",
       "      <td>покупка жилья</td>\n",
       "    </tr>\n",
       "    <tr>\n",
       "      <th>1</th>\n",
       "      <td>1</td>\n",
       "      <td>-4024.803754</td>\n",
       "      <td>36</td>\n",
       "      <td>среднее</td>\n",
       "      <td>1</td>\n",
       "      <td>женат / замужем</td>\n",
       "      <td>0</td>\n",
       "      <td>F</td>\n",
       "      <td>сотрудник</td>\n",
       "      <td>0</td>\n",
       "      <td>112080.014102</td>\n",
       "      <td>приобретение автомобиля</td>\n",
       "    </tr>\n",
       "    <tr>\n",
       "      <th>2</th>\n",
       "      <td>0</td>\n",
       "      <td>-5623.422610</td>\n",
       "      <td>33</td>\n",
       "      <td>Среднее</td>\n",
       "      <td>1</td>\n",
       "      <td>женат / замужем</td>\n",
       "      <td>0</td>\n",
       "      <td>M</td>\n",
       "      <td>сотрудник</td>\n",
       "      <td>0</td>\n",
       "      <td>145885.952297</td>\n",
       "      <td>покупка жилья</td>\n",
       "    </tr>\n",
       "    <tr>\n",
       "      <th>3</th>\n",
       "      <td>3</td>\n",
       "      <td>-4124.747207</td>\n",
       "      <td>32</td>\n",
       "      <td>среднее</td>\n",
       "      <td>1</td>\n",
       "      <td>женат / замужем</td>\n",
       "      <td>0</td>\n",
       "      <td>M</td>\n",
       "      <td>сотрудник</td>\n",
       "      <td>0</td>\n",
       "      <td>267628.550329</td>\n",
       "      <td>дополнительное образование</td>\n",
       "    </tr>\n",
       "    <tr>\n",
       "      <th>4</th>\n",
       "      <td>0</td>\n",
       "      <td>340266.072047</td>\n",
       "      <td>53</td>\n",
       "      <td>среднее</td>\n",
       "      <td>1</td>\n",
       "      <td>гражданский брак</td>\n",
       "      <td>1</td>\n",
       "      <td>F</td>\n",
       "      <td>пенсионер</td>\n",
       "      <td>0</td>\n",
       "      <td>158616.077870</td>\n",
       "      <td>сыграть свадьбу</td>\n",
       "    </tr>\n",
       "    <tr>\n",
       "      <th>5</th>\n",
       "      <td>0</td>\n",
       "      <td>-926.185831</td>\n",
       "      <td>27</td>\n",
       "      <td>высшее</td>\n",
       "      <td>0</td>\n",
       "      <td>гражданский брак</td>\n",
       "      <td>1</td>\n",
       "      <td>M</td>\n",
       "      <td>компаньон</td>\n",
       "      <td>0</td>\n",
       "      <td>255763.565419</td>\n",
       "      <td>покупка жилья</td>\n",
       "    </tr>\n",
       "    <tr>\n",
       "      <th>6</th>\n",
       "      <td>0</td>\n",
       "      <td>-2879.202052</td>\n",
       "      <td>43</td>\n",
       "      <td>высшее</td>\n",
       "      <td>0</td>\n",
       "      <td>женат / замужем</td>\n",
       "      <td>0</td>\n",
       "      <td>F</td>\n",
       "      <td>компаньон</td>\n",
       "      <td>0</td>\n",
       "      <td>240525.971920</td>\n",
       "      <td>операции с жильем</td>\n",
       "    </tr>\n",
       "    <tr>\n",
       "      <th>7</th>\n",
       "      <td>0</td>\n",
       "      <td>-152.779569</td>\n",
       "      <td>50</td>\n",
       "      <td>СРЕДНЕЕ</td>\n",
       "      <td>1</td>\n",
       "      <td>женат / замужем</td>\n",
       "      <td>0</td>\n",
       "      <td>M</td>\n",
       "      <td>сотрудник</td>\n",
       "      <td>0</td>\n",
       "      <td>135823.934197</td>\n",
       "      <td>образование</td>\n",
       "    </tr>\n",
       "    <tr>\n",
       "      <th>8</th>\n",
       "      <td>2</td>\n",
       "      <td>-6929.865299</td>\n",
       "      <td>35</td>\n",
       "      <td>ВЫСШЕЕ</td>\n",
       "      <td>0</td>\n",
       "      <td>гражданский брак</td>\n",
       "      <td>1</td>\n",
       "      <td>F</td>\n",
       "      <td>сотрудник</td>\n",
       "      <td>0</td>\n",
       "      <td>95856.832424</td>\n",
       "      <td>на проведение свадьбы</td>\n",
       "    </tr>\n",
       "    <tr>\n",
       "      <th>9</th>\n",
       "      <td>0</td>\n",
       "      <td>-2188.756445</td>\n",
       "      <td>41</td>\n",
       "      <td>среднее</td>\n",
       "      <td>1</td>\n",
       "      <td>женат / замужем</td>\n",
       "      <td>0</td>\n",
       "      <td>M</td>\n",
       "      <td>сотрудник</td>\n",
       "      <td>0</td>\n",
       "      <td>144425.938277</td>\n",
       "      <td>покупка жилья для семьи</td>\n",
       "    </tr>\n",
       "    <tr>\n",
       "      <th>10</th>\n",
       "      <td>2</td>\n",
       "      <td>-4171.483647</td>\n",
       "      <td>36</td>\n",
       "      <td>высшее</td>\n",
       "      <td>0</td>\n",
       "      <td>женат / замужем</td>\n",
       "      <td>0</td>\n",
       "      <td>M</td>\n",
       "      <td>компаньон</td>\n",
       "      <td>0</td>\n",
       "      <td>113943.491460</td>\n",
       "      <td>покупка недвижимости</td>\n",
       "    </tr>\n",
       "    <tr>\n",
       "      <th>11</th>\n",
       "      <td>0</td>\n",
       "      <td>-792.701887</td>\n",
       "      <td>40</td>\n",
       "      <td>среднее</td>\n",
       "      <td>1</td>\n",
       "      <td>женат / замужем</td>\n",
       "      <td>0</td>\n",
       "      <td>F</td>\n",
       "      <td>сотрудник</td>\n",
       "      <td>0</td>\n",
       "      <td>77069.234271</td>\n",
       "      <td>покупка коммерческой недвижимости</td>\n",
       "    </tr>\n",
       "    <tr>\n",
       "      <th>12</th>\n",
       "      <td>0</td>\n",
       "      <td>NaN</td>\n",
       "      <td>65</td>\n",
       "      <td>среднее</td>\n",
       "      <td>1</td>\n",
       "      <td>гражданский брак</td>\n",
       "      <td>1</td>\n",
       "      <td>M</td>\n",
       "      <td>пенсионер</td>\n",
       "      <td>0</td>\n",
       "      <td>118514.486412</td>\n",
       "      <td>сыграть свадьбу</td>\n",
       "    </tr>\n",
       "    <tr>\n",
       "      <th>13</th>\n",
       "      <td>0</td>\n",
       "      <td>-1846.641941</td>\n",
       "      <td>54</td>\n",
       "      <td>неоконченное высшее</td>\n",
       "      <td>2</td>\n",
       "      <td>женат / замужем</td>\n",
       "      <td>0</td>\n",
       "      <td>F</td>\n",
       "      <td>сотрудник</td>\n",
       "      <td>0</td>\n",
       "      <td>130458.228857</td>\n",
       "      <td>приобретение автомобиля</td>\n",
       "    </tr>\n",
       "  </tbody>\n",
       "</table>\n",
       "</div>"
      ],
      "text/plain": [
       "    children  days_employed  dob_years            education  education_id  \\\n",
       "0          1   -8437.673028         42               высшее             0   \n",
       "1          1   -4024.803754         36              среднее             1   \n",
       "2          0   -5623.422610         33              Среднее             1   \n",
       "3          3   -4124.747207         32              среднее             1   \n",
       "4          0  340266.072047         53              среднее             1   \n",
       "5          0    -926.185831         27               высшее             0   \n",
       "6          0   -2879.202052         43               высшее             0   \n",
       "7          0    -152.779569         50              СРЕДНЕЕ             1   \n",
       "8          2   -6929.865299         35               ВЫСШЕЕ             0   \n",
       "9          0   -2188.756445         41              среднее             1   \n",
       "10         2   -4171.483647         36               высшее             0   \n",
       "11         0    -792.701887         40              среднее             1   \n",
       "12         0            NaN         65              среднее             1   \n",
       "13         0   -1846.641941         54  неоконченное высшее             2   \n",
       "\n",
       "       family_status  family_status_id gender income_type  debt  \\\n",
       "0    женат / замужем                 0      F   сотрудник     0   \n",
       "1    женат / замужем                 0      F   сотрудник     0   \n",
       "2    женат / замужем                 0      M   сотрудник     0   \n",
       "3    женат / замужем                 0      M   сотрудник     0   \n",
       "4   гражданский брак                 1      F   пенсионер     0   \n",
       "5   гражданский брак                 1      M   компаньон     0   \n",
       "6    женат / замужем                 0      F   компаньон     0   \n",
       "7    женат / замужем                 0      M   сотрудник     0   \n",
       "8   гражданский брак                 1      F   сотрудник     0   \n",
       "9    женат / замужем                 0      M   сотрудник     0   \n",
       "10   женат / замужем                 0      M   компаньон     0   \n",
       "11   женат / замужем                 0      F   сотрудник     0   \n",
       "12  гражданский брак                 1      M   пенсионер     0   \n",
       "13   женат / замужем                 0      F   сотрудник     0   \n",
       "\n",
       "     total_income                            purpose  \n",
       "0   253875.639453                      покупка жилья  \n",
       "1   112080.014102            приобретение автомобиля  \n",
       "2   145885.952297                      покупка жилья  \n",
       "3   267628.550329         дополнительное образование  \n",
       "4   158616.077870                    сыграть свадьбу  \n",
       "5   255763.565419                      покупка жилья  \n",
       "6   240525.971920                  операции с жильем  \n",
       "7   135823.934197                        образование  \n",
       "8    95856.832424              на проведение свадьбы  \n",
       "9   144425.938277            покупка жилья для семьи  \n",
       "10  113943.491460               покупка недвижимости  \n",
       "11   77069.234271  покупка коммерческой недвижимости  \n",
       "12  118514.486412                    сыграть свадьбу  \n",
       "13  130458.228857            приобретение автомобиля  "
      ]
     },
     "execution_count": 5,
     "metadata": {},
     "output_type": "execute_result"
    }
   ],
   "source": [
    "for t in data['income_type'].unique():\n",
    "    data.loc[(data['income_type'] == t) & (data['total_income'].isna()), 'total_income'] = \\\n",
    "    data.loc[(data['income_type'] == t), 'total_income'].median()\n",
    "    \n",
    "data.head(14)"
   ]
  },
  {
   "cell_type": "markdown",
   "id": "385661e2",
   "metadata": {
    "deletable": false,
    "editable": false,
    "id": "89da5ece"
   },
   "source": [
    "### Обработка аномальных значений"
   ]
  },
  {
   "cell_type": "markdown",
   "id": "191b8935",
   "metadata": {
    "deletable": false,
    "editable": false,
    "id": "57964554"
   },
   "source": [
    "**Задание 6. В данных могут встречаться артефакты (аномалии) — значения, которые не отражают действительность и появились по какой-то ошибке. таким артефактом будет отрицательное количество дней трудового стажа в столбце `days_employed`. Для реальных данных это нормально. Обработайте значения в этом столбце: замените все отрицательные значения положительными с помощью метода `abs()`.**"
   ]
  },
  {
   "cell_type": "code",
   "execution_count": 6,
   "id": "e8cb811b",
   "metadata": {
    "deletable": false,
    "id": "f6f055bf"
   },
   "outputs": [],
   "source": [
    "data['days_employed'] = data['days_employed'].abs()"
   ]
  },
  {
   "cell_type": "markdown",
   "id": "c9ef00a5",
   "metadata": {
    "deletable": false,
    "editable": false,
    "id": "6107dd2f"
   },
   "source": [
    "**Задание 7. Для каждого типа занятости выведите медианное значение трудового стажа `days_employed` в днях.**"
   ]
  },
  {
   "cell_type": "code",
   "execution_count": 7,
   "id": "fe39a6c3",
   "metadata": {
    "deletable": false,
    "id": "85a5faf6",
    "outputId": "801ef80e-522b-4668-f34e-565af7432bcf"
   },
   "outputs": [
    {
     "data": {
      "text/plain": [
       "income_type\n",
       "безработный        366413.652744\n",
       "в декрете            3296.759962\n",
       "госслужащий          2689.368353\n",
       "компаньон            1547.382223\n",
       "пенсионер          365213.306266\n",
       "предприниматель       520.848083\n",
       "сотрудник            1574.202821\n",
       "студент               578.751554\n",
       "Name: days_employed, dtype: float64"
      ]
     },
     "execution_count": 7,
     "metadata": {},
     "output_type": "execute_result"
    }
   ],
   "source": [
    "data.groupby('income_type')['days_employed'].agg('median')"
   ]
  },
  {
   "cell_type": "markdown",
   "id": "e2c6b30b",
   "metadata": {
    "deletable": false,
    "editable": false,
    "id": "38d1a030"
   },
   "source": [
    "У двух типов (безработные и пенсионеры) получатся аномально большие значения. Исправить такие значения сложно, поэтому оставьте их как есть. Тем более этот столбец не понадобится вам для исследования."
   ]
  },
  {
   "cell_type": "markdown",
   "id": "40419e45",
   "metadata": {
    "deletable": false,
    "editable": false,
    "id": "d8a9f147"
   },
   "source": [
    "**Задание 8. Выведите перечень уникальных значений столбца `children`.**"
   ]
  },
  {
   "cell_type": "code",
   "execution_count": 8,
   "id": "529a124d",
   "metadata": {
    "deletable": false,
    "id": "ef5056eb",
    "outputId": "6975b15c-7f95-4697-d16d-a0c79b657b03"
   },
   "outputs": [
    {
     "data": {
      "text/plain": [
       "array([ 1,  0,  3,  2, -1,  4, 20,  5])"
      ]
     },
     "execution_count": 8,
     "metadata": {},
     "output_type": "execute_result"
    }
   ],
   "source": [
    "data['children'].unique()"
   ]
  },
  {
   "cell_type": "markdown",
   "id": "384c00a2",
   "metadata": {
    "deletable": false,
    "editable": false,
    "id": "40b9ebf2"
   },
   "source": [
    "**Задание 9. В столбце `children` есть два аномальных значения. Удалите строки, в которых встречаются такие аномальные значения из датафрейма `data`.**"
   ]
  },
  {
   "cell_type": "code",
   "execution_count": 9,
   "id": "937cfd11",
   "metadata": {
    "deletable": false,
    "id": "3ff9801d"
   },
   "outputs": [],
   "source": [
    "data = data[(data['children'] != -1) & (data['children'] != 20)]"
   ]
  },
  {
   "cell_type": "markdown",
   "id": "63eaf734",
   "metadata": {
    "deletable": false,
    "editable": false,
    "id": "bbc4d0ce"
   },
   "source": [
    "**Задание 10. Ещё раз выведите перечень уникальных значений столбца `children`, чтобы убедиться, что артефакты удалены.**"
   ]
  },
  {
   "cell_type": "code",
   "execution_count": 10,
   "id": "6aa26e43",
   "metadata": {
    "deletable": false,
    "id": "ad4fa8b7",
    "outputId": "b2097101-d49d-44d9-901b-32a65c9463d1"
   },
   "outputs": [
    {
     "data": {
      "text/plain": [
       "array([1, 0, 3, 2, 4, 5])"
      ]
     },
     "execution_count": 10,
     "metadata": {},
     "output_type": "execute_result"
    }
   ],
   "source": [
    "data['children'].unique()"
   ]
  },
  {
   "cell_type": "markdown",
   "id": "362ff48e",
   "metadata": {
    "deletable": false,
    "editable": false,
    "id": "75440b63"
   },
   "source": [
    "### Удаление пропусков (продолжение)"
   ]
  },
  {
   "cell_type": "markdown",
   "id": "80adf982",
   "metadata": {
    "deletable": false,
    "editable": false,
    "id": "f4ea573f"
   },
   "source": [
    "**Задание 11. Заполните пропуски в столбце `days_employed` медианными значениями по каждого типа занятости `income_type`.**"
   ]
  },
  {
   "cell_type": "code",
   "execution_count": 11,
   "id": "82ecb3f0",
   "metadata": {
    "deletable": false,
    "id": "af6b1a7e"
   },
   "outputs": [],
   "source": [
    "for t in data['income_type'].unique():\n",
    "    data.loc[(data['income_type'] == t) & (data['days_employed'].isna()), 'days_employed'] = \\\n",
    "    data.loc[(data['income_type'] == t), 'days_employed'].median()"
   ]
  },
  {
   "cell_type": "markdown",
   "id": "3f599259",
   "metadata": {
    "deletable": false,
    "editable": false,
    "id": "2753f40d"
   },
   "source": [
    "**Задание 12. Убедитесь, что все пропуски заполнены. Проверьте себя и ещё раз выведите количество пропущенных значений для каждого столбца с помощью двух методов.**"
   ]
  },
  {
   "cell_type": "code",
   "execution_count": 12,
   "id": "2f154418",
   "metadata": {
    "deletable": false,
    "id": "55f78bc2",
    "outputId": "8da1e4e1-358e-4e87-98c9-f261bce0a7b2"
   },
   "outputs": [
    {
     "data": {
      "text/plain": [
       "children            0\n",
       "days_employed       0\n",
       "dob_years           0\n",
       "education           0\n",
       "education_id        0\n",
       "family_status       0\n",
       "family_status_id    0\n",
       "gender              0\n",
       "income_type         0\n",
       "debt                0\n",
       "total_income        0\n",
       "purpose             0\n",
       "dtype: int64"
      ]
     },
     "execution_count": 12,
     "metadata": {},
     "output_type": "execute_result"
    }
   ],
   "source": [
    "data.isna().sum()"
   ]
  },
  {
   "cell_type": "markdown",
   "id": "3b78258f",
   "metadata": {
    "deletable": false,
    "editable": false,
    "id": "ddc81e43"
   },
   "source": [
    "### Изменение типов данных"
   ]
  },
  {
   "cell_type": "markdown",
   "id": "3901bfc6",
   "metadata": {
    "deletable": false,
    "editable": false,
    "id": "42d19d24"
   },
   "source": [
    "**Задание 13. Замените вещественный тип данных в столбце `total_income` на целочисленный с помощью метода `astype()`.**"
   ]
  },
  {
   "cell_type": "code",
   "execution_count": 13,
   "id": "9358ab4c",
   "metadata": {
    "deletable": false,
    "id": "920b65ad"
   },
   "outputs": [],
   "source": [
    "data['total_income'] = data['total_income'].astype(int)"
   ]
  },
  {
   "cell_type": "markdown",
   "id": "43142395",
   "metadata": {
    "deletable": false,
    "editable": false,
    "id": "80c420ba"
   },
   "source": [
    "### Обработка дубликатов"
   ]
  },
  {
   "cell_type": "markdown",
   "id": "f6c679bb",
   "metadata": {
    "deletable": false,
    "editable": false
   },
   "source": [
    "**Задание 14. Обработайте неявные дубликаты в столбце `education`. В этом столбце есть одни и те же значения, но записанные по-разному: с использованием заглавных и строчных букв. Приведите их к нижнему регистру. Проверьте остальные столбцы.**"
   ]
  },
  {
   "cell_type": "code",
   "execution_count": 14,
   "id": "a1a41619",
   "metadata": {
    "deletable": false
   },
   "outputs": [],
   "source": [
    "data['education'] = data['education'].str.lower()"
   ]
  },
  {
   "cell_type": "markdown",
   "id": "2ca8de63",
   "metadata": {
    "deletable": false,
    "editable": false,
    "id": "dc587695"
   },
   "source": [
    "**Задание 15. Выведите на экран количество строк-дубликатов в данных. Если такие строки присутствуют, удалите их.**"
   ]
  },
  {
   "cell_type": "code",
   "execution_count": 15,
   "id": "4ccefe85",
   "metadata": {
    "deletable": false,
    "id": "3ee445e4",
    "outputId": "9684deba-1934-42d1-99e1-cda61740f822"
   },
   "outputs": [
    {
     "data": {
      "text/plain": [
       "71"
      ]
     },
     "execution_count": 15,
     "metadata": {},
     "output_type": "execute_result"
    }
   ],
   "source": [
    "data.duplicated().sum()"
   ]
  },
  {
   "cell_type": "code",
   "execution_count": 16,
   "id": "29d887e8",
   "metadata": {
    "deletable": false,
    "id": "8575fe05"
   },
   "outputs": [],
   "source": [
    "data = data.drop_duplicates()"
   ]
  },
  {
   "cell_type": "markdown",
   "id": "727c60d8",
   "metadata": {
    "deletable": false,
    "editable": false,
    "id": "9904cf55"
   },
   "source": [
    "### Категоризация данных"
   ]
  },
  {
   "cell_type": "markdown",
   "id": "b072390f",
   "metadata": {
    "deletable": false,
    "editable": false,
    "id": "72fcc8a2"
   },
   "source": [
    "**Задание 16. На основании диапазонов, указанных ниже, создайте в датафрейме `data` столбец `total_income_category` с категориями:**\n",
    "\n",
    "- 0–30000 — `'E'`;\n",
    "- 30001–50000 — `'D'`;\n",
    "- 50001–200000 — `'C'`;\n",
    "- 200001–1000000 — `'B'`;\n",
    "- 1000001 и выше — `'A'`.\n",
    "\n",
    "\n",
    "**Например, кредитополучателю с доходом 25000 нужно назначить категорию `'E'`, а клиенту, получающему 235000, — `'B'`. Используйте собственную функцию с именем `categorize_income()` и метод `apply()`.**"
   ]
  },
  {
   "cell_type": "code",
   "execution_count": 17,
   "id": "0f169c23",
   "metadata": {
    "deletable": false,
    "id": "e1771346"
   },
   "outputs": [],
   "source": [
    "def categorize_income(income):\n",
    "    try:\n",
    "        if 0 <= income <= 30000:\n",
    "            return 'E'\n",
    "        elif 30001 <= income <= 50000:\n",
    "            return 'D'\n",
    "        elif 50001 <= income <= 200000:\n",
    "            return 'C'\n",
    "        elif 200001 <= income <= 1000000:\n",
    "            return 'B'\n",
    "        elif income >= 1000001:\n",
    "            return 'A'\n",
    "    except:\n",
    "        pass"
   ]
  },
  {
   "cell_type": "code",
   "execution_count": 18,
   "id": "e2fea31a",
   "metadata": {
    "deletable": false,
    "id": "d5f3586d"
   },
   "outputs": [],
   "source": [
    "data['total_income_category'] = data['total_income'].apply(categorize_income)"
   ]
  },
  {
   "cell_type": "markdown",
   "id": "35821e9f",
   "metadata": {
    "deletable": false,
    "editable": false,
    "id": "dde49b5c"
   },
   "source": [
    "**Задание 17. Выведите на экран перечень уникальных целей взятия кредита из столбца `purpose`.**"
   ]
  },
  {
   "cell_type": "code",
   "execution_count": 19,
   "id": "ab546a21",
   "metadata": {
    "deletable": false,
    "id": "f67ce9b3",
    "outputId": "673c12d9-7d7e-4ae0-9812-c622c89dd244"
   },
   "outputs": [
    {
     "data": {
      "text/plain": [
       "array(['покупка жилья', 'приобретение автомобиля',\n",
       "       'дополнительное образование', 'сыграть свадьбу',\n",
       "       'операции с жильем', 'образование', 'на проведение свадьбы',\n",
       "       'покупка жилья для семьи', 'покупка недвижимости',\n",
       "       'покупка коммерческой недвижимости', 'покупка жилой недвижимости',\n",
       "       'строительство собственной недвижимости', 'недвижимость',\n",
       "       'строительство недвижимости', 'на покупку подержанного автомобиля',\n",
       "       'на покупку своего автомобиля',\n",
       "       'операции с коммерческой недвижимостью',\n",
       "       'строительство жилой недвижимости', 'жилье',\n",
       "       'операции со своей недвижимостью', 'автомобили',\n",
       "       'заняться образованием', 'сделка с подержанным автомобилем',\n",
       "       'получение образования', 'автомобиль', 'свадьба',\n",
       "       'получение дополнительного образования', 'покупка своего жилья',\n",
       "       'операции с недвижимостью', 'получение высшего образования',\n",
       "       'свой автомобиль', 'сделка с автомобилем',\n",
       "       'профильное образование', 'высшее образование',\n",
       "       'покупка жилья для сдачи', 'на покупку автомобиля', 'ремонт жилью',\n",
       "       'заняться высшим образованием'], dtype=object)"
      ]
     },
     "execution_count": 19,
     "metadata": {},
     "output_type": "execute_result"
    }
   ],
   "source": [
    "data['purpose'].unique()"
   ]
  },
  {
   "cell_type": "markdown",
   "id": "06267bfa",
   "metadata": {
    "deletable": false,
    "editable": false,
    "id": "85d0aef0"
   },
   "source": [
    "**Задание 18. Создайте функцию, которая на основании данных из столбца `purpose` сформирует новый столбец `purpose_category`, в который войдут следующие категории:**\n",
    "\n",
    "- `'операции с автомобилем'`,\n",
    "- `'операции с недвижимостью'`,\n",
    "- `'проведение свадьбы'`,\n",
    "- `'получение образования'`.\n",
    "\n",
    "**Например, если в столбце `purpose` находится подстрока `'на покупку автомобиля'`, то в столбце `purpose_category` должна появиться строка `'операции с автомобилем'`.**\n",
    "\n",
    "**Используйте собственную функцию с именем `categorize_purpose()` и метод `apply()`. Изучите данные в столбце `purpose` и определите, какие подстроки помогут вам правильно определить категорию.**"
   ]
  },
  {
   "cell_type": "code",
   "execution_count": 20,
   "id": "01746ec3",
   "metadata": {
    "deletable": false,
    "id": "e149fab4"
   },
   "outputs": [],
   "source": [
    "def categorize_purpose(row):\n",
    "    try:\n",
    "        if 'автом' in row:\n",
    "            return 'операции с автомобилем'\n",
    "        elif 'жил' in row or 'недвиж' in row:\n",
    "            return 'операции с недвижимостью'\n",
    "        elif 'свад' in row:\n",
    "            return 'проведение свадьбы'\n",
    "        elif 'образов' in row:\n",
    "            return 'получение образования'\n",
    "    except:\n",
    "        return 'нет категории'"
   ]
  },
  {
   "cell_type": "code",
   "execution_count": 21,
   "id": "e279a94d",
   "metadata": {
    "deletable": false,
    "id": "bf36e69b",
    "scrolled": true
   },
   "outputs": [
    {
     "data": {
      "text/html": [
       "<div>\n",
       "<style scoped>\n",
       "    .dataframe tbody tr th:only-of-type {\n",
       "        vertical-align: middle;\n",
       "    }\n",
       "\n",
       "    .dataframe tbody tr th {\n",
       "        vertical-align: top;\n",
       "    }\n",
       "\n",
       "    .dataframe thead th {\n",
       "        text-align: right;\n",
       "    }\n",
       "</style>\n",
       "<table border=\"1\" class=\"dataframe\">\n",
       "  <thead>\n",
       "    <tr style=\"text-align: right;\">\n",
       "      <th></th>\n",
       "      <th>children</th>\n",
       "      <th>days_employed</th>\n",
       "      <th>dob_years</th>\n",
       "      <th>education</th>\n",
       "      <th>education_id</th>\n",
       "      <th>family_status</th>\n",
       "      <th>family_status_id</th>\n",
       "      <th>gender</th>\n",
       "      <th>income_type</th>\n",
       "      <th>debt</th>\n",
       "      <th>total_income</th>\n",
       "      <th>purpose</th>\n",
       "      <th>total_income_category</th>\n",
       "      <th>purpose_category</th>\n",
       "    </tr>\n",
       "  </thead>\n",
       "  <tbody>\n",
       "    <tr>\n",
       "      <th>0</th>\n",
       "      <td>1</td>\n",
       "      <td>8437.673028</td>\n",
       "      <td>42</td>\n",
       "      <td>высшее</td>\n",
       "      <td>0</td>\n",
       "      <td>женат / замужем</td>\n",
       "      <td>0</td>\n",
       "      <td>F</td>\n",
       "      <td>сотрудник</td>\n",
       "      <td>0</td>\n",
       "      <td>253875</td>\n",
       "      <td>покупка жилья</td>\n",
       "      <td>B</td>\n",
       "      <td>операции с недвижимостью</td>\n",
       "    </tr>\n",
       "    <tr>\n",
       "      <th>1</th>\n",
       "      <td>1</td>\n",
       "      <td>4024.803754</td>\n",
       "      <td>36</td>\n",
       "      <td>среднее</td>\n",
       "      <td>1</td>\n",
       "      <td>женат / замужем</td>\n",
       "      <td>0</td>\n",
       "      <td>F</td>\n",
       "      <td>сотрудник</td>\n",
       "      <td>0</td>\n",
       "      <td>112080</td>\n",
       "      <td>приобретение автомобиля</td>\n",
       "      <td>C</td>\n",
       "      <td>операции с автомобилем</td>\n",
       "    </tr>\n",
       "    <tr>\n",
       "      <th>2</th>\n",
       "      <td>0</td>\n",
       "      <td>5623.422610</td>\n",
       "      <td>33</td>\n",
       "      <td>среднее</td>\n",
       "      <td>1</td>\n",
       "      <td>женат / замужем</td>\n",
       "      <td>0</td>\n",
       "      <td>M</td>\n",
       "      <td>сотрудник</td>\n",
       "      <td>0</td>\n",
       "      <td>145885</td>\n",
       "      <td>покупка жилья</td>\n",
       "      <td>C</td>\n",
       "      <td>операции с недвижимостью</td>\n",
       "    </tr>\n",
       "    <tr>\n",
       "      <th>3</th>\n",
       "      <td>3</td>\n",
       "      <td>4124.747207</td>\n",
       "      <td>32</td>\n",
       "      <td>среднее</td>\n",
       "      <td>1</td>\n",
       "      <td>женат / замужем</td>\n",
       "      <td>0</td>\n",
       "      <td>M</td>\n",
       "      <td>сотрудник</td>\n",
       "      <td>0</td>\n",
       "      <td>267628</td>\n",
       "      <td>дополнительное образование</td>\n",
       "      <td>B</td>\n",
       "      <td>получение образования</td>\n",
       "    </tr>\n",
       "    <tr>\n",
       "      <th>4</th>\n",
       "      <td>0</td>\n",
       "      <td>340266.072047</td>\n",
       "      <td>53</td>\n",
       "      <td>среднее</td>\n",
       "      <td>1</td>\n",
       "      <td>гражданский брак</td>\n",
       "      <td>1</td>\n",
       "      <td>F</td>\n",
       "      <td>пенсионер</td>\n",
       "      <td>0</td>\n",
       "      <td>158616</td>\n",
       "      <td>сыграть свадьбу</td>\n",
       "      <td>C</td>\n",
       "      <td>проведение свадьбы</td>\n",
       "    </tr>\n",
       "    <tr>\n",
       "      <th>...</th>\n",
       "      <td>...</td>\n",
       "      <td>...</td>\n",
       "      <td>...</td>\n",
       "      <td>...</td>\n",
       "      <td>...</td>\n",
       "      <td>...</td>\n",
       "      <td>...</td>\n",
       "      <td>...</td>\n",
       "      <td>...</td>\n",
       "      <td>...</td>\n",
       "      <td>...</td>\n",
       "      <td>...</td>\n",
       "      <td>...</td>\n",
       "      <td>...</td>\n",
       "    </tr>\n",
       "    <tr>\n",
       "      <th>21520</th>\n",
       "      <td>1</td>\n",
       "      <td>4529.316663</td>\n",
       "      <td>43</td>\n",
       "      <td>среднее</td>\n",
       "      <td>1</td>\n",
       "      <td>гражданский брак</td>\n",
       "      <td>1</td>\n",
       "      <td>F</td>\n",
       "      <td>компаньон</td>\n",
       "      <td>0</td>\n",
       "      <td>224791</td>\n",
       "      <td>операции с жильем</td>\n",
       "      <td>B</td>\n",
       "      <td>операции с недвижимостью</td>\n",
       "    </tr>\n",
       "    <tr>\n",
       "      <th>21521</th>\n",
       "      <td>0</td>\n",
       "      <td>343937.404131</td>\n",
       "      <td>67</td>\n",
       "      <td>среднее</td>\n",
       "      <td>1</td>\n",
       "      <td>женат / замужем</td>\n",
       "      <td>0</td>\n",
       "      <td>F</td>\n",
       "      <td>пенсионер</td>\n",
       "      <td>0</td>\n",
       "      <td>155999</td>\n",
       "      <td>сделка с автомобилем</td>\n",
       "      <td>C</td>\n",
       "      <td>операции с автомобилем</td>\n",
       "    </tr>\n",
       "    <tr>\n",
       "      <th>21522</th>\n",
       "      <td>1</td>\n",
       "      <td>2113.346888</td>\n",
       "      <td>38</td>\n",
       "      <td>среднее</td>\n",
       "      <td>1</td>\n",
       "      <td>гражданский брак</td>\n",
       "      <td>1</td>\n",
       "      <td>M</td>\n",
       "      <td>сотрудник</td>\n",
       "      <td>1</td>\n",
       "      <td>89672</td>\n",
       "      <td>недвижимость</td>\n",
       "      <td>C</td>\n",
       "      <td>операции с недвижимостью</td>\n",
       "    </tr>\n",
       "    <tr>\n",
       "      <th>21523</th>\n",
       "      <td>3</td>\n",
       "      <td>3112.481705</td>\n",
       "      <td>38</td>\n",
       "      <td>среднее</td>\n",
       "      <td>1</td>\n",
       "      <td>женат / замужем</td>\n",
       "      <td>0</td>\n",
       "      <td>M</td>\n",
       "      <td>сотрудник</td>\n",
       "      <td>1</td>\n",
       "      <td>244093</td>\n",
       "      <td>на покупку своего автомобиля</td>\n",
       "      <td>B</td>\n",
       "      <td>операции с автомобилем</td>\n",
       "    </tr>\n",
       "    <tr>\n",
       "      <th>21524</th>\n",
       "      <td>2</td>\n",
       "      <td>1984.507589</td>\n",
       "      <td>40</td>\n",
       "      <td>среднее</td>\n",
       "      <td>1</td>\n",
       "      <td>женат / замужем</td>\n",
       "      <td>0</td>\n",
       "      <td>F</td>\n",
       "      <td>сотрудник</td>\n",
       "      <td>0</td>\n",
       "      <td>82047</td>\n",
       "      <td>на покупку автомобиля</td>\n",
       "      <td>C</td>\n",
       "      <td>операции с автомобилем</td>\n",
       "    </tr>\n",
       "  </tbody>\n",
       "</table>\n",
       "<p>21331 rows × 14 columns</p>\n",
       "</div>"
      ],
      "text/plain": [
       "       children  days_employed  dob_years education  education_id  \\\n",
       "0             1    8437.673028         42    высшее             0   \n",
       "1             1    4024.803754         36   среднее             1   \n",
       "2             0    5623.422610         33   среднее             1   \n",
       "3             3    4124.747207         32   среднее             1   \n",
       "4             0  340266.072047         53   среднее             1   \n",
       "...         ...            ...        ...       ...           ...   \n",
       "21520         1    4529.316663         43   среднее             1   \n",
       "21521         0  343937.404131         67   среднее             1   \n",
       "21522         1    2113.346888         38   среднее             1   \n",
       "21523         3    3112.481705         38   среднее             1   \n",
       "21524         2    1984.507589         40   среднее             1   \n",
       "\n",
       "          family_status  family_status_id gender income_type  debt  \\\n",
       "0       женат / замужем                 0      F   сотрудник     0   \n",
       "1       женат / замужем                 0      F   сотрудник     0   \n",
       "2       женат / замужем                 0      M   сотрудник     0   \n",
       "3       женат / замужем                 0      M   сотрудник     0   \n",
       "4      гражданский брак                 1      F   пенсионер     0   \n",
       "...                 ...               ...    ...         ...   ...   \n",
       "21520  гражданский брак                 1      F   компаньон     0   \n",
       "21521   женат / замужем                 0      F   пенсионер     0   \n",
       "21522  гражданский брак                 1      M   сотрудник     1   \n",
       "21523   женат / замужем                 0      M   сотрудник     1   \n",
       "21524   женат / замужем                 0      F   сотрудник     0   \n",
       "\n",
       "       total_income                       purpose total_income_category  \\\n",
       "0            253875                 покупка жилья                     B   \n",
       "1            112080       приобретение автомобиля                     C   \n",
       "2            145885                 покупка жилья                     C   \n",
       "3            267628    дополнительное образование                     B   \n",
       "4            158616               сыграть свадьбу                     C   \n",
       "...             ...                           ...                   ...   \n",
       "21520        224791             операции с жильем                     B   \n",
       "21521        155999          сделка с автомобилем                     C   \n",
       "21522         89672                  недвижимость                     C   \n",
       "21523        244093  на покупку своего автомобиля                     B   \n",
       "21524         82047         на покупку автомобиля                     C   \n",
       "\n",
       "               purpose_category  \n",
       "0      операции с недвижимостью  \n",
       "1        операции с автомобилем  \n",
       "2      операции с недвижимостью  \n",
       "3         получение образования  \n",
       "4            проведение свадьбы  \n",
       "...                         ...  \n",
       "21520  операции с недвижимостью  \n",
       "21521    операции с автомобилем  \n",
       "21522  операции с недвижимостью  \n",
       "21523    операции с автомобилем  \n",
       "21524    операции с автомобилем  \n",
       "\n",
       "[21331 rows x 14 columns]"
      ]
     },
     "execution_count": 21,
     "metadata": {},
     "output_type": "execute_result"
    }
   ],
   "source": [
    "data['purpose_category'] = data['purpose'].apply(categorize_purpose)\n",
    "data"
   ]
  },
  {
   "cell_type": "markdown",
   "id": "98c7be21",
   "metadata": {},
   "source": [
    "<div id='link'></div> "
   ]
  },
  {
   "cell_type": "markdown",
   "id": "825abf86",
   "metadata": {
    "deletable": false,
    "editable": false,
    "id": "09b242bf"
   },
   "source": [
    "### Шаг 3. Исследуйте данные и ответьте на вопросы"
   ]
  },
  {
   "cell_type": "markdown",
   "id": "2a62e3c9",
   "metadata": {
    "deletable": false,
    "editable": false,
    "id": "c5d66278"
   },
   "source": [
    "#### 3.1 Есть ли зависимость между количеством детей и возвратом кредита в срок?"
   ]
  },
  {
   "cell_type": "code",
   "execution_count": 22,
   "id": "82137fdd",
   "metadata": {
    "deletable": false,
    "id": "2cacfc4a",
    "scrolled": false
   },
   "outputs": [
    {
     "data": {
      "text/html": [
       "<div>\n",
       "<style scoped>\n",
       "    .dataframe tbody tr th:only-of-type {\n",
       "        vertical-align: middle;\n",
       "    }\n",
       "\n",
       "    .dataframe tbody tr th {\n",
       "        vertical-align: top;\n",
       "    }\n",
       "\n",
       "    .dataframe thead th {\n",
       "        text-align: right;\n",
       "    }\n",
       "</style>\n",
       "<table border=\"1\" class=\"dataframe\">\n",
       "  <thead>\n",
       "    <tr style=\"text-align: right;\">\n",
       "      <th></th>\n",
       "      <th>Количество детей</th>\n",
       "      <th>Количество должников</th>\n",
       "      <th>Количество клиентов</th>\n",
       "      <th>Доля невозврата</th>\n",
       "    </tr>\n",
       "  </thead>\n",
       "  <tbody>\n",
       "    <tr>\n",
       "      <th>0</th>\n",
       "      <td>0</td>\n",
       "      <td>1063</td>\n",
       "      <td>14091</td>\n",
       "      <td>7.543822</td>\n",
       "    </tr>\n",
       "    <tr>\n",
       "      <th>1</th>\n",
       "      <td>1</td>\n",
       "      <td>444</td>\n",
       "      <td>4808</td>\n",
       "      <td>9.234609</td>\n",
       "    </tr>\n",
       "    <tr>\n",
       "      <th>2</th>\n",
       "      <td>2</td>\n",
       "      <td>194</td>\n",
       "      <td>2052</td>\n",
       "      <td>9.454191</td>\n",
       "    </tr>\n",
       "    <tr>\n",
       "      <th>3</th>\n",
       "      <td>3</td>\n",
       "      <td>27</td>\n",
       "      <td>330</td>\n",
       "      <td>8.181818</td>\n",
       "    </tr>\n",
       "    <tr>\n",
       "      <th>4</th>\n",
       "      <td>4</td>\n",
       "      <td>4</td>\n",
       "      <td>41</td>\n",
       "      <td>9.756098</td>\n",
       "    </tr>\n",
       "    <tr>\n",
       "      <th>5</th>\n",
       "      <td>5</td>\n",
       "      <td>0</td>\n",
       "      <td>9</td>\n",
       "      <td>0.000000</td>\n",
       "    </tr>\n",
       "  </tbody>\n",
       "</table>\n",
       "</div>"
      ],
      "text/plain": [
       "   Количество детей  Количество должников  Количество клиентов  \\\n",
       "0                 0                  1063                14091   \n",
       "1                 1                   444                 4808   \n",
       "2                 2                   194                 2052   \n",
       "3                 3                    27                  330   \n",
       "4                 4                     4                   41   \n",
       "5                 5                     0                    9   \n",
       "\n",
       "   Доля невозврата  \n",
       "0         7.543822  \n",
       "1         9.234609  \n",
       "2         9.454191  \n",
       "3         8.181818  \n",
       "4         9.756098  \n",
       "5         0.000000  "
      ]
     },
     "execution_count": 22,
     "metadata": {},
     "output_type": "execute_result"
    }
   ],
   "source": [
    "data_pivot_children = data.pivot_table(index = ['children'], values=[\"debt\"], aggfunc=['sum', 'count', 'mean'])\n",
    "data_pivot_children = data_pivot_children.reset_index()\n",
    "data_pivot_children.columns = ['Количество детей','Количество должников', 'Количество клиентов', 'Доля невозврата']\n",
    "data_pivot_children['Доля невозврата'] = data_pivot_children['Доля невозврата'] * 100\n",
    "data_pivot_children"
   ]
  },
  {
   "cell_type": "markdown",
   "id": "0e39bcf4",
   "metadata": {
    "deletable": false,
    "id": "3a6b99ec"
   },
   "source": [
    "**Вывод:**\n",
    "\n",
    "Рассматривая зависимость между количеством детей и возвратом кредита можем предположить, что наличие детей в среднем увеличивает вероятность просрочки. Наибольшая доля просрочек у клиентов с одним и двумя детьми. У клиентов не имеющих детей риск просрочки ниже. "
   ]
  },
  {
   "cell_type": "markdown",
   "id": "60c37d56",
   "metadata": {
    "deletable": false,
    "editable": false,
    "id": "97be82ca"
   },
   "source": [
    "#### 3.2 Есть ли зависимость между семейным положением и возвратом кредита в срок?"
   ]
  },
  {
   "cell_type": "code",
   "execution_count": 23,
   "id": "a54769e3",
   "metadata": {
    "deletable": false,
    "id": "dc3f7ee8"
   },
   "outputs": [
    {
     "data": {
      "text/html": [
       "<div>\n",
       "<style scoped>\n",
       "    .dataframe tbody tr th:only-of-type {\n",
       "        vertical-align: middle;\n",
       "    }\n",
       "\n",
       "    .dataframe tbody tr th {\n",
       "        vertical-align: top;\n",
       "    }\n",
       "\n",
       "    .dataframe thead th {\n",
       "        text-align: right;\n",
       "    }\n",
       "</style>\n",
       "<table border=\"1\" class=\"dataframe\">\n",
       "  <thead>\n",
       "    <tr style=\"text-align: right;\">\n",
       "      <th></th>\n",
       "      <th>Семейное положение</th>\n",
       "      <th>Количество должников</th>\n",
       "      <th>Количество клиентов</th>\n",
       "      <th>Доля невозврата</th>\n",
       "    </tr>\n",
       "  </thead>\n",
       "  <tbody>\n",
       "    <tr>\n",
       "      <th>0</th>\n",
       "      <td>Не женат / не замужем</td>\n",
       "      <td>273</td>\n",
       "      <td>2796</td>\n",
       "      <td>9.763948</td>\n",
       "    </tr>\n",
       "    <tr>\n",
       "      <th>1</th>\n",
       "      <td>в разводе</td>\n",
       "      <td>84</td>\n",
       "      <td>1189</td>\n",
       "      <td>7.064760</td>\n",
       "    </tr>\n",
       "    <tr>\n",
       "      <th>2</th>\n",
       "      <td>вдовец / вдова</td>\n",
       "      <td>63</td>\n",
       "      <td>951</td>\n",
       "      <td>6.624606</td>\n",
       "    </tr>\n",
       "    <tr>\n",
       "      <th>3</th>\n",
       "      <td>гражданский брак</td>\n",
       "      <td>385</td>\n",
       "      <td>4134</td>\n",
       "      <td>9.313014</td>\n",
       "    </tr>\n",
       "    <tr>\n",
       "      <th>4</th>\n",
       "      <td>женат / замужем</td>\n",
       "      <td>927</td>\n",
       "      <td>12261</td>\n",
       "      <td>7.560558</td>\n",
       "    </tr>\n",
       "  </tbody>\n",
       "</table>\n",
       "</div>"
      ],
      "text/plain": [
       "      Семейное положение  Количество должников  Количество клиентов  \\\n",
       "0  Не женат / не замужем                   273                 2796   \n",
       "1              в разводе                    84                 1189   \n",
       "2         вдовец / вдова                    63                  951   \n",
       "3       гражданский брак                   385                 4134   \n",
       "4        женат / замужем                   927                12261   \n",
       "\n",
       "   Доля невозврата  \n",
       "0         9.763948  \n",
       "1         7.064760  \n",
       "2         6.624606  \n",
       "3         9.313014  \n",
       "4         7.560558  "
      ]
     },
     "execution_count": 23,
     "metadata": {},
     "output_type": "execute_result"
    }
   ],
   "source": [
    "data_pivot_family_status = data.pivot_table(index = ['family_status'], values=[\"debt\"], aggfunc=['sum', 'count', 'mean'])\n",
    "data_pivot_family_status = data_pivot_family_status.reset_index()\n",
    "data_pivot_family_status.columns = ['Семейное положение','Количество должников', 'Количество клиентов', 'Доля невозврата']\n",
    "data_pivot_family_status['Доля невозврата'] = data_pivot_family_status['Доля невозврата'] * 100\n",
    "data_pivot_family_status"
   ]
  },
  {
   "cell_type": "markdown",
   "id": "76ffb813",
   "metadata": {
    "deletable": false,
    "id": "1cef7837"
   },
   "source": [
    "**Вывод:** \n",
    "\n",
    "Рассматривая зависимость между семейным положением и возвратом кредита отмечаем, что наибольший риск в группах 'Не женат / не замужем' и 'гражданский брак'. Наименьший риск в категориях 'женат / замужем' и 'в разводе'. Можно сделать предположение, что люди находящиеся в браке или в разводе могут быть в более зрелом возрасте и иметь более устойчивое финансовое положение.   "
   ]
  },
  {
   "cell_type": "markdown",
   "id": "cb2fbf27",
   "metadata": {
    "deletable": false,
    "editable": false,
    "id": "1e8b2fca"
   },
   "source": [
    "#### 3.3 Есть ли зависимость между уровнем дохода и возвратом кредита в срок?"
   ]
  },
  {
   "cell_type": "code",
   "execution_count": 24,
   "id": "8fc805d7",
   "metadata": {
    "deletable": false,
    "id": "cd7e3720"
   },
   "outputs": [
    {
     "data": {
      "text/html": [
       "<div>\n",
       "<style scoped>\n",
       "    .dataframe tbody tr th:only-of-type {\n",
       "        vertical-align: middle;\n",
       "    }\n",
       "\n",
       "    .dataframe tbody tr th {\n",
       "        vertical-align: top;\n",
       "    }\n",
       "\n",
       "    .dataframe thead th {\n",
       "        text-align: right;\n",
       "    }\n",
       "</style>\n",
       "<table border=\"1\" class=\"dataframe\">\n",
       "  <thead>\n",
       "    <tr style=\"text-align: right;\">\n",
       "      <th></th>\n",
       "      <th>Количество должников</th>\n",
       "      <th>Количество клиентов</th>\n",
       "      <th>Доля невозврата</th>\n",
       "    </tr>\n",
       "    <tr>\n",
       "      <th>total_income_category</th>\n",
       "      <th></th>\n",
       "      <th></th>\n",
       "      <th></th>\n",
       "    </tr>\n",
       "  </thead>\n",
       "  <tbody>\n",
       "    <tr>\n",
       "      <th>A</th>\n",
       "      <td>2</td>\n",
       "      <td>25</td>\n",
       "      <td>8.000000</td>\n",
       "    </tr>\n",
       "    <tr>\n",
       "      <th>B</th>\n",
       "      <td>354</td>\n",
       "      <td>5014</td>\n",
       "      <td>7.060231</td>\n",
       "    </tr>\n",
       "    <tr>\n",
       "      <th>C</th>\n",
       "      <td>1353</td>\n",
       "      <td>15921</td>\n",
       "      <td>8.498210</td>\n",
       "    </tr>\n",
       "    <tr>\n",
       "      <th>D</th>\n",
       "      <td>21</td>\n",
       "      <td>349</td>\n",
       "      <td>6.017192</td>\n",
       "    </tr>\n",
       "    <tr>\n",
       "      <th>E</th>\n",
       "      <td>2</td>\n",
       "      <td>22</td>\n",
       "      <td>9.090909</td>\n",
       "    </tr>\n",
       "  </tbody>\n",
       "</table>\n",
       "</div>"
      ],
      "text/plain": [
       "                       Количество должников  Количество клиентов  \\\n",
       "total_income_category                                              \n",
       "A                                         2                   25   \n",
       "B                                       354                 5014   \n",
       "C                                      1353                15921   \n",
       "D                                        21                  349   \n",
       "E                                         2                   22   \n",
       "\n",
       "                       Доля невозврата  \n",
       "total_income_category                   \n",
       "A                             8.000000  \n",
       "B                             7.060231  \n",
       "C                             8.498210  \n",
       "D                             6.017192  \n",
       "E                             9.090909  "
      ]
     },
     "execution_count": 24,
     "metadata": {},
     "output_type": "execute_result"
    }
   ],
   "source": [
    "data_pivot_income_category = data.pivot_table(index = ['total_income_category'], values=[\"debt\"], aggfunc=['sum', 'count', 'mean'])\n",
    "data_pivot_income_category.columns = ['Количество должников', 'Количество клиентов', 'Доля невозврата']\n",
    "data_pivot_income_category['Доля невозврата'] = data_pivot_income_category['Доля невозврата'] * 100\n",
    "data_pivot_income_category"
   ]
  },
  {
   "cell_type": "markdown",
   "id": "ffbb1e77",
   "metadata": {
    "deletable": false,
    "id": "e8593def"
   },
   "source": [
    "**Вывод:** \n",
    "\n",
    "Клиенты с доходом от 50 до 200 тыс, которых по нашей классификации можно отнести к среднему классу(категория 'C') - являются основными клиентами услуг банка и чаще остальных имеют просрочки. Клинты категории 'A' и 'Е' редко пользуются услугами банка.\n",
    "\n",
    "* 1000001 и выше — 'A'\n",
    "* 200001–1000000 — 'B';\n",
    "* 50001–200000 — 'C';\n",
    "* 30001–50000 — 'D';\n",
    "* 0–30000 — 'E';"
   ]
  },
  {
   "cell_type": "markdown",
   "id": "68cf86d2",
   "metadata": {
    "deletable": false,
    "editable": false,
    "id": "99ecbd1f"
   },
   "source": [
    "#### 3.4 Как разные цели кредита влияют на его возврат в срок?"
   ]
  },
  {
   "cell_type": "code",
   "execution_count": 25,
   "id": "48535616",
   "metadata": {
    "deletable": false,
    "id": "2b687290"
   },
   "outputs": [
    {
     "data": {
      "text/html": [
       "<div>\n",
       "<style scoped>\n",
       "    .dataframe tbody tr th:only-of-type {\n",
       "        vertical-align: middle;\n",
       "    }\n",
       "\n",
       "    .dataframe tbody tr th {\n",
       "        vertical-align: top;\n",
       "    }\n",
       "\n",
       "    .dataframe thead th {\n",
       "        text-align: right;\n",
       "    }\n",
       "</style>\n",
       "<table border=\"1\" class=\"dataframe\">\n",
       "  <thead>\n",
       "    <tr style=\"text-align: right;\">\n",
       "      <th></th>\n",
       "      <th>Цели кредита</th>\n",
       "      <th>Количество должников</th>\n",
       "      <th>Количество клиентов</th>\n",
       "      <th>Доля невозврата</th>\n",
       "    </tr>\n",
       "  </thead>\n",
       "  <tbody>\n",
       "    <tr>\n",
       "      <th>0</th>\n",
       "      <td>операции с автомобилем</td>\n",
       "      <td>400</td>\n",
       "      <td>4279</td>\n",
       "      <td>9.347978</td>\n",
       "    </tr>\n",
       "    <tr>\n",
       "      <th>1</th>\n",
       "      <td>операции с недвижимостью</td>\n",
       "      <td>780</td>\n",
       "      <td>10751</td>\n",
       "      <td>7.255139</td>\n",
       "    </tr>\n",
       "    <tr>\n",
       "      <th>2</th>\n",
       "      <td>получение образования</td>\n",
       "      <td>369</td>\n",
       "      <td>3988</td>\n",
       "      <td>9.252758</td>\n",
       "    </tr>\n",
       "    <tr>\n",
       "      <th>3</th>\n",
       "      <td>проведение свадьбы</td>\n",
       "      <td>183</td>\n",
       "      <td>2313</td>\n",
       "      <td>7.911803</td>\n",
       "    </tr>\n",
       "  </tbody>\n",
       "</table>\n",
       "</div>"
      ],
      "text/plain": [
       "               Цели кредита  Количество должников  Количество клиентов  \\\n",
       "0    операции с автомобилем                   400                 4279   \n",
       "1  операции с недвижимостью                   780                10751   \n",
       "2     получение образования                   369                 3988   \n",
       "3        проведение свадьбы                   183                 2313   \n",
       "\n",
       "   Доля невозврата  \n",
       "0         9.347978  \n",
       "1         7.255139  \n",
       "2         9.252758  \n",
       "3         7.911803  "
      ]
     },
     "execution_count": 25,
     "metadata": {},
     "output_type": "execute_result"
    }
   ],
   "source": [
    "data_pivot_purpose_category = data.pivot_table(index = ['purpose_category'], values=[\"debt\"], aggfunc=['sum', 'count', 'mean'])\n",
    "data_pivot_purpose_category = data_pivot_purpose_category.reset_index()\n",
    "data_pivot_purpose_category.columns = ['Цели кредита','Количество должников', 'Количество клиентов', 'Доля невозврата']\n",
    "data_pivot_purpose_category['Доля невозврата'] = data_pivot_purpose_category['Доля невозврата'] * 100\n",
    "data_pivot_purpose_category"
   ]
  },
  {
   "cell_type": "markdown",
   "id": "858f30ea",
   "metadata": {
    "deletable": false,
    "id": "b4bb2ce6"
   },
   "source": [
    "**Вывод:** \n",
    "\n",
    "Меньше всего риска просрочек в категории \"операции с недвижимостью\", также эта категория является самой востребованной у клиентов. Можно предположить, что операции с недвижимостью и проведение свадьбы важное и осознанное событие, а операции с автомобилем – импульсивная покупка. Высокий процент невозврата в категории 'получение образования' может быть связан с возможными рисками (возраст клиентов, сложности с поиском работы после окончания обучения, возможное отчисление и тд.). "
   ]
  },
  {
   "cell_type": "markdown",
   "id": "ba3b8a31",
   "metadata": {
    "deletable": false,
    "editable": false,
    "id": "09c3ac4c"
   },
   "source": [
    "#### 3.5 Приведите возможные причины появления пропусков в исходных данных."
   ]
  },
  {
   "cell_type": "markdown",
   "id": "8bd21764",
   "metadata": {
    "deletable": false,
    "id": "9da2ceda"
   },
   "source": [
    "*Ответ:* \n",
    "например, одной из причин может быть неправильная выгрузка или правильные данные, которые были неправильно заполнены(анкета с необязательными полями). В нашем датасете неправильные данные (отрицательное количество дней трудового стажа),  которые появились по какой-то ошибке. Пропуски есть в столбцах **days_employed** и **total_income** в равных пропорциях. Эти пропуски симметричны. Возможно, они появились из-за нежелания этих пользователей оставлять эти данные или из-за ошибки.\n",
    "\n"
   ]
  },
  {
   "cell_type": "markdown",
   "id": "0b23f71a",
   "metadata": {
    "deletable": false,
    "editable": false,
    "id": "7b0487d6"
   },
   "source": [
    "#### 3.6 Объясните, почему заполнить пропуски медианным значением — лучшее решение для количественных переменных."
   ]
  },
  {
   "cell_type": "markdown",
   "id": "23ecb430",
   "metadata": {
    "deletable": false,
    "id": "7ecf2b8e"
   },
   "source": [
    "*Ответ:* \n",
    "на медианное значение не влияют возможные выбросы в данных."
   ]
  },
  {
   "cell_type": "markdown",
   "id": "5c7825f4",
   "metadata": {
    "deletable": false,
    "editable": false,
    "id": "6db5255a"
   },
   "source": [
    "### Шаг 4: общий вывод."
   ]
  },
  {
   "cell_type": "markdown",
   "id": "a1ae8f76",
   "metadata": {
    "deletable": false,
    "id": "bad65432"
   },
   "source": [
    "1.  Наибольшая доля просрочек у клиентов с 1 и 2 детьми. У клиентов не имеющих детей риск просрочки ниже. Рассматривая зависимость между количеством детей и возвратом кредита можем предположить, что наличие детей в среднем увеличивает вероятность просрочки.\n",
    "2. Рассматривая зависимость между семейным положением и возвратом кредита отмечаем, что люди, находящиеся в отношениях, чаще пользуются услугами банка. Наибольший риск в группах 'Не женат / не замужем' и 'гражданский брак'. Наименьший риск в категориях 'женат / замужем' и 'в разводе'. Можно сделать предположение, что люди находящиеся в браке или в разводе могут быть в более зрелом возрасте и иметь более устойчивое финансовое положение.\n",
    "3. Клиенты, с доходом от 50 до 200 тыс(средний класс), являются основными клиентами услуг банка и чаще остальных имеют просрочки. Клиенты с более низкими или высокими доходами редко становятся клиентами банка.\n",
    "4. Меньше всего риска просрочек в категориях \"операции с недвижимостью\"(категория является самой востребованной у клиентов) и 'проведение свадьбы'. Максимальные риски просрочки в категорях 'операции с автомобилем' и 'получение образования'."
   ]
  }
 ],
 "metadata": {
  "ExecuteTimeLog": [
   {
    "duration": 62,
    "start_time": "2022-12-07T17:09:54.737Z"
   },
   {
    "duration": 479,
    "start_time": "2022-12-07T17:10:33.570Z"
   },
   {
    "duration": 23,
    "start_time": "2022-12-07T17:10:34.051Z"
   },
   {
    "duration": 15,
    "start_time": "2022-12-07T17:10:34.076Z"
   },
   {
    "duration": 10,
    "start_time": "2022-12-07T17:10:34.093Z"
   },
   {
    "duration": 53,
    "start_time": "2022-12-07T17:10:34.105Z"
   },
   {
    "duration": 3,
    "start_time": "2022-12-07T17:10:34.160Z"
   },
   {
    "duration": 12,
    "start_time": "2022-12-07T17:10:34.166Z"
   },
   {
    "duration": 10,
    "start_time": "2022-12-07T17:10:34.180Z"
   },
   {
    "duration": 10,
    "start_time": "2022-12-07T17:10:34.191Z"
   },
   {
    "duration": 5,
    "start_time": "2022-12-07T17:10:34.203Z"
   },
   {
    "duration": 64,
    "start_time": "2022-12-07T17:10:34.210Z"
   },
   {
    "duration": 10,
    "start_time": "2022-12-07T17:10:34.275Z"
   },
   {
    "duration": 18,
    "start_time": "2022-12-07T17:10:34.286Z"
   },
   {
    "duration": 16,
    "start_time": "2022-12-07T17:10:34.307Z"
   },
   {
    "duration": 25,
    "start_time": "2022-12-07T17:10:34.325Z"
   },
   {
    "duration": 29,
    "start_time": "2022-12-07T17:10:34.351Z"
   },
   {
    "duration": 4,
    "start_time": "2022-12-07T17:10:34.382Z"
   },
   {
    "duration": 25,
    "start_time": "2022-12-07T17:10:34.388Z"
   },
   {
    "duration": 14,
    "start_time": "2022-12-07T17:10:34.415Z"
   },
   {
    "duration": 5,
    "start_time": "2022-12-07T17:10:34.431Z"
   },
   {
    "duration": 24,
    "start_time": "2022-12-07T17:10:34.438Z"
   },
   {
    "duration": 26,
    "start_time": "2022-12-07T17:10:34.464Z"
   },
   {
    "duration": 12,
    "start_time": "2022-12-07T17:10:34.492Z"
   },
   {
    "duration": 9,
    "start_time": "2022-12-07T17:10:34.506Z"
   },
   {
    "duration": 15,
    "start_time": "2022-12-07T17:10:34.517Z"
   },
   {
    "duration": 70,
    "start_time": "2022-12-07T17:16:01.066Z"
   },
   {
    "duration": 7,
    "start_time": "2022-12-07T17:16:10.894Z"
   },
   {
    "duration": 4,
    "start_time": "2022-12-07T17:17:33.838Z"
   },
   {
    "duration": 8,
    "start_time": "2022-12-07T17:17:44.521Z"
   },
   {
    "duration": 7,
    "start_time": "2022-12-07T17:18:43.519Z"
   },
   {
    "duration": 21,
    "start_time": "2022-12-07T17:18:53.632Z"
   },
   {
    "duration": 7,
    "start_time": "2022-12-07T17:19:14.844Z"
   },
   {
    "duration": 9,
    "start_time": "2022-12-07T17:19:43.889Z"
   },
   {
    "duration": 7,
    "start_time": "2022-12-07T17:20:13.569Z"
   },
   {
    "duration": 11,
    "start_time": "2022-12-07T17:20:21.961Z"
   },
   {
    "duration": 9,
    "start_time": "2022-12-07T17:22:15.988Z"
   },
   {
    "duration": 23,
    "start_time": "2022-12-07T17:22:58.205Z"
   },
   {
    "duration": 5,
    "start_time": "2022-12-07T17:24:08.459Z"
   },
   {
    "duration": 21,
    "start_time": "2022-12-07T17:24:28.697Z"
   },
   {
    "duration": 5,
    "start_time": "2022-12-07T17:24:36.796Z"
   },
   {
    "duration": 19,
    "start_time": "2022-12-07T17:24:43.591Z"
   },
   {
    "duration": 11,
    "start_time": "2022-12-07T17:25:19.477Z"
   },
   {
    "duration": 7,
    "start_time": "2022-12-07T17:25:27.147Z"
   },
   {
    "duration": 9,
    "start_time": "2022-12-07T17:27:06.231Z"
   },
   {
    "duration": 11,
    "start_time": "2022-12-07T17:27:25.079Z"
   },
   {
    "duration": 18,
    "start_time": "2022-12-07T17:27:40.280Z"
   },
   {
    "duration": 11,
    "start_time": "2022-12-07T17:27:59.352Z"
   },
   {
    "duration": 10,
    "start_time": "2022-12-07T17:29:22.082Z"
   },
   {
    "duration": 10,
    "start_time": "2022-12-07T17:30:12.527Z"
   },
   {
    "duration": 9,
    "start_time": "2022-12-07T21:06:01.218Z"
   },
   {
    "duration": 54,
    "start_time": "2022-12-07T21:08:22.114Z"
   },
   {
    "duration": 7,
    "start_time": "2022-12-07T21:08:29.729Z"
   },
   {
    "duration": 6,
    "start_time": "2022-12-07T21:08:35.250Z"
   },
   {
    "duration": 12,
    "start_time": "2022-12-07T21:22:28.664Z"
   },
   {
    "duration": 10,
    "start_time": "2022-12-07T21:24:03.001Z"
   },
   {
    "duration": 15,
    "start_time": "2022-12-07T21:24:23.176Z"
   },
   {
    "duration": 12,
    "start_time": "2022-12-07T21:24:34.849Z"
   },
   {
    "duration": 10,
    "start_time": "2022-12-07T21:24:41.437Z"
   },
   {
    "duration": 462,
    "start_time": "2022-12-07T21:24:54.679Z"
   },
   {
    "duration": 21,
    "start_time": "2022-12-07T21:24:55.143Z"
   },
   {
    "duration": 15,
    "start_time": "2022-12-07T21:24:55.166Z"
   },
   {
    "duration": 9,
    "start_time": "2022-12-07T21:24:55.182Z"
   },
   {
    "duration": 37,
    "start_time": "2022-12-07T21:24:55.193Z"
   },
   {
    "duration": 4,
    "start_time": "2022-12-07T21:24:55.231Z"
   },
   {
    "duration": 8,
    "start_time": "2022-12-07T21:24:55.254Z"
   },
   {
    "duration": 3,
    "start_time": "2022-12-07T21:24:55.264Z"
   },
   {
    "duration": 13,
    "start_time": "2022-12-07T21:24:55.269Z"
   },
   {
    "duration": 5,
    "start_time": "2022-12-07T21:24:55.283Z"
   },
   {
    "duration": 36,
    "start_time": "2022-12-07T21:24:55.289Z"
   },
   {
    "duration": 28,
    "start_time": "2022-12-07T21:24:55.327Z"
   },
   {
    "duration": 4,
    "start_time": "2022-12-07T21:24:55.357Z"
   },
   {
    "duration": 14,
    "start_time": "2022-12-07T21:24:55.363Z"
   },
   {
    "duration": 20,
    "start_time": "2022-12-07T21:24:55.378Z"
   },
   {
    "duration": 18,
    "start_time": "2022-12-07T21:24:55.399Z"
   },
   {
    "duration": 3,
    "start_time": "2022-12-07T21:24:55.419Z"
   },
   {
    "duration": 44,
    "start_time": "2022-12-07T21:24:55.424Z"
   },
   {
    "duration": 9,
    "start_time": "2022-12-07T21:24:55.470Z"
   },
   {
    "duration": 3,
    "start_time": "2022-12-07T21:24:55.481Z"
   },
   {
    "duration": 11,
    "start_time": "2022-12-07T21:24:55.486Z"
   },
   {
    "duration": 10,
    "start_time": "2022-12-07T21:24:55.498Z"
   },
   {
    "duration": 11,
    "start_time": "2022-12-07T21:24:55.510Z"
   },
   {
    "duration": 37,
    "start_time": "2022-12-07T21:24:55.523Z"
   },
   {
    "duration": 13,
    "start_time": "2022-12-07T21:24:55.561Z"
   },
   {
    "duration": 69,
    "start_time": "2022-12-07T21:27:17.202Z"
   },
   {
    "duration": 12,
    "start_time": "2022-12-07T21:27:37.124Z"
   },
   {
    "duration": 7,
    "start_time": "2022-12-07T21:29:37.900Z"
   },
   {
    "duration": 7,
    "start_time": "2022-12-07T21:30:20.173Z"
   },
   {
    "duration": 7,
    "start_time": "2022-12-07T21:39:32.287Z"
   },
   {
    "duration": 33,
    "start_time": "2022-12-07T21:39:46.229Z"
   },
   {
    "duration": 30,
    "start_time": "2022-12-07T21:40:02.137Z"
   },
   {
    "duration": 8,
    "start_time": "2022-12-07T21:40:37.970Z"
   },
   {
    "duration": 9,
    "start_time": "2022-12-07T21:52:13.434Z"
   },
   {
    "duration": 9,
    "start_time": "2022-12-07T21:52:25.951Z"
   },
   {
    "duration": 51,
    "start_time": "2022-12-07T21:52:34.054Z"
   },
   {
    "duration": 9,
    "start_time": "2022-12-07T21:52:39.246Z"
   },
   {
    "duration": 6,
    "start_time": "2022-12-07T21:55:50.682Z"
   },
   {
    "duration": 53,
    "start_time": "2022-12-07T21:56:22.166Z"
   },
   {
    "duration": 10,
    "start_time": "2022-12-07T21:56:50.921Z"
   },
   {
    "duration": 7,
    "start_time": "2022-12-07T21:57:12.249Z"
   },
   {
    "duration": 5,
    "start_time": "2022-12-07T21:57:22.704Z"
   },
   {
    "duration": 48,
    "start_time": "2022-12-07T21:59:21.449Z"
   },
   {
    "duration": 4,
    "start_time": "2022-12-07T21:59:30.216Z"
   },
   {
    "duration": 3,
    "start_time": "2022-12-07T21:59:35.964Z"
   },
   {
    "duration": 5,
    "start_time": "2022-12-07T21:59:44.079Z"
   },
   {
    "duration": 10,
    "start_time": "2022-12-07T22:04:35.450Z"
   },
   {
    "duration": 11,
    "start_time": "2022-12-07T22:06:04.682Z"
   },
   {
    "duration": 7,
    "start_time": "2022-12-07T22:08:05.295Z"
   },
   {
    "duration": 8,
    "start_time": "2022-12-07T22:08:14.409Z"
   },
   {
    "duration": 8,
    "start_time": "2022-12-07T22:08:24.094Z"
   },
   {
    "duration": 51,
    "start_time": "2022-12-07T22:13:09.415Z"
   },
   {
    "duration": 46,
    "start_time": "2022-12-07T22:13:38.427Z"
   },
   {
    "duration": 44,
    "start_time": "2022-12-07T22:13:44.944Z"
   },
   {
    "duration": 47,
    "start_time": "2022-12-07T22:14:00.448Z"
   },
   {
    "duration": 64,
    "start_time": "2022-12-07T22:15:18.044Z"
   },
   {
    "duration": 38,
    "start_time": "2022-12-07T22:16:57.276Z"
   },
   {
    "duration": 8,
    "start_time": "2022-12-07T22:17:01.359Z"
   },
   {
    "duration": 14,
    "start_time": "2022-12-07T22:17:17.858Z"
   },
   {
    "duration": 20,
    "start_time": "2022-12-07T22:17:43.274Z"
   },
   {
    "duration": 21,
    "start_time": "2022-12-07T22:18:08.526Z"
   },
   {
    "duration": 21,
    "start_time": "2022-12-07T22:18:20.499Z"
   },
   {
    "duration": 20,
    "start_time": "2022-12-07T22:18:30.134Z"
   },
   {
    "duration": 10,
    "start_time": "2022-12-07T22:22:29.658Z"
   },
   {
    "duration": 24,
    "start_time": "2022-12-07T22:24:18.655Z"
   },
   {
    "duration": 20,
    "start_time": "2022-12-07T22:25:37.241Z"
   },
   {
    "duration": 23,
    "start_time": "2022-12-07T22:26:10.990Z"
   },
   {
    "duration": 23,
    "start_time": "2022-12-07T22:27:47.792Z"
   },
   {
    "duration": 18,
    "start_time": "2022-12-07T22:28:20.431Z"
   },
   {
    "duration": 22,
    "start_time": "2022-12-07T22:30:11.725Z"
   },
   {
    "duration": 10,
    "start_time": "2022-12-07T22:30:29.080Z"
   },
   {
    "duration": 14,
    "start_time": "2022-12-07T22:31:28.070Z"
   },
   {
    "duration": 506,
    "start_time": "2022-12-07T22:31:50.638Z"
   },
   {
    "duration": 23,
    "start_time": "2022-12-07T22:31:51.146Z"
   },
   {
    "duration": 23,
    "start_time": "2022-12-07T22:31:51.171Z"
   },
   {
    "duration": 14,
    "start_time": "2022-12-07T22:31:51.197Z"
   },
   {
    "duration": 52,
    "start_time": "2022-12-07T22:31:51.212Z"
   },
   {
    "duration": 4,
    "start_time": "2022-12-07T22:31:51.265Z"
   },
   {
    "duration": 13,
    "start_time": "2022-12-07T22:31:51.270Z"
   },
   {
    "duration": 6,
    "start_time": "2022-12-07T22:31:51.285Z"
   },
   {
    "duration": 10,
    "start_time": "2022-12-07T22:31:51.293Z"
   },
   {
    "duration": 5,
    "start_time": "2022-12-07T22:31:51.305Z"
   },
   {
    "duration": 49,
    "start_time": "2022-12-07T22:31:51.312Z"
   },
   {
    "duration": 10,
    "start_time": "2022-12-07T22:31:51.363Z"
   },
   {
    "duration": 4,
    "start_time": "2022-12-07T22:31:51.375Z"
   },
   {
    "duration": 18,
    "start_time": "2022-12-07T22:31:51.380Z"
   },
   {
    "duration": 27,
    "start_time": "2022-12-07T22:31:51.399Z"
   },
   {
    "duration": 41,
    "start_time": "2022-12-07T22:31:51.428Z"
   },
   {
    "duration": 5,
    "start_time": "2022-12-07T22:31:51.470Z"
   },
   {
    "duration": 21,
    "start_time": "2022-12-07T22:31:51.477Z"
   },
   {
    "duration": 16,
    "start_time": "2022-12-07T22:31:51.499Z"
   },
   {
    "duration": 10,
    "start_time": "2022-12-07T22:31:51.516Z"
   },
   {
    "duration": 17,
    "start_time": "2022-12-07T22:31:51.528Z"
   },
   {
    "duration": 36,
    "start_time": "2022-12-07T22:31:51.547Z"
   },
   {
    "duration": 22,
    "start_time": "2022-12-07T22:31:51.584Z"
   },
   {
    "duration": 12,
    "start_time": "2022-12-07T22:31:51.607Z"
   },
   {
    "duration": 36,
    "start_time": "2022-12-07T22:31:51.620Z"
   },
   {
    "duration": 13,
    "start_time": "2022-12-07T22:31:51.658Z"
   },
   {
    "duration": 15,
    "start_time": "2022-12-07T22:31:51.673Z"
   },
   {
    "duration": 21,
    "start_time": "2022-12-07T22:34:07.517Z"
   },
   {
    "duration": 37,
    "start_time": "2022-12-07T22:34:20.218Z"
   },
   {
    "duration": 24,
    "start_time": "2022-12-07T22:34:25.865Z"
   },
   {
    "duration": 25,
    "start_time": "2022-12-07T22:35:17.788Z"
   },
   {
    "duration": 44,
    "start_time": "2022-12-07T22:41:18.336Z"
   },
   {
    "duration": 25,
    "start_time": "2022-12-07T22:41:31.107Z"
   },
   {
    "duration": 467,
    "start_time": "2022-12-07T22:42:57.802Z"
   },
   {
    "duration": 24,
    "start_time": "2022-12-07T22:42:58.271Z"
   },
   {
    "duration": 16,
    "start_time": "2022-12-07T22:42:58.297Z"
   },
   {
    "duration": 11,
    "start_time": "2022-12-07T22:42:58.316Z"
   },
   {
    "duration": 61,
    "start_time": "2022-12-07T22:42:58.328Z"
   },
   {
    "duration": 4,
    "start_time": "2022-12-07T22:42:58.391Z"
   },
   {
    "duration": 11,
    "start_time": "2022-12-07T22:42:58.396Z"
   },
   {
    "duration": 5,
    "start_time": "2022-12-07T22:42:58.409Z"
   },
   {
    "duration": 7,
    "start_time": "2022-12-07T22:42:58.416Z"
   },
   {
    "duration": 6,
    "start_time": "2022-12-07T22:42:58.454Z"
   },
   {
    "duration": 35,
    "start_time": "2022-12-07T22:42:58.462Z"
   },
   {
    "duration": 8,
    "start_time": "2022-12-07T22:42:58.499Z"
   },
   {
    "duration": 3,
    "start_time": "2022-12-07T22:42:58.509Z"
   },
   {
    "duration": 18,
    "start_time": "2022-12-07T22:42:58.513Z"
   },
   {
    "duration": 40,
    "start_time": "2022-12-07T22:42:58.533Z"
   },
   {
    "duration": 18,
    "start_time": "2022-12-07T22:42:58.574Z"
   },
   {
    "duration": 3,
    "start_time": "2022-12-07T22:42:58.594Z"
   },
   {
    "duration": 14,
    "start_time": "2022-12-07T22:42:58.598Z"
   },
   {
    "duration": 8,
    "start_time": "2022-12-07T22:42:58.614Z"
   },
   {
    "duration": 5,
    "start_time": "2022-12-07T22:42:58.623Z"
   },
   {
    "duration": 33,
    "start_time": "2022-12-07T22:42:58.629Z"
   },
   {
    "duration": 25,
    "start_time": "2022-12-07T22:42:58.664Z"
   },
   {
    "duration": 24,
    "start_time": "2022-12-07T22:42:58.691Z"
   },
   {
    "duration": 10,
    "start_time": "2022-12-07T22:42:58.716Z"
   },
   {
    "duration": 46,
    "start_time": "2022-12-07T22:42:58.727Z"
   },
   {
    "duration": 22,
    "start_time": "2022-12-07T22:42:58.775Z"
   },
   {
    "duration": 57,
    "start_time": "2022-12-07T22:44:12.036Z"
   },
   {
    "duration": 20,
    "start_time": "2022-12-07T22:44:16.916Z"
   },
   {
    "duration": 21,
    "start_time": "2022-12-07T22:46:39.037Z"
   },
   {
    "duration": 18,
    "start_time": "2022-12-07T22:46:47.556Z"
   },
   {
    "duration": 478,
    "start_time": "2022-12-07T23:00:20.176Z"
   },
   {
    "duration": 22,
    "start_time": "2022-12-07T23:00:20.656Z"
   },
   {
    "duration": 17,
    "start_time": "2022-12-07T23:00:20.681Z"
   },
   {
    "duration": 30,
    "start_time": "2022-12-07T23:00:20.700Z"
   },
   {
    "duration": 58,
    "start_time": "2022-12-07T23:00:20.731Z"
   },
   {
    "duration": 4,
    "start_time": "2022-12-07T23:00:20.791Z"
   },
   {
    "duration": 35,
    "start_time": "2022-12-07T23:00:20.796Z"
   },
   {
    "duration": 24,
    "start_time": "2022-12-07T23:00:20.833Z"
   },
   {
    "duration": 33,
    "start_time": "2022-12-07T23:00:20.859Z"
   },
   {
    "duration": 40,
    "start_time": "2022-12-07T23:00:20.894Z"
   },
   {
    "duration": 62,
    "start_time": "2022-12-07T23:00:20.937Z"
   },
   {
    "duration": 10,
    "start_time": "2022-12-07T23:00:21.000Z"
   },
   {
    "duration": 5,
    "start_time": "2022-12-07T23:00:21.011Z"
   },
   {
    "duration": 23,
    "start_time": "2022-12-07T23:00:21.018Z"
   },
   {
    "duration": 54,
    "start_time": "2022-12-07T23:00:21.042Z"
   },
   {
    "duration": 23,
    "start_time": "2022-12-07T23:00:21.097Z"
   },
   {
    "duration": 4,
    "start_time": "2022-12-07T23:00:21.122Z"
   },
   {
    "duration": 34,
    "start_time": "2022-12-07T23:00:21.127Z"
   },
   {
    "duration": 24,
    "start_time": "2022-12-07T23:00:21.162Z"
   },
   {
    "duration": 23,
    "start_time": "2022-12-07T23:00:21.188Z"
   },
   {
    "duration": 44,
    "start_time": "2022-12-07T23:00:21.212Z"
   },
   {
    "duration": 50,
    "start_time": "2022-12-07T23:00:21.257Z"
   },
   {
    "duration": 21,
    "start_time": "2022-12-07T23:00:21.309Z"
   },
   {
    "duration": 21,
    "start_time": "2022-12-07T23:00:21.331Z"
   },
   {
    "duration": 48,
    "start_time": "2022-12-07T23:00:21.354Z"
   },
   {
    "duration": 32,
    "start_time": "2022-12-07T23:00:21.404Z"
   },
   {
    "duration": 23,
    "start_time": "2022-12-07T23:11:57.727Z"
   },
   {
    "duration": 457,
    "start_time": "2022-12-07T23:26:25.174Z"
   },
   {
    "duration": 21,
    "start_time": "2022-12-07T23:26:25.632Z"
   },
   {
    "duration": 14,
    "start_time": "2022-12-07T23:26:25.654Z"
   },
   {
    "duration": 9,
    "start_time": "2022-12-07T23:26:25.669Z"
   },
   {
    "duration": 32,
    "start_time": "2022-12-07T23:26:25.680Z"
   },
   {
    "duration": 3,
    "start_time": "2022-12-07T23:26:25.713Z"
   },
   {
    "duration": 10,
    "start_time": "2022-12-07T23:26:25.718Z"
   },
   {
    "duration": 27,
    "start_time": "2022-12-07T23:26:25.729Z"
   },
   {
    "duration": 9,
    "start_time": "2022-12-07T23:26:25.758Z"
   },
   {
    "duration": 9,
    "start_time": "2022-12-07T23:26:25.769Z"
   },
   {
    "duration": 33,
    "start_time": "2022-12-07T23:26:25.779Z"
   },
   {
    "duration": 10,
    "start_time": "2022-12-07T23:26:25.813Z"
   },
   {
    "duration": 13,
    "start_time": "2022-12-07T23:26:25.824Z"
   },
   {
    "duration": 24,
    "start_time": "2022-12-07T23:26:25.838Z"
   },
   {
    "duration": 19,
    "start_time": "2022-12-07T23:26:25.863Z"
   },
   {
    "duration": 17,
    "start_time": "2022-12-07T23:26:25.883Z"
   },
   {
    "duration": 3,
    "start_time": "2022-12-07T23:26:25.902Z"
   },
   {
    "duration": 14,
    "start_time": "2022-12-07T23:26:25.906Z"
   },
   {
    "duration": 36,
    "start_time": "2022-12-07T23:26:25.922Z"
   },
   {
    "duration": 5,
    "start_time": "2022-12-07T23:26:25.959Z"
   },
   {
    "duration": 11,
    "start_time": "2022-12-07T23:26:25.965Z"
   },
   {
    "duration": 20,
    "start_time": "2022-12-07T23:26:25.977Z"
   },
   {
    "duration": 19,
    "start_time": "2022-12-07T23:26:25.998Z"
   },
   {
    "duration": 41,
    "start_time": "2022-12-07T23:26:26.018Z"
   },
   {
    "duration": 23,
    "start_time": "2022-12-07T23:26:26.060Z"
   },
   {
    "duration": 488,
    "start_time": "2022-12-08T00:01:47.052Z"
   },
   {
    "duration": 21,
    "start_time": "2022-12-08T00:01:47.542Z"
   },
   {
    "duration": 18,
    "start_time": "2022-12-08T00:01:47.564Z"
   },
   {
    "duration": 9,
    "start_time": "2022-12-08T00:01:47.583Z"
   },
   {
    "duration": 33,
    "start_time": "2022-12-08T00:01:47.593Z"
   },
   {
    "duration": 3,
    "start_time": "2022-12-08T00:01:47.628Z"
   },
   {
    "duration": 27,
    "start_time": "2022-12-08T00:01:47.632Z"
   },
   {
    "duration": 5,
    "start_time": "2022-12-08T00:01:47.660Z"
   },
   {
    "duration": 16,
    "start_time": "2022-12-08T00:01:47.666Z"
   },
   {
    "duration": 4,
    "start_time": "2022-12-08T00:01:47.684Z"
   },
   {
    "duration": 36,
    "start_time": "2022-12-08T00:01:47.690Z"
   },
   {
    "duration": 27,
    "start_time": "2022-12-08T00:01:47.728Z"
   },
   {
    "duration": 4,
    "start_time": "2022-12-08T00:01:47.757Z"
   },
   {
    "duration": 13,
    "start_time": "2022-12-08T00:01:47.762Z"
   },
   {
    "duration": 18,
    "start_time": "2022-12-08T00:01:47.777Z"
   },
   {
    "duration": 18,
    "start_time": "2022-12-08T00:01:47.797Z"
   },
   {
    "duration": 4,
    "start_time": "2022-12-08T00:01:47.816Z"
   },
   {
    "duration": 42,
    "start_time": "2022-12-08T00:01:47.821Z"
   },
   {
    "duration": 24,
    "start_time": "2022-12-08T00:01:47.864Z"
   },
   {
    "duration": 11,
    "start_time": "2022-12-08T00:01:47.889Z"
   },
   {
    "duration": 41,
    "start_time": "2022-12-08T00:01:47.902Z"
   },
   {
    "duration": 49,
    "start_time": "2022-12-08T00:01:47.945Z"
   },
   {
    "duration": 23,
    "start_time": "2022-12-08T00:01:47.995Z"
   },
   {
    "duration": 36,
    "start_time": "2022-12-08T00:01:48.019Z"
   },
   {
    "duration": 29,
    "start_time": "2022-12-08T00:01:48.057Z"
   },
   {
    "duration": 19,
    "start_time": "2022-12-08T00:06:09.157Z"
   },
   {
    "duration": 435,
    "start_time": "2022-12-08T00:21:29.299Z"
   },
   {
    "duration": 21,
    "start_time": "2022-12-08T00:21:29.736Z"
   },
   {
    "duration": 14,
    "start_time": "2022-12-08T00:21:29.759Z"
   },
   {
    "duration": 12,
    "start_time": "2022-12-08T00:21:29.775Z"
   },
   {
    "duration": 39,
    "start_time": "2022-12-08T00:21:29.788Z"
   },
   {
    "duration": 3,
    "start_time": "2022-12-08T00:21:29.828Z"
   },
   {
    "duration": 21,
    "start_time": "2022-12-08T00:21:29.833Z"
   },
   {
    "duration": 7,
    "start_time": "2022-12-08T00:21:29.856Z"
   },
   {
    "duration": 28,
    "start_time": "2022-12-08T00:21:29.864Z"
   },
   {
    "duration": 10,
    "start_time": "2022-12-08T00:21:29.894Z"
   },
   {
    "duration": 40,
    "start_time": "2022-12-08T00:21:29.905Z"
   },
   {
    "duration": 9,
    "start_time": "2022-12-08T00:21:29.946Z"
   },
   {
    "duration": 6,
    "start_time": "2022-12-08T00:21:29.956Z"
   },
   {
    "duration": 13,
    "start_time": "2022-12-08T00:21:29.963Z"
   },
   {
    "duration": 21,
    "start_time": "2022-12-08T00:21:29.977Z"
   },
   {
    "duration": 18,
    "start_time": "2022-12-08T00:21:30.000Z"
   },
   {
    "duration": 8,
    "start_time": "2022-12-08T00:21:30.020Z"
   },
   {
    "duration": 32,
    "start_time": "2022-12-08T00:21:30.029Z"
   },
   {
    "duration": 5,
    "start_time": "2022-12-08T00:21:30.063Z"
   },
   {
    "duration": 6,
    "start_time": "2022-12-08T00:21:30.070Z"
   },
   {
    "duration": 30,
    "start_time": "2022-12-08T00:21:30.078Z"
   },
   {
    "duration": 40,
    "start_time": "2022-12-08T00:21:30.109Z"
   },
   {
    "duration": 22,
    "start_time": "2022-12-08T00:21:30.150Z"
   },
   {
    "duration": 32,
    "start_time": "2022-12-08T00:21:30.174Z"
   },
   {
    "duration": 24,
    "start_time": "2022-12-08T00:21:30.207Z"
   },
   {
    "duration": 488,
    "start_time": "2022-12-08T00:23:09.452Z"
   },
   {
    "duration": 22,
    "start_time": "2022-12-08T00:23:09.942Z"
   },
   {
    "duration": 15,
    "start_time": "2022-12-08T00:23:09.966Z"
   },
   {
    "duration": 9,
    "start_time": "2022-12-08T00:23:09.982Z"
   },
   {
    "duration": 34,
    "start_time": "2022-12-08T00:23:09.993Z"
   },
   {
    "duration": 3,
    "start_time": "2022-12-08T00:23:10.028Z"
   },
   {
    "duration": 27,
    "start_time": "2022-12-08T00:23:10.033Z"
   },
   {
    "duration": 4,
    "start_time": "2022-12-08T00:23:10.062Z"
   },
   {
    "duration": 10,
    "start_time": "2022-12-08T00:23:10.067Z"
   },
   {
    "duration": 4,
    "start_time": "2022-12-08T00:23:10.080Z"
   },
   {
    "duration": 37,
    "start_time": "2022-12-08T00:23:10.086Z"
   },
   {
    "duration": 33,
    "start_time": "2022-12-08T00:23:10.125Z"
   },
   {
    "duration": 5,
    "start_time": "2022-12-08T00:23:10.160Z"
   },
   {
    "duration": 18,
    "start_time": "2022-12-08T00:23:10.166Z"
   },
   {
    "duration": 19,
    "start_time": "2022-12-08T00:23:10.185Z"
   },
   {
    "duration": 17,
    "start_time": "2022-12-08T00:23:10.206Z"
   },
   {
    "duration": 4,
    "start_time": "2022-12-08T00:23:10.225Z"
   },
   {
    "duration": 31,
    "start_time": "2022-12-08T00:23:10.230Z"
   },
   {
    "duration": 6,
    "start_time": "2022-12-08T00:23:10.262Z"
   },
   {
    "duration": 6,
    "start_time": "2022-12-08T00:23:10.270Z"
   },
   {
    "duration": 11,
    "start_time": "2022-12-08T00:23:10.277Z"
   },
   {
    "duration": 21,
    "start_time": "2022-12-08T00:23:10.290Z"
   },
   {
    "duration": 51,
    "start_time": "2022-12-08T00:23:10.312Z"
   },
   {
    "duration": 26,
    "start_time": "2022-12-08T00:23:10.365Z"
   },
   {
    "duration": 24,
    "start_time": "2022-12-08T00:23:10.392Z"
   },
   {
    "duration": 460,
    "start_time": "2022-12-08T00:23:47.716Z"
   },
   {
    "duration": 21,
    "start_time": "2022-12-08T00:23:48.178Z"
   },
   {
    "duration": 15,
    "start_time": "2022-12-08T00:23:48.201Z"
   },
   {
    "duration": 9,
    "start_time": "2022-12-08T00:23:48.219Z"
   },
   {
    "duration": 53,
    "start_time": "2022-12-08T00:23:48.229Z"
   },
   {
    "duration": 4,
    "start_time": "2022-12-08T00:23:48.283Z"
   },
   {
    "duration": 12,
    "start_time": "2022-12-08T00:23:48.289Z"
   },
   {
    "duration": 5,
    "start_time": "2022-12-08T00:23:48.302Z"
   },
   {
    "duration": 9,
    "start_time": "2022-12-08T00:23:48.308Z"
   },
   {
    "duration": 4,
    "start_time": "2022-12-08T00:23:48.320Z"
   },
   {
    "duration": 35,
    "start_time": "2022-12-08T00:23:48.354Z"
   },
   {
    "duration": 11,
    "start_time": "2022-12-08T00:23:48.390Z"
   },
   {
    "duration": 7,
    "start_time": "2022-12-08T00:23:48.402Z"
   },
   {
    "duration": 15,
    "start_time": "2022-12-08T00:23:48.410Z"
   },
   {
    "duration": 39,
    "start_time": "2022-12-08T00:23:48.426Z"
   },
   {
    "duration": 17,
    "start_time": "2022-12-08T00:23:48.467Z"
   },
   {
    "duration": 3,
    "start_time": "2022-12-08T00:23:48.486Z"
   },
   {
    "duration": 14,
    "start_time": "2022-12-08T00:23:48.491Z"
   },
   {
    "duration": 7,
    "start_time": "2022-12-08T00:23:48.506Z"
   },
   {
    "duration": 3,
    "start_time": "2022-12-08T00:23:48.515Z"
   },
   {
    "duration": 37,
    "start_time": "2022-12-08T00:23:48.520Z"
   },
   {
    "duration": 21,
    "start_time": "2022-12-08T00:23:48.559Z"
   },
   {
    "duration": 21,
    "start_time": "2022-12-08T00:23:48.582Z"
   },
   {
    "duration": 21,
    "start_time": "2022-12-08T00:23:48.605Z"
   },
   {
    "duration": 49,
    "start_time": "2022-12-08T00:23:48.628Z"
   },
   {
    "duration": 487,
    "start_time": "2022-12-08T00:26:21.782Z"
   },
   {
    "duration": 24,
    "start_time": "2022-12-08T00:26:22.270Z"
   },
   {
    "duration": 17,
    "start_time": "2022-12-08T00:26:22.296Z"
   },
   {
    "duration": 10,
    "start_time": "2022-12-08T00:26:22.315Z"
   },
   {
    "duration": 61,
    "start_time": "2022-12-08T00:26:22.326Z"
   },
   {
    "duration": 4,
    "start_time": "2022-12-08T00:26:22.388Z"
   },
   {
    "duration": 11,
    "start_time": "2022-12-08T00:26:22.393Z"
   },
   {
    "duration": 5,
    "start_time": "2022-12-08T00:26:22.406Z"
   },
   {
    "duration": 10,
    "start_time": "2022-12-08T00:26:22.413Z"
   },
   {
    "duration": 32,
    "start_time": "2022-12-08T00:26:22.426Z"
   },
   {
    "duration": 40,
    "start_time": "2022-12-08T00:26:22.459Z"
   },
   {
    "duration": 11,
    "start_time": "2022-12-08T00:26:22.500Z"
   },
   {
    "duration": 4,
    "start_time": "2022-12-08T00:26:22.513Z"
   },
   {
    "duration": 37,
    "start_time": "2022-12-08T00:26:22.518Z"
   },
   {
    "duration": 21,
    "start_time": "2022-12-08T00:26:22.557Z"
   },
   {
    "duration": 18,
    "start_time": "2022-12-08T00:26:22.580Z"
   },
   {
    "duration": 3,
    "start_time": "2022-12-08T00:26:22.600Z"
   },
   {
    "duration": 14,
    "start_time": "2022-12-08T00:26:22.605Z"
   },
   {
    "duration": 6,
    "start_time": "2022-12-08T00:26:22.621Z"
   },
   {
    "duration": 4,
    "start_time": "2022-12-08T00:26:22.655Z"
   },
   {
    "duration": 15,
    "start_time": "2022-12-08T00:26:22.661Z"
   },
   {
    "duration": 25,
    "start_time": "2022-12-08T00:26:22.678Z"
   },
   {
    "duration": 23,
    "start_time": "2022-12-08T00:26:22.705Z"
   },
   {
    "duration": 40,
    "start_time": "2022-12-08T00:26:22.730Z"
   },
   {
    "duration": 24,
    "start_time": "2022-12-08T00:26:22.772Z"
   },
   {
    "duration": 704,
    "start_time": "2022-12-08T07:17:51.316Z"
   },
   {
    "duration": 22,
    "start_time": "2022-12-08T07:17:52.021Z"
   },
   {
    "duration": 13,
    "start_time": "2022-12-08T07:17:52.044Z"
   },
   {
    "duration": 9,
    "start_time": "2022-12-08T07:17:52.059Z"
   },
   {
    "duration": 44,
    "start_time": "2022-12-08T07:17:52.070Z"
   },
   {
    "duration": 3,
    "start_time": "2022-12-08T07:17:52.116Z"
   },
   {
    "duration": 10,
    "start_time": "2022-12-08T07:17:52.120Z"
   },
   {
    "duration": 4,
    "start_time": "2022-12-08T07:17:52.131Z"
   },
   {
    "duration": 8,
    "start_time": "2022-12-08T07:17:52.137Z"
   },
   {
    "duration": 5,
    "start_time": "2022-12-08T07:17:52.147Z"
   },
   {
    "duration": 64,
    "start_time": "2022-12-08T07:17:52.153Z"
   },
   {
    "duration": 17,
    "start_time": "2022-12-08T07:17:52.219Z"
   },
   {
    "duration": 9,
    "start_time": "2022-12-08T07:17:52.237Z"
   },
   {
    "duration": 14,
    "start_time": "2022-12-08T07:17:52.247Z"
   },
   {
    "duration": 23,
    "start_time": "2022-12-08T07:17:52.263Z"
   },
   {
    "duration": 28,
    "start_time": "2022-12-08T07:17:52.288Z"
   },
   {
    "duration": 3,
    "start_time": "2022-12-08T07:17:52.318Z"
   },
   {
    "duration": 11,
    "start_time": "2022-12-08T07:17:52.323Z"
   },
   {
    "duration": 5,
    "start_time": "2022-12-08T07:17:52.336Z"
   },
   {
    "duration": 3,
    "start_time": "2022-12-08T07:17:52.343Z"
   },
   {
    "duration": 14,
    "start_time": "2022-12-08T07:17:52.347Z"
   },
   {
    "duration": 50,
    "start_time": "2022-12-08T07:17:52.362Z"
   },
   {
    "duration": 21,
    "start_time": "2022-12-08T07:17:52.414Z"
   },
   {
    "duration": 20,
    "start_time": "2022-12-08T07:17:52.436Z"
   },
   {
    "duration": 51,
    "start_time": "2022-12-08T07:17:52.457Z"
   },
   {
    "duration": 24,
    "start_time": "2022-12-08T07:22:49.346Z"
   },
   {
    "duration": 46,
    "start_time": "2022-12-15T08:50:45.772Z"
   },
   {
    "duration": 1000,
    "start_time": "2022-12-15T08:50:56.803Z"
   },
   {
    "duration": 23,
    "start_time": "2022-12-15T08:50:57.805Z"
   },
   {
    "duration": 13,
    "start_time": "2022-12-15T08:50:57.830Z"
   },
   {
    "duration": 9,
    "start_time": "2022-12-15T08:50:57.845Z"
   },
   {
    "duration": 53,
    "start_time": "2022-12-15T08:50:57.856Z"
   },
   {
    "duration": 4,
    "start_time": "2022-12-15T08:50:57.911Z"
   },
   {
    "duration": 17,
    "start_time": "2022-12-15T08:50:57.916Z"
   },
   {
    "duration": 7,
    "start_time": "2022-12-15T08:50:57.935Z"
   },
   {
    "duration": 13,
    "start_time": "2022-12-15T08:50:57.944Z"
   },
   {
    "duration": 6,
    "start_time": "2022-12-15T08:50:57.959Z"
   },
   {
    "duration": 49,
    "start_time": "2022-12-15T08:50:57.967Z"
   },
   {
    "duration": 8,
    "start_time": "2022-12-15T08:50:58.018Z"
   },
   {
    "duration": 6,
    "start_time": "2022-12-15T08:50:58.027Z"
   },
   {
    "duration": 16,
    "start_time": "2022-12-15T08:50:58.034Z"
   },
   {
    "duration": 23,
    "start_time": "2022-12-15T08:50:58.052Z"
   },
   {
    "duration": 31,
    "start_time": "2022-12-15T08:50:58.076Z"
   },
   {
    "duration": 3,
    "start_time": "2022-12-15T08:50:58.109Z"
   },
   {
    "duration": 15,
    "start_time": "2022-12-15T08:50:58.113Z"
   },
   {
    "duration": 9,
    "start_time": "2022-12-15T08:50:58.129Z"
   },
   {
    "duration": 6,
    "start_time": "2022-12-15T08:50:58.140Z"
   },
   {
    "duration": 19,
    "start_time": "2022-12-15T08:50:58.148Z"
   },
   {
    "duration": 34,
    "start_time": "2022-12-15T08:50:58.169Z"
   },
   {
    "duration": 27,
    "start_time": "2022-12-15T08:50:58.205Z"
   },
   {
    "duration": 18,
    "start_time": "2022-12-15T08:50:58.234Z"
   },
   {
    "duration": 46,
    "start_time": "2022-12-15T08:50:58.254Z"
   },
   {
    "duration": 32,
    "start_time": "2022-12-15T08:52:16.047Z"
   },
   {
    "duration": 36,
    "start_time": "2022-12-15T08:53:30.494Z"
   },
   {
    "duration": 42,
    "start_time": "2022-12-15T09:14:35.787Z"
   },
   {
    "duration": 52,
    "start_time": "2022-12-15T09:14:39.616Z"
   },
   {
    "duration": 54,
    "start_time": "2022-12-15T09:15:06.380Z"
   },
   {
    "duration": 55,
    "start_time": "2022-12-15T09:15:17.121Z"
   },
   {
    "duration": 79,
    "start_time": "2022-12-15T09:15:30.741Z"
   },
   {
    "duration": 44,
    "start_time": "2022-12-15T09:15:39.155Z"
   },
   {
    "duration": 46,
    "start_time": "2022-12-15T09:15:47.004Z"
   },
   {
    "duration": 51,
    "start_time": "2022-12-15T21:40:47.409Z"
   },
   {
    "duration": 486,
    "start_time": "2022-12-15T21:40:57.462Z"
   },
   {
    "duration": 24,
    "start_time": "2022-12-15T21:40:57.950Z"
   },
   {
    "duration": 17,
    "start_time": "2022-12-15T21:40:57.975Z"
   },
   {
    "duration": 12,
    "start_time": "2022-12-15T21:40:57.994Z"
   },
   {
    "duration": 62,
    "start_time": "2022-12-15T21:40:58.007Z"
   },
   {
    "duration": 3,
    "start_time": "2022-12-15T21:40:58.071Z"
   },
   {
    "duration": 10,
    "start_time": "2022-12-15T21:40:58.075Z"
   },
   {
    "duration": 4,
    "start_time": "2022-12-15T21:40:58.087Z"
   },
   {
    "duration": 10,
    "start_time": "2022-12-15T21:40:58.092Z"
   },
   {
    "duration": 4,
    "start_time": "2022-12-15T21:40:58.105Z"
   },
   {
    "duration": 70,
    "start_time": "2022-12-15T21:40:58.110Z"
   },
   {
    "duration": 14,
    "start_time": "2022-12-15T21:40:58.182Z"
   },
   {
    "duration": 6,
    "start_time": "2022-12-15T21:40:58.198Z"
   },
   {
    "duration": 22,
    "start_time": "2022-12-15T21:40:58.205Z"
   },
   {
    "duration": 39,
    "start_time": "2022-12-15T21:40:58.229Z"
   },
   {
    "duration": 20,
    "start_time": "2022-12-15T21:40:58.269Z"
   },
   {
    "duration": 5,
    "start_time": "2022-12-15T21:40:58.291Z"
   },
   {
    "duration": 14,
    "start_time": "2022-12-15T21:40:58.298Z"
   },
   {
    "duration": 6,
    "start_time": "2022-12-15T21:40:58.313Z"
   },
   {
    "duration": 31,
    "start_time": "2022-12-15T21:40:58.321Z"
   },
   {
    "duration": 14,
    "start_time": "2022-12-15T21:40:58.354Z"
   },
   {
    "duration": 34,
    "start_time": "2022-12-15T21:40:58.370Z"
   },
   {
    "duration": 58,
    "start_time": "2022-12-15T21:40:58.406Z"
   },
   {
    "duration": 31,
    "start_time": "2022-12-15T21:40:58.466Z"
   },
   {
    "duration": 33,
    "start_time": "2022-12-15T21:40:58.499Z"
   },
   {
    "duration": 37,
    "start_time": "2022-12-15T21:41:26.595Z"
   },
   {
    "duration": 385,
    "start_time": "2022-12-15T21:42:31.226Z"
   },
   {
    "duration": 486,
    "start_time": "2022-12-15T21:42:48.711Z"
   },
   {
    "duration": 36,
    "start_time": "2022-12-15T21:42:49.201Z"
   },
   {
    "duration": 30,
    "start_time": "2022-12-15T21:42:49.240Z"
   },
   {
    "duration": 12,
    "start_time": "2022-12-15T21:42:49.272Z"
   },
   {
    "duration": 48,
    "start_time": "2022-12-15T21:42:49.285Z"
   },
   {
    "duration": 5,
    "start_time": "2022-12-15T21:42:49.351Z"
   },
   {
    "duration": 24,
    "start_time": "2022-12-15T21:42:49.358Z"
   },
   {
    "duration": 18,
    "start_time": "2022-12-15T21:42:49.384Z"
   },
   {
    "duration": 26,
    "start_time": "2022-12-15T21:42:49.404Z"
   },
   {
    "duration": 15,
    "start_time": "2022-12-15T21:42:49.433Z"
   },
   {
    "duration": 55,
    "start_time": "2022-12-15T21:42:49.450Z"
   },
   {
    "duration": 11,
    "start_time": "2022-12-15T21:42:49.507Z"
   },
   {
    "duration": 15,
    "start_time": "2022-12-15T21:42:49.520Z"
   },
   {
    "duration": 25,
    "start_time": "2022-12-15T21:42:49.537Z"
   },
   {
    "duration": 47,
    "start_time": "2022-12-15T21:42:49.564Z"
   },
   {
    "duration": 36,
    "start_time": "2022-12-15T21:42:49.612Z"
   },
   {
    "duration": 13,
    "start_time": "2022-12-15T21:42:49.650Z"
   },
   {
    "duration": 45,
    "start_time": "2022-12-15T21:42:49.665Z"
   },
   {
    "duration": 15,
    "start_time": "2022-12-15T21:42:49.714Z"
   },
   {
    "duration": 11,
    "start_time": "2022-12-15T21:42:49.730Z"
   },
   {
    "duration": 45,
    "start_time": "2022-12-15T21:42:49.743Z"
   },
   {
    "duration": 59,
    "start_time": "2022-12-15T21:42:49.791Z"
   },
   {
    "duration": 382,
    "start_time": "2022-12-15T21:42:49.852Z"
   },
   {
    "duration": 0,
    "start_time": "2022-12-15T21:42:50.236Z"
   },
   {
    "duration": 0,
    "start_time": "2022-12-15T21:42:50.237Z"
   },
   {
    "duration": 319,
    "start_time": "2022-12-15T21:43:24.037Z"
   },
   {
    "duration": 35,
    "start_time": "2022-12-15T21:43:39.401Z"
   },
   {
    "duration": 43,
    "start_time": "2022-12-15T21:44:23.122Z"
   },
   {
    "duration": 35,
    "start_time": "2022-12-15T21:45:53.673Z"
   },
   {
    "duration": 315,
    "start_time": "2022-12-15T21:47:09.761Z"
   },
   {
    "duration": 29,
    "start_time": "2022-12-15T21:47:45.500Z"
   },
   {
    "duration": 32,
    "start_time": "2022-12-15T21:50:18.089Z"
   },
   {
    "duration": 31,
    "start_time": "2022-12-15T21:50:27.872Z"
   },
   {
    "duration": 32,
    "start_time": "2022-12-15T21:51:03.091Z"
   },
   {
    "duration": 35,
    "start_time": "2022-12-15T21:52:03.097Z"
   },
   {
    "duration": 1118,
    "start_time": "2022-12-15T21:53:37.765Z"
   },
   {
    "duration": 1101,
    "start_time": "2022-12-15T21:54:26.363Z"
   },
   {
    "duration": 1116,
    "start_time": "2022-12-15T21:55:23.403Z"
   },
   {
    "duration": 34,
    "start_time": "2022-12-15T21:55:38.057Z"
   },
   {
    "duration": 33,
    "start_time": "2022-12-15T21:56:58.201Z"
   },
   {
    "duration": 37,
    "start_time": "2022-12-15T21:57:20.591Z"
   },
   {
    "duration": 294,
    "start_time": "2022-12-15T21:58:23.371Z"
   },
   {
    "duration": 29,
    "start_time": "2022-12-15T21:58:54.640Z"
   },
   {
    "duration": 33,
    "start_time": "2022-12-15T21:59:08.468Z"
   },
   {
    "duration": 32,
    "start_time": "2022-12-15T21:59:23.983Z"
   },
   {
    "duration": 32,
    "start_time": "2022-12-15T21:59:59.922Z"
   },
   {
    "duration": 35,
    "start_time": "2022-12-15T22:00:06.217Z"
   },
   {
    "duration": 33,
    "start_time": "2022-12-15T22:00:27.317Z"
   },
   {
    "duration": 33,
    "start_time": "2022-12-15T22:00:45.504Z"
   },
   {
    "duration": 36,
    "start_time": "2022-12-15T22:00:54.739Z"
   },
   {
    "duration": 33,
    "start_time": "2022-12-15T22:01:13.950Z"
   },
   {
    "duration": 31,
    "start_time": "2022-12-15T22:01:24.758Z"
   },
   {
    "duration": 34,
    "start_time": "2022-12-15T22:01:30.702Z"
   },
   {
    "duration": 34,
    "start_time": "2022-12-15T22:01:36.034Z"
   },
   {
    "duration": 32,
    "start_time": "2022-12-15T22:01:49.861Z"
   },
   {
    "duration": 36,
    "start_time": "2022-12-15T22:02:04.538Z"
   },
   {
    "duration": 38,
    "start_time": "2022-12-15T22:02:33.618Z"
   },
   {
    "duration": 29,
    "start_time": "2022-12-15T22:03:44.549Z"
   },
   {
    "duration": 34,
    "start_time": "2022-12-15T22:03:53.198Z"
   },
   {
    "duration": 527,
    "start_time": "2022-12-15T22:04:09.758Z"
   },
   {
    "duration": 27,
    "start_time": "2022-12-15T22:04:10.287Z"
   },
   {
    "duration": 36,
    "start_time": "2022-12-15T22:04:10.316Z"
   },
   {
    "duration": 13,
    "start_time": "2022-12-15T22:04:10.354Z"
   },
   {
    "duration": 40,
    "start_time": "2022-12-15T22:04:10.370Z"
   },
   {
    "duration": 4,
    "start_time": "2022-12-15T22:04:10.412Z"
   },
   {
    "duration": 43,
    "start_time": "2022-12-15T22:04:10.418Z"
   },
   {
    "duration": 6,
    "start_time": "2022-12-15T22:04:10.463Z"
   },
   {
    "duration": 14,
    "start_time": "2022-12-15T22:04:10.470Z"
   },
   {
    "duration": 4,
    "start_time": "2022-12-15T22:04:10.486Z"
   },
   {
    "duration": 62,
    "start_time": "2022-12-15T22:04:10.492Z"
   },
   {
    "duration": 12,
    "start_time": "2022-12-15T22:04:10.555Z"
   },
   {
    "duration": 7,
    "start_time": "2022-12-15T22:04:10.568Z"
   },
   {
    "duration": 15,
    "start_time": "2022-12-15T22:04:10.578Z"
   },
   {
    "duration": 36,
    "start_time": "2022-12-15T22:04:10.595Z"
   },
   {
    "duration": 27,
    "start_time": "2022-12-15T22:04:10.652Z"
   },
   {
    "duration": 5,
    "start_time": "2022-12-15T22:04:10.682Z"
   },
   {
    "duration": 26,
    "start_time": "2022-12-15T22:04:10.690Z"
   },
   {
    "duration": 12,
    "start_time": "2022-12-15T22:04:10.718Z"
   },
   {
    "duration": 21,
    "start_time": "2022-12-15T22:04:10.732Z"
   },
   {
    "duration": 12,
    "start_time": "2022-12-15T22:04:10.755Z"
   },
   {
    "duration": 35,
    "start_time": "2022-12-15T22:04:10.769Z"
   },
   {
    "duration": 49,
    "start_time": "2022-12-15T22:04:10.805Z"
   },
   {
    "duration": 31,
    "start_time": "2022-12-15T22:04:10.855Z"
   },
   {
    "duration": 34,
    "start_time": "2022-12-15T22:04:10.888Z"
   },
   {
    "duration": 43,
    "start_time": "2022-12-15T22:04:55.985Z"
   },
   {
    "duration": 30,
    "start_time": "2022-12-15T22:05:55.922Z"
   },
   {
    "duration": 42,
    "start_time": "2022-12-15T22:06:03.921Z"
   },
   {
    "duration": 36,
    "start_time": "2022-12-15T22:07:11.574Z"
   },
   {
    "duration": 475,
    "start_time": "2022-12-15T23:10:10.473Z"
   },
   {
    "duration": 22,
    "start_time": "2022-12-15T23:10:10.950Z"
   },
   {
    "duration": 20,
    "start_time": "2022-12-15T23:10:10.974Z"
   },
   {
    "duration": 11,
    "start_time": "2022-12-15T23:10:10.996Z"
   },
   {
    "duration": 60,
    "start_time": "2022-12-15T23:10:11.009Z"
   },
   {
    "duration": 3,
    "start_time": "2022-12-15T23:10:11.071Z"
   },
   {
    "duration": 23,
    "start_time": "2022-12-15T23:10:11.075Z"
   },
   {
    "duration": 4,
    "start_time": "2022-12-15T23:10:11.100Z"
   },
   {
    "duration": 25,
    "start_time": "2022-12-15T23:10:11.105Z"
   },
   {
    "duration": 13,
    "start_time": "2022-12-15T23:10:11.134Z"
   },
   {
    "duration": 56,
    "start_time": "2022-12-15T23:10:11.149Z"
   },
   {
    "duration": 13,
    "start_time": "2022-12-15T23:10:11.207Z"
   },
   {
    "duration": 25,
    "start_time": "2022-12-15T23:10:11.221Z"
   },
   {
    "duration": 29,
    "start_time": "2022-12-15T23:10:11.248Z"
   },
   {
    "duration": 27,
    "start_time": "2022-12-15T23:10:11.279Z"
   },
   {
    "duration": 18,
    "start_time": "2022-12-15T23:10:11.308Z"
   },
   {
    "duration": 5,
    "start_time": "2022-12-15T23:10:11.328Z"
   },
   {
    "duration": 27,
    "start_time": "2022-12-15T23:10:11.334Z"
   },
   {
    "duration": 21,
    "start_time": "2022-12-15T23:10:11.363Z"
   },
   {
    "duration": 6,
    "start_time": "2022-12-15T23:10:11.386Z"
   },
   {
    "duration": 31,
    "start_time": "2022-12-15T23:10:11.394Z"
   },
   {
    "duration": 37,
    "start_time": "2022-12-15T23:10:11.427Z"
   },
   {
    "duration": 33,
    "start_time": "2022-12-15T23:10:11.466Z"
   },
   {
    "duration": 29,
    "start_time": "2022-12-15T23:10:11.500Z"
   },
   {
    "duration": 50,
    "start_time": "2022-12-15T23:10:11.530Z"
   },
   {
    "duration": 33,
    "start_time": "2022-12-15T23:22:20.313Z"
   },
   {
    "duration": 39,
    "start_time": "2022-12-15T23:22:49.226Z"
   },
   {
    "duration": 36,
    "start_time": "2022-12-15T23:23:05.906Z"
   },
   {
    "duration": 26,
    "start_time": "2022-12-15T23:23:22.859Z"
   },
   {
    "duration": 489,
    "start_time": "2022-12-15T23:23:36.667Z"
   },
   {
    "duration": 25,
    "start_time": "2022-12-15T23:23:37.158Z"
   },
   {
    "duration": 17,
    "start_time": "2022-12-15T23:23:37.185Z"
   },
   {
    "duration": 13,
    "start_time": "2022-12-15T23:23:37.204Z"
   },
   {
    "duration": 66,
    "start_time": "2022-12-15T23:23:37.219Z"
   },
   {
    "duration": 4,
    "start_time": "2022-12-15T23:23:37.286Z"
   },
   {
    "duration": 11,
    "start_time": "2022-12-15T23:23:37.292Z"
   },
   {
    "duration": 4,
    "start_time": "2022-12-15T23:23:37.306Z"
   },
   {
    "duration": 39,
    "start_time": "2022-12-15T23:23:37.312Z"
   },
   {
    "duration": 5,
    "start_time": "2022-12-15T23:23:37.354Z"
   },
   {
    "duration": 39,
    "start_time": "2022-12-15T23:23:37.361Z"
   },
   {
    "duration": 11,
    "start_time": "2022-12-15T23:23:37.401Z"
   },
   {
    "duration": 7,
    "start_time": "2022-12-15T23:23:37.414Z"
   },
   {
    "duration": 37,
    "start_time": "2022-12-15T23:23:37.422Z"
   },
   {
    "duration": 22,
    "start_time": "2022-12-15T23:23:37.461Z"
   },
   {
    "duration": 21,
    "start_time": "2022-12-15T23:23:37.484Z"
   },
   {
    "duration": 3,
    "start_time": "2022-12-15T23:23:37.507Z"
   },
   {
    "duration": 39,
    "start_time": "2022-12-15T23:23:37.512Z"
   },
   {
    "duration": 6,
    "start_time": "2022-12-15T23:23:37.553Z"
   },
   {
    "duration": 4,
    "start_time": "2022-12-15T23:23:37.561Z"
   },
   {
    "duration": 11,
    "start_time": "2022-12-15T23:23:37.567Z"
   },
   {
    "duration": 34,
    "start_time": "2022-12-15T23:23:37.580Z"
   },
   {
    "duration": 65,
    "start_time": "2022-12-15T23:23:37.616Z"
   },
   {
    "duration": 30,
    "start_time": "2022-12-15T23:23:37.683Z"
   },
   {
    "duration": 70,
    "start_time": "2022-12-15T23:23:37.715Z"
   },
   {
    "duration": 44,
    "start_time": "2022-12-16T05:28:46.249Z"
   },
   {
    "duration": 391,
    "start_time": "2022-12-16T05:28:52.258Z"
   },
   {
    "duration": 20,
    "start_time": "2022-12-16T05:28:52.651Z"
   },
   {
    "duration": 12,
    "start_time": "2022-12-16T05:28:52.673Z"
   },
   {
    "duration": 10,
    "start_time": "2022-12-16T05:28:52.687Z"
   },
   {
    "duration": 31,
    "start_time": "2022-12-16T05:28:52.698Z"
   },
   {
    "duration": 3,
    "start_time": "2022-12-16T05:28:52.730Z"
   },
   {
    "duration": 10,
    "start_time": "2022-12-16T05:28:52.735Z"
   },
   {
    "duration": 5,
    "start_time": "2022-12-16T05:28:52.747Z"
   },
   {
    "duration": 8,
    "start_time": "2022-12-16T05:28:52.753Z"
   },
   {
    "duration": 4,
    "start_time": "2022-12-16T05:28:52.763Z"
   },
   {
    "duration": 29,
    "start_time": "2022-12-16T05:28:52.796Z"
   },
   {
    "duration": 8,
    "start_time": "2022-12-16T05:28:52.827Z"
   },
   {
    "duration": 4,
    "start_time": "2022-12-16T05:28:52.836Z"
   },
   {
    "duration": 10,
    "start_time": "2022-12-16T05:28:52.841Z"
   },
   {
    "duration": 18,
    "start_time": "2022-12-16T05:28:52.853Z"
   },
   {
    "duration": 15,
    "start_time": "2022-12-16T05:28:52.897Z"
   },
   {
    "duration": 3,
    "start_time": "2022-12-16T05:28:52.914Z"
   },
   {
    "duration": 23,
    "start_time": "2022-12-16T05:28:52.918Z"
   },
   {
    "duration": 15,
    "start_time": "2022-12-16T05:28:52.943Z"
   },
   {
    "duration": 33,
    "start_time": "2022-12-16T05:28:52.960Z"
   },
   {
    "duration": 36,
    "start_time": "2022-12-16T05:28:52.995Z"
   },
   {
    "duration": 46,
    "start_time": "2022-12-16T05:28:53.033Z"
   },
   {
    "duration": 410,
    "start_time": "2022-12-16T05:28:54.966Z"
   },
   {
    "duration": 46,
    "start_time": "2022-12-16T15:38:16.765Z"
   },
   {
    "duration": 6,
    "start_time": "2022-12-16T15:38:30.173Z"
   },
   {
    "duration": 5,
    "start_time": "2022-12-16T15:38:33.517Z"
   },
   {
    "duration": 6,
    "start_time": "2022-12-16T15:38:42.758Z"
   },
   {
    "duration": 544,
    "start_time": "2022-12-16T15:38:46.765Z"
   },
   {
    "duration": 31,
    "start_time": "2022-12-16T15:38:47.312Z"
   },
   {
    "duration": 22,
    "start_time": "2022-12-16T15:38:47.345Z"
   },
   {
    "duration": 25,
    "start_time": "2022-12-16T15:38:47.369Z"
   },
   {
    "duration": 38,
    "start_time": "2022-12-16T15:38:47.396Z"
   },
   {
    "duration": 4,
    "start_time": "2022-12-16T15:38:47.436Z"
   },
   {
    "duration": 21,
    "start_time": "2022-12-16T15:38:47.441Z"
   },
   {
    "duration": 17,
    "start_time": "2022-12-16T15:38:47.463Z"
   },
   {
    "duration": 14,
    "start_time": "2022-12-16T15:38:47.481Z"
   },
   {
    "duration": 8,
    "start_time": "2022-12-16T15:38:47.499Z"
   },
   {
    "duration": 43,
    "start_time": "2022-12-16T15:38:47.508Z"
   },
   {
    "duration": 10,
    "start_time": "2022-12-16T15:38:47.553Z"
   },
   {
    "duration": 8,
    "start_time": "2022-12-16T15:38:47.565Z"
   },
   {
    "duration": 25,
    "start_time": "2022-12-16T15:38:47.574Z"
   },
   {
    "duration": 62,
    "start_time": "2022-12-16T15:38:47.601Z"
   },
   {
    "duration": 35,
    "start_time": "2022-12-16T15:38:47.665Z"
   },
   {
    "duration": 3,
    "start_time": "2022-12-16T15:38:47.702Z"
   },
   {
    "duration": 21,
    "start_time": "2022-12-16T15:38:47.707Z"
   },
   {
    "duration": 15,
    "start_time": "2022-12-16T15:38:47.730Z"
   },
   {
    "duration": 8,
    "start_time": "2022-12-16T15:38:47.747Z"
   },
   {
    "duration": 28,
    "start_time": "2022-12-16T15:38:47.757Z"
   },
   {
    "duration": 28,
    "start_time": "2022-12-16T15:38:47.787Z"
   },
   {
    "duration": 46,
    "start_time": "2022-12-16T15:38:47.817Z"
   },
   {
    "duration": 27,
    "start_time": "2022-12-16T15:38:47.864Z"
   },
   {
    "duration": 51,
    "start_time": "2022-12-16T15:38:47.893Z"
   },
   {
    "duration": 33,
    "start_time": "2022-12-16T16:57:50.140Z"
   },
   {
    "duration": 46,
    "start_time": "2022-12-16T17:00:23.753Z"
   },
   {
    "duration": 39,
    "start_time": "2022-12-16T17:00:58.742Z"
   }
  ],
  "colab": {
   "name": "dpp_template_part2.ipynb",
   "provenance": []
  },
  "kernelspec": {
   "display_name": "Python 3 (ipykernel)",
   "language": "python",
   "name": "python3"
  },
  "language_info": {
   "codemirror_mode": {
    "name": "ipython",
    "version": 3
   },
   "file_extension": ".py",
   "mimetype": "text/x-python",
   "name": "python",
   "nbconvert_exporter": "python",
   "pygments_lexer": "ipython3",
   "version": "3.9.13"
  },
  "toc": {
   "base_numbering": 1,
   "nav_menu": {},
   "number_sections": true,
   "sideBar": true,
   "skip_h1_title": true,
   "title_cell": "Table of Contents",
   "title_sidebar": "Contents",
   "toc_cell": false,
   "toc_position": {},
   "toc_section_display": true,
   "toc_window_display": true
  }
 },
 "nbformat": 4,
 "nbformat_minor": 5
}
